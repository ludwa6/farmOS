{
  "nbformat": 4,
  "nbformat_minor": 0,
  "metadata": {
    "colab": {
      "name": "farmOS.ipynb",
      "provenance": [],
      "collapsed_sections": [],
      "toc_visible": true
    },
    "kernelspec": {
      "name": "python3",
      "display_name": "Python 3"
    },
    "language_info": {
      "name": "python"
    }
  },
  "cells": [
    {
      "cell_type": "markdown",
      "source": [
        "# Farm record-keeping in farmOS via OpenAPI Is it feasible?\n",
        "_exploring the possibilities, and the constraints_"
      ],
      "metadata": {
        "id": "6T1jd5knxYWi"
      }
    },
    {
      "cell_type": "markdown",
      "source": [
        "## Farm Record-Keeping Context\n",
        "The following Use Case Diagram illustrates the flow of data related to this farm operation:\n",
        "\n",
        "![Use Case Diagram](https://trello-attachments.s3.amazonaws.com/59f1fb4bb19910c6c6a4367f/5d525f2e59b77812de3869d8/60ac32f649e3afd58602f41d0682bf2b/Farm_Data_Processing.jpeg)\n",
        "\n",
        "... which is probably a pretty typical farm record-keeping dataflow, in essence.  The UseCase we aim to address in this iteration is based on the following User Story (from the actor depicted in LL of above diagram):\n",
        "\n",
        "-   **\"In my Role as PM:OMG (Production Manager for the Organic Market Garden), the harvest data that i gather 2x /week from the OMG team in spreadsheet form needs to be uploaded to farmOS on a weekly basis with as little friction as possible.\"**\n"
      ],
      "metadata": {
        "id": "wG107z6mdyOc"
      }
    },
    {
      "cell_type": "markdown",
      "source": [
        "## Focus ;  Research Question(s)\n",
        "This UseCase, and some of the complications about it is further elaborated in [this thread from farmOS Discourse forum](https://farmos.discourse.group/t/csv-importers-in-v2-x/942) ; the essence of the problem lies in these two facts: \n",
        "\n",
        "* Crop Plan and Harvest Log data is being collected in spreadsheets; and\n",
        "* There is at present no \"Import CSV\" feature in v2 of farmOS.\n",
        "\n",
        "therefore- until there is an \"Import CSV\" facility developed for farmOS v2.x- such data collected in spreadsheets can only be uploaded via the API.  The canonical methods for such script access are [published to the project repository as farmOS.py](https://github.com/farmOS/farmOS.py), which can be loaded here via !pip command, but comprehensive testing of its functions have yet to be performed.\n",
        "\n",
        "**QUESTION(S) for Research:**\n",
        "1. Is it feasible to deploy a tool for API access to farm staff, in a form that is usable enough to fit into weekly farm workflow?\n",
        "1. Is it possible to upload files of both Crop Plan (i.e. \"Plant asset\") and Harvest Log type via API, such that both POST of new records and PUT (update) on existing records is done in a way that is transparent to the user?\n",
        "1. Database Referential Integrity: Is it possible via the \"Name\" field that identifies Plant assets uniquely, to maintain links between Harvest logs and the Plant asset to which they pertain?"
      ],
      "metadata": {
        "id": "lLxAtGXsy6_V"
      }
    },
    {
      "cell_type": "markdown",
      "source": [
        "# CSV Data Collection + Preliminary EDA"
      ],
      "metadata": {
        "id": "jAyKy8ujQ8SF"
      }
    },
    {
      "cell_type": "code",
      "execution_count": null,
      "metadata": {
        "colab": {
          "base_uri": "https://localhost:8080/"
        },
        "id": "3HLRzteLxQmU",
        "outputId": "465edf33-a265-4ad6-a4eb-4c48e9098cfb"
      },
      "outputs": [
        {
          "output_type": "stream",
          "name": "stdout",
          "text": [
            "Pandas version  1.3.5\n",
            "Numpy version  1.21.5\n"
          ]
        }
      ],
      "source": [
        "# import needed libraries, and check versions\n",
        "import numpy as np\n",
        "import pandas as pd   #load the software\n",
        "print(\"Pandas version \",pd.__version__)  # confirm software version, to guarantee reproducible results\n",
        "print(\"Numpy version \",np.__version__)"
      ]
    },
    {
      "cell_type": "code",
      "source": [
        "# Import the .csv datafile of Plant assets (crops) and eyeball a few\n",
        "df=pd.read_csv(\"/content/CROPS.csv\")\n",
        "# do hi-level overview\n",
        "print(\"Number of Rows, Columns = \",df.shape)  #to know the depth & scope of dataframe\n",
        "print(\"Column Headers: \",df.columns)  # to see names of column headers\n",
        "print(\"Datatype of index = \",type(df.index[0]))  # to confirm datatype of the index"
      ],
      "metadata": {
        "colab": {
          "base_uri": "https://localhost:8080/"
        },
        "id": "5Xly4A1aMdH9",
        "outputId": "51891e8b-b824-4d43-999d-7fccd10e7811"
      },
      "execution_count": null,
      "outputs": [
        {
          "output_type": "stream",
          "name": "stdout",
          "text": [
            "Number of Rows, Columns =  (213, 8)\n",
            "Column Headers:  Index(['Name', 'Archived', 'Description', 'Parent IDs', 'Parent names',\n",
            "       'Crop/variety', 'Season', 'Area/Location'],\n",
            "      dtype='object')\n",
            "Datatype of index =  <class 'int'>\n"
          ]
        }
      ]
    },
    {
      "cell_type": "code",
      "source": [
        "df.head()"
      ],
      "metadata": {
        "colab": {
          "base_uri": "https://localhost:8080/",
          "height": 389
        },
        "id": "8uXlrK5EMw_I",
        "outputId": "701f2676-adf1-414e-81d9-0f6edfeac4fa"
      },
      "execution_count": null,
      "outputs": [
        {
          "output_type": "execute_result",
          "data": {
            "text/plain": [
              "                            Name  Archived  \\\n",
              "0          2021-W20 Carrot HVE01       NaN   \n",
              "1       2021-W50 Lettuce HVE01-N       NaN   \n",
              "2          2021-W22 Carrot HVE02       NaN   \n",
              "3          2021-W38 Carrot HVE03       NaN   \n",
              "4  2021-W24 Sweet potato HVE04-N       NaN   \n",
              "\n",
              "                             Description  Parent IDs  Parent names  \\\n",
              "0  Length (m): 55.2; Nr of plants: 11040         NaN           NaN   \n",
              "1  Length (m): 55.2; Nr of plants: 11040         NaN           NaN   \n",
              "2  Length (m): 55.2; Nr of plants: 11040         NaN           NaN   \n",
              "3     Length (m): 27.6; Nr of plants: 27         NaN           NaN   \n",
              "4     Length (m): 27.6; Nr of plants: 27         NaN           NaN   \n",
              "\n",
              "   Crop/variety  Season                                   Area/Location  \n",
              "0        Carrot  SPRING                HortasDoVale-East (HDVE) - bed 1  \n",
              "1       Lettuce  WINTER  HortasDoVale-East (HDVE) - bed 1 north section  \n",
              "2        Carrot  SPRING                HortasDoVale-East (HDVE) - bed 2  \n",
              "3        Carrot  AUTUMN                HortasDoVale-East (HDVE) - bed 3  \n",
              "4  Sweet potato  SUMMER  HortasDoVale-East (HDVE) - bed 4 north section  "
            ],
            "text/html": [
              "\n",
              "  <div id=\"df-af7b7653-2b42-4fe0-a788-31606fb65683\">\n",
              "    <div class=\"colab-df-container\">\n",
              "      <div>\n",
              "<style scoped>\n",
              "    .dataframe tbody tr th:only-of-type {\n",
              "        vertical-align: middle;\n",
              "    }\n",
              "\n",
              "    .dataframe tbody tr th {\n",
              "        vertical-align: top;\n",
              "    }\n",
              "\n",
              "    .dataframe thead th {\n",
              "        text-align: right;\n",
              "    }\n",
              "</style>\n",
              "<table border=\"1\" class=\"dataframe\">\n",
              "  <thead>\n",
              "    <tr style=\"text-align: right;\">\n",
              "      <th></th>\n",
              "      <th>Name</th>\n",
              "      <th>Archived</th>\n",
              "      <th>Description</th>\n",
              "      <th>Parent IDs</th>\n",
              "      <th>Parent names</th>\n",
              "      <th>Crop/variety</th>\n",
              "      <th>Season</th>\n",
              "      <th>Area/Location</th>\n",
              "    </tr>\n",
              "  </thead>\n",
              "  <tbody>\n",
              "    <tr>\n",
              "      <th>0</th>\n",
              "      <td>2021-W20 Carrot HVE01</td>\n",
              "      <td>NaN</td>\n",
              "      <td>Length (m): 55.2; Nr of plants: 11040</td>\n",
              "      <td>NaN</td>\n",
              "      <td>NaN</td>\n",
              "      <td>Carrot</td>\n",
              "      <td>SPRING</td>\n",
              "      <td>HortasDoVale-East (HDVE) - bed 1</td>\n",
              "    </tr>\n",
              "    <tr>\n",
              "      <th>1</th>\n",
              "      <td>2021-W50 Lettuce HVE01-N</td>\n",
              "      <td>NaN</td>\n",
              "      <td>Length (m): 55.2; Nr of plants: 11040</td>\n",
              "      <td>NaN</td>\n",
              "      <td>NaN</td>\n",
              "      <td>Lettuce</td>\n",
              "      <td>WINTER</td>\n",
              "      <td>HortasDoVale-East (HDVE) - bed 1 north section</td>\n",
              "    </tr>\n",
              "    <tr>\n",
              "      <th>2</th>\n",
              "      <td>2021-W22 Carrot HVE02</td>\n",
              "      <td>NaN</td>\n",
              "      <td>Length (m): 55.2; Nr of plants: 11040</td>\n",
              "      <td>NaN</td>\n",
              "      <td>NaN</td>\n",
              "      <td>Carrot</td>\n",
              "      <td>SPRING</td>\n",
              "      <td>HortasDoVale-East (HDVE) - bed 2</td>\n",
              "    </tr>\n",
              "    <tr>\n",
              "      <th>3</th>\n",
              "      <td>2021-W38 Carrot HVE03</td>\n",
              "      <td>NaN</td>\n",
              "      <td>Length (m): 27.6; Nr of plants: 27</td>\n",
              "      <td>NaN</td>\n",
              "      <td>NaN</td>\n",
              "      <td>Carrot</td>\n",
              "      <td>AUTUMN</td>\n",
              "      <td>HortasDoVale-East (HDVE) - bed 3</td>\n",
              "    </tr>\n",
              "    <tr>\n",
              "      <th>4</th>\n",
              "      <td>2021-W24 Sweet potato HVE04-N</td>\n",
              "      <td>NaN</td>\n",
              "      <td>Length (m): 27.6; Nr of plants: 27</td>\n",
              "      <td>NaN</td>\n",
              "      <td>NaN</td>\n",
              "      <td>Sweet potato</td>\n",
              "      <td>SUMMER</td>\n",
              "      <td>HortasDoVale-East (HDVE) - bed 4 north section</td>\n",
              "    </tr>\n",
              "  </tbody>\n",
              "</table>\n",
              "</div>\n",
              "      <button class=\"colab-df-convert\" onclick=\"convertToInteractive('df-af7b7653-2b42-4fe0-a788-31606fb65683')\"\n",
              "              title=\"Convert this dataframe to an interactive table.\"\n",
              "              style=\"display:none;\">\n",
              "        \n",
              "  <svg xmlns=\"http://www.w3.org/2000/svg\" height=\"24px\"viewBox=\"0 0 24 24\"\n",
              "       width=\"24px\">\n",
              "    <path d=\"M0 0h24v24H0V0z\" fill=\"none\"/>\n",
              "    <path d=\"M18.56 5.44l.94 2.06.94-2.06 2.06-.94-2.06-.94-.94-2.06-.94 2.06-2.06.94zm-11 1L8.5 8.5l.94-2.06 2.06-.94-2.06-.94L8.5 2.5l-.94 2.06-2.06.94zm10 10l.94 2.06.94-2.06 2.06-.94-2.06-.94-.94-2.06-.94 2.06-2.06.94z\"/><path d=\"M17.41 7.96l-1.37-1.37c-.4-.4-.92-.59-1.43-.59-.52 0-1.04.2-1.43.59L10.3 9.45l-7.72 7.72c-.78.78-.78 2.05 0 2.83L4 21.41c.39.39.9.59 1.41.59.51 0 1.02-.2 1.41-.59l7.78-7.78 2.81-2.81c.8-.78.8-2.07 0-2.86zM5.41 20L4 18.59l7.72-7.72 1.47 1.35L5.41 20z\"/>\n",
              "  </svg>\n",
              "      </button>\n",
              "      \n",
              "  <style>\n",
              "    .colab-df-container {\n",
              "      display:flex;\n",
              "      flex-wrap:wrap;\n",
              "      gap: 12px;\n",
              "    }\n",
              "\n",
              "    .colab-df-convert {\n",
              "      background-color: #E8F0FE;\n",
              "      border: none;\n",
              "      border-radius: 50%;\n",
              "      cursor: pointer;\n",
              "      display: none;\n",
              "      fill: #1967D2;\n",
              "      height: 32px;\n",
              "      padding: 0 0 0 0;\n",
              "      width: 32px;\n",
              "    }\n",
              "\n",
              "    .colab-df-convert:hover {\n",
              "      background-color: #E2EBFA;\n",
              "      box-shadow: 0px 1px 2px rgba(60, 64, 67, 0.3), 0px 1px 3px 1px rgba(60, 64, 67, 0.15);\n",
              "      fill: #174EA6;\n",
              "    }\n",
              "\n",
              "    [theme=dark] .colab-df-convert {\n",
              "      background-color: #3B4455;\n",
              "      fill: #D2E3FC;\n",
              "    }\n",
              "\n",
              "    [theme=dark] .colab-df-convert:hover {\n",
              "      background-color: #434B5C;\n",
              "      box-shadow: 0px 1px 3px 1px rgba(0, 0, 0, 0.15);\n",
              "      filter: drop-shadow(0px 1px 2px rgba(0, 0, 0, 0.3));\n",
              "      fill: #FFFFFF;\n",
              "    }\n",
              "  </style>\n",
              "\n",
              "      <script>\n",
              "        const buttonEl =\n",
              "          document.querySelector('#df-af7b7653-2b42-4fe0-a788-31606fb65683 button.colab-df-convert');\n",
              "        buttonEl.style.display =\n",
              "          google.colab.kernel.accessAllowed ? 'block' : 'none';\n",
              "\n",
              "        async function convertToInteractive(key) {\n",
              "          const element = document.querySelector('#df-af7b7653-2b42-4fe0-a788-31606fb65683');\n",
              "          const dataTable =\n",
              "            await google.colab.kernel.invokeFunction('convertToInteractive',\n",
              "                                                     [key], {});\n",
              "          if (!dataTable) return;\n",
              "\n",
              "          const docLinkHtml = 'Like what you see? Visit the ' +\n",
              "            '<a target=\"_blank\" href=https://colab.research.google.com/notebooks/data_table.ipynb>data table notebook</a>'\n",
              "            + ' to learn more about interactive tables.';\n",
              "          element.innerHTML = '';\n",
              "          dataTable['output_type'] = 'display_data';\n",
              "          await google.colab.output.renderOutput(dataTable, element);\n",
              "          const docLink = document.createElement('div');\n",
              "          docLink.innerHTML = docLinkHtml;\n",
              "          element.appendChild(docLink);\n",
              "        }\n",
              "      </script>\n",
              "    </div>\n",
              "  </div>\n",
              "  "
            ]
          },
          "metadata": {},
          "execution_count": 3
        }
      ]
    },
    {
      "cell_type": "code",
      "source": [
        "# for a more agile/ interactive view of the Pandas dataframe, load gColab's \"Interactive Data Table\" extension\n",
        "%load_ext google.colab.data_table\n",
        "df"
      ],
      "metadata": {
        "colab": {
          "base_uri": "https://localhost:8080/",
          "height": 1331
        },
        "id": "rntRT7dsSTjp",
        "outputId": "cd73f8c7-6166-4475-984e-7714fbb480b2"
      },
      "execution_count": null,
      "outputs": [
        {
          "output_type": "execute_result",
          "data": {
            "text/plain": [
              "                              Name  Archived  \\\n",
              "0            2021-W20 Carrot HVE01       NaN   \n",
              "1         2021-W50 Lettuce HVE01-N       NaN   \n",
              "2            2021-W22 Carrot HVE02       NaN   \n",
              "3            2021-W38 Carrot HVE03       NaN   \n",
              "4    2021-W24 Sweet potato HVE04-N       NaN   \n",
              "..                             ...       ...   \n",
              "208    2021-W14 Tomato small WGH06       NaN   \n",
              "209     2021-W14 Tomato roma WGH06       NaN   \n",
              "210        2021-W47 Salanova WGH06       NaN   \n",
              "211         2021-W47 Lettuce WGH06       NaN   \n",
              "212          2021-W47 Carrot WGH08       NaN   \n",
              "\n",
              "                               Description  Parent IDs  Parent names  \\\n",
              "0    Length (m): 55.2; Nr of plants: 11040         NaN           NaN   \n",
              "1    Length (m): 55.2; Nr of plants: 11040         NaN           NaN   \n",
              "2    Length (m): 55.2; Nr of plants: 11040         NaN           NaN   \n",
              "3       Length (m): 27.6; Nr of plants: 27         NaN           NaN   \n",
              "4       Length (m): 27.6; Nr of plants: 27         NaN           NaN   \n",
              "..                                     ...         ...           ...   \n",
              "208           Length (m): ; Nr of plants:          NaN           NaN   \n",
              "209           Length (m): ; Nr of plants:          NaN           NaN   \n",
              "210           Length (m): ; Nr of plants:          NaN           NaN   \n",
              "211           Length (m): ; Nr of plants:          NaN           NaN   \n",
              "212           Length (m): ; Nr of plants:          NaN           NaN   \n",
              "\n",
              "     Crop/variety  Season                                   Area/Location  \n",
              "0          Carrot  SPRING                HortasDoVale-East (HDVE) - bed 1  \n",
              "1         Lettuce  WINTER  HortasDoVale-East (HDVE) - bed 1 north section  \n",
              "2          Carrot  SPRING                HortasDoVale-East (HDVE) - bed 2  \n",
              "3          Carrot  AUTUMN                HortasDoVale-East (HDVE) - bed 3  \n",
              "4    Sweet potato  SUMMER  HortasDoVale-East (HDVE) - bed 4 north section  \n",
              "..            ...     ...                                             ...  \n",
              "208  Tomato small  SPRING                      Winter Green House - bed 6  \n",
              "209   Tomato roma  SPRING                      Winter Green House - bed 6  \n",
              "210      Salanova  AUTUMN                      Winter Green House - bed 6  \n",
              "211       Lettuce  AUTUMN                      Winter Green House - bed 6  \n",
              "212        Carrot  AUTUMN                      Winter Green House - bed 8  \n",
              "\n",
              "[213 rows x 8 columns]"
            ],
            "text/html": [
              "\n",
              "  <div id=\"df-dcd59d8b-7c4e-4a1c-bd8e-25e0b82d427b\">\n",
              "    <div class=\"colab-df-container\">\n",
              "      <div>\n",
              "<style scoped>\n",
              "    .dataframe tbody tr th:only-of-type {\n",
              "        vertical-align: middle;\n",
              "    }\n",
              "\n",
              "    .dataframe tbody tr th {\n",
              "        vertical-align: top;\n",
              "    }\n",
              "\n",
              "    .dataframe thead th {\n",
              "        text-align: right;\n",
              "    }\n",
              "</style>\n",
              "<table border=\"1\" class=\"dataframe\">\n",
              "  <thead>\n",
              "    <tr style=\"text-align: right;\">\n",
              "      <th></th>\n",
              "      <th>Name</th>\n",
              "      <th>Archived</th>\n",
              "      <th>Description</th>\n",
              "      <th>Parent IDs</th>\n",
              "      <th>Parent names</th>\n",
              "      <th>Crop/variety</th>\n",
              "      <th>Season</th>\n",
              "      <th>Area/Location</th>\n",
              "    </tr>\n",
              "  </thead>\n",
              "  <tbody>\n",
              "    <tr>\n",
              "      <th>0</th>\n",
              "      <td>2021-W20 Carrot HVE01</td>\n",
              "      <td>NaN</td>\n",
              "      <td>Length (m): 55.2; Nr of plants: 11040</td>\n",
              "      <td>NaN</td>\n",
              "      <td>NaN</td>\n",
              "      <td>Carrot</td>\n",
              "      <td>SPRING</td>\n",
              "      <td>HortasDoVale-East (HDVE) - bed 1</td>\n",
              "    </tr>\n",
              "    <tr>\n",
              "      <th>1</th>\n",
              "      <td>2021-W50 Lettuce HVE01-N</td>\n",
              "      <td>NaN</td>\n",
              "      <td>Length (m): 55.2; Nr of plants: 11040</td>\n",
              "      <td>NaN</td>\n",
              "      <td>NaN</td>\n",
              "      <td>Lettuce</td>\n",
              "      <td>WINTER</td>\n",
              "      <td>HortasDoVale-East (HDVE) - bed 1 north section</td>\n",
              "    </tr>\n",
              "    <tr>\n",
              "      <th>2</th>\n",
              "      <td>2021-W22 Carrot HVE02</td>\n",
              "      <td>NaN</td>\n",
              "      <td>Length (m): 55.2; Nr of plants: 11040</td>\n",
              "      <td>NaN</td>\n",
              "      <td>NaN</td>\n",
              "      <td>Carrot</td>\n",
              "      <td>SPRING</td>\n",
              "      <td>HortasDoVale-East (HDVE) - bed 2</td>\n",
              "    </tr>\n",
              "    <tr>\n",
              "      <th>3</th>\n",
              "      <td>2021-W38 Carrot HVE03</td>\n",
              "      <td>NaN</td>\n",
              "      <td>Length (m): 27.6; Nr of plants: 27</td>\n",
              "      <td>NaN</td>\n",
              "      <td>NaN</td>\n",
              "      <td>Carrot</td>\n",
              "      <td>AUTUMN</td>\n",
              "      <td>HortasDoVale-East (HDVE) - bed 3</td>\n",
              "    </tr>\n",
              "    <tr>\n",
              "      <th>4</th>\n",
              "      <td>2021-W24 Sweet potato HVE04-N</td>\n",
              "      <td>NaN</td>\n",
              "      <td>Length (m): 27.6; Nr of plants: 27</td>\n",
              "      <td>NaN</td>\n",
              "      <td>NaN</td>\n",
              "      <td>Sweet potato</td>\n",
              "      <td>SUMMER</td>\n",
              "      <td>HortasDoVale-East (HDVE) - bed 4 north section</td>\n",
              "    </tr>\n",
              "    <tr>\n",
              "      <th>...</th>\n",
              "      <td>...</td>\n",
              "      <td>...</td>\n",
              "      <td>...</td>\n",
              "      <td>...</td>\n",
              "      <td>...</td>\n",
              "      <td>...</td>\n",
              "      <td>...</td>\n",
              "      <td>...</td>\n",
              "    </tr>\n",
              "    <tr>\n",
              "      <th>208</th>\n",
              "      <td>2021-W14 Tomato small WGH06</td>\n",
              "      <td>NaN</td>\n",
              "      <td>Length (m): ; Nr of plants:</td>\n",
              "      <td>NaN</td>\n",
              "      <td>NaN</td>\n",
              "      <td>Tomato small</td>\n",
              "      <td>SPRING</td>\n",
              "      <td>Winter Green House - bed 6</td>\n",
              "    </tr>\n",
              "    <tr>\n",
              "      <th>209</th>\n",
              "      <td>2021-W14 Tomato roma WGH06</td>\n",
              "      <td>NaN</td>\n",
              "      <td>Length (m): ; Nr of plants:</td>\n",
              "      <td>NaN</td>\n",
              "      <td>NaN</td>\n",
              "      <td>Tomato roma</td>\n",
              "      <td>SPRING</td>\n",
              "      <td>Winter Green House - bed 6</td>\n",
              "    </tr>\n",
              "    <tr>\n",
              "      <th>210</th>\n",
              "      <td>2021-W47 Salanova WGH06</td>\n",
              "      <td>NaN</td>\n",
              "      <td>Length (m): ; Nr of plants:</td>\n",
              "      <td>NaN</td>\n",
              "      <td>NaN</td>\n",
              "      <td>Salanova</td>\n",
              "      <td>AUTUMN</td>\n",
              "      <td>Winter Green House - bed 6</td>\n",
              "    </tr>\n",
              "    <tr>\n",
              "      <th>211</th>\n",
              "      <td>2021-W47 Lettuce WGH06</td>\n",
              "      <td>NaN</td>\n",
              "      <td>Length (m): ; Nr of plants:</td>\n",
              "      <td>NaN</td>\n",
              "      <td>NaN</td>\n",
              "      <td>Lettuce</td>\n",
              "      <td>AUTUMN</td>\n",
              "      <td>Winter Green House - bed 6</td>\n",
              "    </tr>\n",
              "    <tr>\n",
              "      <th>212</th>\n",
              "      <td>2021-W47 Carrot WGH08</td>\n",
              "      <td>NaN</td>\n",
              "      <td>Length (m): ; Nr of plants:</td>\n",
              "      <td>NaN</td>\n",
              "      <td>NaN</td>\n",
              "      <td>Carrot</td>\n",
              "      <td>AUTUMN</td>\n",
              "      <td>Winter Green House - bed 8</td>\n",
              "    </tr>\n",
              "  </tbody>\n",
              "</table>\n",
              "<p>213 rows × 8 columns</p>\n",
              "</div>\n",
              "      <button class=\"colab-df-convert\" onclick=\"convertToInteractive('df-dcd59d8b-7c4e-4a1c-bd8e-25e0b82d427b')\"\n",
              "              title=\"Convert this dataframe to an interactive table.\"\n",
              "              style=\"display:none;\">\n",
              "        \n",
              "  <svg xmlns=\"http://www.w3.org/2000/svg\" height=\"24px\"viewBox=\"0 0 24 24\"\n",
              "       width=\"24px\">\n",
              "    <path d=\"M0 0h24v24H0V0z\" fill=\"none\"/>\n",
              "    <path d=\"M18.56 5.44l.94 2.06.94-2.06 2.06-.94-2.06-.94-.94-2.06-.94 2.06-2.06.94zm-11 1L8.5 8.5l.94-2.06 2.06-.94-2.06-.94L8.5 2.5l-.94 2.06-2.06.94zm10 10l.94 2.06.94-2.06 2.06-.94-2.06-.94-.94-2.06-.94 2.06-2.06.94z\"/><path d=\"M17.41 7.96l-1.37-1.37c-.4-.4-.92-.59-1.43-.59-.52 0-1.04.2-1.43.59L10.3 9.45l-7.72 7.72c-.78.78-.78 2.05 0 2.83L4 21.41c.39.39.9.59 1.41.59.51 0 1.02-.2 1.41-.59l7.78-7.78 2.81-2.81c.8-.78.8-2.07 0-2.86zM5.41 20L4 18.59l7.72-7.72 1.47 1.35L5.41 20z\"/>\n",
              "  </svg>\n",
              "      </button>\n",
              "      \n",
              "  <style>\n",
              "    .colab-df-container {\n",
              "      display:flex;\n",
              "      flex-wrap:wrap;\n",
              "      gap: 12px;\n",
              "    }\n",
              "\n",
              "    .colab-df-convert {\n",
              "      background-color: #E8F0FE;\n",
              "      border: none;\n",
              "      border-radius: 50%;\n",
              "      cursor: pointer;\n",
              "      display: none;\n",
              "      fill: #1967D2;\n",
              "      height: 32px;\n",
              "      padding: 0 0 0 0;\n",
              "      width: 32px;\n",
              "    }\n",
              "\n",
              "    .colab-df-convert:hover {\n",
              "      background-color: #E2EBFA;\n",
              "      box-shadow: 0px 1px 2px rgba(60, 64, 67, 0.3), 0px 1px 3px 1px rgba(60, 64, 67, 0.15);\n",
              "      fill: #174EA6;\n",
              "    }\n",
              "\n",
              "    [theme=dark] .colab-df-convert {\n",
              "      background-color: #3B4455;\n",
              "      fill: #D2E3FC;\n",
              "    }\n",
              "\n",
              "    [theme=dark] .colab-df-convert:hover {\n",
              "      background-color: #434B5C;\n",
              "      box-shadow: 0px 1px 3px 1px rgba(0, 0, 0, 0.15);\n",
              "      filter: drop-shadow(0px 1px 2px rgba(0, 0, 0, 0.3));\n",
              "      fill: #FFFFFF;\n",
              "    }\n",
              "  </style>\n",
              "\n",
              "      <script>\n",
              "        const buttonEl =\n",
              "          document.querySelector('#df-dcd59d8b-7c4e-4a1c-bd8e-25e0b82d427b button.colab-df-convert');\n",
              "        buttonEl.style.display =\n",
              "          google.colab.kernel.accessAllowed ? 'block' : 'none';\n",
              "\n",
              "        async function convertToInteractive(key) {\n",
              "          const element = document.querySelector('#df-dcd59d8b-7c4e-4a1c-bd8e-25e0b82d427b');\n",
              "          const dataTable =\n",
              "            await google.colab.kernel.invokeFunction('convertToInteractive',\n",
              "                                                     [key], {});\n",
              "          if (!dataTable) return;\n",
              "\n",
              "          const docLinkHtml = 'Like what you see? Visit the ' +\n",
              "            '<a target=\"_blank\" href=https://colab.research.google.com/notebooks/data_table.ipynb>data table notebook</a>'\n",
              "            + ' to learn more about interactive tables.';\n",
              "          element.innerHTML = '';\n",
              "          dataTable['output_type'] = 'display_data';\n",
              "          await google.colab.output.renderOutput(dataTable, element);\n",
              "          const docLink = document.createElement('div');\n",
              "          docLink.innerHTML = docLinkHtml;\n",
              "          element.appendChild(docLink);\n",
              "        }\n",
              "      </script>\n",
              "    </div>\n",
              "  </div>\n",
              "  "
            ],
            "application/vnd.google.colaboratory.module+javascript": "\n      import \"https://ssl.gstatic.com/colaboratory/data_table/81f25a011006ed3d/data_table.js\";\n\n      window.createDataTable({\n        data: [[{\n            'v': 0,\n            'f': \"0\",\n        },\n\"2021-W20 Carrot HVE01\",\n{\n            'v': NaN,\n            'f': \"NaN\",\n        },\n\"Length (m): 55.2; Nr of plants: 11040\",\n{\n            'v': NaN,\n            'f': \"NaN\",\n        },\n{\n            'v': NaN,\n            'f': \"NaN\",\n        },\n\"Carrot\",\n\"SPRING\",\n\"HortasDoVale-East (HDVE) - bed 1\"],\n [{\n            'v': 1,\n            'f': \"1\",\n        },\n\"2021-W50 Lettuce HVE01-N\",\n{\n            'v': NaN,\n            'f': \"NaN\",\n        },\n\"Length (m): 55.2; Nr of plants: 11040\",\n{\n            'v': NaN,\n            'f': \"NaN\",\n        },\n{\n            'v': NaN,\n            'f': \"NaN\",\n        },\n\"Lettuce\",\n\"WINTER\",\n\"HortasDoVale-East (HDVE) - bed 1 north section\"],\n [{\n            'v': 2,\n            'f': \"2\",\n        },\n\"2021-W22 Carrot HVE02\",\n{\n            'v': NaN,\n            'f': \"NaN\",\n        },\n\"Length (m): 55.2; Nr of plants: 11040\",\n{\n            'v': NaN,\n            'f': \"NaN\",\n        },\n{\n            'v': NaN,\n            'f': \"NaN\",\n        },\n\"Carrot\",\n\"SPRING\",\n\"HortasDoVale-East (HDVE) - bed 2\"],\n [{\n            'v': 3,\n            'f': \"3\",\n        },\n\"2021-W38 Carrot HVE03\",\n{\n            'v': NaN,\n            'f': \"NaN\",\n        },\n\"Length (m): 27.6; Nr of plants: 27\",\n{\n            'v': NaN,\n            'f': \"NaN\",\n        },\n{\n            'v': NaN,\n            'f': \"NaN\",\n        },\n\"Carrot\",\n\"AUTUMN\",\n\"HortasDoVale-East (HDVE) - bed 3\"],\n [{\n            'v': 4,\n            'f': \"4\",\n        },\n\"2021-W24 Sweet potato HVE04-N\",\n{\n            'v': NaN,\n            'f': \"NaN\",\n        },\n\"Length (m): 27.6; Nr of plants: 27\",\n{\n            'v': NaN,\n            'f': \"NaN\",\n        },\n{\n            'v': NaN,\n            'f': \"NaN\",\n        },\n\"Sweet potato\",\n\"SUMMER\",\n\"HortasDoVale-East (HDVE) - bed 4 north section\"],\n [{\n            'v': 5,\n            'f': \"5\",\n        },\n\"2021-W26 Sweet potato HVE04-S\",\n{\n            'v': NaN,\n            'f': \"NaN\",\n        },\n\"Length (m): 55.2; Nr of plants: 276\",\n{\n            'v': NaN,\n            'f': \"NaN\",\n        },\n{\n            'v': NaN,\n            'f': \"NaN\",\n        },\n\"Sweet potato\",\n\"SUMMER\",\n\"HortasDoVale-East (HDVE) - bed 4 south section\"],\n [{\n            'v': 6,\n            'f': \"6\",\n        },\n\"2021-W23 Melon round HVE05-N\",\n{\n            'v': NaN,\n            'f': \"NaN\",\n        },\n\"Length (m): 24.9; Nr of plants: 996\",\n{\n            'v': NaN,\n            'f': \"NaN\",\n        },\n{\n            'v': NaN,\n            'f': \"NaN\",\n        },\n\"Melon round\",\n\"SPRING\",\n\"HortasDoVale-East (HDVE) - bed 5 north section\"],\n [{\n            'v': 7,\n            'f': \"7\",\n        },\n\"2021-W49 Strawberry HVE05\",\n{\n            'v': NaN,\n            'f': \"NaN\",\n        },\n\"Length (m): 16; Nr of plants: 480\",\n{\n            'v': NaN,\n            'f': \"NaN\",\n        },\n{\n            'v': NaN,\n            'f': \"NaN\",\n        },\n\"Strawberry\",\n\"AUTUMN\",\n\"HortasDoVale-East (HDVE) - bed 5\"],\n [{\n            'v': 8,\n            'f': \"8\",\n        },\n\"2021-W23 Watermelon HVE05-S\",\n{\n            'v': NaN,\n            'f': \"NaN\",\n        },\n\"Length (m): 55.2; Nr of plants: 2208\",\n{\n            'v': NaN,\n            'f': \"NaN\",\n        },\n{\n            'v': NaN,\n            'f': \"NaN\",\n        },\n\"Watermelon\",\n\"SPRING\",\n\"HortasDoVale-East (HDVE) - bed 5 south section\"],\n [{\n            'v': 9,\n            'f': \"9\",\n        },\n\"2021-W20 Zucchini HVE06-N\",\n{\n            'v': NaN,\n            'f': \"NaN\",\n        },\n\"Length (m): 27.6; Nr of plants: 27\",\n{\n            'v': NaN,\n            'f': \"NaN\",\n        },\n{\n            'v': NaN,\n            'f': \"NaN\",\n        },\n\"Zucchini\",\n\"SPRING\",\n\"HortasDoVale-East (HDVE) - bed 6 north section\"],\n [{\n            'v': 10,\n            'f': \"10\",\n        },\n\"2021-W49 Strawberry HVE06\",\n{\n            'v': NaN,\n            'f': \"NaN\",\n        },\n\"Length (m): 27.6; Nr of plants: 27\",\n{\n            'v': NaN,\n            'f': \"NaN\",\n        },\n{\n            'v': NaN,\n            'f': \"NaN\",\n        },\n\"Strawberry\",\n\"AUTUMN\",\n\"HortasDoVale-East (HDVE) - bed 6\"],\n [{\n            'v': 11,\n            'f': \"11\",\n        },\n\"2021-W20 Zucchini HVE06-S\",\n{\n            'v': NaN,\n            'f': \"NaN\",\n        },\n\"Length (m): 27.6; Nr of plants: 966\",\n{\n            'v': NaN,\n            'f': \"NaN\",\n        },\n{\n            'v': NaN,\n            'f': \"NaN\",\n        },\n\"Zucchini\",\n\"SPRING\",\n\"HortasDoVale-East (HDVE) - bed 6 south section\"],\n [{\n            'v': 12,\n            'f': \"12\",\n        },\n\"2021-W20 Cucumber HVE06-S\",\n{\n            'v': NaN,\n            'f': \"NaN\",\n        },\n\"Length (m): 27.6; Nr of plants: \",\n{\n            'v': NaN,\n            'f': \"NaN\",\n        },\n{\n            'v': NaN,\n            'f': \"NaN\",\n        },\n\"Cucumber\",\n\"SPRING\",\n\"HortasDoVale-East (HDVE) - bed 6 south section\"],\n [{\n            'v': 13,\n            'f': \"13\",\n        },\n\"2021-W23 Melon round HVE07-N\",\n{\n            'v': NaN,\n            'f': \"NaN\",\n        },\n\"Length (m): 55.2; Nr of plants: 54\",\n{\n            'v': NaN,\n            'f': \"NaN\",\n        },\n{\n            'v': NaN,\n            'f': \"NaN\",\n        },\n\"Melon round\",\n\"SPRING\",\n\"HortasDoVale-East (HDVE) - bed 7 north section\"],\n [{\n            'v': 14,\n            'f': \"14\",\n        },\n\"2021-W49 Strawberry HVE07\",\n{\n            'v': NaN,\n            'f': \"NaN\",\n        },\n\"Length (m): 55.2; Nr of plants: 440\",\n{\n            'v': NaN,\n            'f': \"NaN\",\n        },\n{\n            'v': NaN,\n            'f': \"NaN\",\n        },\n\"Strawberry\",\n\"AUTUMN\",\n\"HortasDoVale-East (HDVE) - bed 7\"],\n [{\n            'v': 15,\n            'f': \"15\",\n        },\n\"2021-W23 Watermelon HVE07-S\",\n{\n            'v': NaN,\n            'f': \"NaN\",\n        },\n\"Length (m): 55.2; Nr of plants: 440\",\n{\n            'v': NaN,\n            'f': \"NaN\",\n        },\n{\n            'v': NaN,\n            'f': \"NaN\",\n        },\n\"Watermelon\",\n\"SPRING\",\n\"HortasDoVale-East (HDVE) - bed 7 south section\"],\n [{\n            'v': 16,\n            'f': \"16\",\n        },\n\"2021-W41 Potato HVE08\",\n{\n            'v': NaN,\n            'f': \"NaN\",\n        },\n\"Length (m): 55.2; Nr of plants: 54\",\n{\n            'v': NaN,\n            'f': \"NaN\",\n        },\n{\n            'v': NaN,\n            'f': \"NaN\",\n        },\n\"Potato\",\n\"AUTUMN\",\n\"HortasDoVale-East (HDVE) - bed 8\"],\n [{\n            'v': 17,\n            'f': \"17\",\n        },\n\"2021-W38 Onion HVE09-N\",\n{\n            'v': NaN,\n            'f': \"NaN\",\n        },\n\"Length (m): 27.6; Nr of plants: 110\",\n{\n            'v': NaN,\n            'f': \"NaN\",\n        },\n{\n            'v': NaN,\n            'f': \"NaN\",\n        },\n\"Onion\",\n\"AUTUMN\",\n\"HortasDoVale-East (HDVE) - bed 9 north section\"],\n [{\n            'v': 18,\n            'f': \"18\",\n        },\n\"2021-W39 Leek HVE09-S\",\n{\n            'v': NaN,\n            'f': \"NaN\",\n        },\n\"Length (m): ; Nr of plants: \",\n{\n            'v': NaN,\n            'f': \"NaN\",\n        },\n{\n            'v': NaN,\n            'f': \"NaN\",\n        },\n\"Leek\",\n\"AUTUMN\",\n\"HortasDoVale-East (HDVE) - bed 9 south section\"],\n [{\n            'v': 19,\n            'f': \"19\",\n        },\n\"2021-W35 Onion HVE10\",\n{\n            'v': NaN,\n            'f': \"NaN\",\n        },\n\"Length (m): ; Nr of plants: \",\n{\n            'v': NaN,\n            'f': \"NaN\",\n        },\n{\n            'v': NaN,\n            'f': \"NaN\",\n        },\n\"Onion\",\n\"SUMMER\",\n\"HortasDoVale-East (HDVE) - bed 10\"],\n [{\n            'v': 20,\n            'f': \"20\",\n        },\n\"2021-W42 Broccoli HVE11-N\",\n{\n            'v': NaN,\n            'f': \"NaN\",\n        },\n\"Length (m): ; Nr of plants: \",\n{\n            'v': NaN,\n            'f': \"NaN\",\n        },\n{\n            'v': NaN,\n            'f': \"NaN\",\n        },\n\"Broccoli\",\n\"AUTUMN\",\n\"HortasDoVale-East (HDVE) - bed 11 north section\"],\n [{\n            'v': 21,\n            'f': \"21\",\n        },\n\"2021-W42 Beetroot HVE11-N\",\n{\n            'v': NaN,\n            'f': \"NaN\",\n        },\n\"Length (m): 55.2; Nr of plants: 2208\",\n{\n            'v': NaN,\n            'f': \"NaN\",\n        },\n{\n            'v': NaN,\n            'f': \"NaN\",\n        },\n\"Beetroot\",\n\"AUTUMN\",\n\"HortasDoVale-East (HDVE) - bed 11 north section\"],\n [{\n            'v': 22,\n            'f': \"22\",\n        },\n\"2021-W43 Lettuce HVE11-N\",\n{\n            'v': NaN,\n            'f': \"NaN\",\n        },\n\"Length (m): 55.2; Nr of plants: 2208\",\n{\n            'v': NaN,\n            'f': \"NaN\",\n        },\n{\n            'v': NaN,\n            'f': \"NaN\",\n        },\n\"Lettuce\",\n\"AUTUMN\",\n\"HortasDoVale-East (HDVE) - bed 11 north section\"],\n [{\n            'v': 23,\n            'f': \"23\",\n        },\n\"2021-W42 Cauliflower HVE11-S\",\n{\n            'v': NaN,\n            'f': \"NaN\",\n        },\n\"Length (m): 7.75; Nr of plants: 279\",\n{\n            'v': NaN,\n            'f': \"NaN\",\n        },\n{\n            'v': NaN,\n            'f': \"NaN\",\n        },\n\"Cauliflower\",\n\"AUTUMN\",\n\"HortasDoVale-East (HDVE) - bed 11 south section\"],\n [{\n            'v': 24,\n            'f': \"24\",\n        },\n\"2021-W42 Green cabbage HVE11-S\",\n{\n            'v': NaN,\n            'f': \"NaN\",\n        },\n\"Length (m): 13.4; Nr of plants: 1742\",\n{\n            'v': NaN,\n            'f': \"NaN\",\n        },\n{\n            'v': NaN,\n            'f': \"NaN\",\n        },\n\"Green cabbage\",\n\"AUTUMN\",\n\"HortasDoVale-East (HDVE) - bed 11 south section\"],\n [{\n            'v': 25,\n            'f': \"25\",\n        },\n\"2021-W42 Beetroot HVE11-S\",\n{\n            'v': NaN,\n            'f': \"NaN\",\n        },\n\"Length (m): 13.4; Nr of plants: 1742\",\n{\n            'v': NaN,\n            'f': \"NaN\",\n        },\n{\n            'v': NaN,\n            'f': \"NaN\",\n        },\n\"Beetroot\",\n\"AUTUMN\",\n\"HortasDoVale-East (HDVE) - bed 11 south section\"],\n [{\n            'v': 26,\n            'f': \"26\",\n        },\n\"2021-W43 Lettuce HVE11-S\",\n{\n            'v': NaN,\n            'f': \"NaN\",\n        },\n\"Length (m): 13.4; Nr of plants: 1742\",\n{\n            'v': NaN,\n            'f': \"NaN\",\n        },\n{\n            'v': NaN,\n            'f': \"NaN\",\n        },\n\"Lettuce\",\n\"AUTUMN\",\n\"HortasDoVale-East (HDVE) - bed 11 south section\"],\n [{\n            'v': 27,\n            'f': \"27\",\n        },\n\"2021-W13 Melon long HVE12-N\",\n{\n            'v': NaN,\n            'f': \"NaN\",\n        },\n\"Length (m): 23.2; Nr of plants: 928\",\n{\n            'v': NaN,\n            'f': \"NaN\",\n        },\n{\n            'v': NaN,\n            'f': \"NaN\",\n        },\n\"Melon long\",\n\"SPRING\",\n\"HortasDoVale-East (HDVE) - bed 12 north section\"],\n [{\n            'v': 28,\n            'f': \"28\",\n        },\n\"2021-W43 Turnip greens HVE12-N\",\n{\n            'v': NaN,\n            'f': \"NaN\",\n        },\n\"Length (m): 23.2; Nr of plants: 116\",\n{\n            'v': NaN,\n            'f': \"NaN\",\n        },\n{\n            'v': NaN,\n            'f': \"NaN\",\n        },\n\"Turnip greens\",\n\"AUTUMN\",\n\"HortasDoVale-East (HDVE) - bed 12 north section\"],\n [{\n            'v': 29,\n            'f': \"29\",\n        },\n\"2021-W43 Sprouting turnip HVE12-N\",\n{\n            'v': NaN,\n            'f': \"NaN\",\n        },\n\"Length (m): 24.9; Nr of plants: 24\",\n{\n            'v': NaN,\n            'f': \"NaN\",\n        },\n{\n            'v': NaN,\n            'f': \"NaN\",\n        },\n\"Sprouting turnip\",\n\"AUTUMN\",\n\"HortasDoVale-East (HDVE) - bed 12 north section\"],\n [{\n            'v': 30,\n            'f': \"30\",\n        },\n\"2021-W13 Watermelon HVE12-S\",\n{\n            'v': NaN,\n            'f': \"NaN\",\n        },\n\"Length (m): 8.02; Nr of plants: 8\",\n{\n            'v': NaN,\n            'f': \"NaN\",\n        },\n{\n            'v': NaN,\n            'f': \"NaN\",\n        },\n\"Watermelon\",\n\"SPRING\",\n\"HortasDoVale-East (HDVE) - bed 12 south section\"],\n [{\n            'v': 31,\n            'f': \"31\",\n        },\n\"2021-W48 Turnip greens HVE12-S\",\n{\n            'v': NaN,\n            'f': \"NaN\",\n        },\n\"Length (m): ; Nr of plants: \",\n{\n            'v': NaN,\n            'f': \"NaN\",\n        },\n{\n            'v': NaN,\n            'f': \"NaN\",\n        },\n\"Turnip greens\",\n\"AUTUMN\",\n\"HortasDoVale-East (HDVE) - bed 12 south section\"],\n [{\n            'v': 32,\n            'f': \"32\",\n        },\n\"2021-W48 Sprouting turnip HVE12-S\",\n{\n            'v': NaN,\n            'f': \"NaN\",\n        },\n\"Length (m): 17.8; Nr of plants: 17\",\n{\n            'v': NaN,\n            'f': \"NaN\",\n        },\n{\n            'v': NaN,\n            'f': \"NaN\",\n        },\n\"Sprouting turnip\",\n\"AUTUMN\",\n\"HortasDoVale-East (HDVE) - bed 12 south section\"],\n [{\n            'v': 33,\n            'f': \"33\",\n        },\n\"2021-W46 Spinach HVE12-S\",\n{\n            'v': NaN,\n            'f': \"NaN\",\n        },\n\"Length (m): 28.5; Nr of plants: 199\",\n{\n            'v': NaN,\n            'f': \"NaN\",\n        },\n{\n            'v': NaN,\n            'f': \"NaN\",\n        },\n\"Spinach\",\n\"AUTUMN\",\n\"HortasDoVale-East (HDVE) - bed 12 south section\"],\n [{\n            'v': 34,\n            'f': \"34\",\n        },\n\"2021-W29 Melon long HVE13-N\",\n{\n            'v': NaN,\n            'f': \"NaN\",\n        },\n\"Length (m): 12.5; Nr of plants: 56\",\n{\n            'v': NaN,\n            'f': \"NaN\",\n        },\n{\n            'v': NaN,\n            'f': \"NaN\",\n        },\n\"Melon long\",\n\"SUMMER\",\n\"HortasDoVale-East (HDVE) - bed 13 north section\"],\n [{\n            'v': 35,\n            'f': \"35\",\n        },\n\"2021-W43 Turnip HVE13-N\",\n{\n            'v': NaN,\n            'f': \"NaN\",\n        },\n\"Length (m): 12.5; Nr of plants: 87\",\n{\n            'v': NaN,\n            'f': \"NaN\",\n        },\n{\n            'v': NaN,\n            'f': \"NaN\",\n        },\n\"Turnip\",\n\"AUTUMN\",\n\"HortasDoVale-East (HDVE) - bed 13 north section\"],\n [{\n            'v': 36,\n            'f': \"36\",\n        },\n\"2021-W43 Radishes HVE13-N\",\n{\n            'v': NaN,\n            'f': \"NaN\",\n        },\n\"Length (m): 5.34; Nr of plants: 24\",\n{\n            'v': NaN,\n            'f': \"NaN\",\n        },\n{\n            'v': NaN,\n            'f': \"NaN\",\n        },\n\"Radishes\",\n\"AUTUMN\",\n\"HortasDoVale-East (HDVE) - bed 13 north section\"],\n [{\n            'v': 37,\n            'f': \"37\",\n        },\n\"2021-W32 Leek HVE13-S\",\n{\n            'v': NaN,\n            'f': \"NaN\",\n        },\n\"Length (m): ; Nr of plants: \",\n{\n            'v': NaN,\n            'f': \"NaN\",\n        },\n{\n            'v': NaN,\n            'f': \"NaN\",\n        },\n\"Leek\",\n\"SUMMER\",\n\"HortasDoVale-East (HDVE) - bed 13 south section\"],\n [{\n            'v': 38,\n            'f': \"38\",\n        },\n\"2021-W43 Broad beans HVE14-N\",\n{\n            'v': NaN,\n            'f': \"NaN\",\n        },\n\"Length (m): 35.6; Nr of plants: 34\",\n{\n            'v': NaN,\n            'f': \"NaN\",\n        },\n{\n            'v': NaN,\n            'f': \"NaN\",\n        },\n\"Broad beans\",\n\"AUTUMN\",\n\"HortasDoVale-East (HDVE) - bed 14 north section\"],\n [{\n            'v': 39,\n            'f': \"39\",\n        },\n\"2021-W43 Green pea pods HVE14-S\",\n{\n            'v': NaN,\n            'f': \"NaN\",\n        },\n\"Length (m): 57; Nr of plants: 398\",\n{\n            'v': NaN,\n            'f': \"NaN\",\n        },\n{\n            'v': NaN,\n            'f': \"NaN\",\n        },\n\"Green pea pods\",\n\"AUTUMN\",\n\"HortasDoVale-East (HDVE) - bed 14 south section\"],\n [{\n            'v': 40,\n            'f': \"40\",\n        },\n\"2021-W43 Green peas HVE14-S\",\n{\n            'v': NaN,\n            'f': \"NaN\",\n        },\n\"Length (m): 28.5; Nr of plants: 28\",\n{\n            'v': NaN,\n            'f': \"NaN\",\n        },\n{\n            'v': NaN,\n            'f': \"NaN\",\n        },\n\"Green peas\",\n\"AUTUMN\",\n\"HortasDoVale-East (HDVE) - bed 14 south section\"],\n [{\n            'v': 41,\n            'f': \"41\",\n        },\n\"2021-W16 Moscade Pumpkin HVE15\",\n{\n            'v': NaN,\n            'f': \"NaN\",\n        },\n\"Length (m): 57; Nr of plants: 256\",\n{\n            'v': NaN,\n            'f': \"NaN\",\n        },\n{\n            'v': NaN,\n            'f': \"NaN\",\n        },\n\"Moscade Pumpkin\",\n\"SPRING\",\n\"HortasDoVale-East (HDVE) - bed 15\"],\n [{\n            'v': 42,\n            'f': \"42\",\n        },\n\"2021-W48 Horse radish HVE15-N\",\n{\n            'v': NaN,\n            'f': \"NaN\",\n        },\n\"Length (m): 57; Nr of plants: 398\",\n{\n            'v': NaN,\n            'f': \"NaN\",\n        },\n{\n            'v': NaN,\n            'f': \"NaN\",\n        },\n\"Horse radish\",\n\"AUTUMN\",\n\"HortasDoVale-East (HDVE) - bed 15 north section\"],\n [{\n            'v': 43,\n            'f': \"43\",\n        },\n\"2021-W48 Radishes HVE15-N\",\n{\n            'v': NaN,\n            'f': \"NaN\",\n        },\n\"Length (m): 20.5; Nr of plants: 184\",\n{\n            'v': NaN,\n            'f': \"NaN\",\n        },\n{\n            'v': NaN,\n            'f': \"NaN\",\n        },\n\"Radishes\",\n\"AUTUMN\",\n\"HortasDoVale-East (HDVE) - bed 15 north section\"],\n [{\n            'v': 44,\n            'f': \"44\",\n        },\n\"2021-W50 Garlic HVE15-S\",\n{\n            'v': NaN,\n            'f': \"NaN\",\n        },\n\"Length (m): 8.02; Nr of plants: 144\",\n{\n            'v': NaN,\n            'f': \"NaN\",\n        },\n{\n            'v': NaN,\n            'f': \"NaN\",\n        },\n\"Garlic\",\n\"WINTER\",\n\"HortasDoVale-East (HDVE) - bed 15 south section\"],\n [{\n            'v': 45,\n            'f': \"45\",\n        },\n\"2022-W3 Garlic HVE15-S\",\n{\n            'v': NaN,\n            'f': \"NaN\",\n        },\n\"Length (m): 11.6; Nr of plants: 52\",\n{\n            'v': NaN,\n            'f': \"NaN\",\n        },\n{\n            'v': NaN,\n            'f': \"NaN\",\n        },\n\"Garlic\",\n\"WINTER\",\n\"HortasDoVale-East (HDVE) - bed 15 south section\"],\n [{\n            'v': 46,\n            'f': \"46\",\n        },\n\"2021-W22 Sweet corn HVE16\",\n{\n            'v': NaN,\n            'f': \"NaN\",\n        },\n\"Length (m): 28.5; Nr of plants: 128\",\n{\n            'v': NaN,\n            'f': \"NaN\",\n        },\n{\n            'v': NaN,\n            'f': \"NaN\",\n        },\n\"Sweet corn\",\n\"SPRING\",\n\"HortasDoVale-East (HDVE) - bed 16\"],\n [{\n            'v': 47,\n            'f': \"47\",\n        },\n\"2021-W25 Green beans climber HVE16\",\n{\n            'v': NaN,\n            'f': \"NaN\",\n        },\n\"Length (m): 15.1; Nr of plants: 271\",\n{\n            'v': NaN,\n            'f': \"NaN\",\n        },\n{\n            'v': NaN,\n            'f': \"NaN\",\n        },\n\"Green beans climber\",\n\"SUMMER\",\n\"HortasDoVale-East (HDVE) - bed 16\"],\n [{\n            'v': 48,\n            'f': \"48\",\n        },\n\"2021-W46 Rucula HVE16-N\",\n{\n            'v': NaN,\n            'f': \"NaN\",\n        },\n\"Length (m): 28.5; Nr of plants: 28\",\n{\n            'v': NaN,\n            'f': \"NaN\",\n        },\n{\n            'v': NaN,\n            'f': \"NaN\",\n        },\n\"Rucula\",\n\"AUTUMN\",\n\"HortasDoVale-East (HDVE) - bed 16 north section\"],\n [{\n            'v': 49,\n            'f': \"49\",\n        },\n\"2021-W46 Mizuna purple HVE16-N\",\n{\n            'v': NaN,\n            'f': \"NaN\",\n        },\n\"Length (m): 7.13; Nr of plants: 7\",\n{\n            'v': NaN,\n            'f': \"NaN\",\n        },\n{\n            'v': NaN,\n            'f': \"NaN\",\n        },\n\"Mizuna purple\",\n\"AUTUMN\",\n\"HortasDoVale-East (HDVE) - bed 16 north section\"],\n [{\n            'v': 50,\n            'f': \"50\",\n        },\n\"2021-W46 Mizuna green HVE16-N\",\n{\n            'v': NaN,\n            'f': \"NaN\",\n        },\n\"Length (m): 8.91; Nr of plants: 40\",\n{\n            'v': NaN,\n            'f': \"NaN\",\n        },\n{\n            'v': NaN,\n            'f': \"NaN\",\n        },\n\"Mizuna green\",\n\"AUTUMN\",\n\"HortasDoVale-East (HDVE) - bed 16 north section\"],\n [{\n            'v': 51,\n            'f': \"51\",\n        },\n\"2021-W47 Lambs lettuce HVE16-N\",\n{\n            'v': NaN,\n            'f': \"NaN\",\n        },\n\"Length (m): 13.4; Nr of plants: 60\",\n{\n            'v': NaN,\n            'f': \"NaN\",\n        },\n{\n            'v': NaN,\n            'f': \"NaN\",\n        },\n\"Lambs lettuce\",\n\"AUTUMN\",\n\"HortasDoVale-East (HDVE) - bed 16 north section\"],\n [{\n            'v': 52,\n            'f': \"52\",\n        },\n\"2021-W47 Spinach HVE16-S\",\n{\n            'v': NaN,\n            'f': \"NaN\",\n        },\n\"Length (m): 19.6; Nr of plants: 19\",\n{\n            'v': NaN,\n            'f': \"NaN\",\n        },\n{\n            'v': NaN,\n            'f': \"NaN\",\n        },\n\"Spinach\",\n\"AUTUMN\",\n\"HortasDoVale-East (HDVE) - bed 16 south section\"],\n [{\n            'v': 53,\n            'f': \"53\",\n        },\n\"2021-W16 Moscade Pumpkin HVE17\",\n{\n            'v': NaN,\n            'f': \"NaN\",\n        },\n\"Length (m): 28.5; Nr of plants: 28\",\n{\n            'v': NaN,\n            'f': \"NaN\",\n        },\n{\n            'v': NaN,\n            'f': \"NaN\",\n        },\n\"Moscade Pumpkin\",\n\"SPRING\",\n\"HortasDoVale-East (HDVE) - bed 17\"],\n [{\n            'v': 54,\n            'f': \"54\",\n        },\n\"2021-W48 Broad beans HVE17\",\n{\n            'v': NaN,\n            'f': \"NaN\",\n        },\n\"Length (m): 57; Nr of plants: 56\",\n{\n            'v': NaN,\n            'f': \"NaN\",\n        },\n{\n            'v': NaN,\n            'f': \"NaN\",\n        },\n\"Broad beans\",\n\"AUTUMN\",\n\"HortasDoVale-East (HDVE) - bed 17\"],\n [{\n            'v': 55,\n            'f': \"55\",\n        },\n\"2021-W25 Sweet corn HVE18\",\n{\n            'v': NaN,\n            'f': \"NaN\",\n        },\n\"Length (m): 28.5; Nr of plants: 128\",\n{\n            'v': NaN,\n            'f': \"NaN\",\n        },\n{\n            'v': NaN,\n            'f': \"NaN\",\n        },\n\"Sweet corn\",\n\"SUMMER\",\n\"HortasDoVale-East (HDVE) - bed 18\"],\n [{\n            'v': 56,\n            'f': \"56\",\n        },\n\"2021-W25 Green beans dwarf normal HVE18-N\",\n{\n            'v': NaN,\n            'f': \"NaN\",\n        },\n\"Length (m): 28.5; Nr of plants: 128\",\n{\n            'v': NaN,\n            'f': \"NaN\",\n        },\n{\n            'v': NaN,\n            'f': \"NaN\",\n        },\n\"Green beans dwarf normal \",\n\"SUMMER\",\n\"HortasDoVale-East (HDVE) - bed 18 north section\"],\n [{\n            'v': 57,\n            'f': \"57\",\n        },\n\"2021-W46 Garlic HVE18-N\",\n{\n            'v': NaN,\n            'f': \"NaN\",\n        },\n\"Length (m): 18.7; Nr of plants: 168\",\n{\n            'v': NaN,\n            'f': \"NaN\",\n        },\n{\n            'v': NaN,\n            'f': \"NaN\",\n        },\n\"Garlic\",\n\"AUTUMN\",\n\"HortasDoVale-East (HDVE) - bed 18 north section\"],\n [{\n            'v': 58,\n            'f': \"58\",\n        },\n\"2021-W25 Green beans dwarf round pod HVE18-S\",\n{\n            'v': NaN,\n            'f': \"NaN\",\n        },\n\"Length (m): 14.3; Nr of plants: 257\",\n{\n            'v': NaN,\n            'f': \"NaN\",\n        },\n{\n            'v': NaN,\n            'f': \"NaN\",\n        },\n\"Green beans dwarf round pod\",\n\"SUMMER\",\n\"HortasDoVale-East (HDVE) - bed 18 south section\"],\n [{\n            'v': 59,\n            'f': \"59\",\n        },\n\"2021-W46 Leek HVE18-S\",\n{\n            'v': NaN,\n            'f': \"NaN\",\n        },\n\"Length (m): 14.3; Nr of plants: 257\",\n{\n            'v': NaN,\n            'f': \"NaN\",\n        },\n{\n            'v': NaN,\n            'f': \"NaN\",\n        },\n\"Leek\",\n\"AUTUMN\",\n\"HortasDoVale-East (HDVE) - bed 18 south section\"],\n [{\n            'v': 60,\n            'f': \"60\",\n        },\n\"2022-W03 Carrot HVE21\",\n{\n            'v': NaN,\n            'f': \"NaN\",\n        },\n\"Length (m): 14.3; Nr of plants: 257\",\n{\n            'v': NaN,\n            'f': \"NaN\",\n        },\n{\n            'v': NaN,\n            'f': \"NaN\",\n        },\n\"Carrot\",\n\"WINTER\",\n\"HortasDoVale-East (HDVE) - bed 21\"],\n [{\n            'v': 61,\n            'f': \"61\",\n        },\n\"2021-W13 Leek HVE23\",\n{\n            'v': NaN,\n            'f': \"NaN\",\n        },\n\"Length (m): 3.56; Nr of plants: 64\",\n{\n            'v': NaN,\n            'f': \"NaN\",\n        },\n{\n            'v': NaN,\n            'f': \"NaN\",\n        },\n\"Leek\",\n\"SPRING\",\n\"HortasDoVale-East (HDVE) - bed 23\"],\n [{\n            'v': 62,\n            'f': \"62\",\n        },\n\"2021-W48 N.Z. Spinach HVE23-N\",\n{\n            'v': NaN,\n            'f': \"NaN\",\n        },\n\"Length (m): 4.45; Nr of plants: 80\",\n{\n            'v': NaN,\n            'f': \"NaN\",\n        },\n{\n            'v': NaN,\n            'f': \"NaN\",\n        },\n\"N.Z. Spinach\",\n\"AUTUMN\",\n\"HortasDoVale-East (HDVE) - bed 23 north section\"],\n [{\n            'v': 63,\n            'f': \"63\",\n        },\n\"2022-W01 Pak choi HVE23\",\n{\n            'v': NaN,\n            'f': \"NaN\",\n        },\n\"Length (m): 14.5; Nr of plants: 65\",\n{\n            'v': NaN,\n            'f': \"NaN\",\n        },\n{\n            'v': NaN,\n            'f': \"NaN\",\n        },\n\"Pak choi\",\n\"WINTER\",\n\"HortasDoVale-East (HDVE) - bed 23\"],\n [{\n            'v': 64,\n            'f': \"64\",\n        },\n\"2022-W01 Garden cress HVE24-S\",\n{\n            'v': NaN,\n            'f': \"NaN\",\n        },\n\"Length (m): 57; Nr of plants: 256\",\n{\n            'v': NaN,\n            'f': \"NaN\",\n        },\n{\n            'v': NaN,\n            'f': \"NaN\",\n        },\n\"Garden cress\",\n\"WINTER\",\n\"HortasDoVale-East (HDVE) - bed 24 south section\"],\n [{\n            'v': 65,\n            'f': \"65\",\n        },\n\"2022-W01 Chinese cabbage HVE24-S\",\n{\n            'v': NaN,\n            'f': \"NaN\",\n        },\n\"Length (m): 57; Nr of plants: 512\",\n{\n            'v': NaN,\n            'f': \"NaN\",\n        },\n{\n            'v': NaN,\n            'f': \"NaN\",\n        },\n\"Chinese cabbage\",\n\"WINTER\",\n\"HortasDoVale-East (HDVE) - bed 24 south section\"],\n [{\n            'v': 66,\n            'f': \"66\",\n        },\n\"2022-W01 Lettuce HVE24-S\",\n{\n            'v': NaN,\n            'f': \"NaN\",\n        },\n\"Length (m): 13.4; Nr of plants: 90\",\n{\n            'v': NaN,\n            'f': \"NaN\",\n        },\n{\n            'v': NaN,\n            'f': \"NaN\",\n        },\n\"Lettuce\",\n\"WINTER\",\n\"HortasDoVale-East (HDVE) - bed 24 south section\"],\n [{\n            'v': 67,\n            'f': \"67\",\n        },\n\"2021-W34 Turnip greens HVE25-N\",\n{\n            'v': NaN,\n            'f': \"NaN\",\n        },\n\"Length (m): 57; Nr of plants: 256\",\n{\n            'v': NaN,\n            'f': \"NaN\",\n        },\n{\n            'v': NaN,\n            'f': \"NaN\",\n        },\n\"Turnip greens\",\n\"SUMMER\",\n\"HortasDoVale-East (HDVE) - bed 25 north section\"],\n [{\n            'v': 68,\n            'f': \"68\",\n        },\n\"2021-W34 Sprouting turnip HVE25-N\",\n{\n            'v': NaN,\n            'f': \"NaN\",\n        },\n\"Length (m): 57; Nr of plants: 256\",\n{\n            'v': NaN,\n            'f': \"NaN\",\n        },\n{\n            'v': NaN,\n            'f': \"NaN\",\n        },\n\"Sprouting turnip\",\n\"SUMMER\",\n\"HortasDoVale-East (HDVE) - bed 25 north section\"],\n [{\n            'v': 69,\n            'f': \"69\",\n        },\n\"2021-W38 Turnip greens HVE25-S\",\n{\n            'v': NaN,\n            'f': \"NaN\",\n        },\n\"Length (m): 55.2; Nr of plants: 248\",\n{\n            'v': NaN,\n            'f': \"NaN\",\n        },\n{\n            'v': NaN,\n            'f': \"NaN\",\n        },\n\"Turnip greens\",\n\"AUTUMN\",\n\"HortasDoVale-East (HDVE) - bed 25 south section\"],\n [{\n            'v': 70,\n            'f': \"70\",\n        },\n\"2021-W38 Sprouting turnip HVE25-S\",\n{\n            'v': NaN,\n            'f': \"NaN\",\n        },\n\"Length (m): 28.5; Nr of plants: 128\",\n{\n            'v': NaN,\n            'f': \"NaN\",\n        },\n{\n            'v': NaN,\n            'f': \"NaN\",\n        },\n\"Sprouting turnip\",\n\"AUTUMN\",\n\"HortasDoVale-East (HDVE) - bed 25 south section\"],\n [{\n            'v': 71,\n            'f': \"71\",\n        },\n\"2021-W36 Leek HVE26-N\",\n{\n            'v': NaN,\n            'f': \"NaN\",\n        },\n\"Length (m): 18.7; Nr of plants: 84\",\n{\n            'v': NaN,\n            'f': \"NaN\",\n        },\n{\n            'v': NaN,\n            'f': \"NaN\",\n        },\n\"Leek\",\n\"SUMMER\",\n\"HortasDoVale-East (HDVE) - bed 26 north section\"],\n [{\n            'v': 72,\n            'f': \"72\",\n        },\n\"2021-W36 Green beans dwarf normal HVE26-S\",\n{\n            'v': NaN,\n            'f': \"NaN\",\n        },\n\"Length (m): 57; Nr of plants: 512\",\n{\n            'v': NaN,\n            'f': \"NaN\",\n        },\n{\n            'v': NaN,\n            'f': \"NaN\",\n        },\n\"Green beans dwarf normal \",\n\"SUMMER\",\n\"HortasDoVale-East (HDVE) - bed 26 south section\"],\n [{\n            'v': 73,\n            'f': \"73\",\n        },\n\"2021-W33 Hokkaido squash HVE27-N\",\n{\n            'v': NaN,\n            'f': \"NaN\",\n        },\n\"Length (m): 57; Nr of plants: 512\",\n{\n            'v': NaN,\n            'f': \"NaN\",\n        },\n{\n            'v': NaN,\n            'f': \"NaN\",\n        },\n\"Hokkaido squash\",\n\"SUMMER\",\n\"HortasDoVale-East (HDVE) - bed 27 north section\"],\n [{\n            'v': 74,\n            'f': \"74\",\n        },\n\"2021-W33 Hokkaido squash HVE27-S\",\n{\n            'v': NaN,\n            'f': \"NaN\",\n        },\n\"Length (m): ; Nr of plants: \",\n{\n            'v': NaN,\n            'f': \"NaN\",\n        },\n{\n            'v': NaN,\n            'f': \"NaN\",\n        },\n\"Hokkaido squash\",\n\"SUMMER\",\n\"HortasDoVale-East (HDVE) - bed 27 south section\"],\n [{\n            'v': 75,\n            'f': \"75\",\n        },\n\"2021-W33 Butternut squash HVE27-S\",\n{\n            'v': NaN,\n            'f': \"NaN\",\n        },\n\"Length (m): 6.23; Nr of plants: 224\",\n{\n            'v': NaN,\n            'f': \"NaN\",\n        },\n{\n            'v': NaN,\n            'f': \"NaN\",\n        },\n\"Butternut squash\",\n\"SUMMER\",\n\"HortasDoVale-East (HDVE) - bed 27 south section\"],\n [{\n            'v': 76,\n            'f': \"76\",\n        },\n\"2021-W31 Tomato varied HVW01-N\",\n{\n            'v': NaN,\n            'f': \"NaN\",\n        },\n\"Length (m): 4.45; Nr of plants: 160\",\n{\n            'v': NaN,\n            'f': \"NaN\",\n        },\n{\n            'v': NaN,\n            'f': \"NaN\",\n        },\n\"Tomato varied\",\n\"SUMMER\",\n\"HortasDoVale-West (HDVW) - bed 1 north section\"],\n [{\n            'v': 77,\n            'f': \"77\",\n        },\n\"2021-W31 Tomato small HVW01-N\",\n{\n            'v': NaN,\n            'f': \"NaN\",\n        },\n\"Length (m): 5.34; Nr of plants: 192\",\n{\n            'v': NaN,\n            'f': \"NaN\",\n        },\n{\n            'v': NaN,\n            'f': \"NaN\",\n        },\n\"Tomato small\",\n\"SUMMER\",\n\"HortasDoVale-West (HDVW) - bed 1 north section\"],\n [{\n            'v': 78,\n            'f': \"78\",\n        },\n\"2021-W32 Basil HVW01-N\",\n{\n            'v': NaN,\n            'f': \"NaN\",\n        },\n\"Length (m): 9.8; Nr of plants: 176\",\n{\n            'v': NaN,\n            'f': \"NaN\",\n        },\n{\n            'v': NaN,\n            'f': \"NaN\",\n        },\n\"Basil\",\n\"SUMMER\",\n\"HortasDoVale-West (HDVW) - bed 1 north section\"],\n [{\n            'v': 79,\n            'f': \"79\",\n        },\n\"2021-W32 Beetroot HVW01-N\",\n{\n            'v': NaN,\n            'f': \"NaN\",\n        },\n\"Length (m): 2.67; Nr of plants: 96\",\n{\n            'v': NaN,\n            'f': \"NaN\",\n        },\n{\n            'v': NaN,\n            'f': \"NaN\",\n        },\n\"Beetroot\",\n\"SUMMER\",\n\"HortasDoVale-West (HDVW) - bed 1 north section\"],\n [{\n            'v': 80,\n            'f': \"80\",\n        },\n\"2021-W31 Tomato varied HVW01-S\",\n{\n            'v': NaN,\n            'f': \"NaN\",\n        },\n\"Length (m): 8.91; Nr of plants: 320\",\n{\n            'v': NaN,\n            'f': \"NaN\",\n        },\n{\n            'v': NaN,\n            'f': \"NaN\",\n        },\n\"Tomato varied\",\n\"SUMMER\",\n\"HortasDoVale-West (HDVW) - bed 1 south section\"],\n [{\n            'v': 81,\n            'f': \"81\",\n        },\n\"2021-W31 Tomato small HVW01-S\",\n{\n            'v': NaN,\n            'f': \"NaN\",\n        },\n\"Length (m): 10.7; Nr of plants: 96\",\n{\n            'v': NaN,\n            'f': \"NaN\",\n        },\n{\n            'v': NaN,\n            'f': \"NaN\",\n        },\n\"Tomato small\",\n\"SUMMER\",\n\"HortasDoVale-West (HDVW) - bed 1 south section\"],\n [{\n            'v': 82,\n            'f': \"82\",\n        },\n\"2021-W32 Basil HVW01-S\",\n{\n            'v': NaN,\n            'f': \"NaN\",\n        },\n\"Length (m): 57; Nr of plants: 426\",\n{\n            'v': NaN,\n            'f': \"NaN\",\n        },\n{\n            'v': NaN,\n            'f': \"NaN\",\n        },\n\"Basil\",\n\"SUMMER\",\n\"HortasDoVale-West (HDVW) - bed 1 south section\"],\n [{\n            'v': 83,\n            'f': \"83\",\n        },\n\"2021-W32 Beetroot HVW01-S\",\n{\n            'v': NaN,\n            'f': \"NaN\",\n        },\n\"Length (m): 57; Nr of plants: 426\",\n{\n            'v': NaN,\n            'f': \"NaN\",\n        },\n{\n            'v': NaN,\n            'f': \"NaN\",\n        },\n\"Beetroot\",\n\"SUMMER\",\n\"HortasDoVale-West (HDVW) - bed 1 south section\"],\n [{\n            'v': 84,\n            'f': \"84\",\n        },\n\"2021-W27 Cucumber HVW01-S\",\n{\n            'v': NaN,\n            'f': \"NaN\",\n        },\n\"Length (m): 57; Nr of plants: 426\",\n{\n            'v': NaN,\n            'f': \"NaN\",\n        },\n{\n            'v': NaN,\n            'f': \"NaN\",\n        },\n\"Cucumber\",\n\"SUMMER\",\n\"HortasDoVale-West (HDVW) - bed 1 south section\"],\n [{\n            'v': 85,\n            'f': \"85\",\n        },\n\"2021-W27 Celery HVW01-S\",\n{\n            'v': NaN,\n            'f': \"NaN\",\n        },\n\"Length (m): 57; Nr of plants: 426\",\n{\n            'v': NaN,\n            'f': \"NaN\",\n        },\n{\n            'v': NaN,\n            'f': \"NaN\",\n        },\n\"Celery\",\n\"SUMMER\",\n\"HortasDoVale-West (HDVW) - bed 1 south section\"],\n [{\n            'v': 86,\n            'f': \"86\",\n        },\n\"2021-W15 Tomato varied HVW03\",\n{\n            'v': NaN,\n            'f': \"NaN\",\n        },\n\"Length (m): 4.01; Nr of plants: 144\",\n{\n            'v': NaN,\n            'f': \"NaN\",\n        },\n{\n            'v': NaN,\n            'f': \"NaN\",\n        },\n\"Tomato varied\",\n\"SPRING\",\n\"HortasDoVale-West (HDVW) - bed 3\"],\n [{\n            'v': 87,\n            'f': \"87\",\n        },\n\"2021-W15 Tomato small HVW03\",\n{\n            'v': NaN,\n            'f': \"NaN\",\n        },\n\"Length (m): 4.45; Nr of plants: 160\",\n{\n            'v': NaN,\n            'f': \"NaN\",\n        },\n{\n            'v': NaN,\n            'f': \"NaN\",\n        },\n\"Tomato small\",\n\"SPRING\",\n\"HortasDoVale-West (HDVW) - bed 3\"],\n [{\n            'v': 88,\n            'f': \"88\",\n        },\n\"2021-W16 Basil HVW03\",\n{\n            'v': NaN,\n            'f': \"NaN\",\n        },\n\"Length (m): 6.23; Nr of plants: 112\",\n{\n            'v': NaN,\n            'f': \"NaN\",\n        },\n{\n            'v': NaN,\n            'f': \"NaN\",\n        },\n\"Basil\",\n\"SPRING\",\n\"HortasDoVale-West (HDVW) - bed 3\"],\n [{\n            'v': 89,\n            'f': \"89\",\n        },\n\"2021-W16 Beetroot HVW03\",\n{\n            'v': NaN,\n            'f': \"NaN\",\n        },\n\"Length (m): 4.45; Nr of plants: 160\",\n{\n            'v': NaN,\n            'f': \"NaN\",\n        },\n{\n            'v': NaN,\n            'f': \"NaN\",\n        },\n\"Beetroot\",\n\"SPRING\",\n\"HortasDoVale-West (HDVW) - bed 3\"],\n [{\n            'v': 90,\n            'f': \"90\",\n        },\n\"2021-W33 Tomato varied HVW03-N\",\n{\n            'v': NaN,\n            'f': \"NaN\",\n        },\n\"Length (m): 4.45; Nr of plants: 160\",\n{\n            'v': NaN,\n            'f': \"NaN\",\n        },\n{\n            'v': NaN,\n            'f': \"NaN\",\n        },\n\"Tomato varied\",\n\"SUMMER\",\n\"HortasDoVale-West (HDVW) - bed 3 north section\"],\n [{\n            'v': 91,\n            'f': \"91\",\n        },\n\"2020-W99 Swiss chard Autumn HVW04-N\",\n{\n            'v': NaN,\n            'f': \"NaN\",\n        },\n\"Length (m): 0; Nr of plants: 0\",\n{\n            'v': NaN,\n            'f': \"NaN\",\n        },\n{\n            'v': NaN,\n            'f': \"NaN\",\n        },\n\"Swiss chard\",\n\"AUTUMN\",\n\"HortasDoVale-West (HDVW) - bed 4 north section\"],\n [{\n            'v': 92,\n            'f': \"92\",\n        },\n\"2021-W36 Green cabbage HVW04-N\",\n{\n            'v': NaN,\n            'f': \"NaN\",\n        },\n\"Length (m): 22.3; Nr of plants: 22\",\n{\n            'v': NaN,\n            'f': \"NaN\",\n        },\n{\n            'v': NaN,\n            'f': \"NaN\",\n        },\n\"Green cabbage\",\n\"SUMMER\",\n\"HortasDoVale-West (HDVW) - bed 4 north section\"],\n [{\n            'v': 93,\n            'f': \"93\",\n        },\n\"2021-W37 Kohlrabi HVW04-N\",\n{\n            'v': NaN,\n            'f': \"NaN\",\n        },\n\"Length (m): 15.1; Nr of plants: 37\",\n{\n            'v': NaN,\n            'f': \"NaN\",\n        },\n{\n            'v': NaN,\n            'f': \"NaN\",\n        },\n\"Kohlrabi\",\n\"AUTUMN\",\n\"HortasDoVale-West (HDVW) - bed 4 north section\"],\n [{\n            'v': 94,\n            'f': \"94\",\n        },\n\"2021-W37 Lettuce HVW04-N\",\n{\n            'v': NaN,\n            'f': \"NaN\",\n        },\n\"Length (m): 7.13; Nr of plants: 32\",\n{\n            'v': NaN,\n            'f': \"NaN\",\n        },\n{\n            'v': NaN,\n            'f': \"NaN\",\n        },\n\"Lettuce\",\n\"AUTUMN\",\n\"HortasDoVale-West (HDVW) - bed 4 north section\"],\n [{\n            'v': 95,\n            'f': \"95\",\n        },\n\"2021-W36 Green cabbage HVW04-S\",\n{\n            'v': NaN,\n            'f': \"NaN\",\n        },\n\"Length (m): 16; Nr of plants: 576\",\n{\n            'v': NaN,\n            'f': \"NaN\",\n        },\n{\n            'v': NaN,\n            'f': \"NaN\",\n        },\n\"Green cabbage\",\n\"SUMMER\",\n\"HortasDoVale-West (HDVW) - bed 4 south section\"],\n [{\n            'v': 96,\n            'f': \"96\",\n        },\n\"2021-W36 Cauliflower HVW04-S\",\n{\n            'v': NaN,\n            'f': \"NaN\",\n        },\n\"Length (m): 6.23; Nr of plants: 224\",\n{\n            'v': NaN,\n            'f': \"NaN\",\n        },\n{\n            'v': NaN,\n            'f': \"NaN\",\n        },\n\"Cauliflower\",\n\"SUMMER\",\n\"HortasDoVale-West (HDVW) - bed 4 south section\"],\n [{\n            'v': 97,\n            'f': \"97\",\n        },\n\"2021-W37 Kohlrabi HVW04-S\",\n{\n            'v': NaN,\n            'f': \"NaN\",\n        },\n\"Length (m): 9.8; Nr of plants: 1470\",\n{\n            'v': NaN,\n            'f': \"NaN\",\n        },\n{\n            'v': NaN,\n            'f': \"NaN\",\n        },\n\"Kohlrabi\",\n\"AUTUMN\",\n\"HortasDoVale-West (HDVW) - bed 4 south section\"],\n [{\n            'v': 98,\n            'f': \"98\",\n        },\n\"2021-W37 Lettuce HVW04-S\",\n{\n            'v': NaN,\n            'f': \"NaN\",\n        },\n\"Length (m): 5.34; Nr of plants: 96\",\n{\n            'v': NaN,\n            'f': \"NaN\",\n        },\n{\n            'v': NaN,\n            'f': \"NaN\",\n        },\n\"Lettuce\",\n\"AUTUMN\",\n\"HortasDoVale-West (HDVW) - bed 4 south section\"],\n [{\n            'v': 99,\n            'f': \"99\",\n        },\n\"2021-W23 Zucchini HVW05-N\",\n{\n            'v': NaN,\n            'f': \"NaN\",\n        },\n\"Length (m): 1.51; Nr of plants: 27\",\n{\n            'v': NaN,\n            'f': \"NaN\",\n        },\n{\n            'v': NaN,\n            'f': \"NaN\",\n        },\n\"Zucchini\",\n\"SPRING\",\n\"HortasDoVale-West (HDVW) - bed 5 north section\"],\n [{\n            'v': 100,\n            'f': \"100\",\n        },\n\"2021-W23 Zucchini HVW05-S\",\n{\n            'v': NaN,\n            'f': \"NaN\",\n        },\n\"Length (m): 22.3; Nr of plants: 22\",\n{\n            'v': NaN,\n            'f': \"NaN\",\n        },\n{\n            'v': NaN,\n            'f': \"NaN\",\n        },\n\"Zucchini\",\n\"SPRING\",\n\"HortasDoVale-West (HDVW) - bed 5 south section\"],\n [{\n            'v': 101,\n            'f': \"101\",\n        },\n\"2021-W23 Cucumber HVW05-S\",\n{\n            'v': NaN,\n            'f': \"NaN\",\n        },\n\"Length (m): 11.6; Nr of plants: 11\",\n{\n            'v': NaN,\n            'f': \"NaN\",\n        },\n{\n            'v': NaN,\n            'f': \"NaN\",\n        },\n\"Cucumber\",\n\"SPRING\",\n\"HortasDoVale-West (HDVW) - bed 5 south section\"],\n [{\n            'v': 102,\n            'f': \"102\",\n        },\n\"2021-W24 Peppers HVW05-S\",\n{\n            'v': NaN,\n            'f': \"NaN\",\n        },\n\"Length (m): 22.3; Nr of plants: 22\",\n{\n            'v': NaN,\n            'f': \"NaN\",\n        },\n{\n            'v': NaN,\n            'f': \"NaN\",\n        },\n\"Peppers\",\n\"SUMMER\",\n\"HortasDoVale-West (HDVW) - bed 5 south section\"],\n [{\n            'v': 103,\n            'f': \"103\",\n        },\n\"2021-W24 Celery HVW05-S\",\n{\n            'v': NaN,\n            'f': \"NaN\",\n        },\n\"Length (m): ; Nr of plants: \",\n{\n            'v': NaN,\n            'f': \"NaN\",\n        },\n{\n            'v': NaN,\n            'f': \"NaN\",\n        },\n\"Celery\",\n\"SUMMER\",\n\"HortasDoVale-West (HDVW) - bed 5 south section\"],\n [{\n            'v': 104,\n            'f': \"104\",\n        },\n\"2021-W29 Zucchini HVW07-N\",\n{\n            'v': NaN,\n            'f': \"NaN\",\n        },\n\"Length (m): ; Nr of plants: \",\n{\n            'v': NaN,\n            'f': \"NaN\",\n        },\n{\n            'v': NaN,\n            'f': \"NaN\",\n        },\n\"Zucchini\",\n\"SUMMER\",\n\"HortasDoVale-West (HDVW) - bed 7 north section\"],\n [{\n            'v': 105,\n            'f': \"105\",\n        },\n\"2021-W29 Cucumber HVW07-N\",\n{\n            'v': NaN,\n            'f': \"NaN\",\n        },\n\"Length (m): ; Nr of plants: \",\n{\n            'v': NaN,\n            'f': \"NaN\",\n        },\n{\n            'v': NaN,\n            'f': \"NaN\",\n        },\n\"Cucumber\",\n\"SUMMER\",\n\"HortasDoVale-West (HDVW) - bed 7 north section\"],\n [{\n            'v': 106,\n            'f': \"106\",\n        },\n\"2021-W29 Melon long HVW07-S\",\n{\n            'v': NaN,\n            'f': \"NaN\",\n        },\n\"Length (m): ; Nr of plants: \",\n{\n            'v': NaN,\n            'f': \"NaN\",\n        },\n{\n            'v': NaN,\n            'f': \"NaN\",\n        },\n\"Melon long\",\n\"SUMMER\",\n\"HortasDoVale-West (HDVW) - bed 7 south section\"],\n [{\n            'v': 107,\n            'f': \"107\",\n        },\n\"2021-W21 Tomato varied HVW08\",\n{\n            'v': NaN,\n            'f': \"NaN\",\n        },\n\"Length (m): ; Nr of plants: \",\n{\n            'v': NaN,\n            'f': \"NaN\",\n        },\n{\n            'v': NaN,\n            'f': \"NaN\",\n        },\n\"Tomato varied\",\n\"SPRING\",\n\"HortasDoVale-West (HDVW) - bed 8\"],\n [{\n            'v': 108,\n            'f': \"108\",\n        },\n\"2021-W21 Basil HVW08-N\",\n{\n            'v': NaN,\n            'f': \"NaN\",\n        },\n\"Length (m): ; Nr of plants: \",\n{\n            'v': NaN,\n            'f': \"NaN\",\n        },\n{\n            'v': NaN,\n            'f': \"NaN\",\n        },\n\"Basil\",\n\"SPRING\",\n\"HortasDoVale-West (HDVW) - bed 8 north section\"],\n [{\n            'v': 109,\n            'f': \"109\",\n        },\n\"2021-W25 Beetroot HVW08-N\",\n{\n            'v': NaN,\n            'f': \"NaN\",\n        },\n\"Length (m): ; Nr of plants: \",\n{\n            'v': NaN,\n            'f': \"NaN\",\n        },\n{\n            'v': NaN,\n            'f': \"NaN\",\n        },\n\"Beetroot\",\n\"SUMMER\",\n\"HortasDoVale-West (HDVW) - bed 8 north section\"],\n [{\n            'v': 110,\n            'f': \"110\",\n        },\n\"2021-W22 Celery HVW08-N\",\n{\n            'v': NaN,\n            'f': \"NaN\",\n        },\n\"Length (m): ; Nr of plants: \",\n{\n            'v': NaN,\n            'f': \"NaN\",\n        },\n{\n            'v': NaN,\n            'f': \"NaN\",\n        },\n\"Celery\",\n\"SPRING\",\n\"HortasDoVale-West (HDVW) - bed 8 north section\"],\n [{\n            'v': 111,\n            'f': \"111\",\n        },\n\"2021-W22 Basil HVW08-S\",\n{\n            'v': NaN,\n            'f': \"NaN\",\n        },\n\"Length (m): ; Nr of plants: \",\n{\n            'v': NaN,\n            'f': \"NaN\",\n        },\n{\n            'v': NaN,\n            'f': \"NaN\",\n        },\n\"Basil\",\n\"SPRING\",\n\"HortasDoVale-West (HDVW) - bed 8 south section\"],\n [{\n            'v': 112,\n            'f': \"112\",\n        },\n\"2021-W22 Celery HVW08-S\",\n{\n            'v': NaN,\n            'f': \"NaN\",\n        },\n\"Length (m): ; Nr of plants: \",\n{\n            'v': NaN,\n            'f': \"NaN\",\n        },\n{\n            'v': NaN,\n            'f': \"NaN\",\n        },\n\"Celery\",\n\"SPRING\",\n\"HortasDoVale-West (HDVW) - bed 8 south section\"],\n [{\n            'v': 113,\n            'f': \"113\",\n        },\n\"2021-W32 Dinosaur kale HVW09-N\",\n{\n            'v': NaN,\n            'f': \"NaN\",\n        },\n\"Length (m): ; Nr of plants: \",\n{\n            'v': NaN,\n            'f': \"NaN\",\n        },\n{\n            'v': NaN,\n            'f': \"NaN\",\n        },\n\"Dinosaur kale\",\n\"SUMMER\",\n\"HortasDoVale-West (HDVW) - bed 9 north section\"],\n [{\n            'v': 114,\n            'f': \"114\",\n        },\n\"2021-W35 Beetroot HVW09-N\",\n{\n            'v': NaN,\n            'f': \"NaN\",\n        },\n\"Length (m): ; Nr of plants: \",\n{\n            'v': NaN,\n            'f': \"NaN\",\n        },\n{\n            'v': NaN,\n            'f': \"NaN\",\n        },\n\"Beetroot\",\n\"SUMMER\",\n\"HortasDoVale-West (HDVW) - bed 9 north section\"],\n [{\n            'v': 115,\n            'f': \"115\",\n        },\n\"2021-W33 Butternut squash HVW09-S\",\n{\n            'v': NaN,\n            'f': \"NaN\",\n        },\n\"Length (m): ; Nr of plants: \",\n{\n            'v': NaN,\n            'f': \"NaN\",\n        },\n{\n            'v': NaN,\n            'f': \"NaN\",\n        },\n\"Butternut squash\",\n\"SUMMER\",\n\"HortasDoVale-West (HDVW) - bed 9 south section\"],\n [{\n            'v': 116,\n            'f': \"116\",\n        },\n\"2021-W34 Green pea pods HVW10-N\",\n{\n            'v': NaN,\n            'f': \"NaN\",\n        },\n\"Length (m): ; Nr of plants: \",\n{\n            'v': NaN,\n            'f': \"NaN\",\n        },\n{\n            'v': NaN,\n            'f': \"NaN\",\n        },\n\"Green pea pods\",\n\"SUMMER\",\n\"HortasDoVale-West (HDVW) - bed 10 north section\"],\n [{\n            'v': 117,\n            'f': \"117\",\n        },\n\"2021-W34 Green peas HVW10-N\",\n{\n            'v': NaN,\n            'f': \"NaN\",\n        },\n\"Length (m): ; Nr of plants: \",\n{\n            'v': NaN,\n            'f': \"NaN\",\n        },\n{\n            'v': NaN,\n            'f': \"NaN\",\n        },\n\"Green peas\",\n\"SUMMER\",\n\"HortasDoVale-West (HDVW) - bed 10 north section\"],\n [{\n            'v': 118,\n            'f': \"118\",\n        },\n\"2021-W34 Horse radish HVW10-S\",\n{\n            'v': NaN,\n            'f': \"NaN\",\n        },\n\"Length (m): ; Nr of plants: \",\n{\n            'v': NaN,\n            'f': \"NaN\",\n        },\n{\n            'v': NaN,\n            'f': \"NaN\",\n        },\n\"Horse radish\",\n\"SUMMER\",\n\"HortasDoVale-West (HDVW) - bed 10 south section\"],\n [{\n            'v': 119,\n            'f': \"119\",\n        },\n\"2021-W36 Turnip HVW10-S\",\n{\n            'v': NaN,\n            'f': \"NaN\",\n        },\n\"Length (m): ; Nr of plants: \",\n{\n            'v': NaN,\n            'f': \"NaN\",\n        },\n{\n            'v': NaN,\n            'f': \"NaN\",\n        },\n\"Turnip\",\n\"SUMMER\",\n\"HortasDoVale-West (HDVW) - bed 10 south section\"],\n [{\n            'v': 120,\n            'f': \"120\",\n        },\n\"2021-W34 Zucchini HVW11-N\",\n{\n            'v': NaN,\n            'f': \"NaN\",\n        },\n\"Length (m): ; Nr of plants: \",\n{\n            'v': NaN,\n            'f': \"NaN\",\n        },\n{\n            'v': NaN,\n            'f': \"NaN\",\n        },\n\"Zucchini\",\n\"SUMMER\",\n\"HortasDoVale-West (HDVW) - bed 11 north section\"],\n [{\n            'v': 121,\n            'f': \"121\",\n        },\n\"2021-W34 Cucumber HVW11-N\",\n{\n            'v': NaN,\n            'f': \"NaN\",\n        },\n\"Length (m): ; Nr of plants: \",\n{\n            'v': NaN,\n            'f': \"NaN\",\n        },\n{\n            'v': NaN,\n            'f': \"NaN\",\n        },\n\"Cucumber\",\n\"SUMMER\",\n\"HortasDoVale-West (HDVW) - bed 11 north section\"],\n [{\n            'v': 122,\n            'f': \"122\",\n        },\n\"2021-W34 Leef cabbage HVW11-S\",\n{\n            'v': NaN,\n            'f': \"NaN\",\n        },\n\"Length (m): ; Nr of plants: \",\n{\n            'v': NaN,\n            'f': \"NaN\",\n        },\n{\n            'v': NaN,\n            'f': \"NaN\",\n        },\n\"Leef cabbage\",\n\"SUMMER\",\n\"HortasDoVale-West (HDVW) - bed 11 south section\"],\n [{\n            'v': 123,\n            'f': \"123\",\n        },\n\"2021-W34 Brussels sprouts HVW11-S\",\n{\n            'v': NaN,\n            'f': \"NaN\",\n        },\n\"Length (m): ; Nr of plants: \",\n{\n            'v': NaN,\n            'f': \"NaN\",\n        },\n{\n            'v': NaN,\n            'f': \"NaN\",\n        },\n\"Brussels sprouts\",\n\"SUMMER\",\n\"HortasDoVale-West (HDVW) - bed 11 south section\"],\n [{\n            'v': 124,\n            'f': \"124\",\n        },\n\"2021-W27 Swiss chard HVW13-N\",\n{\n            'v': NaN,\n            'f': \"NaN\",\n        },\n\"Length (m): ; Nr of plants: \",\n{\n            'v': NaN,\n            'f': \"NaN\",\n        },\n{\n            'v': NaN,\n            'f': \"NaN\",\n        },\n\"Swiss chard\",\n\"SUMMER\",\n\"HortasDoVale-West (HDVW) - bed 13 north section\"],\n [{\n            'v': 125,\n            'f': \"125\",\n        },\n\"2021-W34 Lettuce HVW13-N\",\n{\n            'v': NaN,\n            'f': \"NaN\",\n        },\n\"Length (m): ; Nr of plants: \",\n{\n            'v': NaN,\n            'f': \"NaN\",\n        },\n{\n            'v': NaN,\n            'f': \"NaN\",\n        },\n\"Lettuce\",\n\"SUMMER\",\n\"HortasDoVale-West (HDVW) - bed 13 north section\"],\n [{\n            'v': 126,\n            'f': \"126\",\n        },\n\"2021-W34 Beetroot HVW13-N\",\n{\n            'v': NaN,\n            'f': \"NaN\",\n        },\n\"Length (m): ; Nr of plants: \",\n{\n            'v': NaN,\n            'f': \"NaN\",\n        },\n{\n            'v': NaN,\n            'f': \"NaN\",\n        },\n\"Beetroot\",\n\"SUMMER\",\n\"HortasDoVale-West (HDVW) - bed 13 north section\"],\n [{\n            'v': 127,\n            'f': \"127\",\n        },\n\"2021-W19 Turnip HVW13-S\",\n{\n            'v': NaN,\n            'f': \"NaN\",\n        },\n\"Length (m): ; Nr of plants: \",\n{\n            'v': NaN,\n            'f': \"NaN\",\n        },\n{\n            'v': NaN,\n            'f': \"NaN\",\n        },\n\"Turnip\",\n\"SPRING\",\n\"HortasDoVale-West (HDVW) - bed 13 south section\"],\n [{\n            'v': 128,\n            'f': \"128\",\n        },\n\"2021-W15 Aubergine HVW14\",\n{\n            'v': NaN,\n            'f': \"NaN\",\n        },\n\"Length (m): ; Nr of plants: \",\n{\n            'v': NaN,\n            'f': \"NaN\",\n        },\n{\n            'v': NaN,\n            'f': \"NaN\",\n        },\n\"Aubergine\",\n\"SPRING\",\n\"HortasDoVale-West (HDVW) - bed 14\"],\n [{\n            'v': 129,\n            'f': \"129\",\n        },\n\"2021-W31 Parsley HVW15-N\",\n{\n            'v': NaN,\n            'f': \"NaN\",\n        },\n\"Length (m): ; Nr of plants: \",\n{\n            'v': NaN,\n            'f': \"NaN\",\n        },\n{\n            'v': NaN,\n            'f': \"NaN\",\n        },\n\"Parsley\",\n\"SUMMER\",\n\"HortasDoVale-West (HDVW) - bed 15 north section\"],\n [{\n            'v': 130,\n            'f': \"130\",\n        },\n\"2021-W31 Celery HVW15-N\",\n{\n            'v': NaN,\n            'f': \"NaN\",\n        },\n\"Length (m): ; Nr of plants: \",\n{\n            'v': NaN,\n            'f': \"NaN\",\n        },\n{\n            'v': NaN,\n            'f': \"NaN\",\n        },\n\"Celery\",\n\"SUMMER\",\n\"HortasDoVale-West (HDVW) - bed 15 north section\"],\n [{\n            'v': 131,\n            'f': \"131\",\n        },\n\"2021-W36 Swiss chard HVW15-S\",\n{\n            'v': NaN,\n            'f': \"NaN\",\n        },\n\"Length (m): ; Nr of plants: \",\n{\n            'v': NaN,\n            'f': \"NaN\",\n        },\n{\n            'v': NaN,\n            'f': \"NaN\",\n        },\n\"Swiss chard\",\n\"SUMMER\",\n\"HortasDoVale-West (HDVW) - bed 15 south section\"],\n [{\n            'v': 132,\n            'f': \"132\",\n        },\n\"2021-W36 Dill HVW15-S\",\n{\n            'v': NaN,\n            'f': \"NaN\",\n        },\n\"Length (m): ; Nr of plants: \",\n{\n            'v': NaN,\n            'f': \"NaN\",\n        },\n{\n            'v': NaN,\n            'f': \"NaN\",\n        },\n\"Dill\",\n\"SUMMER\",\n\"HortasDoVale-West (HDVW) - bed 15 south section\"],\n [{\n            'v': 133,\n            'f': \"133\",\n        },\n\"2021-W42 Lambs lettuce HVW15-S\",\n{\n            'v': NaN,\n            'f': \"NaN\",\n        },\n\"Length (m): ; Nr of plants: \",\n{\n            'v': NaN,\n            'f': \"NaN\",\n        },\n{\n            'v': NaN,\n            'f': \"NaN\",\n        },\n\"Lambs lettuce\",\n\"AUTUMN\",\n\"HortasDoVale-West (HDVW) - bed 15 south section\"],\n [{\n            'v': 134,\n            'f': \"134\",\n        },\n\"2021-W41 Spinach HVW15-S\",\n{\n            'v': NaN,\n            'f': \"NaN\",\n        },\n\"Length (m): ; Nr of plants: \",\n{\n            'v': NaN,\n            'f': \"NaN\",\n        },\n{\n            'v': NaN,\n            'f': \"NaN\",\n        },\n\"Spinach\",\n\"AUTUMN\",\n\"HortasDoVale-West (HDVW) - bed 15 south section\"],\n [{\n            'v': 135,\n            'f': \"135\",\n        },\n\"2021-W45 Lettuce HVW15-S\",\n{\n            'v': NaN,\n            'f': \"NaN\",\n        },\n\"Length (m): ; Nr of plants: \",\n{\n            'v': NaN,\n            'f': \"NaN\",\n        },\n{\n            'v': NaN,\n            'f': \"NaN\",\n        },\n\"Lettuce\",\n\"AUTUMN\",\n\"HortasDoVale-West (HDVW) - bed 15 south section\"],\n [{\n            'v': 136,\n            'f': \"136\",\n        },\n\"2021-W21 Tomato roma HVW16-N\",\n{\n            'v': NaN,\n            'f': \"NaN\",\n        },\n\"Length (m): ; Nr of plants: \",\n{\n            'v': NaN,\n            'f': \"NaN\",\n        },\n{\n            'v': NaN,\n            'f': \"NaN\",\n        },\n\"Tomato roma\",\n\"SPRING\",\n\"HortasDoVale-West (HDVW) - bed 16 north section\"],\n [{\n            'v': 137,\n            'f': \"137\",\n        },\n\"2021-W39 Galega kale HVW16-N\",\n{\n            'v': NaN,\n            'f': \"NaN\",\n        },\n\"Length (m): ; Nr of plants: \",\n{\n            'v': NaN,\n            'f': \"NaN\",\n        },\n{\n            'v': NaN,\n            'f': \"NaN\",\n        },\n\"Galega kale\",\n\"AUTUMN\",\n\"HortasDoVale-West (HDVW) - bed 16 north section\"],\n [{\n            'v': 138,\n            'f': \"138\",\n        },\n\"2021-W39 Dinosaur kale HVW16-N\",\n{\n            'v': NaN,\n            'f': \"NaN\",\n        },\n\"Length (m): ; Nr of plants: \",\n{\n            'v': NaN,\n            'f': \"NaN\",\n        },\n{\n            'v': NaN,\n            'f': \"NaN\",\n        },\n\"Dinosaur kale\",\n\"AUTUMN\",\n\"HortasDoVale-West (HDVW) - bed 16 north section\"],\n [{\n            'v': 139,\n            'f': \"139\",\n        },\n\"2021-W39 Curly kale HVW16-N\",\n{\n            'v': NaN,\n            'f': \"NaN\",\n        },\n\"Length (m): ; Nr of plants: \",\n{\n            'v': NaN,\n            'f': \"NaN\",\n        },\n{\n            'v': NaN,\n            'f': \"NaN\",\n        },\n\"Curly kale\",\n\"AUTUMN\",\n\"HortasDoVale-West (HDVW) - bed 16 north section\"],\n [{\n            'v': 140,\n            'f': \"140\",\n        },\n\"2021-W39 Broccoli HVW16-N\",\n{\n            'v': NaN,\n            'f': \"NaN\",\n        },\n\"Length (m): ; Nr of plants: \",\n{\n            'v': NaN,\n            'f': \"NaN\",\n        },\n{\n            'v': NaN,\n            'f': \"NaN\",\n        },\n\"Broccoli\",\n\"AUTUMN\",\n\"HortasDoVale-West (HDVW) - bed 16 north section\"],\n [{\n            'v': 141,\n            'f': \"141\",\n        },\n\"2021-W39 Beetroot HVW16\",\n{\n            'v': NaN,\n            'f': \"NaN\",\n        },\n\"Length (m): ; Nr of plants: \",\n{\n            'v': NaN,\n            'f': \"NaN\",\n        },\n{\n            'v': NaN,\n            'f': \"NaN\",\n        },\n\"Beetroot\",\n\"AUTUMN\",\n\"HortasDoVale-West (HDVW) - bed 16\"],\n [{\n            'v': 142,\n            'f': \"142\",\n        },\n\"2021-W21 Turnip HVW16-S\",\n{\n            'v': NaN,\n            'f': \"NaN\",\n        },\n\"Length (m): ; Nr of plants: \",\n{\n            'v': NaN,\n            'f': \"NaN\",\n        },\n{\n            'v': NaN,\n            'f': \"NaN\",\n        },\n\"Turnip\",\n\"SPRING\",\n\"HortasDoVale-West (HDVW) - bed 16 south section\"],\n [{\n            'v': 143,\n            'f': \"143\",\n        },\n\"2021-W39 Broccoli HVW16-S\",\n{\n            'v': NaN,\n            'f': \"NaN\",\n        },\n\"Length (m): ; Nr of plants: \",\n{\n            'v': NaN,\n            'f': \"NaN\",\n        },\n{\n            'v': NaN,\n            'f': \"NaN\",\n        },\n\"Broccoli\",\n\"AUTUMN\",\n\"HortasDoVale-West (HDVW) - bed 16 south section\"],\n [{\n            'v': 144,\n            'f': \"144\",\n        },\n\"2021-W21 Aubergine HVW17\",\n{\n            'v': NaN,\n            'f': \"NaN\",\n        },\n\"Length (m): ; Nr of plants: \",\n{\n            'v': NaN,\n            'f': \"NaN\",\n        },\n{\n            'v': NaN,\n            'f': \"NaN\",\n        },\n\"Aubergine\",\n\"SPRING\",\n\"HortasDoVale-West (HDVW) - bed 17\"],\n [{\n            'v': 145,\n            'f': \"145\",\n        },\n\"2021-W27 Spring onion HVW17\",\n{\n            'v': NaN,\n            'f': \"NaN\",\n        },\n\"Length (m): ; Nr of plants: \",\n{\n            'v': NaN,\n            'f': \"NaN\",\n        },\n{\n            'v': NaN,\n            'f': \"NaN\",\n        },\n\"Spring onion\",\n\"SUMMER\",\n\"HortasDoVale-West (HDVW) - bed 17\"],\n [{\n            'v': 146,\n            'f': \"146\",\n        },\n\"2021-W43 Green cabbage HVW18-N\",\n{\n            'v': NaN,\n            'f': \"NaN\",\n        },\n\"Length (m): ; Nr of plants: \",\n{\n            'v': NaN,\n            'f': \"NaN\",\n        },\n{\n            'v': NaN,\n            'f': \"NaN\",\n        },\n\"Green cabbage\",\n\"AUTUMN\",\n\"HortasDoVale-West (HDVW) - bed 18 north section\"],\n [{\n            'v': 147,\n            'f': \"147\",\n        },\n\"2021-W43 Cauliflower HVW18-N\",\n{\n            'v': NaN,\n            'f': \"NaN\",\n        },\n\"Length (m): ; Nr of plants: \",\n{\n            'v': NaN,\n            'f': \"NaN\",\n        },\n{\n            'v': NaN,\n            'f': \"NaN\",\n        },\n\"Cauliflower\",\n\"AUTUMN\",\n\"HortasDoVale-West (HDVW) - bed 18 north section\"],\n [{\n            'v': 148,\n            'f': \"148\",\n        },\n\"2021-W43 Kohlrabi HVW18-N\",\n{\n            'v': NaN,\n            'f': \"NaN\",\n        },\n\"Length (m): ; Nr of plants: \",\n{\n            'v': NaN,\n            'f': \"NaN\",\n        },\n{\n            'v': NaN,\n            'f': \"NaN\",\n        },\n\"Kohlrabi\",\n\"AUTUMN\",\n\"HortasDoVale-West (HDVW) - bed 18 north section\"],\n [{\n            'v': 149,\n            'f': \"149\",\n        },\n\"2021-W43 Lettuce HVW18-N\",\n{\n            'v': NaN,\n            'f': \"NaN\",\n        },\n\"Length (m): ; Nr of plants: \",\n{\n            'v': NaN,\n            'f': \"NaN\",\n        },\n{\n            'v': NaN,\n            'f': \"NaN\",\n        },\n\"Lettuce\",\n\"AUTUMN\",\n\"HortasDoVale-West (HDVW) - bed 18 north section\"],\n [{\n            'v': 150,\n            'f': \"150\",\n        },\n\"2021-W39 Turnip HVW18-S\",\n{\n            'v': NaN,\n            'f': \"NaN\",\n        },\n\"Length (m): ; Nr of plants: \",\n{\n            'v': NaN,\n            'f': \"NaN\",\n        },\n{\n            'v': NaN,\n            'f': \"NaN\",\n        },\n\"Turnip\",\n\"AUTUMN\",\n\"HortasDoVale-West (HDVW) - bed 18 south section\"],\n [{\n            'v': 151,\n            'f': \"151\",\n        },\n\"2021-W32 Green cabbage HVW19\",\n{\n            'v': NaN,\n            'f': \"NaN\",\n        },\n\"Length (m): ; Nr of plants: \",\n{\n            'v': NaN,\n            'f': \"NaN\",\n        },\n{\n            'v': NaN,\n            'f': \"NaN\",\n        },\n\"Green cabbage\",\n\"SUMMER\",\n\"HortasDoVale-West (HDVW) - bed 19\"],\n [{\n            'v': 152,\n            'f': \"152\",\n        },\n\"2021-W32 Kohlrabi HVW19\",\n{\n            'v': NaN,\n            'f': \"NaN\",\n        },\n\"Length (m): ; Nr of plants: \",\n{\n            'v': NaN,\n            'f': \"NaN\",\n        },\n{\n            'v': NaN,\n            'f': \"NaN\",\n        },\n\"Kohlrabi\",\n\"SUMMER\",\n\"HortasDoVale-West (HDVW) - bed 19\"],\n [{\n            'v': 153,\n            'f': \"153\",\n        },\n\"2021-W24 Peppers HVW20-N\",\n{\n            'v': NaN,\n            'f': \"NaN\",\n        },\n\"Length (m): ; Nr of plants: \",\n{\n            'v': NaN,\n            'f': \"NaN\",\n        },\n{\n            'v': NaN,\n            'f': \"NaN\",\n        },\n\"Peppers\",\n\"SUMMER\",\n\"HortasDoVale-West (HDVW) - bed 20 north section\"],\n [{\n            'v': 154,\n            'f': \"154\",\n        },\n\"2021-W24 Padron peppers HVW20-S\",\n{\n            'v': NaN,\n            'f': \"NaN\",\n        },\n\"Length (m): ; Nr of plants: \",\n{\n            'v': NaN,\n            'f': \"NaN\",\n        },\n{\n            'v': NaN,\n            'f': \"NaN\",\n        },\n\"Padron peppers\",\n\"SUMMER\",\n\"HortasDoVale-West (HDVW) - bed 20 south section\"],\n [{\n            'v': 155,\n            'f': \"155\",\n        },\n\"2021-W24 Hot peppers HVW20-S\",\n{\n            'v': NaN,\n            'f': \"NaN\",\n        },\n\"Length (m): ; Nr of plants: \",\n{\n            'v': NaN,\n            'f': \"NaN\",\n        },\n{\n            'v': NaN,\n            'f': \"NaN\",\n        },\n\"Hot peppers\",\n\"SUMMER\",\n\"HortasDoVale-West (HDVW) - bed 20 south section\"],\n [{\n            'v': 156,\n            'f': \"156\",\n        },\n\"2021-W30 Broccoli HVW21\",\n{\n            'v': NaN,\n            'f': \"NaN\",\n        },\n\"Length (m): ; Nr of plants: \",\n{\n            'v': NaN,\n            'f': \"NaN\",\n        },\n{\n            'v': NaN,\n            'f': \"NaN\",\n        },\n\"Broccoli\",\n\"SUMMER\",\n\"HortasDoVale-West (HDVW) - bed 21\"],\n [{\n            'v': 157,\n            'f': \"157\",\n        },\n\"2021-W30 Lettuce HVW21\",\n{\n            'v': NaN,\n            'f': \"NaN\",\n        },\n\"Length (m): ; Nr of plants: \",\n{\n            'v': NaN,\n            'f': \"NaN\",\n        },\n{\n            'v': NaN,\n            'f': \"NaN\",\n        },\n\"Lettuce\",\n\"SUMMER\",\n\"HortasDoVale-West (HDVW) - bed 21\"],\n [{\n            'v': 158,\n            'f': \"158\",\n        },\n\"2021-W33 Coriander HVW23-N\",\n{\n            'v': NaN,\n            'f': \"NaN\",\n        },\n\"Length (m): ; Nr of plants: \",\n{\n            'v': NaN,\n            'f': \"NaN\",\n        },\n{\n            'v': NaN,\n            'f': \"NaN\",\n        },\n\"Coriander\",\n\"SUMMER\",\n\"HortasDoVale-West (HDVW) - bed 23 north section\"],\n [{\n            'v': 159,\n            'f': \"159\",\n        },\n\"2021-W34 Mizuna green HVW23-N\",\n{\n            'v': NaN,\n            'f': \"NaN\",\n        },\n\"Length (m): ; Nr of plants: \",\n{\n            'v': NaN,\n            'f': \"NaN\",\n        },\n{\n            'v': NaN,\n            'f': \"NaN\",\n        },\n\"Mizuna green\",\n\"SUMMER\",\n\"HortasDoVale-West (HDVW) - bed 23 north section\"],\n [{\n            'v': 160,\n            'f': \"160\",\n        },\n\"2021-W34 Mizuna purple HVW23-N\",\n{\n            'v': NaN,\n            'f': \"NaN\",\n        },\n\"Length (m): ; Nr of plants: \",\n{\n            'v': NaN,\n            'f': \"NaN\",\n        },\n{\n            'v': NaN,\n            'f': \"NaN\",\n        },\n\"Mizuna purple\",\n\"SUMMER\",\n\"HortasDoVale-West (HDVW) - bed 23 north section\"],\n [{\n            'v': 161,\n            'f': \"161\",\n        },\n\"2021-W34 Rucula HVW23-N\",\n{\n            'v': NaN,\n            'f': \"NaN\",\n        },\n\"Length (m): ; Nr of plants: \",\n{\n            'v': NaN,\n            'f': \"NaN\",\n        },\n{\n            'v': NaN,\n            'f': \"NaN\",\n        },\n\"Rucula\",\n\"SUMMER\",\n\"HortasDoVale-West (HDVW) - bed 23 north section\"],\n [{\n            'v': 162,\n            'f': \"162\",\n        },\n\"2021-W36 Fennel bulb HVW23-N\",\n{\n            'v': NaN,\n            'f': \"NaN\",\n        },\n\"Length (m): ; Nr of plants: \",\n{\n            'v': NaN,\n            'f': \"NaN\",\n        },\n{\n            'v': NaN,\n            'f': \"NaN\",\n        },\n\"Fennel bulb\",\n\"SUMMER\",\n\"HortasDoVale-West (HDVW) - bed 23 north section\"],\n [{\n            'v': 163,\n            'f': \"163\",\n        },\n\"2021-W37 Spinach HVW23-S\",\n{\n            'v': NaN,\n            'f': \"NaN\",\n        },\n\"Length (m): ; Nr of plants: \",\n{\n            'v': NaN,\n            'f': \"NaN\",\n        },\n{\n            'v': NaN,\n            'f': \"NaN\",\n        },\n\"Spinach\",\n\"AUTUMN\",\n\"HortasDoVale-West (HDVW) - bed 23 south section\"],\n [{\n            'v': 164,\n            'f': \"164\",\n        },\n\"2021-W37 Mizuna green HVW23-S\",\n{\n            'v': NaN,\n            'f': \"NaN\",\n        },\n\"Length (m): ; Nr of plants: \",\n{\n            'v': NaN,\n            'f': \"NaN\",\n        },\n{\n            'v': NaN,\n            'f': \"NaN\",\n        },\n\"Mizuna green\",\n\"AUTUMN\",\n\"HortasDoVale-West (HDVW) - bed 23 south section\"],\n [{\n            'v': 165,\n            'f': \"165\",\n        },\n\"2021-W37 Rucula HVW23-S\",\n{\n            'v': NaN,\n            'f': \"NaN\",\n        },\n\"Length (m): ; Nr of plants: \",\n{\n            'v': NaN,\n            'f': \"NaN\",\n        },\n{\n            'v': NaN,\n            'f': \"NaN\",\n        },\n\"Rucula\",\n\"AUTUMN\",\n\"HortasDoVale-West (HDVW) - bed 23 south section\"],\n [{\n            'v': 166,\n            'f': \"166\",\n        },\n\"2021-W38 N.Z. Spinach HVW23-S\",\n{\n            'v': NaN,\n            'f': \"NaN\",\n        },\n\"Length (m): ; Nr of plants: \",\n{\n            'v': NaN,\n            'f': \"NaN\",\n        },\n{\n            'v': NaN,\n            'f': \"NaN\",\n        },\n\"Spinach\",\n\"AUTUMN\",\n\"HortasDoVale-West (HDVW) - bed 23 south section\"],\n [{\n            'v': 167,\n            'f': \"167\",\n        },\n\"2021-W04 Strawberry HVW24\",\n{\n            'v': NaN,\n            'f': \"NaN\",\n        },\n\"Length (m): ; Nr of plants: \",\n{\n            'v': NaN,\n            'f': \"NaN\",\n        },\n{\n            'v': NaN,\n            'f': \"NaN\",\n        },\n\"Strawberry\",\n\"WINTER\",\n\"HortasDoVale-West (HDVW) - bed 24\"],\n [{\n            'v': 168,\n            'f': \"168\",\n        },\n\"2021-W04 Strawberry HVW25\",\n{\n            'v': NaN,\n            'f': \"NaN\",\n        },\n\"Length (m): ; Nr of plants: \",\n{\n            'v': NaN,\n            'f': \"NaN\",\n        },\n{\n            'v': NaN,\n            'f': \"NaN\",\n        },\n\"Strawberry\",\n\"WINTER\",\n\"HortasDoVale-West (HDVW) - bed 25\"],\n [{\n            'v': 169,\n            'f': \"169\",\n        },\n\"2021-W16 Dinosaur kale SGH01-N\",\n{\n            'v': NaN,\n            'f': \"NaN\",\n        },\n\"Length (m): ; Nr of plants: \",\n{\n            'v': NaN,\n            'f': \"NaN\",\n        },\n{\n            'v': NaN,\n            'f': \"NaN\",\n        },\n\"Moscade Pumpkin\",\n\"SPRING\",\n\"Summer Green House (SGH) - bed 1 north section\"],\n [{\n            'v': 170,\n            'f': \"170\",\n        },\n\"2021-W45 Chinese cabbage SGH01-N\",\n{\n            'v': NaN,\n            'f': \"NaN\",\n        },\n\"Length (m): ; Nr of plants: \",\n{\n            'v': NaN,\n            'f': \"NaN\",\n        },\n{\n            'v': NaN,\n            'f': \"NaN\",\n        },\n\"Chinese cabbage\",\n\"AUTUMN\",\n\"Summer Green House (SGH) - bed 1 north section\"],\n [{\n            'v': 171,\n            'f': \"171\",\n        },\n\"2021-W38 Rucula SGH02-N\",\n{\n            'v': NaN,\n            'f': \"NaN\",\n        },\n\"Length (m): ; Nr of plants: \",\n{\n            'v': NaN,\n            'f': \"NaN\",\n        },\n{\n            'v': NaN,\n            'f': \"NaN\",\n        },\n\"Rucula\",\n\"AUTUMN\",\n\"Summer Green House (SGH) - bed 2 north section\"],\n [{\n            'v': 172,\n            'f': \"172\",\n        },\n\"2021-W27 Salanova SGH02-N\",\n{\n            'v': NaN,\n            'f': \"NaN\",\n        },\n\"Length (m): ; Nr of plants: \",\n{\n            'v': NaN,\n            'f': \"NaN\",\n        },\n{\n            'v': NaN,\n            'f': \"NaN\",\n        },\n\"Salanova\",\n\"SUMMER\",\n\"Summer Green House (SGH) - bed 2 north section\"],\n [{\n            'v': 173,\n            'f': \"173\",\n        },\n\"2021-W37 Lettuce SGH02-N\",\n{\n            'v': NaN,\n            'f': \"NaN\",\n        },\n\"Length (m): ; Nr of plants: \",\n{\n            'v': NaN,\n            'f': \"NaN\",\n        },\n{\n            'v': NaN,\n            'f': \"NaN\",\n        },\n\"Lettuce\",\n\"AUTUMN\",\n\"Summer Green House (SGH) - bed 2 north section\"],\n [{\n            'v': 174,\n            'f': \"174\",\n        },\n\"2021-W43 Coriander SGH02-N\",\n{\n            'v': NaN,\n            'f': \"NaN\",\n        },\n\"Length (m): ; Nr of plants: \",\n{\n            'v': NaN,\n            'f': \"NaN\",\n        },\n{\n            'v': NaN,\n            'f': \"NaN\",\n        },\n\"Coriander\",\n\"AUTUMN\",\n\"Summer Green House (SGH) - bed 2 north section\"],\n [{\n            'v': 175,\n            'f': \"175\",\n        },\n\"2021-W27 Rucula SGH03-N\",\n{\n            'v': NaN,\n            'f': \"NaN\",\n        },\n\"Length (m): ; Nr of plants: \",\n{\n            'v': NaN,\n            'f': \"NaN\",\n        },\n{\n            'v': NaN,\n            'f': \"NaN\",\n        },\n\"Rucula\",\n\"SUMMER\",\n\"Summer Green House (SGH) - bed 3 north section\"],\n [{\n            'v': 176,\n            'f': \"176\",\n        },\n\"2021-W27 Parsley SGH03-N\",\n{\n            'v': NaN,\n            'f': \"NaN\",\n        },\n\"Length (m): ; Nr of plants: \",\n{\n            'v': NaN,\n            'f': \"NaN\",\n        },\n{\n            'v': NaN,\n            'f': \"NaN\",\n        },\n\"Parsley\",\n\"SUMMER\",\n\"Summer Green House (SGH) - bed 3 north section\"],\n [{\n            'v': 177,\n            'f': \"177\",\n        },\n\"2021-W27 Celery SGH03-N\",\n{\n            'v': NaN,\n            'f': \"NaN\",\n        },\n\"Length (m): ; Nr of plants: \",\n{\n            'v': NaN,\n            'f': \"NaN\",\n        },\n{\n            'v': NaN,\n            'f': \"NaN\",\n        },\n\"Celery\",\n\"SUMMER\",\n\"Summer Green House (SGH) - bed 3 north section\"],\n [{\n            'v': 178,\n            'f': \"178\",\n        },\n\"2021-W29 Parsley SGH04-N\",\n{\n            'v': NaN,\n            'f': \"NaN\",\n        },\n\"Length (m): ; Nr of plants: \",\n{\n            'v': NaN,\n            'f': \"NaN\",\n        },\n{\n            'v': NaN,\n            'f': \"NaN\",\n        },\n\"Parsley\",\n\"SUMMER\",\n\"Summer Green House (SGH) - bed 4 north section\"],\n [{\n            'v': 179,\n            'f': \"179\",\n        },\n\"2021-W35 Coriander SGH04-N\",\n{\n            'v': NaN,\n            'f': \"NaN\",\n        },\n\"Length (m): ; Nr of plants: \",\n{\n            'v': NaN,\n            'f': \"NaN\",\n        },\n{\n            'v': NaN,\n            'f': \"NaN\",\n        },\n\"Coriander\",\n\"SUMMER\",\n\"Summer Green House (SGH) - bed 4 north section\"],\n [{\n            'v': 180,\n            'f': \"180\",\n        },\n\"2021-W35 Rucula SGH04-N\",\n{\n            'v': NaN,\n            'f': \"NaN\",\n        },\n\"Length (m): ; Nr of plants: \",\n{\n            'v': NaN,\n            'f': \"NaN\",\n        },\n{\n            'v': NaN,\n            'f': \"NaN\",\n        },\n\"Rucula\",\n\"SUMMER\",\n\"Summer Green House (SGH) - bed 4 north section\"],\n [{\n            'v': 181,\n            'f': \"181\",\n        },\n\"2021-W39 Salanova SGH04-N\",\n{\n            'v': NaN,\n            'f': \"NaN\",\n        },\n\"Length (m): ; Nr of plants: \",\n{\n            'v': NaN,\n            'f': \"NaN\",\n        },\n{\n            'v': NaN,\n            'f': \"NaN\",\n        },\n\"Salanova\",\n\"AUTUMN\",\n\"Summer Green House (SGH) - bed 4 north section\"],\n [{\n            'v': 182,\n            'f': \"182\",\n        },\n\"2021-W19 Swiss chard SGH01-S\",\n{\n            'v': NaN,\n            'f': \"NaN\",\n        },\n\"Length (m): ; Nr of plants: \",\n{\n            'v': NaN,\n            'f': \"NaN\",\n        },\n{\n            'v': NaN,\n            'f': \"NaN\",\n        },\n\"Swiss chard\",\n\"SPRING\",\n\"Summer Green House (SGH) - bed 1 south section\"],\n [{\n            'v': 183,\n            'f': \"183\",\n        },\n\"2021-W19 Swiss chard SGH02-S\",\n{\n            'v': NaN,\n            'f': \"NaN\",\n        },\n\"Length (m): ; Nr of plants: \",\n{\n            'v': NaN,\n            'f': \"NaN\",\n        },\n{\n            'v': NaN,\n            'f': \"NaN\",\n        },\n\"Swiss chard\",\n\"SPRING\",\n\"Summer Green House (SGH) - bed 2 south section\"],\n [{\n            'v': 184,\n            'f': \"184\",\n        },\n\"2021-W10 Chives SGH03-S\",\n{\n            'v': NaN,\n            'f': \"NaN\",\n        },\n\"Length (m): ; Nr of plants: \",\n{\n            'v': NaN,\n            'f': \"NaN\",\n        },\n{\n            'v': NaN,\n            'f': \"NaN\",\n        },\n\"Chives\",\n\"WINTER\",\n\"Summer Green House (SGH) - bed 3 south section\"],\n [{\n            'v': 185,\n            'f': \"185\",\n        },\n\"2021-W34 Radishes SGH03-S\",\n{\n            'v': NaN,\n            'f': \"NaN\",\n        },\n\"Length (m): ; Nr of plants: \",\n{\n            'v': NaN,\n            'f': \"NaN\",\n        },\n{\n            'v': NaN,\n            'f': \"NaN\",\n        },\n\"Radishes\",\n\"SUMMER\",\n\"Summer Green House (SGH) - bed 3 south section\"],\n [{\n            'v': 186,\n            'f': \"186\",\n        },\n\"2021-W45 Parsley SGH03-S\",\n{\n            'v': NaN,\n            'f': \"NaN\",\n        },\n\"Length (m): ; Nr of plants: \",\n{\n            'v': NaN,\n            'f': \"NaN\",\n        },\n{\n            'v': NaN,\n            'f': \"NaN\",\n        },\n\"Parsley\",\n\"AUTUMN\",\n\"Summer Green House (SGH) - bed 3 south section\"],\n [{\n            'v': 187,\n            'f': \"187\",\n        },\n\"2021-W34 Lettuce SGH04-S\",\n{\n            'v': NaN,\n            'f': \"NaN\",\n        },\n\"Length (m): ; Nr of plants: \",\n{\n            'v': NaN,\n            'f': \"NaN\",\n        },\n{\n            'v': NaN,\n            'f': \"NaN\",\n        },\n\"Lettuce\",\n\"SUMMER\",\n\"Summer Green House (SGH) - bed 4 south section\"],\n [{\n            'v': 188,\n            'f': \"188\",\n        },\n\"2021-W34 Tomato varied WGH01\",\n{\n            'v': NaN,\n            'f': \"NaN\",\n        },\n\"Length (m): ; Nr of plants: \",\n{\n            'v': NaN,\n            'f': \"NaN\",\n        },\n{\n            'v': NaN,\n            'f': \"NaN\",\n        },\n\"Tomato varied\",\n\"SUMMER\",\n\"Winter Green House - bed 1\"],\n [{\n            'v': 189,\n            'f': \"189\",\n        },\n\"2021-W34 Tomato roma WGH02\",\n{\n            'v': NaN,\n            'f': \"NaN\",\n        },\n\"Length (m): ; Nr of plants: \",\n{\n            'v': NaN,\n            'f': \"NaN\",\n        },\n{\n            'v': NaN,\n            'f': \"NaN\",\n        },\n\"Tomato roma\",\n\"SUMMER\",\n\"Winter Green House - bed 2\"],\n [{\n            'v': 190,\n            'f': \"190\",\n        },\n\"2021-W35 Peppers WGH02\",\n{\n            'v': NaN,\n            'f': \"NaN\",\n        },\n\"Length (m): ; Nr of plants: \",\n{\n            'v': NaN,\n            'f': \"NaN\",\n        },\n{\n            'v': NaN,\n            'f': \"NaN\",\n        },\n\"Peppers\",\n\"SUMMER\",\n\"Winter Green House - bed 2\"],\n [{\n            'v': 191,\n            'f': \"191\",\n        },\n\"2021-W24 Mizuna green WGH03\",\n{\n            'v': NaN,\n            'f': \"NaN\",\n        },\n\"Length (m): ; Nr of plants: \",\n{\n            'v': NaN,\n            'f': \"NaN\",\n        },\n{\n            'v': NaN,\n            'f': \"NaN\",\n        },\n\"Mizuna green\",\n\"SUMMER\",\n\"Winter Green House - bed 3\"],\n [{\n            'v': 192,\n            'f': \"192\",\n        },\n\"2021-W24 Mizuna purple WGH03\",\n{\n            'v': NaN,\n            'f': \"NaN\",\n        },\n\"Length (m): ; Nr of plants: \",\n{\n            'v': NaN,\n            'f': \"NaN\",\n        },\n{\n            'v': NaN,\n            'f': \"NaN\",\n        },\n\"Mizuna purple\",\n\"SUMMER\",\n\"Winter Green House - bed 3\"],\n [{\n            'v': 193,\n            'f': \"193\",\n        },\n\"2021-W24 Rucula WGH03\",\n{\n            'v': NaN,\n            'f': \"NaN\",\n        },\n\"Length (m): ; Nr of plants: \",\n{\n            'v': NaN,\n            'f': \"NaN\",\n        },\n{\n            'v': NaN,\n            'f': \"NaN\",\n        },\n\"Rucula\",\n\"SUMMER\",\n\"Winter Green House - bed 3\"],\n [{\n            'v': 194,\n            'f': \"194\",\n        },\n\"2021-W25 Parsley WGH03\",\n{\n            'v': NaN,\n            'f': \"NaN\",\n        },\n\"Length (m): ; Nr of plants: \",\n{\n            'v': NaN,\n            'f': \"NaN\",\n        },\n{\n            'v': NaN,\n            'f': \"NaN\",\n        },\n\"Parsley\",\n\"SUMMER\",\n\"Winter Green House - bed 3\"],\n [{\n            'v': 195,\n            'f': \"195\",\n        },\n\"2021-W41 Zucchini WGH03\",\n{\n            'v': NaN,\n            'f': \"NaN\",\n        },\n\"Length (m): ; Nr of plants: \",\n{\n            'v': NaN,\n            'f': \"NaN\",\n        },\n{\n            'v': NaN,\n            'f': \"NaN\",\n        },\n\"Zucchini\",\n\"AUTUMN\",\n\"Winter Green House - bed 3\"],\n [{\n            'v': 196,\n            'f': \"196\",\n        },\n\"2021-W39 Radishes WGH07\",\n{\n            'v': NaN,\n            'f': \"NaN\",\n        },\n\"Length (m): ; Nr of plants: \",\n{\n            'v': NaN,\n            'f': \"NaN\",\n        },\n{\n            'v': NaN,\n            'f': \"NaN\",\n        },\n\"Radishes\",\n\"AUTUMN\",\n\"Winter Green House - bed 7\"],\n [{\n            'v': 197,\n            'f': \"197\",\n        },\n\"2021-W47 Carrot WGH07\",\n{\n            'v': NaN,\n            'f': \"NaN\",\n        },\n\"Length (m): ; Nr of plants: \",\n{\n            'v': NaN,\n            'f': \"NaN\",\n        },\n{\n            'v': NaN,\n            'f': \"NaN\",\n        },\n\"Carrot\",\n\"AUTUMN\",\n\"Winter Green House - bed 7\"],\n [{\n            'v': 198,\n            'f': \"198\",\n        },\n\"2021-W34 Pak choi WGH04\",\n{\n            'v': NaN,\n            'f': \"NaN\",\n        },\n\"Length (m): ; Nr of plants: \",\n{\n            'v': NaN,\n            'f': \"NaN\",\n        },\n{\n            'v': NaN,\n            'f': \"NaN\",\n        },\n\"Pak choi\",\n\"SUMMER\",\n\"Winter Green House - bed 4\"],\n [{\n            'v': 199,\n            'f': \"199\",\n        },\n\"2021-W34 Rucula WGH04\",\n{\n            'v': NaN,\n            'f': \"NaN\",\n        },\n\"Length (m): ; Nr of plants: \",\n{\n            'v': NaN,\n            'f': \"NaN\",\n        },\n{\n            'v': NaN,\n            'f': \"NaN\",\n        },\n\"Rucula\",\n\"SUMMER\",\n\"Winter Green House - bed 4\"],\n [{\n            'v': 200,\n            'f': \"200\",\n        },\n\"2021-W36 Pack choi WGH04\",\n{\n            'v': NaN,\n            'f': \"NaN\",\n        },\n\"Length (m): ; Nr of plants: \",\n{\n            'v': NaN,\n            'f': \"NaN\",\n        },\n{\n            'v': NaN,\n            'f': \"NaN\",\n        },\n\"Lettuce\",\n\"SUMMER\",\n\"Winter Green House - bed 4\"],\n [{\n            'v': 201,\n            'f': \"201\",\n        },\n\"2021-W36 Lettuce WGH04\",\n{\n            'v': NaN,\n            'f': \"NaN\",\n        },\n\"Length (m): ; Nr of plants: \",\n{\n            'v': NaN,\n            'f': \"NaN\",\n        },\n{\n            'v': NaN,\n            'f': \"NaN\",\n        },\n\"Lettuce\",\n\"SUMMER\",\n\"Winter Green House - bed 4\"],\n [{\n            'v': 202,\n            'f': \"202\",\n        },\n\"2021-W41 Zucchini WGH04\",\n{\n            'v': NaN,\n            'f': \"NaN\",\n        },\n\"Length (m): ; Nr of plants: \",\n{\n            'v': NaN,\n            'f': \"NaN\",\n        },\n{\n            'v': NaN,\n            'f': \"NaN\",\n        },\n\"Zucchini\",\n\"AUTUMN\",\n\"Winter Green House - bed 4\"],\n [{\n            'v': 203,\n            'f': \"203\",\n        },\n\"2021-W41 Cucumber WGH04\",\n{\n            'v': NaN,\n            'f': \"NaN\",\n        },\n\"Length (m): ; Nr of plants: \",\n{\n            'v': NaN,\n            'f': \"NaN\",\n        },\n{\n            'v': NaN,\n            'f': \"NaN\",\n        },\n\"Cucumber\",\n\"AUTUMN\",\n\"Winter Green House - bed 4\"],\n [{\n            'v': 204,\n            'f': \"204\",\n        },\n\"2021-W10 Zucchini WGH05\",\n{\n            'v': NaN,\n            'f': \"NaN\",\n        },\n\"Length (m): ; Nr of plants: \",\n{\n            'v': NaN,\n            'f': \"NaN\",\n        },\n{\n            'v': NaN,\n            'f': \"NaN\",\n        },\n\"Zucchini\",\n\"WINTER\",\n\"Winter Green House - bed 5\"],\n [{\n            'v': 205,\n            'f': \"205\",\n        },\n\"2021-W44 Pak choi WGH05\",\n{\n            'v': NaN,\n            'f': \"NaN\",\n        },\n\"Length (m): ; Nr of plants: \",\n{\n            'v': NaN,\n            'f': \"NaN\",\n        },\n{\n            'v': NaN,\n            'f': \"NaN\",\n        },\n\"Pak choi\",\n\"AUTUMN\",\n\"Winter Green House - bed 5\"],\n [{\n            'v': 206,\n            'f': \"206\",\n        },\n\"2021-W52 Carrot WGH05\",\n{\n            'v': NaN,\n            'f': \"NaN\",\n        },\n\"Length (m): ; Nr of plants: \",\n{\n            'v': NaN,\n            'f': \"NaN\",\n        },\n{\n            'v': NaN,\n            'f': \"NaN\",\n        },\n\"Carrot\",\n\"WINTER\",\n\"Winter Green House - bed 5\"],\n [{\n            'v': 207,\n            'f': \"207\",\n        },\n\"2021-W14 Tomato varied WGH06\",\n{\n            'v': NaN,\n            'f': \"NaN\",\n        },\n\"Length (m): ; Nr of plants: \",\n{\n            'v': NaN,\n            'f': \"NaN\",\n        },\n{\n            'v': NaN,\n            'f': \"NaN\",\n        },\n\"Tomato varied\",\n\"SPRING\",\n\"Winter Green House - bed 6\"],\n [{\n            'v': 208,\n            'f': \"208\",\n        },\n\"2021-W14 Tomato small WGH06\",\n{\n            'v': NaN,\n            'f': \"NaN\",\n        },\n\"Length (m): ; Nr of plants: \",\n{\n            'v': NaN,\n            'f': \"NaN\",\n        },\n{\n            'v': NaN,\n            'f': \"NaN\",\n        },\n\"Tomato small\",\n\"SPRING\",\n\"Winter Green House - bed 6\"],\n [{\n            'v': 209,\n            'f': \"209\",\n        },\n\"2021-W14 Tomato roma WGH06\",\n{\n            'v': NaN,\n            'f': \"NaN\",\n        },\n\"Length (m): ; Nr of plants: \",\n{\n            'v': NaN,\n            'f': \"NaN\",\n        },\n{\n            'v': NaN,\n            'f': \"NaN\",\n        },\n\"Tomato roma\",\n\"SPRING\",\n\"Winter Green House - bed 6\"],\n [{\n            'v': 210,\n            'f': \"210\",\n        },\n\"2021-W47 Salanova WGH06\",\n{\n            'v': NaN,\n            'f': \"NaN\",\n        },\n\"Length (m): ; Nr of plants: \",\n{\n            'v': NaN,\n            'f': \"NaN\",\n        },\n{\n            'v': NaN,\n            'f': \"NaN\",\n        },\n\"Salanova\",\n\"AUTUMN\",\n\"Winter Green House - bed 6\"],\n [{\n            'v': 211,\n            'f': \"211\",\n        },\n\"2021-W47 Lettuce WGH06\",\n{\n            'v': NaN,\n            'f': \"NaN\",\n        },\n\"Length (m): ; Nr of plants: \",\n{\n            'v': NaN,\n            'f': \"NaN\",\n        },\n{\n            'v': NaN,\n            'f': \"NaN\",\n        },\n\"Lettuce\",\n\"AUTUMN\",\n\"Winter Green House - bed 6\"],\n [{\n            'v': 212,\n            'f': \"212\",\n        },\n\"2021-W47 Carrot WGH08\",\n{\n            'v': NaN,\n            'f': \"NaN\",\n        },\n\"Length (m): ; Nr of plants: \",\n{\n            'v': NaN,\n            'f': \"NaN\",\n        },\n{\n            'v': NaN,\n            'f': \"NaN\",\n        },\n\"Carrot\",\n\"AUTUMN\",\n\"Winter Green House - bed 8\"]],\n        columns: [[\"number\", \"index\"], [\"string\", \"Name\"], [\"number\", \"Archived\"], [\"string\", \"Description\"], [\"number\", \"Parent IDs\"], [\"number\", \"Parent names\"], [\"string\", \"Crop/variety\"], [\"string\", \"Season\"], [\"string\", \"Area/Location\"]],\n        columnOptions: [{\"width\": \"1px\", \"className\": \"index_column\"}],\n        rowsPerPage: 25,\n        helpUrl: \"https://colab.research.google.com/notebooks/data_table.ipynb\",\n        suppressOutputScrolling: true,\n        minimumWidth: undefined,\n      });\n    "
          },
          "metadata": {},
          "execution_count": 4
        }
      ]
    },
    {
      "cell_type": "markdown",
      "source": [
        "## Exploring the data frame\n",
        "NB:  This \"Interactive Data Table\" extension brings useful functionality- see how you can Sort on any column, set any combination of Filters, adjust Pagination, etc. -but such functions may not accompany this .ipynb file to its deployment in other tools in the Jupyter ecosystem."
      ],
      "metadata": {
        "id": "77BZ1TuJu0Wt"
      }
    },
    {
      "cell_type": "markdown",
      "source": [
        "## Visualizing the data\n",
        "\n",
        "Given the range of libraries available in this tool, virtually any sort of visualisation can be implemented, ranging from a simpe Pie Chart (below) to Dynamic & Interactive visualisation demonstrated at end of this document."
      ],
      "metadata": {
        "id": "-BrSCvFuDPHj"
      }
    },
    {
      "cell_type": "code",
      "source": [
        "# start with a simple pie-chart of crop distribution by season, based on this pie-chart example\n",
        "import matplotlib.pyplot as plt\n",
        "\n",
        "labels = 'Spring', 'Summer', 'Autumn'\n",
        "sections = [56, 66, 24]\n",
        "colors = ['c', 'g', 'y']\n",
        "\n",
        "plt.pie(sections, labels=labels, colors=colors,\n",
        "        startangle=90,\n",
        "        explode = (0, 0.1, 0),\n",
        "        autopct = '%1.2f%%')\n",
        "\n",
        "plt.axis('equal') # Try commenting this out.\n",
        "plt.title('Example: Crop Distribution by Season')\n",
        "plt.show()"
      ],
      "metadata": {
        "colab": {
          "base_uri": "https://localhost:8080/",
          "height": 264
        },
        "id": "nzT0cNNU5rh0",
        "outputId": "39d10a14-f9f0-448d-ed60-2f972c964156"
      },
      "execution_count": null,
      "outputs": [
        {
          "output_type": "display_data",
          "data": {
            "text/plain": [
              "<Figure size 432x288 with 1 Axes>"
            ],
            "image/png": "[encoded data removed]"
          },
          "metadata": {}
        }
      ]
    },
    {
      "cell_type": "markdown",
      "source": [
        "# Test the API for essential interactions\n",
        "Essential operations to test, in order:\n",
        "1. Obtain credentials to interact with API\n",
        "1. GET whatever data we need, before we proceed to\n",
        "1. PUT updates to existing records, or POST new data."
      ],
      "metadata": {
        "id": "Pm0hL8YqRi-O"
      }
    },
    {
      "cell_type": "code",
      "source": [
        "!pip install farmOS==1.0.0b3"
      ],
      "metadata": {
        "colab": {
          "base_uri": "https://localhost:8080/"
        },
        "id": "ibEYYs5UspCO",
        "outputId": "1339350a-4f7c-4a13-e680-07e5050120fb"
      },
      "execution_count": null,
      "outputs": [
        {
          "output_type": "stream",
          "name": "stdout",
          "text": [
            "Collecting farmOS==1.0.0b3\n",
            "  Downloading farmOS-1.0.0b3-py3-none-any.whl (26 kB)\n",
            "Collecting pydantic>=1.7.3\n",
            "  Downloading pydantic-1.9.0-cp37-cp37m-manylinux_2_17_x86_64.manylinux2014_x86_64.whl (10.9 MB)\n",
            "\u001b[K     |████████████████████████████████| 10.9 MB 4.6 MB/s \n",
            "\u001b[?25hRequirement already satisfied: requests-oauthlib in /usr/local/lib/python3.7/dist-packages (from farmOS==1.0.0b3) (1.3.1)\n",
            "Requirement already satisfied: typing-extensions>=3.7.4.3 in /usr/local/lib/python3.7/dist-packages (from pydantic>=1.7.3->farmOS==1.0.0b3) (3.10.0.2)\n",
            "Requirement already satisfied: oauthlib>=3.0.0 in /usr/local/lib/python3.7/dist-packages (from requests-oauthlib->farmOS==1.0.0b3) (3.2.0)\n",
            "Requirement already satisfied: requests>=2.0.0 in /usr/local/lib/python3.7/dist-packages (from requests-oauthlib->farmOS==1.0.0b3) (2.23.0)\n",
            "Requirement already satisfied: urllib3!=1.25.0,!=1.25.1,<1.26,>=1.21.1 in /usr/local/lib/python3.7/dist-packages (from requests>=2.0.0->requests-oauthlib->farmOS==1.0.0b3) (1.24.3)\n",
            "Requirement already satisfied: certifi>=2017.4.17 in /usr/local/lib/python3.7/dist-packages (from requests>=2.0.0->requests-oauthlib->farmOS==1.0.0b3) (2021.10.8)\n",
            "Requirement already satisfied: idna<3,>=2.5 in /usr/local/lib/python3.7/dist-packages (from requests>=2.0.0->requests-oauthlib->farmOS==1.0.0b3) (2.10)\n",
            "Requirement already satisfied: chardet<4,>=3.0.2 in /usr/local/lib/python3.7/dist-packages (from requests>=2.0.0->requests-oauthlib->farmOS==1.0.0b3) (3.0.4)\n",
            "Installing collected packages: pydantic, farmOS\n",
            "Successfully installed farmOS-1.0.0b3 pydantic-1.9.0\n"
          ]
        }
      ]
    },
    {
      "cell_type": "markdown",
      "source": [
        "## API Access: grant of credentials\n",
        "\n",
        "As a precondition of access, it is necessary to get an OAuth token from the server; this token must be periodically refreshed according to some present parameter....\n",
        "\n",
        "Moreover: to protect integrity of the database, it is important that credentials be sent across the wire in secure fasion..."
      ],
      "metadata": {
        "id": "dbuq3ZidG4SN"
      }
    },
    {
      "cell_type": "code",
      "source": [
        "from farmOS import farmOS #load the library\n",
        "hostname=\"https://vdl.farmos.dev\"\n",
        "farm_client = farmOS(hostname=hostname, client_id=\"farm\", scope=\"farm_manager\") #login\n",
        "current_token = farm_client.authorize(username=\"apiTest\", password=\"api+35+erAPI\") #get OAuth token\n",
        "farm_client.info() #poll API for endpoints"
      ],
      "metadata": {
        "colab": {
          "base_uri": "https://localhost:8080/"
        },
        "id": "AYC2kni3Ehja",
        "outputId": "1571d038-2dc5-4882-f074-8c656e2d0440"
      },
      "execution_count": null,
      "outputs": [
        {
          "output_type": "execute_result",
          "data": {
            "text/plain": [
              "{'data': [],\n",
              " 'jsonapi': {'meta': {'links': {'self': {'href': 'http://jsonapi.org/format/1.0/'}}},\n",
              "  'version': '1.0'},\n",
              " 'links': {'asset--animal': {'href': 'https://vdl.farmos.dev/api/asset/animal'},\n",
              "  'asset--equipment': {'href': 'https://vdl.farmos.dev/api/asset/equipment'},\n",
              "  'asset--group': {'href': 'https://vdl.farmos.dev/api/asset/group'},\n",
              "  'asset--land': {'href': 'https://vdl.farmos.dev/api/asset/land'},\n",
              "  'asset--plant': {'href': 'https://vdl.farmos.dev/api/asset/plant'},\n",
              "  'asset--sensor': {'href': 'https://vdl.farmos.dev/api/asset/sensor'},\n",
              "  'asset--structure': {'href': 'https://vdl.farmos.dev/api/asset/structure'},\n",
              "  'asset_type--asset_type': {'href': 'https://vdl.farmos.dev/api/asset_type/asset_type'},\n",
              "  'data_stream--basic': {'href': 'https://vdl.farmos.dev/api/data_stream/basic'},\n",
              "  'data_stream_type--data_stream_type': {'href': 'https://vdl.farmos.dev/api/data_stream_type/data_stream_type'},\n",
              "  'entity_browser--entity_browser': {'href': 'https://vdl.farmos.dev/api/entity_browser/entity_browser'},\n",
              "  'file--file': {'href': 'https://vdl.farmos.dev/api/file/file'},\n",
              "  'flag--flag': {'href': 'https://vdl.farmos.dev/api/flag/flag'},\n",
              "  'land_type--land_type': {'href': 'https://vdl.farmos.dev/api/land_type/land_type'},\n",
              "  'layer_style--layer_style': {'href': 'https://vdl.farmos.dev/api/layer_style/layer_style'},\n",
              "  'log--activity': {'href': 'https://vdl.farmos.dev/api/log/activity'},\n",
              "  'log--birth': {'href': 'https://vdl.farmos.dev/api/log/birth'},\n",
              "  'log--harvest': {'href': 'https://vdl.farmos.dev/api/log/harvest'},\n",
              "  'log--input': {'href': 'https://vdl.farmos.dev/api/log/input'},\n",
              "  'log--maintenance': {'href': 'https://vdl.farmos.dev/api/log/maintenance'},\n",
              "  'log--observation': {'href': 'https://vdl.farmos.dev/api/log/observation'},\n",
              "  'log--seeding': {'href': 'https://vdl.farmos.dev/api/log/seeding'},\n",
              "  'log--transplanting': {'href': 'https://vdl.farmos.dev/api/log/transplanting'},\n",
              "  'log_type--log_type': {'href': 'https://vdl.farmos.dev/api/log_type/log_type'},\n",
              "  'map_behavior--map_behavior': {'href': 'https://vdl.farmos.dev/api/map_behavior/map_behavior'},\n",
              "  'map_type--map_type': {'href': 'https://vdl.farmos.dev/api/map_type/map_type'},\n",
              "  'quantity--material': {'href': 'https://vdl.farmos.dev/api/quantity/material'},\n",
              "  'quantity--standard': {'href': 'https://vdl.farmos.dev/api/quantity/standard'},\n",
              "  'quantity_type--quantity_type': {'href': 'https://vdl.farmos.dev/api/quantity_type/quantity_type'},\n",
              "  'self': {'href': 'https://vdl.farmos.dev/api'},\n",
              "  'structure_type--structure_type': {'href': 'https://vdl.farmos.dev/api/structure_type/structure_type'},\n",
              "  'tag_type--tag_type': {'href': 'https://vdl.farmos.dev/api/tag_type/tag_type'},\n",
              "  'taxonomy_term--animal_type': {'href': 'https://vdl.farmos.dev/api/taxonomy_term/animal_type'},\n",
              "  'taxonomy_term--crop_family': {'href': 'https://vdl.farmos.dev/api/taxonomy_term/crop_family'},\n",
              "  'taxonomy_term--log_category': {'href': 'https://vdl.farmos.dev/api/taxonomy_term/log_category'},\n",
              "  'taxonomy_term--material_type': {'href': 'https://vdl.farmos.dev/api/taxonomy_term/material_type'},\n",
              "  'taxonomy_term--plant_type': {'href': 'https://vdl.farmos.dev/api/taxonomy_term/plant_type'},\n",
              "  'taxonomy_term--season': {'href': 'https://vdl.farmos.dev/api/taxonomy_term/season'},\n",
              "  'taxonomy_term--unit': {'href': 'https://vdl.farmos.dev/api/taxonomy_term/unit'},\n",
              "  'taxonomy_vocabulary--taxonomy_vocabulary': {'href': 'https://vdl.farmos.dev/api/taxonomy_vocabulary/taxonomy_vocabulary'},\n",
              "  'user--user': {'href': 'https://vdl.farmos.dev/api/user/user'},\n",
              "  'user_role--user_role': {'href': 'https://vdl.farmos.dev/api/user_role/user_role'}},\n",
              " 'meta': {'farm': {'name': 'Quinta Vale da Lama',\n",
              "   'system_of_measurement': 'metric',\n",
              "   'url': 'https://vdl.farmos.dev',\n",
              "   'version': '2.0.0-beta2'},\n",
              "  'links': {'me': {'href': 'https://vdl.farmos.dev/api/user/user/4253bce6-50e0-4099-8283-8dac4943587c',\n",
              "    'meta': {'id': '4253bce6-50e0-4099-8283-8dac4943587c'}}}}}"
            ]
          },
          "metadata": {},
          "execution_count": 7
        }
      ]
    },
    {
      "cell_type": "markdown",
      "source": [
        "## Test GET functionality"
      ],
      "metadata": {
        "id": "Q1Qp58tOt24C"
      }
    },
    {
      "cell_type": "code",
      "source": [
        "# logs = list(farm_client.log.iterate('harvest'))\n",
        "harvest = farm_client.log.get('harvest')\n",
        "harvest\n",
        "len(harvest['data'])"
      ],
      "metadata": {
        "colab": {
          "base_uri": "https://localhost:8080/"
        },
        "id": "zXTALs-2t-1R",
        "outputId": "6aacfa6d-858f-43f3-f035-ea47f52e1238"
      },
      "execution_count": null,
      "outputs": [
        {
          "output_type": "execute_result",
          "data": {
            "text/plain": [
              "5"
            ]
          },
          "metadata": {},
          "execution_count": 8
        }
      ]
    },
    {
      "cell_type": "code",
      "source": [
        "# crops = list(farm_client.asset.iterate('plant'))\n",
        "crops = farm_client.asset.get('plant')\n",
        "crops\n",
        "len(crops['data'])"
      ],
      "metadata": {
        "colab": {
          "base_uri": "https://localhost:8080/"
        },
        "id": "jkluE2aPulnZ",
        "outputId": "e209c397-8bea-4b9b-8e9d-68d69bf8b3d8"
      },
      "execution_count": null,
      "outputs": [
        {
          "output_type": "execute_result",
          "data": {
            "text/plain": [
              "50"
            ]
          },
          "metadata": {},
          "execution_count": 9
        }
      ]
    },
    {
      "cell_type": "code",
      "source": [
        "# observations = list(farm_client.log.iterate('observation'))\n",
        "observations = farm_client.log.get('observation')\n",
        "observations\n",
        "len(observations['data'])"
      ],
      "metadata": {
        "colab": {
          "base_uri": "https://localhost:8080/"
        },
        "id": "gKlR3DYT-h9T",
        "outputId": "366022eb-163e-48e6-9bbd-1db85ae9294b"
      },
      "execution_count": null,
      "outputs": [
        {
          "output_type": "execute_result",
          "data": {
            "text/plain": [
              "50"
            ]
          },
          "metadata": {},
          "execution_count": 10
        }
      ]
    },
    {
      "cell_type": "code",
      "source": [
        "# land = list(farm_client.asset.iterate('land'))\n",
        "land = farm_client.asset.get('land')\n",
        "land\n",
        "len(land['data'])"
      ],
      "metadata": {
        "colab": {
          "base_uri": "https://localhost:8080/"
        },
        "outputId": "e09d0de2-161c-401a-a1d6-a48333527dec",
        "id": "teeE4AkKJZJ8"
      },
      "execution_count": null,
      "outputs": [
        {
          "output_type": "execute_result",
          "data": {
            "text/plain": [
              "50"
            ]
          },
          "metadata": {},
          "execution_count": 12
        }
      ]
    },
    {
      "cell_type": "code",
      "source": [
        "harvest"
      ],
      "metadata": {
        "id": "GB7soece7IzE"
      },
      "execution_count": null,
      "outputs": []
    },
    {
      "cell_type": "markdown",
      "source": [
        "## Test PUT functionality\n",
        "\n",
        "This is the tricky bit: to be able to upload CSV files such that existing records will be updated (i.e. a PUT call) and only new records will be POSTed, such that no duplicate records are created. \n",
        "\n",
        "Moreover: w/r/t Harvest logs need always to refer to the Plant asset on which they are acting- and not just once; most Plant assets will support many Harvest events- so that the related files can be pulled in a single query."
      ],
      "metadata": {
        "id": "SXYU22P2wTfy"
      }
    },
    {
      "cell_type": "code",
      "source": [
        "# Create observation log\n",
        "observation_log = {\n",
        "    \"attributes\": {\n",
        "        \"name\": \"2022-W07 WOMpost Chipper in NSDZ\",\n",
        "        \"status\": \"done\",\n",
        "        \"flag\" : \"priority\",\n",
        "        \"notes\": \"The chipper came this week; all landscaper cuttings in North Slope Deposition Zone fully processed.\"       \n",
        "    } \n",
        "}\n",
        "# log = farm_client.log.send('observation', observation_log). COMMENTED OUT, BECAUSE- ONCE SENT -IT WOULD CREATE DUPLICATE RECORDS\n",
        "\n",
        "# Filter to 'priority' logs.\n",
        "filters = farm_client.filter('flag', 'priority')\n",
        "response = farm_client.log.get('observation', params=filters)\n",
        "response"
      ],
      "metadata": {
        "colab": {
          "base_uri": "https://localhost:8080/"
        },
        "id": "dmzO2p-B86l3",
        "outputId": "9b7b5b1f-e32d-437d-92e5-9e8b7c4bec1a"
      },
      "execution_count": null,
      "outputs": [
        {
          "output_type": "execute_result",
          "data": {
            "text/plain": [
              "{'data': [{'attributes': {'changed': '2022-02-18T18:04:47+00:00',\n",
              "    'created': '2022-02-18T18:04:47+00:00',\n",
              "    'data': None,\n",
              "    'default_langcode': True,\n",
              "    'drupal_internal__id': 749,\n",
              "    'drupal_internal__revision_id': 980,\n",
              "    'flag': ['priority'],\n",
              "    'geometry': None,\n",
              "    'is_group_assignment': None,\n",
              "    'is_movement': False,\n",
              "    'langcode': 'en',\n",
              "    'name': '2022-W07 WOMpost Chipper in NSDZ',\n",
              "    'notes': {'format': None,\n",
              "     'processed': '<p>The chipper came this week; all landscaper cuttings in North Slope Deposition Zone fully processed.</p>\\n',\n",
              "     'value': 'The chipper came this week; all landscaper cuttings in North Slope Deposition Zone fully processed.'},\n",
              "    'revision_created': '2022-02-18T18:04:47+00:00',\n",
              "    'revision_log_message': None,\n",
              "    'revision_translation_affected': True,\n",
              "    'status': 'done',\n",
              "    'timestamp': '2022-02-18T18:04:47+00:00'},\n",
              "   'id': 'd9b16c80-981e-490f-b571-c86555251bff',\n",
              "   'links': {'self': {'href': 'https://vdl.farmos.dev/api/log/observation/d9b16c80-981e-490f-b571-c86555251bff'}},\n",
              "   'relationships': {'asset': {'data': [],\n",
              "     'links': {'related': {'href': 'https://vdl.farmos.dev/api/log/observation/d9b16c80-981e-490f-b571-c86555251bff/asset'},\n",
              "      'self': {'href': 'https://vdl.farmos.dev/api/log/observation/d9b16c80-981e-490f-b571-c86555251bff/relationships/asset'}}},\n",
              "    'category': {'data': [],\n",
              "     'links': {'related': {'href': 'https://vdl.farmos.dev/api/log/observation/d9b16c80-981e-490f-b571-c86555251bff/category'},\n",
              "      'self': {'href': 'https://vdl.farmos.dev/api/log/observation/d9b16c80-981e-490f-b571-c86555251bff/relationships/category'}}},\n",
              "    'equipment': {'data': [],\n",
              "     'links': {'related': {'href': 'https://vdl.farmos.dev/api/log/observation/d9b16c80-981e-490f-b571-c86555251bff/equipment'},\n",
              "      'self': {'href': 'https://vdl.farmos.dev/api/log/observation/d9b16c80-981e-490f-b571-c86555251bff/relationships/equipment'}}},\n",
              "    'file': {'data': [],\n",
              "     'links': {'related': {'href': 'https://vdl.farmos.dev/api/log/observation/d9b16c80-981e-490f-b571-c86555251bff/file'},\n",
              "      'self': {'href': 'https://vdl.farmos.dev/api/log/observation/d9b16c80-981e-490f-b571-c86555251bff/relationships/file'}}},\n",
              "    'group': {'data': [],\n",
              "     'links': {'related': {'href': 'https://vdl.farmos.dev/api/log/observation/d9b16c80-981e-490f-b571-c86555251bff/group'},\n",
              "      'self': {'href': 'https://vdl.farmos.dev/api/log/observation/d9b16c80-981e-490f-b571-c86555251bff/relationships/group'}}},\n",
              "    'image': {'data': [],\n",
              "     'links': {'related': {'href': 'https://vdl.farmos.dev/api/log/observation/d9b16c80-981e-490f-b571-c86555251bff/image'},\n",
              "      'self': {'href': 'https://vdl.farmos.dev/api/log/observation/d9b16c80-981e-490f-b571-c86555251bff/relationships/image'}}},\n",
              "    'location': {'data': [],\n",
              "     'links': {'related': {'href': 'https://vdl.farmos.dev/api/log/observation/d9b16c80-981e-490f-b571-c86555251bff/location'},\n",
              "      'self': {'href': 'https://vdl.farmos.dev/api/log/observation/d9b16c80-981e-490f-b571-c86555251bff/relationships/location'}}},\n",
              "    'log_type': {'data': {'id': '05c64bc3-b1ab-4384-8991-4e7c5966aa4c',\n",
              "      'meta': {'drupal_internal__target_id': 'observation'},\n",
              "      'type': 'log_type--log_type'},\n",
              "     'links': {'related': {'href': 'https://vdl.farmos.dev/api/log/observation/d9b16c80-981e-490f-b571-c86555251bff/log_type'},\n",
              "      'self': {'href': 'https://vdl.farmos.dev/api/log/observation/d9b16c80-981e-490f-b571-c86555251bff/relationships/log_type'}}},\n",
              "    'owner': {'data': [{'id': '4253bce6-50e0-4099-8283-8dac4943587c',\n",
              "       'meta': {'drupal_internal__target_id': 48},\n",
              "       'type': 'user--user'}],\n",
              "     'links': {'related': {'href': 'https://vdl.farmos.dev/api/log/observation/d9b16c80-981e-490f-b571-c86555251bff/owner'},\n",
              "      'self': {'href': 'https://vdl.farmos.dev/api/log/observation/d9b16c80-981e-490f-b571-c86555251bff/relationships/owner'}}},\n",
              "    'quantity': {'data': [],\n",
              "     'links': {'related': {'href': 'https://vdl.farmos.dev/api/log/observation/d9b16c80-981e-490f-b571-c86555251bff/quantity'},\n",
              "      'self': {'href': 'https://vdl.farmos.dev/api/log/observation/d9b16c80-981e-490f-b571-c86555251bff/relationships/quantity'}}},\n",
              "    'revision_user': {'data': {'id': '4253bce6-50e0-4099-8283-8dac4943587c',\n",
              "      'meta': {'drupal_internal__target_id': 48},\n",
              "      'type': 'user--user'},\n",
              "     'links': {'related': {'href': 'https://vdl.farmos.dev/api/log/observation/d9b16c80-981e-490f-b571-c86555251bff/revision_user'},\n",
              "      'self': {'href': 'https://vdl.farmos.dev/api/log/observation/d9b16c80-981e-490f-b571-c86555251bff/relationships/revision_user'}}},\n",
              "    'uid': {'data': {'id': '4253bce6-50e0-4099-8283-8dac4943587c',\n",
              "      'meta': {'drupal_internal__target_id': 48},\n",
              "      'type': 'user--user'},\n",
              "     'links': {'related': {'href': 'https://vdl.farmos.dev/api/log/observation/d9b16c80-981e-490f-b571-c86555251bff/uid'},\n",
              "      'self': {'href': 'https://vdl.farmos.dev/api/log/observation/d9b16c80-981e-490f-b571-c86555251bff/relationships/uid'}}}},\n",
              "   'type': 'log--observation'}],\n",
              " 'jsonapi': {'meta': {'links': {'self': {'href': 'http://jsonapi.org/format/1.0/'}}},\n",
              "  'version': '1.0'},\n",
              " 'links': {'self': {'href': 'https://vdl.farmos.dev/api/log/observation?filter%5Bflag%5D=priority'}}}"
            ]
          },
          "metadata": {},
          "execution_count": 22
        }
      ]
    },
    {
      "cell_type": "markdown",
      "source": [
        "## Limitations & Questions\n",
        "\n",
        "As demonstrated via the \"Observation log\" code block just above, there are some limitations to be aware of, which gives rise to some questions:\n",
        "\n",
        "1. One can't simply change a parameter or add an attribute (as done with the \"priority\" flag in above) and thereby create an update to the so-named record; each SEND request creates a new record.\n",
        "1. It is not clear from the [\"Client Methods\" HowTo for this script](https://github.com/farmOS/farmOS.py/blob/1.x/docs/client_2x.md) how to upload a photo as part of an Observation log.\n",
        "1. ... \n",
        "\n"
      ],
      "metadata": {
        "id": "dUnWC1D_GUbV"
      }
    },
    {
      "cell_type": "markdown",
      "source": [
        "# Test the Interface for Usability\n",
        "To create a sustainable data workflow, it is important that farm staff be able to perform key functions with relative ease, including:\n",
        "1. Upload Plant asset CSV (an occasional operation)\n",
        "1. Upload Harvest log CSV (weekly operation)\n",
        "1. Access desired information about plantations and harvests\n",
        "\n",
        "There is yet to be a GUI interface deployed for API access to a farmOS instance, but this .ipynb Notebook is an exploratory step in that direction, and may be with some additional work rendered sufficient to the purpose.  "
      ],
      "metadata": {
        "id": "S28d_ebmCDlI"
      }
    },
    {
      "cell_type": "markdown",
      "source": [
        "## Upload & Download standard reports"
      ],
      "metadata": {
        "id": "ipY61jmNB_HY"
      }
    },
    {
      "cell_type": "markdown",
      "source": [
        "## Create a Custom Data Visualisation\n",
        "\n",
        "To illustrate this function, what follows is an interactive data visualization from the Gapminder Institute, exploring the connection between Life Span (y-axis) and Wealth (x-axis) per Country (bubble) and Continent (color), and how those relative positions have changed over the years from 1952-2007.  This visualisation runs in a dynamic player, which can be filtered by span of years and by continent, so you can easier explore values for each individual country.\n",
        "\n",
        "In context of an individual farm, a more relevant instantiation of this visualisation frame would be to see how production & consumption of crops (bubbles) and crop families (colors) rises and falls in volume across seasons of the year.  A visualisation TBD!\n",
        "\n"
      ],
      "metadata": {
        "id": "Ps6OZ6mRCJYa"
      }
    },
    {
      "cell_type": "code",
      "source": [
        "import plotly.express as px\n",
        "gapminder_df = px.data.gapminder()\n"
      ],
      "metadata": {
        "id": "w-5YOVAn7Vxm"
      },
      "execution_count": null,
      "outputs": []
    },
    {
      "cell_type": "code",
      "source": [
        "gapminder_df"
      ],
      "metadata": {
        "colab": {
          "base_uri": "https://localhost:8080/",
          "height": 424
        },
        "id": "bsLyJ7b1-Bvb",
        "outputId": "2d5a793f-a038-4f8c-e23f-2b5fcb2bdcb8"
      },
      "execution_count": null,
      "outputs": [
        {
          "output_type": "execute_result",
          "data": {
            "text/html": [
              "\n",
              "  <div id=\"df-7cdf88a6-a3d3-4ba5-b74a-e66da05e7d0d\">\n",
              "    <div class=\"colab-df-container\">\n",
              "      <div>\n",
              "<style scoped>\n",
              "    .dataframe tbody tr th:only-of-type {\n",
              "        vertical-align: middle;\n",
              "    }\n",
              "\n",
              "    .dataframe tbody tr th {\n",
              "        vertical-align: top;\n",
              "    }\n",
              "\n",
              "    .dataframe thead th {\n",
              "        text-align: right;\n",
              "    }\n",
              "</style>\n",
              "<table border=\"1\" class=\"dataframe\">\n",
              "  <thead>\n",
              "    <tr style=\"text-align: right;\">\n",
              "      <th></th>\n",
              "      <th>country</th>\n",
              "      <th>continent</th>\n",
              "      <th>year</th>\n",
              "      <th>lifeExp</th>\n",
              "      <th>pop</th>\n",
              "      <th>gdpPercap</th>\n",
              "      <th>iso_alpha</th>\n",
              "      <th>iso_num</th>\n",
              "    </tr>\n",
              "  </thead>\n",
              "  <tbody>\n",
              "    <tr>\n",
              "      <th>0</th>\n",
              "      <td>Afghanistan</td>\n",
              "      <td>Asia</td>\n",
              "      <td>1952</td>\n",
              "      <td>28.801</td>\n",
              "      <td>8425333</td>\n",
              "      <td>779.445314</td>\n",
              "      <td>AFG</td>\n",
              "      <td>4</td>\n",
              "    </tr>\n",
              "    <tr>\n",
              "      <th>1</th>\n",
              "      <td>Afghanistan</td>\n",
              "      <td>Asia</td>\n",
              "      <td>1957</td>\n",
              "      <td>30.332</td>\n",
              "      <td>9240934</td>\n",
              "      <td>820.853030</td>\n",
              "      <td>AFG</td>\n",
              "      <td>4</td>\n",
              "    </tr>\n",
              "    <tr>\n",
              "      <th>2</th>\n",
              "      <td>Afghanistan</td>\n",
              "      <td>Asia</td>\n",
              "      <td>1962</td>\n",
              "      <td>31.997</td>\n",
              "      <td>10267083</td>\n",
              "      <td>853.100710</td>\n",
              "      <td>AFG</td>\n",
              "      <td>4</td>\n",
              "    </tr>\n",
              "    <tr>\n",
              "      <th>3</th>\n",
              "      <td>Afghanistan</td>\n",
              "      <td>Asia</td>\n",
              "      <td>1967</td>\n",
              "      <td>34.020</td>\n",
              "      <td>11537966</td>\n",
              "      <td>836.197138</td>\n",
              "      <td>AFG</td>\n",
              "      <td>4</td>\n",
              "    </tr>\n",
              "    <tr>\n",
              "      <th>4</th>\n",
              "      <td>Afghanistan</td>\n",
              "      <td>Asia</td>\n",
              "      <td>1972</td>\n",
              "      <td>36.088</td>\n",
              "      <td>13079460</td>\n",
              "      <td>739.981106</td>\n",
              "      <td>AFG</td>\n",
              "      <td>4</td>\n",
              "    </tr>\n",
              "    <tr>\n",
              "      <th>...</th>\n",
              "      <td>...</td>\n",
              "      <td>...</td>\n",
              "      <td>...</td>\n",
              "      <td>...</td>\n",
              "      <td>...</td>\n",
              "      <td>...</td>\n",
              "      <td>...</td>\n",
              "      <td>...</td>\n",
              "    </tr>\n",
              "    <tr>\n",
              "      <th>1699</th>\n",
              "      <td>Zimbabwe</td>\n",
              "      <td>Africa</td>\n",
              "      <td>1987</td>\n",
              "      <td>62.351</td>\n",
              "      <td>9216418</td>\n",
              "      <td>706.157306</td>\n",
              "      <td>ZWE</td>\n",
              "      <td>716</td>\n",
              "    </tr>\n",
              "    <tr>\n",
              "      <th>1700</th>\n",
              "      <td>Zimbabwe</td>\n",
              "      <td>Africa</td>\n",
              "      <td>1992</td>\n",
              "      <td>60.377</td>\n",
              "      <td>10704340</td>\n",
              "      <td>693.420786</td>\n",
              "      <td>ZWE</td>\n",
              "      <td>716</td>\n",
              "    </tr>\n",
              "    <tr>\n",
              "      <th>1701</th>\n",
              "      <td>Zimbabwe</td>\n",
              "      <td>Africa</td>\n",
              "      <td>1997</td>\n",
              "      <td>46.809</td>\n",
              "      <td>11404948</td>\n",
              "      <td>792.449960</td>\n",
              "      <td>ZWE</td>\n",
              "      <td>716</td>\n",
              "    </tr>\n",
              "    <tr>\n",
              "      <th>1702</th>\n",
              "      <td>Zimbabwe</td>\n",
              "      <td>Africa</td>\n",
              "      <td>2002</td>\n",
              "      <td>39.989</td>\n",
              "      <td>11926563</td>\n",
              "      <td>672.038623</td>\n",
              "      <td>ZWE</td>\n",
              "      <td>716</td>\n",
              "    </tr>\n",
              "    <tr>\n",
              "      <th>1703</th>\n",
              "      <td>Zimbabwe</td>\n",
              "      <td>Africa</td>\n",
              "      <td>2007</td>\n",
              "      <td>43.487</td>\n",
              "      <td>12311143</td>\n",
              "      <td>469.709298</td>\n",
              "      <td>ZWE</td>\n",
              "      <td>716</td>\n",
              "    </tr>\n",
              "  </tbody>\n",
              "</table>\n",
              "<p>1704 rows × 8 columns</p>\n",
              "</div>\n",
              "      <button class=\"colab-df-convert\" onclick=\"convertToInteractive('df-7cdf88a6-a3d3-4ba5-b74a-e66da05e7d0d')\"\n",
              "              title=\"Convert this dataframe to an interactive table.\"\n",
              "              style=\"display:none;\">\n",
              "        \n",
              "  <svg xmlns=\"http://www.w3.org/2000/svg\" height=\"24px\"viewBox=\"0 0 24 24\"\n",
              "       width=\"24px\">\n",
              "    <path d=\"M0 0h24v24H0V0z\" fill=\"none\"/>\n",
              "    <path d=\"M18.56 5.44l.94 2.06.94-2.06 2.06-.94-2.06-.94-.94-2.06-.94 2.06-2.06.94zm-11 1L8.5 8.5l.94-2.06 2.06-.94-2.06-.94L8.5 2.5l-.94 2.06-2.06.94zm10 10l.94 2.06.94-2.06 2.06-.94-2.06-.94-.94-2.06-.94 2.06-2.06.94z\"/><path d=\"M17.41 7.96l-1.37-1.37c-.4-.4-.92-.59-1.43-.59-.52 0-1.04.2-1.43.59L10.3 9.45l-7.72 7.72c-.78.78-.78 2.05 0 2.83L4 21.41c.39.39.9.59 1.41.59.51 0 1.02-.2 1.41-.59l7.78-7.78 2.81-2.81c.8-.78.8-2.07 0-2.86zM5.41 20L4 18.59l7.72-7.72 1.47 1.35L5.41 20z\"/>\n",
              "  </svg>\n",
              "      </button>\n",
              "      \n",
              "  <style>\n",
              "    .colab-df-container {\n",
              "      display:flex;\n",
              "      flex-wrap:wrap;\n",
              "      gap: 12px;\n",
              "    }\n",
              "\n",
              "    .colab-df-convert {\n",
              "      background-color: #E8F0FE;\n",
              "      border: none;\n",
              "      border-radius: 50%;\n",
              "      cursor: pointer;\n",
              "      display: none;\n",
              "      fill: #1967D2;\n",
              "      height: 32px;\n",
              "      padding: 0 0 0 0;\n",
              "      width: 32px;\n",
              "    }\n",
              "\n",
              "    .colab-df-convert:hover {\n",
              "      background-color: #E2EBFA;\n",
              "      box-shadow: 0px 1px 2px rgba(60, 64, 67, 0.3), 0px 1px 3px 1px rgba(60, 64, 67, 0.15);\n",
              "      fill: #174EA6;\n",
              "    }\n",
              "\n",
              "    [theme=dark] .colab-df-convert {\n",
              "      background-color: #3B4455;\n",
              "      fill: #D2E3FC;\n",
              "    }\n",
              "\n",
              "    [theme=dark] .colab-df-convert:hover {\n",
              "      background-color: #434B5C;\n",
              "      box-shadow: 0px 1px 3px 1px rgba(0, 0, 0, 0.15);\n",
              "      filter: drop-shadow(0px 1px 2px rgba(0, 0, 0, 0.3));\n",
              "      fill: #FFFFFF;\n",
              "    }\n",
              "  </style>\n",
              "\n",
              "      <script>\n",
              "        const buttonEl =\n",
              "          document.querySelector('#df-7cdf88a6-a3d3-4ba5-b74a-e66da05e7d0d button.colab-df-convert');\n",
              "        buttonEl.style.display =\n",
              "          google.colab.kernel.accessAllowed ? 'block' : 'none';\n",
              "\n",
              "        async function convertToInteractive(key) {\n",
              "          const element = document.querySelector('#df-7cdf88a6-a3d3-4ba5-b74a-e66da05e7d0d');\n",
              "          const dataTable =\n",
              "            await google.colab.kernel.invokeFunction('convertToInteractive',\n",
              "                                                     [key], {});\n",
              "          if (!dataTable) return;\n",
              "\n",
              "          const docLinkHtml = 'Like what you see? Visit the ' +\n",
              "            '<a target=\"_blank\" href=https://colab.research.google.com/notebooks/data_table.ipynb>data table notebook</a>'\n",
              "            + ' to learn more about interactive tables.';\n",
              "          element.innerHTML = '';\n",
              "          dataTable['output_type'] = 'display_data';\n",
              "          await google.colab.output.renderOutput(dataTable, element);\n",
              "          const docLink = document.createElement('div');\n",
              "          docLink.innerHTML = docLinkHtml;\n",
              "          element.appendChild(docLink);\n",
              "        }\n",
              "      </script>\n",
              "    </div>\n",
              "  </div>\n",
              "  "
            ],
            "text/plain": [
              "          country continent  year  ...   gdpPercap  iso_alpha  iso_num\n",
              "0     Afghanistan      Asia  1952  ...  779.445314        AFG        4\n",
              "1     Afghanistan      Asia  1957  ...  820.853030        AFG        4\n",
              "2     Afghanistan      Asia  1962  ...  853.100710        AFG        4\n",
              "3     Afghanistan      Asia  1967  ...  836.197138        AFG        4\n",
              "4     Afghanistan      Asia  1972  ...  739.981106        AFG        4\n",
              "...           ...       ...   ...  ...         ...        ...      ...\n",
              "1699     Zimbabwe    Africa  1987  ...  706.157306        ZWE      716\n",
              "1700     Zimbabwe    Africa  1992  ...  693.420786        ZWE      716\n",
              "1701     Zimbabwe    Africa  1997  ...  792.449960        ZWE      716\n",
              "1702     Zimbabwe    Africa  2002  ...  672.038623        ZWE      716\n",
              "1703     Zimbabwe    Africa  2007  ...  469.709298        ZWE      716\n",
              "\n",
              "[1704 rows x 8 columns]"
            ]
          },
          "metadata": {},
          "execution_count": 14
        }
      ]
    },
    {
      "cell_type": "code",
      "source": [
        "px.scatter(data_frame=gapminder_df,\n",
        "           x='gdpPercap',\n",
        "           y='lifeExp',\n",
        "           size='pop',\n",
        "           color='continent',\n",
        "           title='Life Span and Wealth 1952 - 2007',\n",
        "           labels={'gdpPercap': 'Wealth','lifeExp':  'Life Span'},\n",
        "           log_x=True,\n",
        "           range_y=[25,95],\n",
        "           hover_name='country',\n",
        "           animation_frame='year',\n",
        "           height=600,\n",
        "           size_max=100)\n"
      ],
      "metadata": {
        "colab": {
          "base_uri": "https://localhost:8080/",
          "height": 617
        },
        "id": "NKUuXsVH7b-t",
        "outputId": "06228fc7-6807-4472-d166-ad3e10162d1b"
      },
      "execution_count": null,
      "outputs": [
        {
          "output_type": "display_data",
          "data": {
            "text/html": [
              "<html>\n",
              "<head><meta charset=\"utf-8\" /></head>\n",
              "<body>\n",
              "    <div>            <script src=\"https://cdnjs.cloudflare.com/ajax/libs/mathjax/2.7.5/MathJax.js?config=TeX-AMS-MML_SVG\"></script><script type=\"text/javascript\">if (window.MathJax) {MathJax.Hub.Config({SVG: {font: \"STIX-Web\"}});}</script>                <script type=\"text/javascript\">window.PlotlyConfig = {MathJaxConfig: 'local'};</script>\n",
              "        <script src=\"https://cdn.plot.ly/plotly-2.8.3.min.js\"></script>                <div id=\"2b8f8df2-5921-45d7-95ec-fd5e62eb1a1b\" class=\"plotly-graph-div\" style=\"height:600px; width:100%;\"></div>            <script type=\"text/javascript\">                                    window.PLOTLYENV=window.PLOTLYENV || {};                                    if (document.getElementById(\"2b8f8df2-5921-45d7-95ec-fd5e62eb1a1b\")) {                    Plotly.newPlot(                        \"2b8f8df2-5921-45d7-95ec-fd5e62eb1a1b\",                        [{\"hovertemplate\":\"<b>%{hovertext}</b><br><br>continent=Asia<br>year=1952<br>Wealth=%{x}<br>Life Span=%{y}<br>pop=%{marker.size}<extra></extra>\",\"hovertext\":[\"Afghanistan\",\"Bahrain\",\"Bangladesh\",\"Cambodia\",\"China\",\"Hong Kong, China\",\"India\",\"Indonesia\",\"Iran\",\"Iraq\",\"Israel\",\"Japan\",\"Jordan\",\"Korea, Dem. Rep.\",\"Korea, Rep.\",\"Kuwait\",\"Lebanon\",\"Malaysia\",\"Mongolia\",\"Myanmar\",\"Nepal\",\"Oman\",\"Pakistan\",\"Philippines\",\"Saudi Arabia\",\"Singapore\",\"Sri Lanka\",\"Syria\",\"Taiwan\",\"Thailand\",\"Vietnam\",\"West Bank and Gaza\",\"Yemen, Rep.\"],\"legendgroup\":\"Asia\",\"marker\":{\"color\":\"#636efa\",\"size\":[8425333,120447,46886859,4693836,556263527,2125900,372000000,82052000,17272000,5441766,1620914,86459025,607914,8865488,20947571,160000,1439529,6748378,800663,20092996,9182536,507833,41346560,22438691,4005677,1127000,7982342,3661549,8550362,21289402,26246839,1030585,4963829],\"sizemode\":\"area\",\"sizeref\":131868.3096,\"symbol\":\"circle\"},\"mode\":\"markers\",\"name\":\"Asia\",\"orientation\":\"v\",\"showlegend\":true,\"x\":[779.4453145,9867.084765,684.2441716,368.4692856,400.448611,3054.421209,546.5657493,749.6816546,3035.326002,4129.766056,4086.522128,3216.956347,1546.907807,1088.277758,1030.592226,108382.3529,4834.804067,1831.132894,786.5668575,331.0,545.8657228999998,1828.230307,684.5971437999998,1272.880995,6459.554823,2315.138227,1083.53203,1643.485354,1206.947913,757.7974177,605.0664917,1515.5923289999996,781.7175761],\"xaxis\":\"x\",\"y\":[28.801,50.93899999999999,37.484,39.417,44.0,60.96,37.37300000000001,37.468,44.869,45.32,65.39,63.03,43.158,50.056,47.453,55.565,55.928,48.463,42.244,36.319,36.157,37.578,43.43600000000001,47.752,39.875,60.396,57.593,45.883,58.5,50.848,40.412,43.16,32.548],\"yaxis\":\"y\",\"type\":\"scatter\"},{\"hovertemplate\":\"<b>%{hovertext}</b><br><br>continent=Europe<br>year=1952<br>Wealth=%{x}<br>Life Span=%{y}<br>pop=%{marker.size}<extra></extra>\",\"hovertext\":[\"Albania\",\"Austria\",\"Belgium\",\"Bosnia and Herzegovina\",\"Bulgaria\",\"Croatia\",\"Czech Republic\",\"Denmark\",\"Finland\",\"France\",\"Germany\",\"Greece\",\"Hungary\",\"Iceland\",\"Ireland\",\"Italy\",\"Montenegro\",\"Netherlands\",\"Norway\",\"Poland\",\"Portugal\",\"Romania\",\"Serbia\",\"Slovak Republic\",\"Slovenia\",\"Spain\",\"Sweden\",\"Switzerland\",\"Turkey\",\"United Kingdom\"],\"legendgroup\":\"Europe\",\"marker\":{\"color\":\"#EF553B\",\"size\":[1282697,6927772,8730405,2791000,7274900,3882229,9125183,4334000,4090500,42459667,69145952,7733250,9504000,147962,2952156,47666000,413834,10381988,3327728,25730551,8526050,16630000,6860147,3558137,1489518,28549870,7124673,4815000,22235677,50430000],\"sizemode\":\"area\",\"sizeref\":131868.3096,\"symbol\":\"circle\"},\"mode\":\"markers\",\"name\":\"Europe\",\"orientation\":\"v\",\"showlegend\":true,\"x\":[1601.056136,6137.076492,8343.105126999999,973.5331948,2444.286648,3119.23652,6876.14025,9692.385245,6424.519071,7029.809327,7144.114393000002,3530.690067,5263.673816,7267.688428,5210.280328,4931.404154999998,2647.585601,8941.571858,10095.42172,4029.329699,3068.319867,3144.613186,3581.459448,5074.659104,4215.041741,3834.034742,8527.844662000001,14734.23275,1969.10098,9979.508487],\"xaxis\":\"x\",\"y\":[55.23,66.8,68.0,53.82,59.6,61.21,66.87,70.78,66.55,67.41,67.5,65.86,64.03,72.49,66.91,65.94,59.164,72.13,72.67,61.31,59.82,61.05,57.996,64.36,65.57,64.94,71.86,69.62,43.585,69.18],\"yaxis\":\"y\",\"type\":\"scatter\"},{\"hovertemplate\":\"<b>%{hovertext}</b><br><br>continent=Africa<br>year=1952<br>Wealth=%{x}<br>Life Span=%{y}<br>pop=%{marker.size}<extra></extra>\",\"hovertext\":[\"Algeria\",\"Angola\",\"Benin\",\"Botswana\",\"Burkina Faso\",\"Burundi\",\"Cameroon\",\"Central African Republic\",\"Chad\",\"Comoros\",\"Congo, Dem. Rep.\",\"Congo, Rep.\",\"Cote d'Ivoire\",\"Djibouti\",\"Egypt\",\"Equatorial Guinea\",\"Eritrea\",\"Ethiopia\",\"Gabon\",\"Gambia\",\"Ghana\",\"Guinea\",\"Guinea-Bissau\",\"Kenya\",\"Lesotho\",\"Liberia\",\"Libya\",\"Madagascar\",\"Malawi\",\"Mali\",\"Mauritania\",\"Mauritius\",\"Morocco\",\"Mozambique\",\"Namibia\",\"Niger\",\"Nigeria\",\"Reunion\",\"Rwanda\",\"Sao Tome and Principe\",\"Senegal\",\"Sierra Leone\",\"Somalia\",\"South Africa\",\"Sudan\",\"Swaziland\",\"Tanzania\",\"Togo\",\"Tunisia\",\"Uganda\",\"Zambia\",\"Zimbabwe\"],\"legendgroup\":\"Africa\",\"marker\":{\"color\":\"#00cc96\",\"size\":[9279525,4232095,1738315,442308,4469979,2445618,5009067,1291695,2682462,153936,14100005,854885,2977019,63149,22223309,216964,1438760,20860941,420702,284320,5581001,2664249,580653,6464046,748747,863308,1019729,4762912,2917802,3838168,1022556,516556,9939217,6446316,485831,3379468,33119096,257700,2534927,60011,2755589,2143249,2526994,14264935,8504667,290243,8322925,1219113,3647735,5824797,2672000,3080907],\"sizemode\":\"area\",\"sizeref\":131868.3096,\"symbol\":\"circle\"},\"mode\":\"markers\",\"name\":\"Africa\",\"orientation\":\"v\",\"showlegend\":true,\"x\":[2449.008185,3520.610273,1062.7522,851.2411407,543.2552413,339.2964587,1172.667655,1071.310713,1178.665927,1102.990936,780.5423257,2125.621418,1388.594732,2669.529475,1418.822445,375.6431231,328.9405571000001,362.1462796,4293.476475,485.2306591,911.2989371,510.1964923000001,299.850319,853.5409189999998,298.8462121,575.5729961000002,2387.54806,1443.011715,369.1650802,452.3369807,743.1159097,1967.955707,1688.20357,468.5260381,2423.780443,761.879376,1077.281856,2718.885295,493.3238752,879.5835855,1450.356983,879.7877358,1135.749842,4725.295531000002,1615.991129,1148.376626,716.6500721,859.8086567,1468.475631,734.753484,1147.388831,406.8841148],\"xaxis\":\"x\",\"y\":[43.077,30.015,38.223,47.622,31.975,39.031,38.523,35.463,38.092,40.715,39.143,42.111,40.477,34.812,41.893,34.482,35.92800000000001,34.078,37.003,30.0,43.149,33.609,32.5,42.27,42.13800000000001,38.48,42.723,36.681,36.256,33.685,40.543,50.986,42.87300000000001,31.286,41.725,37.444,36.324,52.724,40.0,46.471,37.278,30.331,32.978,45.00899999999999,38.635,41.407,41.215,38.596,44.6,39.978,42.038,48.451],\"yaxis\":\"y\",\"type\":\"scatter\"},{\"hovertemplate\":\"<b>%{hovertext}</b><br><br>continent=Americas<br>year=1952<br>Wealth=%{x}<br>Life Span=%{y}<br>pop=%{marker.size}<extra></extra>\",\"hovertext\":[\"Argentina\",\"Bolivia\",\"Brazil\",\"Canada\",\"Chile\",\"Colombia\",\"Costa Rica\",\"Cuba\",\"Dominican Republic\",\"Ecuador\",\"El Salvador\",\"Guatemala\",\"Haiti\",\"Honduras\",\"Jamaica\",\"Mexico\",\"Nicaragua\",\"Panama\",\"Paraguay\",\"Peru\",\"Puerto Rico\",\"Trinidad and Tobago\",\"United States\",\"Uruguay\",\"Venezuela\"],\"legendgroup\":\"Americas\",\"marker\":{\"color\":\"#ab63fa\",\"size\":[17876956,2883315,56602560,14785584,6377619,12350771,926317,6007797,2491346,3548753,2042865,3146381,3201488,1517453,1426095,30144317,1165790,940080,1555876,8025700,2227000,662850,157553000,2252965,5439568],\"sizemode\":\"area\",\"sizeref\":131868.3096,\"symbol\":\"circle\"},\"mode\":\"markers\",\"name\":\"Americas\",\"orientation\":\"v\",\"showlegend\":true,\"x\":[5911.315053,2677.326347,2108.944355,11367.16112,3939.978789,2144.115096,2627.0094710000008,5586.53878,1397.717137,3522.110717,3048.3029,2428.2377690000008,1840.366939,2194.926204,2898.530881,3478.125529,3112.363948,2480.380334,1952.308701,3758.523437,3081.959785,3023.271928,13990.482080000002,5716.766744,7689.799761],\"xaxis\":\"x\",\"y\":[62.485,40.414,50.917,68.75,54.745,50.643,57.206,59.42100000000001,45.928,48.357,45.262,42.023,37.579,41.912,58.53,50.789,42.31399999999999,55.191,62.649,43.902,64.28,59.1,68.44,66.071,55.088],\"yaxis\":\"y\",\"type\":\"scatter\"},{\"hovertemplate\":\"<b>%{hovertext}</b><br><br>continent=Oceania<br>year=1952<br>Wealth=%{x}<br>Life Span=%{y}<br>pop=%{marker.size}<extra></extra>\",\"hovertext\":[\"Australia\",\"New Zealand\"],\"legendgroup\":\"Oceania\",\"marker\":{\"color\":\"#FFA15A\",\"size\":[8691212,1994794],\"sizemode\":\"area\",\"sizeref\":131868.3096,\"symbol\":\"circle\"},\"mode\":\"markers\",\"name\":\"Oceania\",\"orientation\":\"v\",\"showlegend\":true,\"x\":[10039.59564,10556.57566],\"xaxis\":\"x\",\"y\":[69.12,69.39],\"yaxis\":\"y\",\"type\":\"scatter\"}],                        {\"template\":{\"data\":{\"bar\":[{\"error_x\":{\"color\":\"#2a3f5f\"},\"error_y\":{\"color\":\"#2a3f5f\"},\"marker\":{\"line\":{\"color\":\"#E5ECF6\",\"width\":0.5},\"pattern\":{\"fillmode\":\"overlay\",\"size\":10,\"solidity\":0.2}},\"type\":\"bar\"}],\"barpolar\":[{\"marker\":{\"line\":{\"color\":\"#E5ECF6\",\"width\":0.5},\"pattern\":{\"fillmode\":\"overlay\",\"size\":10,\"solidity\":0.2}},\"type\":\"barpolar\"}],\"carpet\":[{\"aaxis\":{\"endlinecolor\":\"#2a3f5f\",\"gridcolor\":\"white\",\"linecolor\":\"white\",\"minorgridcolor\":\"white\",\"startlinecolor\":\"#2a3f5f\"},\"baxis\":{\"endlinecolor\":\"#2a3f5f\",\"gridcolor\":\"white\",\"linecolor\":\"white\",\"minorgridcolor\":\"white\",\"startlinecolor\":\"#2a3f5f\"},\"type\":\"carpet\"}],\"choropleth\":[{\"colorbar\":{\"outlinewidth\":0,\"ticks\":\"\"},\"type\":\"choropleth\"}],\"contour\":[{\"colorbar\":{\"outlinewidth\":0,\"ticks\":\"\"},\"colorscale\":[[0.0,\"#0d0887\"],[0.1111111111111111,\"#46039f\"],[0.2222222222222222,\"#7201a8\"],[0.3333333333333333,\"#9c179e\"],[0.4444444444444444,\"#bd3786\"],[0.5555555555555556,\"#d8576b\"],[0.6666666666666666,\"#ed7953\"],[0.7777777777777778,\"#fb9f3a\"],[0.8888888888888888,\"#fdca26\"],[1.0,\"#f0f921\"]],\"type\":\"contour\"}],\"contourcarpet\":[{\"colorbar\":{\"outlinewidth\":0,\"ticks\":\"\"},\"type\":\"contourcarpet\"}],\"heatmap\":[{\"colorbar\":{\"outlinewidth\":0,\"ticks\":\"\"},\"colorscale\":[[0.0,\"#0d0887\"],[0.1111111111111111,\"#46039f\"],[0.2222222222222222,\"#7201a8\"],[0.3333333333333333,\"#9c179e\"],[0.4444444444444444,\"#bd3786\"],[0.5555555555555556,\"#d8576b\"],[0.6666666666666666,\"#ed7953\"],[0.7777777777777778,\"#fb9f3a\"],[0.8888888888888888,\"#fdca26\"],[1.0,\"#f0f921\"]],\"type\":\"heatmap\"}],\"heatmapgl\":[{\"colorbar\":{\"outlinewidth\":0,\"ticks\":\"\"},\"colorscale\":[[0.0,\"#0d0887\"],[0.1111111111111111,\"#46039f\"],[0.2222222222222222,\"#7201a8\"],[0.3333333333333333,\"#9c179e\"],[0.4444444444444444,\"#bd3786\"],[0.5555555555555556,\"#d8576b\"],[0.6666666666666666,\"#ed7953\"],[0.7777777777777778,\"#fb9f3a\"],[0.8888888888888888,\"#fdca26\"],[1.0,\"#f0f921\"]],\"type\":\"heatmapgl\"}],\"histogram\":[{\"marker\":{\"pattern\":{\"fillmode\":\"overlay\",\"size\":10,\"solidity\":0.2}},\"type\":\"histogram\"}],\"histogram2d\":[{\"colorbar\":{\"outlinewidth\":0,\"ticks\":\"\"},\"colorscale\":[[0.0,\"#0d0887\"],[0.1111111111111111,\"#46039f\"],[0.2222222222222222,\"#7201a8\"],[0.3333333333333333,\"#9c179e\"],[0.4444444444444444,\"#bd3786\"],[0.5555555555555556,\"#d8576b\"],[0.6666666666666666,\"#ed7953\"],[0.7777777777777778,\"#fb9f3a\"],[0.8888888888888888,\"#fdca26\"],[1.0,\"#f0f921\"]],\"type\":\"histogram2d\"}],\"histogram2dcontour\":[{\"colorbar\":{\"outlinewidth\":0,\"ticks\":\"\"},\"colorscale\":[[0.0,\"#0d0887\"],[0.1111111111111111,\"#46039f\"],[0.2222222222222222,\"#7201a8\"],[0.3333333333333333,\"#9c179e\"],[0.4444444444444444,\"#bd3786\"],[0.5555555555555556,\"#d8576b\"],[0.6666666666666666,\"#ed7953\"],[0.7777777777777778,\"#fb9f3a\"],[0.8888888888888888,\"#fdca26\"],[1.0,\"#f0f921\"]],\"type\":\"histogram2dcontour\"}],\"mesh3d\":[{\"colorbar\":{\"outlinewidth\":0,\"ticks\":\"\"},\"type\":\"mesh3d\"}],\"parcoords\":[{\"line\":{\"colorbar\":{\"outlinewidth\":0,\"ticks\":\"\"}},\"type\":\"parcoords\"}],\"pie\":[{\"automargin\":true,\"type\":\"pie\"}],\"scatter\":[{\"marker\":{\"colorbar\":{\"outlinewidth\":0,\"ticks\":\"\"}},\"type\":\"scatter\"}],\"scatter3d\":[{\"line\":{\"colorbar\":{\"outlinewidth\":0,\"ticks\":\"\"}},\"marker\":{\"colorbar\":{\"outlinewidth\":0,\"ticks\":\"\"}},\"type\":\"scatter3d\"}],\"scattercarpet\":[{\"marker\":{\"colorbar\":{\"outlinewidth\":0,\"ticks\":\"\"}},\"type\":\"scattercarpet\"}],\"scattergeo\":[{\"marker\":{\"colorbar\":{\"outlinewidth\":0,\"ticks\":\"\"}},\"type\":\"scattergeo\"}],\"scattergl\":[{\"marker\":{\"colorbar\":{\"outlinewidth\":0,\"ticks\":\"\"}},\"type\":\"scattergl\"}],\"scattermapbox\":[{\"marker\":{\"colorbar\":{\"outlinewidth\":0,\"ticks\":\"\"}},\"type\":\"scattermapbox\"}],\"scatterpolar\":[{\"marker\":{\"colorbar\":{\"outlinewidth\":0,\"ticks\":\"\"}},\"type\":\"scatterpolar\"}],\"scatterpolargl\":[{\"marker\":{\"colorbar\":{\"outlinewidth\":0,\"ticks\":\"\"}},\"type\":\"scatterpolargl\"}],\"scatterternary\":[{\"marker\":{\"colorbar\":{\"outlinewidth\":0,\"ticks\":\"\"}},\"type\":\"scatterternary\"}],\"surface\":[{\"colorbar\":{\"outlinewidth\":0,\"ticks\":\"\"},\"colorscale\":[[0.0,\"#0d0887\"],[0.1111111111111111,\"#46039f\"],[0.2222222222222222,\"#7201a8\"],[0.3333333333333333,\"#9c179e\"],[0.4444444444444444,\"#bd3786\"],[0.5555555555555556,\"#d8576b\"],[0.6666666666666666,\"#ed7953\"],[0.7777777777777778,\"#fb9f3a\"],[0.8888888888888888,\"#fdca26\"],[1.0,\"#f0f921\"]],\"type\":\"surface\"}],\"table\":[{\"cells\":{\"fill\":{\"color\":\"#EBF0F8\"},\"line\":{\"color\":\"white\"}},\"header\":{\"fill\":{\"color\":\"#C8D4E3\"},\"line\":{\"color\":\"white\"}},\"type\":\"table\"}]},\"layout\":{\"annotationdefaults\":{\"arrowcolor\":\"#2a3f5f\",\"arrowhead\":0,\"arrowwidth\":1},\"autotypenumbers\":\"strict\",\"coloraxis\":{\"colorbar\":{\"outlinewidth\":0,\"ticks\":\"\"}},\"colorscale\":{\"diverging\":[[0,\"#8e0152\"],[0.1,\"#c51b7d\"],[0.2,\"#de77ae\"],[0.3,\"#f1b6da\"],[0.4,\"#fde0ef\"],[0.5,\"#f7f7f7\"],[0.6,\"#e6f5d0\"],[0.7,\"#b8e186\"],[0.8,\"#7fbc41\"],[0.9,\"#4d9221\"],[1,\"#276419\"]],\"sequential\":[[0.0,\"#0d0887\"],[0.1111111111111111,\"#46039f\"],[0.2222222222222222,\"#7201a8\"],[0.3333333333333333,\"#9c179e\"],[0.4444444444444444,\"#bd3786\"],[0.5555555555555556,\"#d8576b\"],[0.6666666666666666,\"#ed7953\"],[0.7777777777777778,\"#fb9f3a\"],[0.8888888888888888,\"#fdca26\"],[1.0,\"#f0f921\"]],\"sequentialminus\":[[0.0,\"#0d0887\"],[0.1111111111111111,\"#46039f\"],[0.2222222222222222,\"#7201a8\"],[0.3333333333333333,\"#9c179e\"],[0.4444444444444444,\"#bd3786\"],[0.5555555555555556,\"#d8576b\"],[0.6666666666666666,\"#ed7953\"],[0.7777777777777778,\"#fb9f3a\"],[0.8888888888888888,\"#fdca26\"],[1.0,\"#f0f921\"]]},\"colorway\":[\"#636efa\",\"#EF553B\",\"#00cc96\",\"#ab63fa\",\"#FFA15A\",\"#19d3f3\",\"#FF6692\",\"#B6E880\",\"#FF97FF\",\"#FECB52\"],\"font\":{\"color\":\"#2a3f5f\"},\"geo\":{\"bgcolor\":\"white\",\"lakecolor\":\"white\",\"landcolor\":\"#E5ECF6\",\"showlakes\":true,\"showland\":true,\"subunitcolor\":\"white\"},\"hoverlabel\":{\"align\":\"left\"},\"hovermode\":\"closest\",\"mapbox\":{\"style\":\"light\"},\"paper_bgcolor\":\"white\",\"plot_bgcolor\":\"#E5ECF6\",\"polar\":{\"angularaxis\":{\"gridcolor\":\"white\",\"linecolor\":\"white\",\"ticks\":\"\"},\"bgcolor\":\"#E5ECF6\",\"radialaxis\":{\"gridcolor\":\"white\",\"linecolor\":\"white\",\"ticks\":\"\"}},\"scene\":{\"xaxis\":{\"backgroundcolor\":\"#E5ECF6\",\"gridcolor\":\"white\",\"gridwidth\":2,\"linecolor\":\"white\",\"showbackground\":true,\"ticks\":\"\",\"zerolinecolor\":\"white\"},\"yaxis\":{\"backgroundcolor\":\"#E5ECF6\",\"gridcolor\":\"white\",\"gridwidth\":2,\"linecolor\":\"white\",\"showbackground\":true,\"ticks\":\"\",\"zerolinecolor\":\"white\"},\"zaxis\":{\"backgroundcolor\":\"#E5ECF6\",\"gridcolor\":\"white\",\"gridwidth\":2,\"linecolor\":\"white\",\"showbackground\":true,\"ticks\":\"\",\"zerolinecolor\":\"white\"}},\"shapedefaults\":{\"line\":{\"color\":\"#2a3f5f\"}},\"ternary\":{\"aaxis\":{\"gridcolor\":\"white\",\"linecolor\":\"white\",\"ticks\":\"\"},\"baxis\":{\"gridcolor\":\"white\",\"linecolor\":\"white\",\"ticks\":\"\"},\"bgcolor\":\"#E5ECF6\",\"caxis\":{\"gridcolor\":\"white\",\"linecolor\":\"white\",\"ticks\":\"\"}},\"title\":{\"x\":0.05},\"xaxis\":{\"automargin\":true,\"gridcolor\":\"white\",\"linecolor\":\"white\",\"ticks\":\"\",\"title\":{\"standoff\":15},\"zerolinecolor\":\"white\",\"zerolinewidth\":2},\"yaxis\":{\"automargin\":true,\"gridcolor\":\"white\",\"linecolor\":\"white\",\"ticks\":\"\",\"title\":{\"standoff\":15},\"zerolinecolor\":\"white\",\"zerolinewidth\":2}}},\"xaxis\":{\"anchor\":\"y\",\"domain\":[0.0,1.0],\"title\":{\"text\":\"Wealth\"},\"type\":\"log\"},\"yaxis\":{\"anchor\":\"x\",\"domain\":[0.0,1.0],\"title\":{\"text\":\"Life Span\"},\"range\":[25,95]},\"legend\":{\"title\":{\"text\":\"continent\"},\"tracegroupgap\":0,\"itemsizing\":\"constant\"},\"title\":{\"text\":\"Life Span and Wealth 1952 - 2007\"},\"height\":600,\"updatemenus\":[{\"buttons\":[{\"args\":[null,{\"frame\":{\"duration\":500,\"redraw\":false},\"mode\":\"immediate\",\"fromcurrent\":true,\"transition\":{\"duration\":500,\"easing\":\"linear\"}}],\"label\":\"&#9654;\",\"method\":\"animate\"},{\"args\":[[null],{\"frame\":{\"duration\":0,\"redraw\":false},\"mode\":\"immediate\",\"fromcurrent\":true,\"transition\":{\"duration\":0,\"easing\":\"linear\"}}],\"label\":\"&#9724;\",\"method\":\"animate\"}],\"direction\":\"left\",\"pad\":{\"r\":10,\"t\":70},\"showactive\":false,\"type\":\"buttons\",\"x\":0.1,\"xanchor\":\"right\",\"y\":0,\"yanchor\":\"top\"}],\"sliders\":[{\"active\":0,\"currentvalue\":{\"prefix\":\"year=\"},\"len\":0.9,\"pad\":{\"b\":10,\"t\":60},\"steps\":[{\"args\":[[\"1952\"],{\"frame\":{\"duration\":0,\"redraw\":false},\"mode\":\"immediate\",\"fromcurrent\":true,\"transition\":{\"duration\":0,\"easing\":\"linear\"}}],\"label\":\"1952\",\"method\":\"animate\"},{\"args\":[[\"1957\"],{\"frame\":{\"duration\":0,\"redraw\":false},\"mode\":\"immediate\",\"fromcurrent\":true,\"transition\":{\"duration\":0,\"easing\":\"linear\"}}],\"label\":\"1957\",\"method\":\"animate\"},{\"args\":[[\"1962\"],{\"frame\":{\"duration\":0,\"redraw\":false},\"mode\":\"immediate\",\"fromcurrent\":true,\"transition\":{\"duration\":0,\"easing\":\"linear\"}}],\"label\":\"1962\",\"method\":\"animate\"},{\"args\":[[\"1967\"],{\"frame\":{\"duration\":0,\"redraw\":false},\"mode\":\"immediate\",\"fromcurrent\":true,\"transition\":{\"duration\":0,\"easing\":\"linear\"}}],\"label\":\"1967\",\"method\":\"animate\"},{\"args\":[[\"1972\"],{\"frame\":{\"duration\":0,\"redraw\":false},\"mode\":\"immediate\",\"fromcurrent\":true,\"transition\":{\"duration\":0,\"easing\":\"linear\"}}],\"label\":\"1972\",\"method\":\"animate\"},{\"args\":[[\"1977\"],{\"frame\":{\"duration\":0,\"redraw\":false},\"mode\":\"immediate\",\"fromcurrent\":true,\"transition\":{\"duration\":0,\"easing\":\"linear\"}}],\"label\":\"1977\",\"method\":\"animate\"},{\"args\":[[\"1982\"],{\"frame\":{\"duration\":0,\"redraw\":false},\"mode\":\"immediate\",\"fromcurrent\":true,\"transition\":{\"duration\":0,\"easing\":\"linear\"}}],\"label\":\"1982\",\"method\":\"animate\"},{\"args\":[[\"1987\"],{\"frame\":{\"duration\":0,\"redraw\":false},\"mode\":\"immediate\",\"fromcurrent\":true,\"transition\":{\"duration\":0,\"easing\":\"linear\"}}],\"label\":\"1987\",\"method\":\"animate\"},{\"args\":[[\"1992\"],{\"frame\":{\"duration\":0,\"redraw\":false},\"mode\":\"immediate\",\"fromcurrent\":true,\"transition\":{\"duration\":0,\"easing\":\"linear\"}}],\"label\":\"1992\",\"method\":\"animate\"},{\"args\":[[\"1997\"],{\"frame\":{\"duration\":0,\"redraw\":false},\"mode\":\"immediate\",\"fromcurrent\":true,\"transition\":{\"duration\":0,\"easing\":\"linear\"}}],\"label\":\"1997\",\"method\":\"animate\"},{\"args\":[[\"2002\"],{\"frame\":{\"duration\":0,\"redraw\":false},\"mode\":\"immediate\",\"fromcurrent\":true,\"transition\":{\"duration\":0,\"easing\":\"linear\"}}],\"label\":\"2002\",\"method\":\"animate\"},{\"args\":[[\"2007\"],{\"frame\":{\"duration\":0,\"redraw\":false},\"mode\":\"immediate\",\"fromcurrent\":true,\"transition\":{\"duration\":0,\"easing\":\"linear\"}}],\"label\":\"2007\",\"method\":\"animate\"}],\"x\":0.1,\"xanchor\":\"left\",\"y\":0,\"yanchor\":\"top\"}]},                        {\"responsive\": true}                    ).then(function(){\n",
              "                            Plotly.addFrames('2b8f8df2-5921-45d7-95ec-fd5e62eb1a1b', [{\"data\":[{\"hovertemplate\":\"<b>%{hovertext}</b><br><br>continent=Asia<br>year=1952<br>Wealth=%{x}<br>Life Span=%{y}<br>pop=%{marker.size}<extra></extra>\",\"hovertext\":[\"Afghanistan\",\"Bahrain\",\"Bangladesh\",\"Cambodia\",\"China\",\"Hong Kong, China\",\"India\",\"Indonesia\",\"Iran\",\"Iraq\",\"Israel\",\"Japan\",\"Jordan\",\"Korea, Dem. Rep.\",\"Korea, Rep.\",\"Kuwait\",\"Lebanon\",\"Malaysia\",\"Mongolia\",\"Myanmar\",\"Nepal\",\"Oman\",\"Pakistan\",\"Philippines\",\"Saudi Arabia\",\"Singapore\",\"Sri Lanka\",\"Syria\",\"Taiwan\",\"Thailand\",\"Vietnam\",\"West Bank and Gaza\",\"Yemen, Rep.\"],\"legendgroup\":\"Asia\",\"marker\":{\"color\":\"#636efa\",\"size\":[8425333,120447,46886859,4693836,556263527,2125900,372000000,82052000,17272000,5441766,1620914,86459025,607914,8865488,20947571,160000,1439529,6748378,800663,20092996,9182536,507833,41346560,22438691,4005677,1127000,7982342,3661549,8550362,21289402,26246839,1030585,4963829],\"sizemode\":\"area\",\"sizeref\":131868.3096,\"symbol\":\"circle\"},\"mode\":\"markers\",\"name\":\"Asia\",\"orientation\":\"v\",\"showlegend\":true,\"x\":[779.4453145,9867.084765,684.2441716,368.4692856,400.448611,3054.421209,546.5657493,749.6816546,3035.326002,4129.766056,4086.522128,3216.956347,1546.907807,1088.277758,1030.592226,108382.3529,4834.804067,1831.132894,786.5668575,331.0,545.8657228999998,1828.230307,684.5971437999998,1272.880995,6459.554823,2315.138227,1083.53203,1643.485354,1206.947913,757.7974177,605.0664917,1515.5923289999996,781.7175761],\"xaxis\":\"x\",\"y\":[28.801,50.93899999999999,37.484,39.417,44.0,60.96,37.37300000000001,37.468,44.869,45.32,65.39,63.03,43.158,50.056,47.453,55.565,55.928,48.463,42.244,36.319,36.157,37.578,43.43600000000001,47.752,39.875,60.396,57.593,45.883,58.5,50.848,40.412,43.16,32.548],\"yaxis\":\"y\",\"type\":\"scatter\"},{\"hovertemplate\":\"<b>%{hovertext}</b><br><br>continent=Europe<br>year=1952<br>Wealth=%{x}<br>Life Span=%{y}<br>pop=%{marker.size}<extra></extra>\",\"hovertext\":[\"Albania\",\"Austria\",\"Belgium\",\"Bosnia and Herzegovina\",\"Bulgaria\",\"Croatia\",\"Czech Republic\",\"Denmark\",\"Finland\",\"France\",\"Germany\",\"Greece\",\"Hungary\",\"Iceland\",\"Ireland\",\"Italy\",\"Montenegro\",\"Netherlands\",\"Norway\",\"Poland\",\"Portugal\",\"Romania\",\"Serbia\",\"Slovak Republic\",\"Slovenia\",\"Spain\",\"Sweden\",\"Switzerland\",\"Turkey\",\"United Kingdom\"],\"legendgroup\":\"Europe\",\"marker\":{\"color\":\"#EF553B\",\"size\":[1282697,6927772,8730405,2791000,7274900,3882229,9125183,4334000,4090500,42459667,69145952,7733250,9504000,147962,2952156,47666000,413834,10381988,3327728,25730551,8526050,16630000,6860147,3558137,1489518,28549870,7124673,4815000,22235677,50430000],\"sizemode\":\"area\",\"sizeref\":131868.3096,\"symbol\":\"circle\"},\"mode\":\"markers\",\"name\":\"Europe\",\"orientation\":\"v\",\"showlegend\":true,\"x\":[1601.056136,6137.076492,8343.105126999999,973.5331948,2444.286648,3119.23652,6876.14025,9692.385245,6424.519071,7029.809327,7144.114393000002,3530.690067,5263.673816,7267.688428,5210.280328,4931.404154999998,2647.585601,8941.571858,10095.42172,4029.329699,3068.319867,3144.613186,3581.459448,5074.659104,4215.041741,3834.034742,8527.844662000001,14734.23275,1969.10098,9979.508487],\"xaxis\":\"x\",\"y\":[55.23,66.8,68.0,53.82,59.6,61.21,66.87,70.78,66.55,67.41,67.5,65.86,64.03,72.49,66.91,65.94,59.164,72.13,72.67,61.31,59.82,61.05,57.996,64.36,65.57,64.94,71.86,69.62,43.585,69.18],\"yaxis\":\"y\",\"type\":\"scatter\"},{\"hovertemplate\":\"<b>%{hovertext}</b><br><br>continent=Africa<br>year=1952<br>Wealth=%{x}<br>Life Span=%{y}<br>pop=%{marker.size}<extra></extra>\",\"hovertext\":[\"Algeria\",\"Angola\",\"Benin\",\"Botswana\",\"Burkina Faso\",\"Burundi\",\"Cameroon\",\"Central African Republic\",\"Chad\",\"Comoros\",\"Congo, Dem. Rep.\",\"Congo, Rep.\",\"Cote d'Ivoire\",\"Djibouti\",\"Egypt\",\"Equatorial Guinea\",\"Eritrea\",\"Ethiopia\",\"Gabon\",\"Gambia\",\"Ghana\",\"Guinea\",\"Guinea-Bissau\",\"Kenya\",\"Lesotho\",\"Liberia\",\"Libya\",\"Madagascar\",\"Malawi\",\"Mali\",\"Mauritania\",\"Mauritius\",\"Morocco\",\"Mozambique\",\"Namibia\",\"Niger\",\"Nigeria\",\"Reunion\",\"Rwanda\",\"Sao Tome and Principe\",\"Senegal\",\"Sierra Leone\",\"Somalia\",\"South Africa\",\"Sudan\",\"Swaziland\",\"Tanzania\",\"Togo\",\"Tunisia\",\"Uganda\",\"Zambia\",\"Zimbabwe\"],\"legendgroup\":\"Africa\",\"marker\":{\"color\":\"#00cc96\",\"size\":[9279525,4232095,1738315,442308,4469979,2445618,5009067,1291695,2682462,153936,14100005,854885,2977019,63149,22223309,216964,1438760,20860941,420702,284320,5581001,2664249,580653,6464046,748747,863308,1019729,4762912,2917802,3838168,1022556,516556,9939217,6446316,485831,3379468,33119096,257700,2534927,60011,2755589,2143249,2526994,14264935,8504667,290243,8322925,1219113,3647735,5824797,2672000,3080907],\"sizemode\":\"area\",\"sizeref\":131868.3096,\"symbol\":\"circle\"},\"mode\":\"markers\",\"name\":\"Africa\",\"orientation\":\"v\",\"showlegend\":true,\"x\":[2449.008185,3520.610273,1062.7522,851.2411407,543.2552413,339.2964587,1172.667655,1071.310713,1178.665927,1102.990936,780.5423257,2125.621418,1388.594732,2669.529475,1418.822445,375.6431231,328.9405571000001,362.1462796,4293.476475,485.2306591,911.2989371,510.1964923000001,299.850319,853.5409189999998,298.8462121,575.5729961000002,2387.54806,1443.011715,369.1650802,452.3369807,743.1159097,1967.955707,1688.20357,468.5260381,2423.780443,761.879376,1077.281856,2718.885295,493.3238752,879.5835855,1450.356983,879.7877358,1135.749842,4725.295531000002,1615.991129,1148.376626,716.6500721,859.8086567,1468.475631,734.753484,1147.388831,406.8841148],\"xaxis\":\"x\",\"y\":[43.077,30.015,38.223,47.622,31.975,39.031,38.523,35.463,38.092,40.715,39.143,42.111,40.477,34.812,41.893,34.482,35.92800000000001,34.078,37.003,30.0,43.149,33.609,32.5,42.27,42.13800000000001,38.48,42.723,36.681,36.256,33.685,40.543,50.986,42.87300000000001,31.286,41.725,37.444,36.324,52.724,40.0,46.471,37.278,30.331,32.978,45.00899999999999,38.635,41.407,41.215,38.596,44.6,39.978,42.038,48.451],\"yaxis\":\"y\",\"type\":\"scatter\"},{\"hovertemplate\":\"<b>%{hovertext}</b><br><br>continent=Americas<br>year=1952<br>Wealth=%{x}<br>Life Span=%{y}<br>pop=%{marker.size}<extra></extra>\",\"hovertext\":[\"Argentina\",\"Bolivia\",\"Brazil\",\"Canada\",\"Chile\",\"Colombia\",\"Costa Rica\",\"Cuba\",\"Dominican Republic\",\"Ecuador\",\"El Salvador\",\"Guatemala\",\"Haiti\",\"Honduras\",\"Jamaica\",\"Mexico\",\"Nicaragua\",\"Panama\",\"Paraguay\",\"Peru\",\"Puerto Rico\",\"Trinidad and Tobago\",\"United States\",\"Uruguay\",\"Venezuela\"],\"legendgroup\":\"Americas\",\"marker\":{\"color\":\"#ab63fa\",\"size\":[17876956,2883315,56602560,14785584,6377619,12350771,926317,6007797,2491346,3548753,2042865,3146381,3201488,1517453,1426095,30144317,1165790,940080,1555876,8025700,2227000,662850,157553000,2252965,5439568],\"sizemode\":\"area\",\"sizeref\":131868.3096,\"symbol\":\"circle\"},\"mode\":\"markers\",\"name\":\"Americas\",\"orientation\":\"v\",\"showlegend\":true,\"x\":[5911.315053,2677.326347,2108.944355,11367.16112,3939.978789,2144.115096,2627.0094710000008,5586.53878,1397.717137,3522.110717,3048.3029,2428.2377690000008,1840.366939,2194.926204,2898.530881,3478.125529,3112.363948,2480.380334,1952.308701,3758.523437,3081.959785,3023.271928,13990.482080000002,5716.766744,7689.799761],\"xaxis\":\"x\",\"y\":[62.485,40.414,50.917,68.75,54.745,50.643,57.206,59.42100000000001,45.928,48.357,45.262,42.023,37.579,41.912,58.53,50.789,42.31399999999999,55.191,62.649,43.902,64.28,59.1,68.44,66.071,55.088],\"yaxis\":\"y\",\"type\":\"scatter\"},{\"hovertemplate\":\"<b>%{hovertext}</b><br><br>continent=Oceania<br>year=1952<br>Wealth=%{x}<br>Life Span=%{y}<br>pop=%{marker.size}<extra></extra>\",\"hovertext\":[\"Australia\",\"New Zealand\"],\"legendgroup\":\"Oceania\",\"marker\":{\"color\":\"#FFA15A\",\"size\":[8691212,1994794],\"sizemode\":\"area\",\"sizeref\":131868.3096,\"symbol\":\"circle\"},\"mode\":\"markers\",\"name\":\"Oceania\",\"orientation\":\"v\",\"showlegend\":true,\"x\":[10039.59564,10556.57566],\"xaxis\":\"x\",\"y\":[69.12,69.39],\"yaxis\":\"y\",\"type\":\"scatter\"}],\"name\":\"1952\"},{\"data\":[{\"hovertemplate\":\"<b>%{hovertext}</b><br><br>continent=Asia<br>year=1957<br>Wealth=%{x}<br>Life Span=%{y}<br>pop=%{marker.size}<extra></extra>\",\"hovertext\":[\"Afghanistan\",\"Bahrain\",\"Bangladesh\",\"Cambodia\",\"China\",\"Hong Kong, China\",\"India\",\"Indonesia\",\"Iran\",\"Iraq\",\"Israel\",\"Japan\",\"Jordan\",\"Korea, Dem. Rep.\",\"Korea, Rep.\",\"Kuwait\",\"Lebanon\",\"Malaysia\",\"Mongolia\",\"Myanmar\",\"Nepal\",\"Oman\",\"Pakistan\",\"Philippines\",\"Saudi Arabia\",\"Singapore\",\"Sri Lanka\",\"Syria\",\"Taiwan\",\"Thailand\",\"Vietnam\",\"West Bank and Gaza\",\"Yemen, Rep.\"],\"legendgroup\":\"Asia\",\"marker\":{\"color\":\"#636efa\",\"size\":[9240934,138655,51365468,5322536,637408000,2736300,409000000,90124000,19792000,6248643,1944401,91563009,746559,9411381,22611552,212846,1647412,7739235,882134,21731844,9682338,561977,46679944,26072194,4419650,1445929,9128546,4149908,10164215,25041917,28998543,1070439,5498090],\"sizemode\":\"area\",\"sizeref\":131868.3096,\"symbol\":\"circle\"},\"mode\":\"markers\",\"name\":\"Asia\",\"orientation\":\"v\",\"showlegend\":true,\"x\":[820.8530296,11635.79945,661.6374577,434.0383364,575.9870009,3629.076457,590.061996,858.9002707000002,3290.257643,6229.333562,5385.278451,4317.694365,1886.080591,1571.134655,1487.593537,113523.1329,6089.786934000002,1810.0669920000007,912.6626085,350.0,597.9363557999999,2242.746551,747.0835292,1547.944844,8157.5912480000015,2843.104409,1072.546602,2117.234893,1507.86129,793.5774147999998,676.2854477999998,1827.067742,804.8304547],\"xaxis\":\"x\",\"y\":[30.332,53.832,39.348,41.36600000000001,50.54896,64.75,40.249,39.918,47.181,48.437,67.84,65.5,45.669,54.081,52.681,58.033,59.489,52.102,45.24800000000001,41.905,37.686,40.08,45.557,51.334,42.868,63.179,61.456,48.284,62.4,53.63,42.887,45.67100000000001,33.97],\"yaxis\":\"y\",\"type\":\"scatter\"},{\"hovertemplate\":\"<b>%{hovertext}</b><br><br>continent=Europe<br>year=1957<br>Wealth=%{x}<br>Life Span=%{y}<br>pop=%{marker.size}<extra></extra>\",\"hovertext\":[\"Albania\",\"Austria\",\"Belgium\",\"Bosnia and Herzegovina\",\"Bulgaria\",\"Croatia\",\"Czech Republic\",\"Denmark\",\"Finland\",\"France\",\"Germany\",\"Greece\",\"Hungary\",\"Iceland\",\"Ireland\",\"Italy\",\"Montenegro\",\"Netherlands\",\"Norway\",\"Poland\",\"Portugal\",\"Romania\",\"Serbia\",\"Slovak Republic\",\"Slovenia\",\"Spain\",\"Sweden\",\"Switzerland\",\"Turkey\",\"United Kingdom\"],\"legendgroup\":\"Europe\",\"marker\":{\"color\":\"#EF553B\",\"size\":[1476505,6965860,8989111,3076000,7651254,3991242,9513758,4487831,4324000,44310863,71019069,8096218,9839000,165110,2878220,49182000,442829,11026383,3491938,28235346,8817650,17829327,7271135,3844277,1533070,29841614,7363802,5126000,25670939,51430000],\"sizemode\":\"area\",\"sizeref\":131868.3096,\"symbol\":\"circle\"},\"mode\":\"markers\",\"name\":\"Europe\",\"orientation\":\"v\",\"showlegend\":true,\"x\":[1942.284244,8842.59803,9714.960623,1353.989176,3008.670727,4338.231617,8256.343918,11099.65935,7545.415386,8662.834898000001,10187.82665,4916.299889,6040.180011,9244.001412,5599.077872,6248.656232,3682.259903,11276.19344,11653.97304,4734.253019,3774.571743,3943.370225,4981.090891,6093.26298,5862.276629,4564.80241,9911.878226,17909.48973,2218.754257,11283.17795],\"xaxis\":\"x\",\"y\":[59.28,67.48,69.24,58.45,66.61,64.77,69.03,71.81,67.49,68.93,69.1,67.86,66.41,73.47,68.9,67.81,61.448,72.99,73.44,65.77,61.51,64.1,61.685,67.45,67.85,66.66,72.49,70.56,48.07899999999999,70.42],\"yaxis\":\"y\",\"type\":\"scatter\"},{\"hovertemplate\":\"<b>%{hovertext}</b><br><br>continent=Africa<br>year=1957<br>Wealth=%{x}<br>Life Span=%{y}<br>pop=%{marker.size}<extra></extra>\",\"hovertext\":[\"Algeria\",\"Angola\",\"Benin\",\"Botswana\",\"Burkina Faso\",\"Burundi\",\"Cameroon\",\"Central African Republic\",\"Chad\",\"Comoros\",\"Congo, Dem. Rep.\",\"Congo, Rep.\",\"Cote d'Ivoire\",\"Djibouti\",\"Egypt\",\"Equatorial Guinea\",\"Eritrea\",\"Ethiopia\",\"Gabon\",\"Gambia\",\"Ghana\",\"Guinea\",\"Guinea-Bissau\",\"Kenya\",\"Lesotho\",\"Liberia\",\"Libya\",\"Madagascar\",\"Malawi\",\"Mali\",\"Mauritania\",\"Mauritius\",\"Morocco\",\"Mozambique\",\"Namibia\",\"Niger\",\"Nigeria\",\"Reunion\",\"Rwanda\",\"Sao Tome and Principe\",\"Senegal\",\"Sierra Leone\",\"Somalia\",\"South Africa\",\"Sudan\",\"Swaziland\",\"Tanzania\",\"Togo\",\"Tunisia\",\"Uganda\",\"Zambia\",\"Zimbabwe\"],\"legendgroup\":\"Africa\",\"marker\":{\"color\":\"#00cc96\",\"size\":[10270856,4561361,1925173,474639,4713416,2667518,5359923,1392284,2894855,170928,15577932,940458,3300000,71851,25009741,232922,1542611,22815614,434904,323150,6391288,2876726,601095,7454779,813338,975950,1201578,5181679,3221238,4241884,1076852,609816,11406350,7038035,548080,3692184,37173340,308700,2822082,61325,3054547,2295678,2780415,16151549,9753392,326741,9452826,1357445,3950849,6675501,3016000,3646340],\"sizemode\":\"area\",\"sizeref\":131868.3096,\"symbol\":\"circle\"},\"mode\":\"markers\",\"name\":\"Africa\",\"orientation\":\"v\",\"showlegend\":true,\"x\":[3013.976023,3827.940465,959.6010805,918.2325349,617.1834647999998,379.5646281000001,1313.048099,1190.844328,1308.495577,1211.148548,905.8602303,2315.056572,1500.895925,2864.9690760000008,1458.915272,426.0964081,344.1618859,378.9041632,4976.198099,520.9267111,1043.5615369999996,576.2670245,431.79045660000014,944.4383152,335.9971151000001,620.9699901,3448.284395,1589.20275,416.3698064,490.3821867,846.1202613,2034.037981,1642.002314,495.58683330000014,2621.448058,835.5234025000002,1100.5925630000004,2769.451844,540.2893982999999,860.7369026,1567.653006,1004.484437,1258.147413,5487.104219,1770.3370739999998,1244.708364,698.5356073,925.9083202,1395.232468,774.3710692000002,1311.956766,518.7642681],\"xaxis\":\"x\",\"y\":[45.685,31.999,40.358,49.618,34.906,40.533,40.428,37.464,39.881,42.46,40.652,45.053,42.469,37.328,44.444,35.98300000000001,38.047,36.667,38.999,32.065,44.779,34.558,33.489000000000004,44.68600000000001,45.047,39.486,45.289,38.865,37.207,35.30699999999999,42.338,58.089,45.423,33.779,45.226000000000006,38.598,37.802,55.09,41.5,48.945,39.329,31.57,34.977,47.985,39.624,43.424,42.974,41.208,47.1,42.57100000000001,44.077,50.469],\"yaxis\":\"y\",\"type\":\"scatter\"},{\"hovertemplate\":\"<b>%{hovertext}</b><br><br>continent=Americas<br>year=1957<br>Wealth=%{x}<br>Life Span=%{y}<br>pop=%{marker.size}<extra></extra>\",\"hovertext\":[\"Argentina\",\"Bolivia\",\"Brazil\",\"Canada\",\"Chile\",\"Colombia\",\"Costa Rica\",\"Cuba\",\"Dominican Republic\",\"Ecuador\",\"El Salvador\",\"Guatemala\",\"Haiti\",\"Honduras\",\"Jamaica\",\"Mexico\",\"Nicaragua\",\"Panama\",\"Paraguay\",\"Peru\",\"Puerto Rico\",\"Trinidad and Tobago\",\"United States\",\"Uruguay\",\"Venezuela\"],\"legendgroup\":\"Americas\",\"marker\":{\"color\":\"#ab63fa\",\"size\":[19610538,3211738,65551171,17010154,7048426,14485993,1112300,6640752,2923186,4058385,2355805,3640876,3507701,1770390,1535090,35015548,1358828,1063506,1770902,9146100,2260000,764900,171984000,2424959,6702668],\"sizemode\":\"area\",\"sizeref\":131868.3096,\"symbol\":\"circle\"},\"mode\":\"markers\",\"name\":\"Americas\",\"orientation\":\"v\",\"showlegend\":true,\"x\":[6856.8562120000015,2127.686326,2487.365989,12489.95006,4315.622723,2323.805581,2990.010802,6092.1743590000015,1544.402995,3780.546651,3421.523218,2617.155967,1726.887882,2220.487682,4756.525781,4131.546641,3457.415947,2961.800905,2046.154706,4245.256697999999,3907.156189,4100.3934,14847.12712,6150.772969,9802.466526],\"xaxis\":\"x\",\"y\":[64.399,41.89,53.285,69.96,56.074,55.118,60.026,62.325,49.828,51.356,48.57,44.142,40.696,44.665,62.61,55.19,45.432,59.201,63.19600000000001,46.26300000000001,68.54,61.8,69.49,67.044,57.907],\"yaxis\":\"y\",\"type\":\"scatter\"},{\"hovertemplate\":\"<b>%{hovertext}</b><br><br>continent=Oceania<br>year=1957<br>Wealth=%{x}<br>Life Span=%{y}<br>pop=%{marker.size}<extra></extra>\",\"hovertext\":[\"Australia\",\"New Zealand\"],\"legendgroup\":\"Oceania\",\"marker\":{\"color\":\"#FFA15A\",\"size\":[9712569,2229407],\"sizemode\":\"area\",\"sizeref\":131868.3096,\"symbol\":\"circle\"},\"mode\":\"markers\",\"name\":\"Oceania\",\"orientation\":\"v\",\"showlegend\":true,\"x\":[10949.64959,12247.39532],\"xaxis\":\"x\",\"y\":[70.33,70.26],\"yaxis\":\"y\",\"type\":\"scatter\"}],\"name\":\"1957\"},{\"data\":[{\"hovertemplate\":\"<b>%{hovertext}</b><br><br>continent=Asia<br>year=1962<br>Wealth=%{x}<br>Life Span=%{y}<br>pop=%{marker.size}<extra></extra>\",\"hovertext\":[\"Afghanistan\",\"Bahrain\",\"Bangladesh\",\"Cambodia\",\"China\",\"Hong Kong, China\",\"India\",\"Indonesia\",\"Iran\",\"Iraq\",\"Israel\",\"Japan\",\"Jordan\",\"Korea, Dem. Rep.\",\"Korea, Rep.\",\"Kuwait\",\"Lebanon\",\"Malaysia\",\"Mongolia\",\"Myanmar\",\"Nepal\",\"Oman\",\"Pakistan\",\"Philippines\",\"Saudi Arabia\",\"Singapore\",\"Sri Lanka\",\"Syria\",\"Taiwan\",\"Thailand\",\"Vietnam\",\"West Bank and Gaza\",\"Yemen, Rep.\"],\"legendgroup\":\"Asia\",\"marker\":{\"color\":\"#636efa\",\"size\":[10267083,171863,56839289,6083619,665770000,3305200,454000000,99028000,22874000,7240260,2310904,95831757,933559,10917494,26420307,358266,1886848,8906385,1010280,23634436,10332057,628164,53100671,30325264,4943029,1750200,10421936,4834621,11918938,29263397,33796140,1133134,6120081],\"sizemode\":\"area\",\"sizeref\":131868.3096,\"symbol\":\"circle\"},\"mode\":\"markers\",\"name\":\"Asia\",\"orientation\":\"v\",\"showlegend\":true,\"x\":[853.1007099999998,12753.27514,686.3415537999998,496.9136476,487.6740183,4692.648271999999,658.3471509,849.2897700999998,4187.329802,8341.737815,7105.630706,6576.649461,2348.009158,1621.693598,1536.344387,95458.11176,5714.560611,2036.884944,1056.353958,388.0,652.3968593,2924.638113,803.3427418,1649.552153,11626.41975,3674.735572,1074.47196,2193.037133,1822.879028,1002.199172,772.0491602000002,2198.9563120000007,825.6232006],\"xaxis\":\"x\",\"y\":[31.997,56.923,41.216,43.415,44.50136,67.65,43.605,42.518,49.325,51.457,69.39,68.73,48.12600000000001,56.65600000000001,55.292,60.47,62.094,55.737,48.25100000000001,45.108,39.393,43.165,47.67,54.757,45.914,65.798,62.192,50.305,65.2,56.06100000000001,45.363,48.127,35.18],\"yaxis\":\"y\",\"type\":\"scatter\"},{\"hovertemplate\":\"<b>%{hovertext}</b><br><br>continent=Europe<br>year=1962<br>Wealth=%{x}<br>Life Span=%{y}<br>pop=%{marker.size}<extra></extra>\",\"hovertext\":[\"Albania\",\"Austria\",\"Belgium\",\"Bosnia and Herzegovina\",\"Bulgaria\",\"Croatia\",\"Czech Republic\",\"Denmark\",\"Finland\",\"France\",\"Germany\",\"Greece\",\"Hungary\",\"Iceland\",\"Ireland\",\"Italy\",\"Montenegro\",\"Netherlands\",\"Norway\",\"Poland\",\"Portugal\",\"Romania\",\"Serbia\",\"Slovak Republic\",\"Slovenia\",\"Spain\",\"Sweden\",\"Switzerland\",\"Turkey\",\"United Kingdom\"],\"legendgroup\":\"Europe\",\"marker\":{\"color\":\"#EF553B\",\"size\":[1728137,7129864,9218400,3349000,8012946,4076557,9620282,4646899,4491443,47124000,73739117,8448233,10063000,182053,2830000,50843200,474528,11805689,3638919,30329617,9019800,18680721,7616060,4237384,1582962,31158061,7561588,5666000,29788695,53292000],\"sizemode\":\"area\",\"sizeref\":131868.3096,\"symbol\":\"circle\"},\"mode\":\"markers\",\"name\":\"Europe\",\"orientation\":\"v\",\"showlegend\":true,\"x\":[2312.888958,10750.72111,10991.20676,1709.683679,4254.337839,5477.890018,10136.86713,13583.31351,9371.842561,10560.48553,12902.46291,6017.190732999999,7550.359877,10350.15906,6631.597314,8243.58234,4649.593785,12790.84956,13450.40151,5338.752143,4727.954889,4734.997586,6289.629157,7481.107598,7402.303395,5693.843879,12329.44192,20431.0927,2322.869908,12477.17707],\"xaxis\":\"x\",\"y\":[64.82,69.54,70.25,61.93,69.51,67.13,69.9,72.35,68.75,70.51,70.3,69.51,67.96,73.68,70.29,69.24,63.728,73.23,73.47,67.64,64.39,66.8,64.531,70.33,69.15,69.69,73.37,71.32,52.098,70.76],\"yaxis\":\"y\",\"type\":\"scatter\"},{\"hovertemplate\":\"<b>%{hovertext}</b><br><br>continent=Africa<br>year=1962<br>Wealth=%{x}<br>Life Span=%{y}<br>pop=%{marker.size}<extra></extra>\",\"hovertext\":[\"Algeria\",\"Angola\",\"Benin\",\"Botswana\",\"Burkina Faso\",\"Burundi\",\"Cameroon\",\"Central African Republic\",\"Chad\",\"Comoros\",\"Congo, Dem. Rep.\",\"Congo, Rep.\",\"Cote d'Ivoire\",\"Djibouti\",\"Egypt\",\"Equatorial Guinea\",\"Eritrea\",\"Ethiopia\",\"Gabon\",\"Gambia\",\"Ghana\",\"Guinea\",\"Guinea-Bissau\",\"Kenya\",\"Lesotho\",\"Liberia\",\"Libya\",\"Madagascar\",\"Malawi\",\"Mali\",\"Mauritania\",\"Mauritius\",\"Morocco\",\"Mozambique\",\"Namibia\",\"Niger\",\"Nigeria\",\"Reunion\",\"Rwanda\",\"Sao Tome and Principe\",\"Senegal\",\"Sierra Leone\",\"Somalia\",\"South Africa\",\"Sudan\",\"Swaziland\",\"Tanzania\",\"Togo\",\"Tunisia\",\"Uganda\",\"Zambia\",\"Zimbabwe\"],\"legendgroup\":\"Africa\",\"marker\":{\"color\":\"#00cc96\",\"size\":[11000948,4826015,2151895,512764,4919632,2961915,5793633,1523478,3150417,191689,17486434,1047924,3832408,89898,28173309,249220,1666618,25145372,455661,374020,7355248,3140003,627820,8678557,893143,1112796,1441863,5703324,3628608,4690372,1146757,701016,13056604,7788944,621392,4076008,41871351,358900,3051242,65345,3430243,2467895,3080153,18356657,11183227,370006,10863958,1528098,4286552,7688797,3421000,4277736],\"sizemode\":\"area\",\"sizeref\":131868.3096,\"symbol\":\"circle\"},\"mode\":\"markers\",\"name\":\"Africa\",\"orientation\":\"v\",\"showlegend\":true,\"x\":[2550.81688,4269.276742,949.4990641,983.6539764,722.5120206,355.2032273,1399.607441,1193.068753,1389.817618,1406.648278,896.3146335000001,2464.783157,1728.8694280000002,3020.989263,1693.335853,582.8419713999998,380.9958433000001,419.4564161,6631.459222,599.650276,1190.041118,686.3736739,522.0343725,896.9663732,411.8006266,634.1951625,6757.030816,1643.38711,427.9010856,496.1743428,1055.896036,2529.0674870000007,1566.353493,556.6863539,3173.215595,997.7661127,1150.9274779999996,3173.72334,597.4730727000001,1071.551119,1654.988723,1116.6398769999996,1369.488336,5768.729717,1959.593767,1856.182125,722.0038073,1067.53481,1660.30321,767.2717397999999,1452.725766,527.2721818],\"xaxis\":\"x\",\"y\":[48.303,34.0,42.618,51.52,37.814,42.045,42.643,39.475,41.716,44.467,42.122,48.435,44.93,39.69300000000001,46.992,37.485,40.158,40.059,40.489,33.896,46.452,35.753,34.488,47.949,47.747,40.502,47.808,40.848,38.41,36.936,44.24800000000001,60.246,47.924,36.161,48.386,39.487,39.36,57.666,43.0,51.893,41.45399999999999,32.767,36.981,49.951,40.87,44.992,44.246,43.922,49.57899999999999,45.344,46.023,52.358],\"yaxis\":\"y\",\"type\":\"scatter\"},{\"hovertemplate\":\"<b>%{hovertext}</b><br><br>continent=Americas<br>year=1962<br>Wealth=%{x}<br>Life Span=%{y}<br>pop=%{marker.size}<extra></extra>\",\"hovertext\":[\"Argentina\",\"Bolivia\",\"Brazil\",\"Canada\",\"Chile\",\"Colombia\",\"Costa Rica\",\"Cuba\",\"Dominican Republic\",\"Ecuador\",\"El Salvador\",\"Guatemala\",\"Haiti\",\"Honduras\",\"Jamaica\",\"Mexico\",\"Nicaragua\",\"Panama\",\"Paraguay\",\"Peru\",\"Puerto Rico\",\"Trinidad and Tobago\",\"United States\",\"Uruguay\",\"Venezuela\"],\"legendgroup\":\"Americas\",\"marker\":{\"color\":\"#ab63fa\",\"size\":[21283783,3593918,76039390,18985849,7961258,17009885,1345187,7254373,3453434,4681707,2747687,4208858,3880130,2090162,1665128,41121485,1590597,1215725,2009813,10516500,2448046,887498,186538000,2598466,8143375],\"sizemode\":\"area\",\"sizeref\":131868.3096,\"symbol\":\"circle\"},\"mode\":\"markers\",\"name\":\"Americas\",\"orientation\":\"v\",\"showlegend\":true,\"x\":[7133.166023000002,2180.972546,3336.585802,13462.48555,4519.094331,2492.351109,3460.937025,5180.75591,1662.137359,4086.114078,3776.803627,2750.364446,1796.589032,2291.156835,5246.107524,4581.609385,3634.364406,3536.540301,2148.027146,4957.037982,5108.34463,4997.523971000001,16173.14586,5603.357717,8422.974165000001],\"xaxis\":\"x\",\"y\":[65.142,43.428,55.665,71.3,57.924,57.863,62.842,65.24600000000001,53.459,54.64,52.307,46.95399999999999,43.59,48.041,65.61,58.299,48.632,61.817,64.361,49.096,69.62,64.9,70.21,68.253,60.77],\"yaxis\":\"y\",\"type\":\"scatter\"},{\"hovertemplate\":\"<b>%{hovertext}</b><br><br>continent=Oceania<br>year=1962<br>Wealth=%{x}<br>Life Span=%{y}<br>pop=%{marker.size}<extra></extra>\",\"hovertext\":[\"Australia\",\"New Zealand\"],\"legendgroup\":\"Oceania\",\"marker\":{\"color\":\"#FFA15A\",\"size\":[10794968,2488550],\"sizemode\":\"area\",\"sizeref\":131868.3096,\"symbol\":\"circle\"},\"mode\":\"markers\",\"name\":\"Oceania\",\"orientation\":\"v\",\"showlegend\":true,\"x\":[12217.22686,13175.678],\"xaxis\":\"x\",\"y\":[70.93,71.24],\"yaxis\":\"y\",\"type\":\"scatter\"}],\"name\":\"1962\"},{\"data\":[{\"hovertemplate\":\"<b>%{hovertext}</b><br><br>continent=Asia<br>year=1967<br>Wealth=%{x}<br>Life Span=%{y}<br>pop=%{marker.size}<extra></extra>\",\"hovertext\":[\"Afghanistan\",\"Bahrain\",\"Bangladesh\",\"Cambodia\",\"China\",\"Hong Kong, China\",\"India\",\"Indonesia\",\"Iran\",\"Iraq\",\"Israel\",\"Japan\",\"Jordan\",\"Korea, Dem. Rep.\",\"Korea, Rep.\",\"Kuwait\",\"Lebanon\",\"Malaysia\",\"Mongolia\",\"Myanmar\",\"Nepal\",\"Oman\",\"Pakistan\",\"Philippines\",\"Saudi Arabia\",\"Singapore\",\"Sri Lanka\",\"Syria\",\"Taiwan\",\"Thailand\",\"Vietnam\",\"West Bank and Gaza\",\"Yemen, Rep.\"],\"legendgroup\":\"Asia\",\"marker\":{\"color\":\"#636efa\",\"size\":[11537966,202182,62821884,6960067,754550000,3722800,506000000,109343000,26538000,8519282,2693585,100825279,1255058,12617009,30131000,575003,2186894,10154878,1149500,25870271,11261690,714775,60641899,35356600,5618198,1977600,11737396,5680812,13648692,34024249,39463910,1142636,6740785],\"sizemode\":\"area\",\"sizeref\":131868.3096,\"symbol\":\"circle\"},\"mode\":\"markers\",\"name\":\"Asia\",\"orientation\":\"v\",\"showlegend\":true,\"x\":[836.1971382,14804.6727,721.1860862000002,523.4323142,612.7056934,6197.962814,700.7706107000001,762.4317721,5906.731804999999,8931.459811,8393.741404,9847.788607,2741.796252,2143.540609,2029.228142,80894.88326,6006.983042,2277.742396,1226.04113,349.0,676.4422254,4720.942687,942.4082588,1814.12743,16903.04886,4977.41854,1135.514326,1881.923632,2643.858681,1295.46066,637.1232887,2649.715007,862.4421463],\"xaxis\":\"x\",\"y\":[34.02,59.923,43.453,45.415,58.38112,70.0,47.19300000000001,45.964,52.469,54.459,70.75,71.43,51.629,59.942,57.716,64.624,63.87,59.371,51.253,49.379,41.472,46.988,49.8,56.393,49.901,67.946,64.266,53.655,67.5,58.285,47.838,51.631,36.984],\"yaxis\":\"y\",\"type\":\"scatter\"},{\"hovertemplate\":\"<b>%{hovertext}</b><br><br>continent=Europe<br>year=1967<br>Wealth=%{x}<br>Life Span=%{y}<br>pop=%{marker.size}<extra></extra>\",\"hovertext\":[\"Albania\",\"Austria\",\"Belgium\",\"Bosnia and Herzegovina\",\"Bulgaria\",\"Croatia\",\"Czech Republic\",\"Denmark\",\"Finland\",\"France\",\"Germany\",\"Greece\",\"Hungary\",\"Iceland\",\"Ireland\",\"Italy\",\"Montenegro\",\"Netherlands\",\"Norway\",\"Poland\",\"Portugal\",\"Romania\",\"Serbia\",\"Slovak Republic\",\"Slovenia\",\"Spain\",\"Sweden\",\"Switzerland\",\"Turkey\",\"United Kingdom\"],\"legendgroup\":\"Europe\",\"marker\":{\"color\":\"#EF553B\",\"size\":[1984060,7376998,9556500,3585000,8310226,4174366,9835109,4838800,4605744,49569000,76368453,8716441,10223422,198676,2900100,52667100,501035,12596822,3786019,31785378,9103000,19284814,7971222,4442238,1646912,32850275,7867931,6063000,33411317,54959000],\"sizemode\":\"area\",\"sizeref\":131868.3096,\"symbol\":\"circle\"},\"mode\":\"markers\",\"name\":\"Europe\",\"orientation\":\"v\",\"showlegend\":true,\"x\":[2760.196931,12834.6024,13149.04119,2172.3524230000007,5577.0028,6960.297861,11399.44489,15937.21123,10921.63626,12999.91766,14745.62561,8513.097016,9326.64467,13319.89568,7655.568963,10022.40131,5907.850937,15363.25136,16361.87647,6557.152776,6361.517993,6470.866545,7991.707066,8412.902397,9405.489397,7993.512294,15258.29697,22966.14432,2826.3563870000007,14142.85089],\"xaxis\":\"x\",\"y\":[66.22,70.14,70.94,64.79,70.42,68.5,70.38,72.96,69.83,71.55,70.8,71.0,69.5,73.73,71.08,71.06,67.178,73.82,74.08,69.61,66.6,66.8,66.914,70.98,69.18,71.44,74.16,72.77,54.33600000000001,71.36],\"yaxis\":\"y\",\"type\":\"scatter\"},{\"hovertemplate\":\"<b>%{hovertext}</b><br><br>continent=Africa<br>year=1967<br>Wealth=%{x}<br>Life Span=%{y}<br>pop=%{marker.size}<extra></extra>\",\"hovertext\":[\"Algeria\",\"Angola\",\"Benin\",\"Botswana\",\"Burkina Faso\",\"Burundi\",\"Cameroon\",\"Central African Republic\",\"Chad\",\"Comoros\",\"Congo, Dem. Rep.\",\"Congo, Rep.\",\"Cote d'Ivoire\",\"Djibouti\",\"Egypt\",\"Equatorial Guinea\",\"Eritrea\",\"Ethiopia\",\"Gabon\",\"Gambia\",\"Ghana\",\"Guinea\",\"Guinea-Bissau\",\"Kenya\",\"Lesotho\",\"Liberia\",\"Libya\",\"Madagascar\",\"Malawi\",\"Mali\",\"Mauritania\",\"Mauritius\",\"Morocco\",\"Mozambique\",\"Namibia\",\"Niger\",\"Nigeria\",\"Reunion\",\"Rwanda\",\"Sao Tome and Principe\",\"Senegal\",\"Sierra Leone\",\"Somalia\",\"South Africa\",\"Sudan\",\"Swaziland\",\"Tanzania\",\"Togo\",\"Tunisia\",\"Uganda\",\"Zambia\",\"Zimbabwe\"],\"legendgroup\":\"Africa\",\"marker\":{\"color\":\"#00cc96\",\"size\":[12760499,5247469,2427334,553541,5127935,3330989,6335506,1733638,3495967,217378,19941073,1179760,4744870,127617,31681188,259864,1820319,27860297,489004,439593,8490213,3451418,601287,10191512,996380,1279406,1759224,6334556,4147252,5212416,1230542,789309,14770296,8680909,706640,4534062,47287752,414024,3451079,70787,3965841,2662190,3428839,20997321,12716129,420690,12607312,1735550,4786986,8900294,3900000,4995432],\"sizemode\":\"area\",\"sizeref\":131868.3096,\"symbol\":\"circle\"},\"mode\":\"markers\",\"name\":\"Africa\",\"orientation\":\"v\",\"showlegend\":true,\"x\":[3246.991771,5522.776375,1035.831411,1214.709294,794.8265597,412.97751360000007,1508.453148,1136.056615,1196.810565,1876.029643,861.5932424,2677.9396420000007,2052.050473,3020.050513,1814.880728,915.5960025,468.7949699,516.1186438,8358.761987,734.7829124,1125.69716,708.7595409,715.5806402000002,1056.736457,498.6390265,713.6036482999998,18772.75169,1634.047282,495.5147806,545.0098873,1421.145193,2475.387562,1711.04477,566.6691539,3793.694753,1054.384891,1014.514104,4021.175739,510.9637142,1384.840593,1612.404632,1206.043465,1284.7331800000004,7114.477970999998,1687.997641,2613.101665,848.2186575,1477.59676,1932.3601670000005,908.9185217,1777.077318,569.7950712],\"xaxis\":\"x\",\"y\":[51.407,35.985,44.885,53.298,40.697,43.548,44.799,41.478,43.601000000000006,46.472,44.056,52.04,47.35,42.074,49.293,38.987,42.18899999999999,42.115,44.598,35.857,48.072,37.197,35.492,50.654,48.492,41.536,50.227,42.881,39.487,38.487,46.289,61.557,50.335,38.113,51.159,40.118,41.04,60.542,44.1,54.425,43.563,34.113,38.977,51.927,42.858,46.633,45.757,46.769,52.053,48.051,47.768,53.995],\"yaxis\":\"y\",\"type\":\"scatter\"},{\"hovertemplate\":\"<b>%{hovertext}</b><br><br>continent=Americas<br>year=1967<br>Wealth=%{x}<br>Life Span=%{y}<br>pop=%{marker.size}<extra></extra>\",\"hovertext\":[\"Argentina\",\"Bolivia\",\"Brazil\",\"Canada\",\"Chile\",\"Colombia\",\"Costa Rica\",\"Cuba\",\"Dominican Republic\",\"Ecuador\",\"El Salvador\",\"Guatemala\",\"Haiti\",\"Honduras\",\"Jamaica\",\"Mexico\",\"Nicaragua\",\"Panama\",\"Paraguay\",\"Peru\",\"Puerto Rico\",\"Trinidad and Tobago\",\"United States\",\"Uruguay\",\"Venezuela\"],\"legendgroup\":\"Americas\",\"marker\":{\"color\":\"#ab63fa\",\"size\":[22934225,4040665,88049823,20819767,8858908,19764027,1588717,8139332,4049146,5432424,3232927,4690773,4318137,2500689,1861096,47995559,1865490,1405486,2287985,12132200,2648961,960155,198712000,2748579,9709552],\"sizemode\":\"area\",\"sizeref\":131868.3096,\"symbol\":\"circle\"},\"mode\":\"markers\",\"name\":\"Americas\",\"orientation\":\"v\",\"showlegend\":true,\"x\":[8052.953020999998,2586.886053,3429.864357,16076.58803,5106.654313,2678.729839,4161.727834,5690.268015,1653.7230029999996,4579.074215,4358.595393,3242.531147,1452.057666,2538.269358,6124.703450999999,5754.733883,4643.393534000002,4421.009084,2299.376311,5788.09333,6929.277714,5621.368472,19530.36557,5444.61962,9541.474188],\"xaxis\":\"x\",\"y\":[65.634,45.032,57.632,72.13,60.523,59.963,65.42399999999999,68.29,56.75100000000001,56.678,55.855,50.01600000000001,46.243,50.924,67.51,60.11,51.88399999999999,64.071,64.95100000000001,51.445,71.1,65.4,70.76,68.468,63.479],\"yaxis\":\"y\",\"type\":\"scatter\"},{\"hovertemplate\":\"<b>%{hovertext}</b><br><br>continent=Oceania<br>year=1967<br>Wealth=%{x}<br>Life Span=%{y}<br>pop=%{marker.size}<extra></extra>\",\"hovertext\":[\"Australia\",\"New Zealand\"],\"legendgroup\":\"Oceania\",\"marker\":{\"color\":\"#FFA15A\",\"size\":[11872264,2728150],\"sizemode\":\"area\",\"sizeref\":131868.3096,\"symbol\":\"circle\"},\"mode\":\"markers\",\"name\":\"Oceania\",\"orientation\":\"v\",\"showlegend\":true,\"x\":[14526.12465,14463.918930000002],\"xaxis\":\"x\",\"y\":[71.1,71.52],\"yaxis\":\"y\",\"type\":\"scatter\"}],\"name\":\"1967\"},{\"data\":[{\"hovertemplate\":\"<b>%{hovertext}</b><br><br>continent=Asia<br>year=1972<br>Wealth=%{x}<br>Life Span=%{y}<br>pop=%{marker.size}<extra></extra>\",\"hovertext\":[\"Afghanistan\",\"Bahrain\",\"Bangladesh\",\"Cambodia\",\"China\",\"Hong Kong, China\",\"India\",\"Indonesia\",\"Iran\",\"Iraq\",\"Israel\",\"Japan\",\"Jordan\",\"Korea, Dem. Rep.\",\"Korea, Rep.\",\"Kuwait\",\"Lebanon\",\"Malaysia\",\"Mongolia\",\"Myanmar\",\"Nepal\",\"Oman\",\"Pakistan\",\"Philippines\",\"Saudi Arabia\",\"Singapore\",\"Sri Lanka\",\"Syria\",\"Taiwan\",\"Thailand\",\"Vietnam\",\"West Bank and Gaza\",\"Yemen, Rep.\"],\"legendgroup\":\"Asia\",\"marker\":{\"color\":\"#636efa\",\"size\":[13079460,230800,70759295,7450606,862030000,4115700,567000000,121282000,30614000,10061506,3095893,107188273,1613551,14781241,33505000,841934,2680018,11441462,1320500,28466390,12412593,829050,69325921,40850141,6472756,2152400,13016733,6701172,15226039,39276153,44655014,1089572,7407075],\"sizemode\":\"area\",\"sizeref\":131868.3096,\"symbol\":\"circle\"},\"mode\":\"markers\",\"name\":\"Asia\",\"orientation\":\"v\",\"showlegend\":true,\"x\":[739.9811057999998,18268.65839,630.2336265,421.6240257,676.9000921,8315.928145,724.032527,1111.107907,9613.818607,9576.037596,12786.93223,14778.78636,2110.856309,3701.621503,3030.87665,109347.867,7486.384341,2849.09478,1421.741975,357.0,674.7881296,10618.03855,1049.938981,1989.37407,24837.42865,8597.756202,1213.39553,2571.423014,4062.523897,1524.358936,699.5016441,3133.409277,1265.047031],\"xaxis\":\"x\",\"y\":[36.088,63.3,45.252,40.317,63.11888,72.0,50.651,49.203,55.234,56.95,71.63,73.42,56.528,63.983,62.612,67.712,65.421,63.01,53.754,53.07,43.971,52.143,51.929,58.065,53.886,69.521,65.042,57.29600000000001,69.39,60.405,50.254,56.532,39.848],\"yaxis\":\"y\",\"type\":\"scatter\"},{\"hovertemplate\":\"<b>%{hovertext}</b><br><br>continent=Europe<br>year=1972<br>Wealth=%{x}<br>Life Span=%{y}<br>pop=%{marker.size}<extra></extra>\",\"hovertext\":[\"Albania\",\"Austria\",\"Belgium\",\"Bosnia and Herzegovina\",\"Bulgaria\",\"Croatia\",\"Czech Republic\",\"Denmark\",\"Finland\",\"France\",\"Germany\",\"Greece\",\"Hungary\",\"Iceland\",\"Ireland\",\"Italy\",\"Montenegro\",\"Netherlands\",\"Norway\",\"Poland\",\"Portugal\",\"Romania\",\"Serbia\",\"Slovak Republic\",\"Slovenia\",\"Spain\",\"Sweden\",\"Switzerland\",\"Turkey\",\"United Kingdom\"],\"legendgroup\":\"Europe\",\"marker\":{\"color\":\"#EF553B\",\"size\":[2263554,7544201,9709100,3819000,8576200,4225310,9862158,4991596,4639657,51732000,78717088,8888628,10394091,209275,3024400,54365564,527678,13329874,3933004,33039545,8970450,20662648,8313288,4593433,1694510,34513161,8122293,6401400,37492953,56079000],\"sizemode\":\"area\",\"sizeref\":131868.3096,\"symbol\":\"circle\"},\"mode\":\"markers\",\"name\":\"Europe\",\"orientation\":\"v\",\"showlegend\":true,\"x\":[3313.422188,16661.6256,16672.14356,2860.16975,6597.494398,9164.090127,13108.4536,18866.20721,14358.8759,16107.19171,18016.18027,12724.82957,10168.65611,15798.06362,9530.772896,12269.27378,7778.414017,18794.74567,18965.05551,8006.506993000001,9022.247417,8011.4144019999985,10522.06749,9674.167626,12383.4862,10638.75131,17832.02464,27195.11304,3450.69638,15895.11641],\"xaxis\":\"x\",\"y\":[67.69,70.63,71.44,67.45,70.9,69.61,70.29,73.47,70.87,72.38,71.0,72.34,69.76,74.46,71.28,72.19,70.63600000000002,73.75,74.34,70.85,69.26,69.21,68.7,70.35,69.82,73.06,74.72,73.78,57.005,72.01],\"yaxis\":\"y\",\"type\":\"scatter\"},{\"hovertemplate\":\"<b>%{hovertext}</b><br><br>continent=Africa<br>year=1972<br>Wealth=%{x}<br>Life Span=%{y}<br>pop=%{marker.size}<extra></extra>\",\"hovertext\":[\"Algeria\",\"Angola\",\"Benin\",\"Botswana\",\"Burkina Faso\",\"Burundi\",\"Cameroon\",\"Central African Republic\",\"Chad\",\"Comoros\",\"Congo, Dem. Rep.\",\"Congo, Rep.\",\"Cote d'Ivoire\",\"Djibouti\",\"Egypt\",\"Equatorial Guinea\",\"Eritrea\",\"Ethiopia\",\"Gabon\",\"Gambia\",\"Ghana\",\"Guinea\",\"Guinea-Bissau\",\"Kenya\",\"Lesotho\",\"Liberia\",\"Libya\",\"Madagascar\",\"Malawi\",\"Mali\",\"Mauritania\",\"Mauritius\",\"Morocco\",\"Mozambique\",\"Namibia\",\"Niger\",\"Nigeria\",\"Reunion\",\"Rwanda\",\"Sao Tome and Principe\",\"Senegal\",\"Sierra Leone\",\"Somalia\",\"South Africa\",\"Sudan\",\"Swaziland\",\"Tanzania\",\"Togo\",\"Tunisia\",\"Uganda\",\"Zambia\",\"Zimbabwe\"],\"legendgroup\":\"Africa\",\"marker\":{\"color\":\"#00cc96\",\"size\":[14760787,5894858,2761407,619351,5433886,3529983,7021028,1927260,3899068,250027,23007669,1340458,6071696,178848,34807417,277603,2260187,30770372,537977,517101,9354120,3811387,625361,12044785,1116779,1482628,2183877,7082430,4730997,5828158,1332786,851334,16660670,9809596,821782,5060262,53740085,461633,3992121,76595,4588696,2879013,3840161,23935810,14597019,480105,14706593,2056351,5303507,10190285,4506497,5861135],\"sizemode\":\"area\",\"sizeref\":131868.3096,\"symbol\":\"circle\"},\"mode\":\"markers\",\"name\":\"Africa\",\"orientation\":\"v\",\"showlegend\":true,\"x\":[4182.663766,5473.288004999999,1085.796879,2263.6111140000007,854.7359763000002,464.0995039,1684.1465280000002,1070.013275,1104.103987,1937.577675,904.8960685,3213.152683,2378.201111,3694.2123520000014,2024.008147,672.4122571,514.3242081999998,566.2439442000001,11401.94841,756.0868363,1178.223708,741.6662307,820.2245876000002,1222.359968,496.5815922000001,803.0054535,21011.49721,1748.562982,584.6219709,581.3688761,1586.851781,2575.484158,1930.194975,724.9178037,3746.080948,954.2092363,1698.388838,5047.658563,590.5806637999998,1532.985254,1597.712056,1353.759762,1254.576127,7765.962636,1659.652775,3364.836625,915.9850592,1649.660188,2753.2859940000008,950.735869,1773.498265,799.3621757999998],\"xaxis\":\"x\",\"y\":[54.518,37.928,47.014,56.024,43.591,44.057,47.049,43.457,45.569,48.944,45.989,54.907,49.801,44.36600000000001,51.137,40.516,44.142,43.515,48.69,38.308,49.875,38.842,36.486,53.559,49.767,42.614,52.773,44.851000000000006,41.76600000000001,39.977,48.437,62.944,52.862,40.328,53.867,40.546,42.82100000000001,64.274,44.6,56.48,45.815,35.4,40.973,53.69600000000001,45.083,49.552,47.62,49.75899999999999,55.602,51.01600000000001,50.107,55.635],\"yaxis\":\"y\",\"type\":\"scatter\"},{\"hovertemplate\":\"<b>%{hovertext}</b><br><br>continent=Americas<br>year=1972<br>Wealth=%{x}<br>Life Span=%{y}<br>pop=%{marker.size}<extra></extra>\",\"hovertext\":[\"Argentina\",\"Bolivia\",\"Brazil\",\"Canada\",\"Chile\",\"Colombia\",\"Costa Rica\",\"Cuba\",\"Dominican Republic\",\"Ecuador\",\"El Salvador\",\"Guatemala\",\"Haiti\",\"Honduras\",\"Jamaica\",\"Mexico\",\"Nicaragua\",\"Panama\",\"Paraguay\",\"Peru\",\"Puerto Rico\",\"Trinidad and Tobago\",\"United States\",\"Uruguay\",\"Venezuela\"],\"legendgroup\":\"Americas\",\"marker\":{\"color\":\"#ab63fa\",\"size\":[24779799,4565872,100840058,22284500,9717524,22542890,1834796,8831348,4671329,6298651,3790903,5149581,4698301,2965146,1997616,55984294,2182908,1616384,2614104,13954700,2847132,975199,209896000,2829526,11515649],\"sizemode\":\"area\",\"sizeref\":131868.3096,\"symbol\":\"circle\"},\"mode\":\"markers\",\"name\":\"Americas\",\"orientation\":\"v\",\"showlegend\":true,\"x\":[9443.038526,2980.331339,4985.711467,18970.57086,5494.024437,3264.660041,5118.146939,5305.445256,2189.874499,5280.99471,4520.246008,4031.408271,1654.456946,2529.842345,7433.889293000001,6809.406690000002,4688.593267,5364.249663000001,2523.337977,5937.827283,9123.041742,6619.551418999999,21806.03594,5703.408898,10505.25966],\"xaxis\":\"x\",\"y\":[67.065,46.714,59.504,72.88,63.441,61.62300000000001,67.84899999999999,70.723,59.631,58.79600000000001,58.207,53.738,48.042,53.88399999999999,69.0,62.361,55.151,66.21600000000001,65.815,55.448,72.16,65.9,71.34,68.673,65.712],\"yaxis\":\"y\",\"type\":\"scatter\"},{\"hovertemplate\":\"<b>%{hovertext}</b><br><br>continent=Oceania<br>year=1972<br>Wealth=%{x}<br>Life Span=%{y}<br>pop=%{marker.size}<extra></extra>\",\"hovertext\":[\"Australia\",\"New Zealand\"],\"legendgroup\":\"Oceania\",\"marker\":{\"color\":\"#FFA15A\",\"size\":[13177000,2929100],\"sizemode\":\"area\",\"sizeref\":131868.3096,\"symbol\":\"circle\"},\"mode\":\"markers\",\"name\":\"Oceania\",\"orientation\":\"v\",\"showlegend\":true,\"x\":[16788.62948,16046.03728],\"xaxis\":\"x\",\"y\":[71.93,71.89],\"yaxis\":\"y\",\"type\":\"scatter\"}],\"name\":\"1972\"},{\"data\":[{\"hovertemplate\":\"<b>%{hovertext}</b><br><br>continent=Asia<br>year=1977<br>Wealth=%{x}<br>Life Span=%{y}<br>pop=%{marker.size}<extra></extra>\",\"hovertext\":[\"Afghanistan\",\"Bahrain\",\"Bangladesh\",\"Cambodia\",\"China\",\"Hong Kong, China\",\"India\",\"Indonesia\",\"Iran\",\"Iraq\",\"Israel\",\"Japan\",\"Jordan\",\"Korea, Dem. Rep.\",\"Korea, Rep.\",\"Kuwait\",\"Lebanon\",\"Malaysia\",\"Mongolia\",\"Myanmar\",\"Nepal\",\"Oman\",\"Pakistan\",\"Philippines\",\"Saudi Arabia\",\"Singapore\",\"Sri Lanka\",\"Syria\",\"Taiwan\",\"Thailand\",\"Vietnam\",\"West Bank and Gaza\",\"Yemen, Rep.\"],\"legendgroup\":\"Asia\",\"marker\":{\"color\":\"#636efa\",\"size\":[14880372,297410,80428306,6978607,943455000,4583700,634000000,136725000,35480679,11882916,3495918,113872473,1937652,16325320,36436000,1140357,3115787,12845381,1528000,31528087,13933198,1004533,78152686,46850962,8128505,2325300,14116836,7932503,16785196,44148285,50533506,1261091,8403990],\"sizemode\":\"area\",\"sizeref\":131868.3096,\"symbol\":\"circle\"},\"mode\":\"markers\",\"name\":\"Asia\",\"orientation\":\"v\",\"showlegend\":true,\"x\":[786.11336,19340.10196,659.8772322000002,524.9721831999999,741.2374699,11186.14125,813.3373230000002,1382.702056,11888.59508,14688.23507,13306.61921,16610.37701,2852.351568,4106.301249,4657.22102,59265.47714,8659.696836,3827.921571,1647.511665,371.0,694.1124398,11848.34392,1175.921193,2373.204287,34167.7626,11210.08948,1348.775651,3195.484582,5596.519826,1961.2246350000007,713.5371196000001,3682.831494,1829.765177],\"xaxis\":\"x\",\"y\":[38.438,65.593,46.923,31.22,63.96736,73.6,54.208,52.702,57.702,60.413,73.06,75.38,61.13399999999999,67.15899999999999,64.766,69.343,66.09899999999999,65.256,55.49100000000001,56.059,46.74800000000001,57.367,54.043,60.06,58.69,70.795,65.949,61.195,70.59,62.494,55.764,60.765,44.175],\"yaxis\":\"y\",\"type\":\"scatter\"},{\"hovertemplate\":\"<b>%{hovertext}</b><br><br>continent=Europe<br>year=1977<br>Wealth=%{x}<br>Life Span=%{y}<br>pop=%{marker.size}<extra></extra>\",\"hovertext\":[\"Albania\",\"Austria\",\"Belgium\",\"Bosnia and Herzegovina\",\"Bulgaria\",\"Croatia\",\"Czech Republic\",\"Denmark\",\"Finland\",\"France\",\"Germany\",\"Greece\",\"Hungary\",\"Iceland\",\"Ireland\",\"Italy\",\"Montenegro\",\"Netherlands\",\"Norway\",\"Poland\",\"Portugal\",\"Romania\",\"Serbia\",\"Slovak Republic\",\"Slovenia\",\"Spain\",\"Sweden\",\"Switzerland\",\"Turkey\",\"United Kingdom\"],\"legendgroup\":\"Europe\",\"marker\":{\"color\":\"#EF553B\",\"size\":[2509048,7568430,9821800,4086000,8797022,4318673,10161915,5088419,4738902,53165019,78160773,9308479,10637171,221823,3271900,56059245,560073,13852989,4043205,34621254,9662600,21658597,8686367,4827803,1746919,36439000,8251648,6316424,42404033,56179000],\"sizemode\":\"area\",\"sizeref\":131868.3096,\"symbol\":\"circle\"},\"mode\":\"markers\",\"name\":\"Europe\",\"orientation\":\"v\",\"showlegend\":true,\"x\":[3533.003910000001,19749.4223,19117.97448,3528.481305,7612.240438,11305.38517,14800.16062,20422.9015,15605.42283,18292.63514,20512.92123,14195.52428,11674.83737,19654.96247,11150.98113,14255.98475,9595.929905,21209.0592,23311.34939,9508.141454,10172.48572,9356.39724,12980.66956,10922.66404,15277.030169999998,13236.92117,18855.72521,26982.29052,4269.122326,17428.74846],\"xaxis\":\"x\",\"y\":[68.93,72.17,72.8,69.86,70.81,70.64,70.71,74.69,72.52,73.83,72.5,73.68,69.95,76.11,72.03,73.48,73.066,75.24,75.37,70.67,70.41,69.46,70.3,70.45,70.97,74.39,75.44,75.39,59.507,72.76],\"yaxis\":\"y\",\"type\":\"scatter\"},{\"hovertemplate\":\"<b>%{hovertext}</b><br><br>continent=Africa<br>year=1977<br>Wealth=%{x}<br>Life Span=%{y}<br>pop=%{marker.size}<extra></extra>\",\"hovertext\":[\"Algeria\",\"Angola\",\"Benin\",\"Botswana\",\"Burkina Faso\",\"Burundi\",\"Cameroon\",\"Central African Republic\",\"Chad\",\"Comoros\",\"Congo, Dem. Rep.\",\"Congo, Rep.\",\"Cote d'Ivoire\",\"Djibouti\",\"Egypt\",\"Equatorial Guinea\",\"Eritrea\",\"Ethiopia\",\"Gabon\",\"Gambia\",\"Ghana\",\"Guinea\",\"Guinea-Bissau\",\"Kenya\",\"Lesotho\",\"Liberia\",\"Libya\",\"Madagascar\",\"Malawi\",\"Mali\",\"Mauritania\",\"Mauritius\",\"Morocco\",\"Mozambique\",\"Namibia\",\"Niger\",\"Nigeria\",\"Reunion\",\"Rwanda\",\"Sao Tome and Principe\",\"Senegal\",\"Sierra Leone\",\"Somalia\",\"South Africa\",\"Sudan\",\"Swaziland\",\"Tanzania\",\"Togo\",\"Tunisia\",\"Uganda\",\"Zambia\",\"Zimbabwe\"],\"legendgroup\":\"Africa\",\"marker\":{\"color\":\"#00cc96\",\"size\":[17152804,6162675,3168267,781472,5889574,3834415,7959865,2167533,4388260,304739,26480870,1536769,7459574,228694,38783863,192675,2512642,34617799,706367,608274,10538093,4227026,745228,14500404,1251524,1703617,2721783,8007166,5637246,6491649,1456688,913025,18396941,11127868,977026,5682086,62209173,492095,4657072,86796,5260855,3140897,4353666,27129932,17104986,551425,17129565,2308582,6005061,11457758,5216550,6642107],\"sizemode\":\"area\",\"sizeref\":131868.3096,\"symbol\":\"circle\"},\"mode\":\"markers\",\"name\":\"Africa\",\"orientation\":\"v\",\"showlegend\":true,\"x\":[4910.416756000001,3008.647355,1029.161251,3214.857818,743.3870368,556.1032651,1783.432873,1109.374338,1133.98495,1172.603047,795.757282,3259.178978,2517.736547,3081.761022,2785.493582,958.5668124,505.7538077,556.8083834,21745.57328,884.7552507000001,993.2239571,874.6858642999998,764.7259627999998,1267.613204,745.3695408,640.3224382999998,21951.21176,1544.228586,663.2236766,686.3952693,1497.492223,3710.982963,2370.619976,502.3197334,3876.485958,808.8970727999998,1981.951806,4319.804067,670.0806011,1737.561657,1561.769116,1348.285159,1450.992513,8028.651439,2202.988423,3781.410618,962.4922932,1532.776998,3120.876811,843.7331372000001,1588.688299,685.5876821],\"xaxis\":\"x\",\"y\":[58.014,39.483,49.19,59.319,46.137,45.91,49.355,46.775,47.383,50.93899999999999,47.804,55.625,52.374,46.519,53.319,42.024,44.535,44.51,52.79,41.842,51.756,40.762,37.465,56.155,52.208,43.764,57.442,46.881,43.767,41.714,50.852,64.93,55.73,42.495,56.437,41.291,44.514,67.064,45.0,58.55,48.879,36.788,41.974,55.527,47.8,52.537,49.919,52.887,59.837,50.35,51.386,57.674],\"yaxis\":\"y\",\"type\":\"scatter\"},{\"hovertemplate\":\"<b>%{hovertext}</b><br><br>continent=Americas<br>year=1977<br>Wealth=%{x}<br>Life Span=%{y}<br>pop=%{marker.size}<extra></extra>\",\"hovertext\":[\"Argentina\",\"Bolivia\",\"Brazil\",\"Canada\",\"Chile\",\"Colombia\",\"Costa Rica\",\"Cuba\",\"Dominican Republic\",\"Ecuador\",\"El Salvador\",\"Guatemala\",\"Haiti\",\"Honduras\",\"Jamaica\",\"Mexico\",\"Nicaragua\",\"Panama\",\"Paraguay\",\"Peru\",\"Puerto Rico\",\"Trinidad and Tobago\",\"United States\",\"Uruguay\",\"Venezuela\"],\"legendgroup\":\"Americas\",\"marker\":{\"color\":\"#ab63fa\",\"size\":[26983828,5079716,114313951,23796400,10599793,25094412,2108457,9537988,5302800,7278866,4282586,5703430,4908554,3055235,2156814,63759976,2554598,1839782,2984494,15990099,3080828,1039009,220239000,2873520,13503563],\"sizemode\":\"area\",\"sizeref\":131868.3096,\"symbol\":\"circle\"},\"mode\":\"markers\",\"name\":\"Americas\",\"orientation\":\"v\",\"showlegend\":true,\"x\":[10079.02674,3548.097832,6660.118654,22090.88306,4756.763836,3815.80787,5926.876967,6380.494965999998,2681.9889,6679.62326,5138.922374,4879.992748,1874.298931,3203.208066,6650.195573,7674.929108,5486.371089,5351.912144,3248.373311,6281.290854999998,9770.524921,7899.554209000001,24072.63213,6504.339663000002,13143.95095],\"xaxis\":\"x\",\"y\":[68.48100000000001,50.023,61.489,74.21,67.05199999999999,63.837,70.75,72.649,61.788,61.31,56.69600000000001,56.029,49.923,57.402,70.11,65.032,57.47,68.681,66.35300000000001,58.447,73.44,68.3,73.38,69.48100000000001,67.456],\"yaxis\":\"y\",\"type\":\"scatter\"},{\"hovertemplate\":\"<b>%{hovertext}</b><br><br>continent=Oceania<br>year=1977<br>Wealth=%{x}<br>Life Span=%{y}<br>pop=%{marker.size}<extra></extra>\",\"hovertext\":[\"Australia\",\"New Zealand\"],\"legendgroup\":\"Oceania\",\"marker\":{\"color\":\"#FFA15A\",\"size\":[14074100,3164900],\"sizemode\":\"area\",\"sizeref\":131868.3096,\"symbol\":\"circle\"},\"mode\":\"markers\",\"name\":\"Oceania\",\"orientation\":\"v\",\"showlegend\":true,\"x\":[18334.19751,16233.7177],\"xaxis\":\"x\",\"y\":[73.49,72.22],\"yaxis\":\"y\",\"type\":\"scatter\"}],\"name\":\"1977\"},{\"data\":[{\"hovertemplate\":\"<b>%{hovertext}</b><br><br>continent=Asia<br>year=1982<br>Wealth=%{x}<br>Life Span=%{y}<br>pop=%{marker.size}<extra></extra>\",\"hovertext\":[\"Afghanistan\",\"Bahrain\",\"Bangladesh\",\"Cambodia\",\"China\",\"Hong Kong, China\",\"India\",\"Indonesia\",\"Iran\",\"Iraq\",\"Israel\",\"Japan\",\"Jordan\",\"Korea, Dem. Rep.\",\"Korea, Rep.\",\"Kuwait\",\"Lebanon\",\"Malaysia\",\"Mongolia\",\"Myanmar\",\"Nepal\",\"Oman\",\"Pakistan\",\"Philippines\",\"Saudi Arabia\",\"Singapore\",\"Sri Lanka\",\"Syria\",\"Taiwan\",\"Thailand\",\"Vietnam\",\"West Bank and Gaza\",\"Yemen, Rep.\"],\"legendgroup\":\"Asia\",\"marker\":{\"color\":\"#636efa\",\"size\":[12881816,377967,93074406,7272485,1000281000,5264500,708000000,153343000,43072751,14173318,3858421,118454974,2347031,17647518,39326000,1497494,3086876,14441916,1756032,34680442,15796314,1301048,91462088,53456774,11254672,2651869,15410151,9410494,18501390,48827160,56142181,1425876,9657618],\"sizemode\":\"area\",\"sizeref\":131868.3096,\"symbol\":\"circle\"},\"mode\":\"markers\",\"name\":\"Asia\",\"orientation\":\"v\",\"showlegend\":true,\"x\":[978.0114388,19211.14731,676.9818656,624.4754784,962.4213805,14560.53051,855.7235377000002,1516.872988,7608.334602,14517.90711,15367.0292,19384.10571,4161.415959,4106.525293,5622.942464,31354.03573,7640.519520999998,4920.355951,2000.603139,424.0,718.3730947,12954.79101,1443.429832,2603.273765,33693.17525,15169.16112,1648.079789,3761.837715,7426.3547739999985,2393.219781,707.2357863,4336.032082,1977.55701],\"xaxis\":\"x\",\"y\":[39.854,69.05199999999999,50.00899999999999,50.957,65.525,75.45,56.596,56.159,59.62,62.038,74.45,77.11,63.739,69.1,67.123,71.309,66.983,68.0,57.489,58.056,49.594,62.728,56.158,62.082,63.012,71.76,68.757,64.59,72.16,64.597,58.816,64.406,49.113],\"yaxis\":\"y\",\"type\":\"scatter\"},{\"hovertemplate\":\"<b>%{hovertext}</b><br><br>continent=Europe<br>year=1982<br>Wealth=%{x}<br>Life Span=%{y}<br>pop=%{marker.size}<extra></extra>\",\"hovertext\":[\"Albania\",\"Austria\",\"Belgium\",\"Bosnia and Herzegovina\",\"Bulgaria\",\"Croatia\",\"Czech Republic\",\"Denmark\",\"Finland\",\"France\",\"Germany\",\"Greece\",\"Hungary\",\"Iceland\",\"Ireland\",\"Italy\",\"Montenegro\",\"Netherlands\",\"Norway\",\"Poland\",\"Portugal\",\"Romania\",\"Serbia\",\"Slovak Republic\",\"Slovenia\",\"Spain\",\"Sweden\",\"Switzerland\",\"Turkey\",\"United Kingdom\"],\"legendgroup\":\"Europe\",\"marker\":{\"color\":\"#EF553B\",\"size\":[2780097,7574613,9856303,4172693,8892098,4413368,10303704,5117810,4826933,54433565,78335266,9786480,10705535,233997,3480000,56535636,562548,14310401,4114787,36227381,9859650,22356726,9032824,5048043,1861252,37983310,8325260,6468126,47328791,56339704],\"sizemode\":\"area\",\"sizeref\":131868.3096,\"symbol\":\"circle\"},\"mode\":\"markers\",\"name\":\"Europe\",\"orientation\":\"v\",\"showlegend\":true,\"x\":[3630.880722,21597.08362,20979.84589,4126.613157,8224.191647,13221.82184,15377.22855,21688.04048,18533.15761,20293.89746,22031.53274,15268.42089,12545.99066,23269.6075,12618.32141,16537.4835,11222.58762,21399.46046,26298.63531,8451.531004,11753.84291,9605.314053,15181.0927,11348.54585,17866.72175,13926.16997,20667.38125,28397.71512,4241.356344,18232.42452],\"xaxis\":\"x\",\"y\":[70.42,73.18,73.93,70.69,71.08,70.46,70.96,74.63,74.55,74.89,73.8,75.24,69.39,76.99,73.1,74.98,74.101,76.05,75.97,71.32,72.77,69.66,70.16199999999999,70.8,71.063,76.3,76.42,76.21,61.036,74.04],\"yaxis\":\"y\",\"type\":\"scatter\"},{\"hovertemplate\":\"<b>%{hovertext}</b><br><br>continent=Africa<br>year=1982<br>Wealth=%{x}<br>Life Span=%{y}<br>pop=%{marker.size}<extra></extra>\",\"hovertext\":[\"Algeria\",\"Angola\",\"Benin\",\"Botswana\",\"Burkina Faso\",\"Burundi\",\"Cameroon\",\"Central African Republic\",\"Chad\",\"Comoros\",\"Congo, Dem. Rep.\",\"Congo, Rep.\",\"Cote d'Ivoire\",\"Djibouti\",\"Egypt\",\"Equatorial Guinea\",\"Eritrea\",\"Ethiopia\",\"Gabon\",\"Gambia\",\"Ghana\",\"Guinea\",\"Guinea-Bissau\",\"Kenya\",\"Lesotho\",\"Liberia\",\"Libya\",\"Madagascar\",\"Malawi\",\"Mali\",\"Mauritania\",\"Mauritius\",\"Morocco\",\"Mozambique\",\"Namibia\",\"Niger\",\"Nigeria\",\"Reunion\",\"Rwanda\",\"Sao Tome and Principe\",\"Senegal\",\"Sierra Leone\",\"Somalia\",\"South Africa\",\"Sudan\",\"Swaziland\",\"Tanzania\",\"Togo\",\"Tunisia\",\"Uganda\",\"Zambia\",\"Zimbabwe\"],\"legendgroup\":\"Africa\",\"marker\":{\"color\":\"#00cc96\",\"size\":[20033753,7016384,3641603,970347,6634596,4580410,9250831,2476971,4875118,348643,30646495,1774735,9025951,305991,45681811,285483,2637297,38111756,753874,715523,11400338,4710497,825987,17661452,1411807,1956875,3344074,9171477,6502825,6998256,1622136,992040,20198730,12587223,1099010,6437188,73039376,517810,5507565,98593,6147783,3464522,5828892,31140029,20367053,649901,19844382,2644765,6734098,12939400,6100407,7636524],\"sizemode\":\"area\",\"sizeref\":131868.3096,\"symbol\":\"circle\"},\"mode\":\"markers\",\"name\":\"Africa\",\"orientation\":\"v\",\"showlegend\":true,\"x\":[5745.160213,2756.953672,1277.897616,4551.14215,807.1985855,559.6032309999998,2367.983282,956.7529907,797.9081006,1267.100083,673.7478181,4879.507522,2602.710169,2879.468067,3503.729636,927.8253427,524.8758493,577.8607471,15113.36194,835.8096107999999,876.032569,857.2503577,838.1239671,1348.225791,797.2631074,572.1995694,17364.275380000006,1302.878658,632.8039209,618.0140640999998,1481.150189,3688.037739,2702.620356,462.2114149,4191.100511,909.7221354,1576.97375,5267.219353,881.5706467,1890.218117,1518.479984,1465.010784,1176.807031,8568.266228,1895.544073,3895.384018,874.2426069,1344.577953,3560.2331740000004,682.2662267999998,1408.678565,788.8550411],\"xaxis\":\"x\",\"y\":[61.368,39.942,50.904,61.484,48.122,47.471,52.96100000000001,48.295,49.517,52.933,47.784,56.695,53.983,48.812,56.006,43.662,43.89,44.916,56.56399999999999,45.58,53.744,42.89100000000001,39.327,58.76600000000001,55.078,44.852,62.155,48.969,45.642,43.916,53.599,66.711,59.65,42.795,58.968,42.598,45.826,69.885,46.218,60.351000000000006,52.379,38.445,42.955,58.161,50.338,55.56100000000001,50.608,55.471,64.048,49.849,51.82100000000001,60.363],\"yaxis\":\"y\",\"type\":\"scatter\"},{\"hovertemplate\":\"<b>%{hovertext}</b><br><br>continent=Americas<br>year=1982<br>Wealth=%{x}<br>Life Span=%{y}<br>pop=%{marker.size}<extra></extra>\",\"hovertext\":[\"Argentina\",\"Bolivia\",\"Brazil\",\"Canada\",\"Chile\",\"Colombia\",\"Costa Rica\",\"Cuba\",\"Dominican Republic\",\"Ecuador\",\"El Salvador\",\"Guatemala\",\"Haiti\",\"Honduras\",\"Jamaica\",\"Mexico\",\"Nicaragua\",\"Panama\",\"Paraguay\",\"Peru\",\"Puerto Rico\",\"Trinidad and Tobago\",\"United States\",\"Uruguay\",\"Venezuela\"],\"legendgroup\":\"Americas\",\"marker\":{\"color\":\"#ab63fa\",\"size\":[29341374,5642224,128962939,25201900,11487112,27764644,2424367,9789224,5968349,8365850,4474873,6395630,5198399,3669448,2298309,71640904,2979423,2036305,3366439,18125129,3279001,1116479,232187835,2953997,15620766],\"sizemode\":\"area\",\"sizeref\":131868.3096,\"symbol\":\"circle\"},\"mode\":\"markers\",\"name\":\"Americas\",\"orientation\":\"v\",\"showlegend\":true,\"x\":[8997.897412,3156.510452,7030.835878,22898.79214,5095.6657380000015,4397.575659,5262.734751,7316.918106999998,2861.092386,7213.791267,4098.344175,4820.49479,2011.159549,3121.7607940000007,6068.05135,9611.147541,3470.3381560000007,7009.601598,4258.503604,6434.501797,10330.98915,9119.528607,25009.55914,6920.223051000001,11152.41011],\"xaxis\":\"x\",\"y\":[69.942,53.859,63.33600000000001,75.76,70.565,66.653,73.45,73.717,63.727,64.342,56.604,58.137,51.46100000000001,60.909,71.21,67.405,59.298,70.472,66.874,61.40600000000001,73.75,68.832,74.65,70.805,68.557],\"yaxis\":\"y\",\"type\":\"scatter\"},{\"hovertemplate\":\"<b>%{hovertext}</b><br><br>continent=Oceania<br>year=1982<br>Wealth=%{x}<br>Life Span=%{y}<br>pop=%{marker.size}<extra></extra>\",\"hovertext\":[\"Australia\",\"New Zealand\"],\"legendgroup\":\"Oceania\",\"marker\":{\"color\":\"#FFA15A\",\"size\":[15184200,3210650],\"sizemode\":\"area\",\"sizeref\":131868.3096,\"symbol\":\"circle\"},\"mode\":\"markers\",\"name\":\"Oceania\",\"orientation\":\"v\",\"showlegend\":true,\"x\":[19477.00928,17632.4104],\"xaxis\":\"x\",\"y\":[74.74,73.84],\"yaxis\":\"y\",\"type\":\"scatter\"}],\"name\":\"1982\"},{\"data\":[{\"hovertemplate\":\"<b>%{hovertext}</b><br><br>continent=Asia<br>year=1987<br>Wealth=%{x}<br>Life Span=%{y}<br>pop=%{marker.size}<extra></extra>\",\"hovertext\":[\"Afghanistan\",\"Bahrain\",\"Bangladesh\",\"Cambodia\",\"China\",\"Hong Kong, China\",\"India\",\"Indonesia\",\"Iran\",\"Iraq\",\"Israel\",\"Japan\",\"Jordan\",\"Korea, Dem. Rep.\",\"Korea, Rep.\",\"Kuwait\",\"Lebanon\",\"Malaysia\",\"Mongolia\",\"Myanmar\",\"Nepal\",\"Oman\",\"Pakistan\",\"Philippines\",\"Saudi Arabia\",\"Singapore\",\"Sri Lanka\",\"Syria\",\"Taiwan\",\"Thailand\",\"Vietnam\",\"West Bank and Gaza\",\"Yemen, Rep.\"],\"legendgroup\":\"Asia\",\"marker\":{\"color\":\"#636efa\",\"size\":[13867957,454612,103764241,8371791,1084035000,5584510,788000000,169276000,51889696,16543189,4203148,122091325,2820042,19067554,41622000,1891487,3089353,16331785,2015133,38028578,17917180,1593882,105186881,60017788,14619745,2794552,16495304,11242847,19757799,52910342,62826491,1691210,11219340],\"sizemode\":\"area\",\"sizeref\":131868.3096,\"symbol\":\"circle\"},\"mode\":\"markers\",\"name\":\"Asia\",\"orientation\":\"v\",\"showlegend\":true,\"x\":[852.3959447999998,18524.02406,751.9794035,683.8955732000002,1378.904018,20038.47269,976.5126756,1748.356961,6642.881371,11643.57268,17122.47986,22375.94189,4448.679912,4106.492315,8533.088805,28118.42998,5377.091329,5249.802653,2338.008304,385.0,775.6324501,18115.22313,1704.686583,2189.634995,21198.26136,18861.53081,1876.766827,3116.774285,11054.56175,2982.653773,820.7994449,5107.197384,1971.741538],\"xaxis\":\"x\",\"y\":[40.822,70.75,52.819,53.914,67.274,76.2,58.553,60.137,63.04,65.044,75.6,78.67,65.869,70.64699999999998,69.81,74.17399999999998,67.926,69.5,60.222,58.339,52.537,67.734,58.245,64.15100000000001,66.295,73.56,69.01100000000001,66.97399999999999,73.4,66.084,62.82,67.046,52.922],\"yaxis\":\"y\",\"type\":\"scatter\"},{\"hovertemplate\":\"<b>%{hovertext}</b><br><br>continent=Europe<br>year=1987<br>Wealth=%{x}<br>Life Span=%{y}<br>pop=%{marker.size}<extra></extra>\",\"hovertext\":[\"Albania\",\"Austria\",\"Belgium\",\"Bosnia and Herzegovina\",\"Bulgaria\",\"Croatia\",\"Czech Republic\",\"Denmark\",\"Finland\",\"France\",\"Germany\",\"Greece\",\"Hungary\",\"Iceland\",\"Ireland\",\"Italy\",\"Montenegro\",\"Netherlands\",\"Norway\",\"Poland\",\"Portugal\",\"Romania\",\"Serbia\",\"Slovak Republic\",\"Slovenia\",\"Spain\",\"Sweden\",\"Switzerland\",\"Turkey\",\"United Kingdom\"],\"legendgroup\":\"Europe\",\"marker\":{\"color\":\"#EF553B\",\"size\":[3075321,7578903,9870200,4338977,8971958,4484310,10311597,5127024,4931729,55630100,77718298,9974490,10612740,244676,3539900,56729703,569473,14665278,4186147,37740710,9915289,22686371,9230783,5199318,1945870,38880702,8421403,6649942,52881328,56981620],\"sizemode\":\"area\",\"sizeref\":131868.3096,\"symbol\":\"circle\"},\"mode\":\"markers\",\"name\":\"Europe\",\"orientation\":\"v\",\"showlegend\":true,\"x\":[3738.932735,23687.82607,22525.56308,4314.114757,8239.854824,13822.58394,16310.4434,25116.17581,21141.01223,22066.44214,24639.18566,16120.52839,12986.47998,26923.20628,13872.86652,19207.23482,11732.51017,23651.32361,31540.9748,9082.351172,13039.30876,9696.273295,15870.87851,12037.26758,18678.53492,15764.98313,23586.92927,30281.70459,5089.043686,21664.78767],\"xaxis\":\"x\",\"y\":[72.0,74.94,75.35,71.14,71.34,71.52,71.58,74.8,74.83,76.34,74.847,76.67,69.58,77.23,74.36,76.42,74.865,76.83,75.89,70.98,74.06,69.53,71.218,71.08,72.25,76.9,77.19,77.41,63.108,75.007],\"yaxis\":\"y\",\"type\":\"scatter\"},{\"hovertemplate\":\"<b>%{hovertext}</b><br><br>continent=Africa<br>year=1987<br>Wealth=%{x}<br>Life Span=%{y}<br>pop=%{marker.size}<extra></extra>\",\"hovertext\":[\"Algeria\",\"Angola\",\"Benin\",\"Botswana\",\"Burkina Faso\",\"Burundi\",\"Cameroon\",\"Central African Republic\",\"Chad\",\"Comoros\",\"Congo, Dem. Rep.\",\"Congo, Rep.\",\"Cote d'Ivoire\",\"Djibouti\",\"Egypt\",\"Equatorial Guinea\",\"Eritrea\",\"Ethiopia\",\"Gabon\",\"Gambia\",\"Ghana\",\"Guinea\",\"Guinea-Bissau\",\"Kenya\",\"Lesotho\",\"Liberia\",\"Libya\",\"Madagascar\",\"Malawi\",\"Mali\",\"Mauritania\",\"Mauritius\",\"Morocco\",\"Mozambique\",\"Namibia\",\"Niger\",\"Nigeria\",\"Reunion\",\"Rwanda\",\"Sao Tome and Principe\",\"Senegal\",\"Sierra Leone\",\"Somalia\",\"South Africa\",\"Sudan\",\"Swaziland\",\"Tanzania\",\"Togo\",\"Tunisia\",\"Uganda\",\"Zambia\",\"Zimbabwe\"],\"legendgroup\":\"Africa\",\"marker\":{\"color\":\"#00cc96\",\"size\":[23254956,7874230,4243788,1151184,7586551,5126023,10780667,2840009,5498955,395114,35481645,2064095,10761098,311025,52799062,341244,2915959,42999530,880397,848406,14168101,5650262,927524,21198082,1599200,2269414,3799845,10568642,7824747,7634008,1841240,1042663,22987397,12891952,1278184,7332638,81551520,562035,6349365,110812,7171347,3868905,6921858,35933379,24725960,779348,23040630,3154264,7724976,15283050,7272406,9216418],\"sizemode\":\"area\",\"sizeref\":131868.3096,\"symbol\":\"circle\"},\"mode\":\"markers\",\"name\":\"Africa\",\"orientation\":\"v\",\"showlegend\":true,\"x\":[5681.358539,2430.208311,1225.85601,6205.88385,912.0631417,621.8188188999999,2602.664206,844.8763504000002,952.386129,1315.980812,672.774812,4201.194936999998,2156.9560690000008,2880.102568,3885.46071,966.8968149,521.1341333,573.7413142000001,11864.40844,611.6588611000002,847.0061135,805.5724717999999,736.4153921,1361.936856,773.9932140999998,506.1138573,11770.5898,1155.441948,635.5173633999998,684.1715576,1421.603576,4783.586903,2755.046991,389.8761846,3693.731337,668.3000228,1385.029563,5303.377488,847.991217,1516.525457,1441.72072,1294.4477880000004,1093.244963,7825.823398,1507.819159,3984.839812,831.8220794,1202.201361,3810.419296,617.7244065,1213.315116,706.1573059],\"xaxis\":\"x\",\"y\":[65.79899999999999,39.906,52.337,63.622,49.557,48.21100000000001,54.985,50.485,51.051,54.926,47.412,57.47,54.655,50.04,59.797,45.664,46.453,46.684,60.19,49.265,55.729,45.552,41.245,59.339,57.18,46.027,66.234,49.35,47.457,46.364,56.145,68.74,62.677,42.861,60.835,44.555,46.886,71.913,44.02,61.728,55.769,40.006,44.50100000000001,60.834,51.744,57.678,51.535,56.941,66.89399999999999,51.50899999999999,50.82100000000001,62.351000000000006],\"yaxis\":\"y\",\"type\":\"scatter\"},{\"hovertemplate\":\"<b>%{hovertext}</b><br><br>continent=Americas<br>year=1987<br>Wealth=%{x}<br>Life Span=%{y}<br>pop=%{marker.size}<extra></extra>\",\"hovertext\":[\"Argentina\",\"Bolivia\",\"Brazil\",\"Canada\",\"Chile\",\"Colombia\",\"Costa Rica\",\"Cuba\",\"Dominican Republic\",\"Ecuador\",\"El Salvador\",\"Guatemala\",\"Haiti\",\"Honduras\",\"Jamaica\",\"Mexico\",\"Nicaragua\",\"Panama\",\"Paraguay\",\"Peru\",\"Puerto Rico\",\"Trinidad and Tobago\",\"United States\",\"Uruguay\",\"Venezuela\"],\"legendgroup\":\"Americas\",\"marker\":{\"color\":\"#ab63fa\",\"size\":[31620918,6156369,142938076,26549700,12463354,30964245,2799811,10239839,6655297,9545158,4842194,7326406,5756203,4372203,2326606,80122492,3344353,2253639,3886512,20195924,3444468,1191336,242803533,3045153,17910182],\"sizemode\":\"area\",\"sizeref\":131868.3096,\"symbol\":\"circle\"},\"mode\":\"markers\",\"name\":\"Americas\",\"orientation\":\"v\",\"showlegend\":true,\"x\":[9139.671389,2753.69149,7807.095818000002,26626.51503,5547.063754,4903.2191,5629.915318,7532.924762999999,2899.842175,6481.776993,4140.442097,4246.485974,1823.015995,3023.096699,6351.237495,8688.156003,2955.984375,7034.779161,3998.875695,6360.943444,12281.34191,7388.597823,29884.350410000006,7452.398969,9883.584648],\"xaxis\":\"x\",\"y\":[70.774,57.25100000000001,65.205,76.86,72.492,67.768,74.752,74.17399999999998,66.046,67.23100000000001,63.154,60.782,53.636,64.492,71.77,69.498,62.008,71.523,67.378,64.134,74.63,69.582,75.02,71.918,70.19],\"yaxis\":\"y\",\"type\":\"scatter\"},{\"hovertemplate\":\"<b>%{hovertext}</b><br><br>continent=Oceania<br>year=1987<br>Wealth=%{x}<br>Life Span=%{y}<br>pop=%{marker.size}<extra></extra>\",\"hovertext\":[\"Australia\",\"New Zealand\"],\"legendgroup\":\"Oceania\",\"marker\":{\"color\":\"#FFA15A\",\"size\":[16257249,3317166],\"sizemode\":\"area\",\"sizeref\":131868.3096,\"symbol\":\"circle\"},\"mode\":\"markers\",\"name\":\"Oceania\",\"orientation\":\"v\",\"showlegend\":true,\"x\":[21888.88903,19007.19129],\"xaxis\":\"x\",\"y\":[76.32,74.32],\"yaxis\":\"y\",\"type\":\"scatter\"}],\"name\":\"1987\"},{\"data\":[{\"hovertemplate\":\"<b>%{hovertext}</b><br><br>continent=Asia<br>year=1992<br>Wealth=%{x}<br>Life Span=%{y}<br>pop=%{marker.size}<extra></extra>\",\"hovertext\":[\"Afghanistan\",\"Bahrain\",\"Bangladesh\",\"Cambodia\",\"China\",\"Hong Kong, China\",\"India\",\"Indonesia\",\"Iran\",\"Iraq\",\"Israel\",\"Japan\",\"Jordan\",\"Korea, Dem. Rep.\",\"Korea, Rep.\",\"Kuwait\",\"Lebanon\",\"Malaysia\",\"Mongolia\",\"Myanmar\",\"Nepal\",\"Oman\",\"Pakistan\",\"Philippines\",\"Saudi Arabia\",\"Singapore\",\"Sri Lanka\",\"Syria\",\"Taiwan\",\"Thailand\",\"Vietnam\",\"West Bank and Gaza\",\"Yemen, Rep.\"],\"legendgroup\":\"Asia\",\"marker\":{\"color\":\"#636efa\",\"size\":[16317921,529491,113704579,10150094,1164970000,5829696,872000000,184816000,60397973,17861905,4936550,124329269,3867409,20711375,43805450,1418095,3219994,18319502,2312802,40546538,20326209,1915208,120065004,67185766,16945857,3235865,17587060,13219062,20686918,56667095,69940728,2104779,13367997],\"sizemode\":\"area\",\"sizeref\":131868.3096,\"symbol\":\"circle\"},\"mode\":\"markers\",\"name\":\"Asia\",\"orientation\":\"v\",\"showlegend\":true,\"x\":[649.3413952000002,19035.57917,837.8101642999999,682.3031755,1655.784158,24757.60301,1164.406809,2383.140898,7235.653187999998,3745.640687,18051.52254,26824.89511,3431.593647,3726.063507,12104.27872,34932.91959,6890.806854,7277.912802,1785.402016,347.0,897.7403604,18616.70691,1971.829464,2279.324017000001,24841.61777,24769.8912,2153.739222,3340.542768,15215.6579,4616.896545000001,989.0231487,6017.654756,1879.496673],\"xaxis\":\"x\",\"y\":[41.674,72.601,56.018,55.803,68.69,77.601,60.223,62.681,65.742,59.46100000000001,76.93,79.36,68.015,69.97800000000001,72.244,75.19,69.292,70.693,61.271,59.32,55.727,71.197,60.838,66.458,68.768,75.788,70.37899999999998,69.249,74.26,67.298,67.66199999999999,69.718,55.599],\"yaxis\":\"y\",\"type\":\"scatter\"},{\"hovertemplate\":\"<b>%{hovertext}</b><br><br>continent=Europe<br>year=1992<br>Wealth=%{x}<br>Life Span=%{y}<br>pop=%{marker.size}<extra></extra>\",\"hovertext\":[\"Albania\",\"Austria\",\"Belgium\",\"Bosnia and Herzegovina\",\"Bulgaria\",\"Croatia\",\"Czech Republic\",\"Denmark\",\"Finland\",\"France\",\"Germany\",\"Greece\",\"Hungary\",\"Iceland\",\"Ireland\",\"Italy\",\"Montenegro\",\"Netherlands\",\"Norway\",\"Poland\",\"Portugal\",\"Romania\",\"Serbia\",\"Slovak Republic\",\"Slovenia\",\"Spain\",\"Sweden\",\"Switzerland\",\"Turkey\",\"United Kingdom\"],\"legendgroup\":\"Europe\",\"marker\":{\"color\":\"#EF553B\",\"size\":[3326498,7914969,10045622,4256013,8658506,4494013,10315702,5171393,5041039,57374179,80597764,10325429,10348684,259012,3557761,56840847,621621,15174244,4286357,38370697,9927680,22797027,9826397,5302888,1999210,39549438,8718867,6995447,58179144,57866349],\"sizemode\":\"area\",\"sizeref\":131868.3096,\"symbol\":\"circle\"},\"mode\":\"markers\",\"name\":\"Europe\",\"orientation\":\"v\",\"showlegend\":true,\"x\":[2497.437901,27042.01868,25575.57069,2546.781445,6302.623438000001,8447.794873,14297.02122,26406.73985,20647.16499,24703.79615,26505.30317,17541.49634,10535.62855,25144.39201,17558.81555,22013.64486,7003.339037000002,26790.94961,33965.66115,7738.881247,16207.266630000002,6598.409903,9325.068238,9498.467723,14214.71681,18603.06452,23880.01683,31871.5303,5678.348271,22705.09254],\"xaxis\":\"x\",\"y\":[71.581,76.04,76.46,72.178,71.19,72.527,72.4,75.33,75.7,77.46,76.07,77.03,69.17,78.77,75.467,77.44,75.435,77.42,77.32,70.99,74.86,69.36,71.65899999999998,71.38,73.64,77.57,78.16,78.03,66.146,76.42],\"yaxis\":\"y\",\"type\":\"scatter\"},{\"hovertemplate\":\"<b>%{hovertext}</b><br><br>continent=Africa<br>year=1992<br>Wealth=%{x}<br>Life Span=%{y}<br>pop=%{marker.size}<extra></extra>\",\"hovertext\":[\"Algeria\",\"Angola\",\"Benin\",\"Botswana\",\"Burkina Faso\",\"Burundi\",\"Cameroon\",\"Central African Republic\",\"Chad\",\"Comoros\",\"Congo, Dem. Rep.\",\"Congo, Rep.\",\"Cote d'Ivoire\",\"Djibouti\",\"Egypt\",\"Equatorial Guinea\",\"Eritrea\",\"Ethiopia\",\"Gabon\",\"Gambia\",\"Ghana\",\"Guinea\",\"Guinea-Bissau\",\"Kenya\",\"Lesotho\",\"Liberia\",\"Libya\",\"Madagascar\",\"Malawi\",\"Mali\",\"Mauritania\",\"Mauritius\",\"Morocco\",\"Mozambique\",\"Namibia\",\"Niger\",\"Nigeria\",\"Reunion\",\"Rwanda\",\"Sao Tome and Principe\",\"Senegal\",\"Sierra Leone\",\"Somalia\",\"South Africa\",\"Sudan\",\"Swaziland\",\"Tanzania\",\"Togo\",\"Tunisia\",\"Uganda\",\"Zambia\",\"Zimbabwe\"],\"legendgroup\":\"Africa\",\"marker\":{\"color\":\"#00cc96\",\"size\":[26298373,8735988,4981671,1342614,8878303,5809236,12467171,3265124,6429417,454429,41672143,2409073,12772596,384156,59402198,387838,3668440,52088559,985739,1025384,16278738,6990574,1050938,25020539,1803195,1912974,4364501,12210395,10014249,8416215,2119465,1096202,25798239,13160731,1554253,8392818,93364244,622191,7290203,125911,8307920,4260884,6099799,39964159,28227588,962344,26605473,3747553,8523077,18252190,8381163,10704340],\"sizemode\":\"area\",\"sizeref\":131868.3096,\"symbol\":\"circle\"},\"mode\":\"markers\",\"name\":\"Africa\",\"orientation\":\"v\",\"showlegend\":true,\"x\":[5023.216647,2627.845685,1191.207681,7954.111645,931.7527731,631.6998778,1793.1632780000002,747.9055252,1058.0643,1246.90737,457.7191807,4016.239529,1648.073791,2377.156192000001,3794.755195,1132.055034,582.8585102000002,421.3534653,13522.15752,665.6244126,925.060154,794.3484384,745.5398706,1341.9217210000004,977.4862725,636.6229191000001,9640.138501,1040.67619,563.2000145,739.014375,1361.369784,6058.253846000001,2948.047252,410.8968239,3804.537999,581.182725,1619.848217,6101.255823,737.0685949,1428.777814,1367.899369,1068.696278,926.9602964,7225.069257999998,1492.197043,3553.0224,825.682454,1034.298904,4332.720164,644.1707968999998,1210.884633,693.4207856],\"xaxis\":\"x\",\"y\":[67.744,40.647,53.919,62.745,50.26,44.736,54.31399999999999,49.396,51.724,57.93899999999999,45.548,56.433,52.044,51.604,63.674,47.545,49.99100000000001,48.091,61.36600000000001,52.644,57.50100000000001,48.576,43.26600000000001,59.285,59.685,40.802,68.755,52.214,49.42,48.38800000000001,58.333,69.745,65.393,44.284,61.999,47.39100000000001,47.472,73.615,23.599,62.742,58.19600000000001,38.333,39.658,61.88800000000001,53.556,58.474,50.44,58.06100000000001,70.001,48.825,46.1,60.377],\"yaxis\":\"y\",\"type\":\"scatter\"},{\"hovertemplate\":\"<b>%{hovertext}</b><br><br>continent=Americas<br>year=1992<br>Wealth=%{x}<br>Life Span=%{y}<br>pop=%{marker.size}<extra></extra>\",\"hovertext\":[\"Argentina\",\"Bolivia\",\"Brazil\",\"Canada\",\"Chile\",\"Colombia\",\"Costa Rica\",\"Cuba\",\"Dominican Republic\",\"Ecuador\",\"El Salvador\",\"Guatemala\",\"Haiti\",\"Honduras\",\"Jamaica\",\"Mexico\",\"Nicaragua\",\"Panama\",\"Paraguay\",\"Peru\",\"Puerto Rico\",\"Trinidad and Tobago\",\"United States\",\"Uruguay\",\"Venezuela\"],\"legendgroup\":\"Americas\",\"marker\":{\"color\":\"#ab63fa\",\"size\":[33958947,6893451,155975974,28523502,13572994,34202721,3173216,10723260,7351181,10748394,5274649,8486949,6326682,5077347,2378618,88111030,4017939,2484997,4483945,22430449,3585176,1183669,256894189,3149262,20265563],\"sizemode\":\"area\",\"sizeref\":131868.3096,\"symbol\":\"circle\"},\"mode\":\"markers\",\"name\":\"Americas\",\"orientation\":\"v\",\"showlegend\":true,\"x\":[9308.41871,2961.699694,6950.283020999998,26342.88426,7596.125964,5444.648617,6160.416317,5592.843963,3044.214214,7103.702595000002,4444.2317,4439.45084,1456.309517,3081.694603,7404.923685,9472.384295,2170.151724,6618.74305,4196.411078,4446.380924,14641.58711,7370.990932,32003.93224,8137.004775,10733.92631],\"xaxis\":\"x\",\"y\":[71.868,59.957,67.057,77.95,74.126,68.421,75.71300000000002,74.414,68.457,69.613,66.798,63.37300000000001,55.089,66.399,71.766,71.455,65.843,72.462,68.225,66.458,73.911,69.862,76.09,72.752,71.15],\"yaxis\":\"y\",\"type\":\"scatter\"},{\"hovertemplate\":\"<b>%{hovertext}</b><br><br>continent=Oceania<br>year=1992<br>Wealth=%{x}<br>Life Span=%{y}<br>pop=%{marker.size}<extra></extra>\",\"hovertext\":[\"Australia\",\"New Zealand\"],\"legendgroup\":\"Oceania\",\"marker\":{\"color\":\"#FFA15A\",\"size\":[17481977,3437674],\"sizemode\":\"area\",\"sizeref\":131868.3096,\"symbol\":\"circle\"},\"mode\":\"markers\",\"name\":\"Oceania\",\"orientation\":\"v\",\"showlegend\":true,\"x\":[23424.76683,18363.32494],\"xaxis\":\"x\",\"y\":[77.56,76.33],\"yaxis\":\"y\",\"type\":\"scatter\"}],\"name\":\"1992\"},{\"data\":[{\"hovertemplate\":\"<b>%{hovertext}</b><br><br>continent=Asia<br>year=1997<br>Wealth=%{x}<br>Life Span=%{y}<br>pop=%{marker.size}<extra></extra>\",\"hovertext\":[\"Afghanistan\",\"Bahrain\",\"Bangladesh\",\"Cambodia\",\"China\",\"Hong Kong, China\",\"India\",\"Indonesia\",\"Iran\",\"Iraq\",\"Israel\",\"Japan\",\"Jordan\",\"Korea, Dem. Rep.\",\"Korea, Rep.\",\"Kuwait\",\"Lebanon\",\"Malaysia\",\"Mongolia\",\"Myanmar\",\"Nepal\",\"Oman\",\"Pakistan\",\"Philippines\",\"Saudi Arabia\",\"Singapore\",\"Sri Lanka\",\"Syria\",\"Taiwan\",\"Thailand\",\"Vietnam\",\"West Bank and Gaza\",\"Yemen, Rep.\"],\"legendgroup\":\"Asia\",\"marker\":{\"color\":\"#636efa\",\"size\":[22227415,598561,123315288,11782962,1230075000,6495918,959000000,199278000,63327987,20775703,5531387,125956499,4526235,21585105,46173816,1765345,3430388,20476091,2494803,43247867,23001113,2283635,135564834,75012988,21229759,3802309,18698655,15081016,21628605,60216677,76048996,2826046,15826497],\"sizemode\":\"area\",\"sizeref\":131868.3096,\"symbol\":\"circle\"},\"mode\":\"markers\",\"name\":\"Asia\",\"orientation\":\"v\",\"showlegend\":true,\"x\":[635.341351,20292.01679,972.7700352,734.28517,2289.234136,28377.63219,1458.817442,3119.335603,8263.590301,3076.239795,20896.60924,28816.58499,3645.379572,1690.756814,15993.52796,40300.61996,8754.96385,10132.90964,1902.2521,415.0,1010.892138,19702.05581,2049.3505210000008,2536.534925,20586.69019,33519.4766,2664.477257,4014.238972,20206.82098,5852.625497,1385.896769,7110.667619,2117.484526],\"xaxis\":\"x\",\"y\":[41.76300000000001,73.925,59.412,56.534,70.426,80.0,61.765,66.041,68.042,58.81100000000001,78.26899999999998,80.69,69.77199999999999,67.727,74.64699999999998,76.156,70.265,71.938,63.625,60.328,59.426,72.499,61.81800000000001,68.564,70.533,77.158,70.457,71.527,75.25,67.521,70.672,71.096,58.02],\"yaxis\":\"y\",\"type\":\"scatter\"},{\"hovertemplate\":\"<b>%{hovertext}</b><br><br>continent=Europe<br>year=1997<br>Wealth=%{x}<br>Life Span=%{y}<br>pop=%{marker.size}<extra></extra>\",\"hovertext\":[\"Albania\",\"Austria\",\"Belgium\",\"Bosnia and Herzegovina\",\"Bulgaria\",\"Croatia\",\"Czech Republic\",\"Denmark\",\"Finland\",\"France\",\"Germany\",\"Greece\",\"Hungary\",\"Iceland\",\"Ireland\",\"Italy\",\"Montenegro\",\"Netherlands\",\"Norway\",\"Poland\",\"Portugal\",\"Romania\",\"Serbia\",\"Slovak Republic\",\"Slovenia\",\"Spain\",\"Sweden\",\"Switzerland\",\"Turkey\",\"United Kingdom\"],\"legendgroup\":\"Europe\",\"marker\":{\"color\":\"#EF553B\",\"size\":[3428038,8069876,10199787,3607000,8066057,4444595,10300707,5283663,5134406,58623428,82011073,10502372,10244684,271192,3667233,57479469,692651,15604464,4405672,38654957,10156415,22562458,10336594,5383010,2011612,39855442,8897619,7193761,63047647,58808266],\"sizemode\":\"area\",\"sizeref\":131868.3096,\"symbol\":\"circle\"},\"mode\":\"markers\",\"name\":\"Europe\",\"orientation\":\"v\",\"showlegend\":true,\"x\":[3193.054604,29095.920660000003,27561.19663,4766.355904,5970.38876,9875.604515,16048.51424,29804.34567,23723.9502,25889.78487,27788.88416,18747.69814,11712.7768,28061.099660000003,24521.94713,24675.02446,6465.613349,30246.13063,41283.16433,10159.58368,17641.03156,7346.547556999999,7914.320304000002,12126.23065,17161.10735,20445.29896,25266.59499,32135.323010000004,6601.429915,26074.53136],\"xaxis\":\"x\",\"y\":[72.95,77.51,77.53,73.244,70.32,73.68,74.01,76.11,77.13,78.64,77.34,77.869,71.04,78.95,76.122,78.82,75.445,78.03,78.32,72.75,75.97,69.72,72.232,72.71,75.13,78.77,79.39,79.37,68.835,77.218],\"yaxis\":\"y\",\"type\":\"scatter\"},{\"hovertemplate\":\"<b>%{hovertext}</b><br><br>continent=Africa<br>year=1997<br>Wealth=%{x}<br>Life Span=%{y}<br>pop=%{marker.size}<extra></extra>\",\"hovertext\":[\"Algeria\",\"Angola\",\"Benin\",\"Botswana\",\"Burkina Faso\",\"Burundi\",\"Cameroon\",\"Central African Republic\",\"Chad\",\"Comoros\",\"Congo, Dem. Rep.\",\"Congo, Rep.\",\"Cote d'Ivoire\",\"Djibouti\",\"Egypt\",\"Equatorial Guinea\",\"Eritrea\",\"Ethiopia\",\"Gabon\",\"Gambia\",\"Ghana\",\"Guinea\",\"Guinea-Bissau\",\"Kenya\",\"Lesotho\",\"Liberia\",\"Libya\",\"Madagascar\",\"Malawi\",\"Mali\",\"Mauritania\",\"Mauritius\",\"Morocco\",\"Mozambique\",\"Namibia\",\"Niger\",\"Nigeria\",\"Reunion\",\"Rwanda\",\"Sao Tome and Principe\",\"Senegal\",\"Sierra Leone\",\"Somalia\",\"South Africa\",\"Sudan\",\"Swaziland\",\"Tanzania\",\"Togo\",\"Tunisia\",\"Uganda\",\"Zambia\",\"Zimbabwe\"],\"legendgroup\":\"Africa\",\"marker\":{\"color\":\"#00cc96\",\"size\":[29072015,9875024,6066080,1536536,10352843,6121610,14195809,3696513,7562011,527982,47798986,2800947,14625967,417908,66134291,439971,4058319,59861301,1126189,1235767,18418288,8048834,1193708,28263827,1982823,2200725,4759670,14165114,10419991,9384984,2444741,1149818,28529501,16603334,1774766,9666252,106207839,684810,7212583,145608,9535314,4578212,6633514,42835005,32160729,1054486,30686889,4320890,9231669,21210254,9417789,11404948],\"sizemode\":\"area\",\"sizeref\":131868.3096,\"symbol\":\"circle\"},\"mode\":\"markers\",\"name\":\"Africa\",\"orientation\":\"v\",\"showlegend\":true,\"x\":[4797.295051,2277.140884,1232.975292,8647.142313,946.2949618,463.1151478,1694.337469,740.5063317,1004.961353,1173.618235,312.188423,3484.164376,1786.265407,1895.016984,4173.181797,2814.480755,913.47079,515.8894013,14722.841880000002,653.7301704,1005.245812,869.4497667999998,796.6644681,1360.4850210000004,1186.147994,609.1739508,9467.446056,986.2958956,692.2758102999999,790.2579846,1483.136136,7425.705295000002,2982.101858,472.34607710000006,3899.52426,580.3052092,1624.941275,6071.941411,589.9445051,1339.076036,1392.368347,574.6481576,930.5964284,7479.188244,1632.2107640000004,3876.76846,789.1862231,982.2869243,4876.798614,816.559081,1071.353818,792.4499602999998],\"xaxis\":\"x\",\"y\":[69.152,40.963,54.777,52.556,50.324,45.326,52.199,46.066,51.573,60.66,42.587,52.962,47.99100000000001,53.157,67.217,48.245,53.378,49.402,60.46100000000001,55.861,58.556,51.455,44.87300000000001,54.407,55.558,42.221,71.555,54.978,47.495,49.903,60.43,70.736,67.66,46.344,58.909,51.313,47.464,74.77199999999998,36.087,63.306,60.187,39.897,43.795,60.236,55.37300000000001,54.289,48.466,58.39,71.973,44.578,40.238,46.809],\"yaxis\":\"y\",\"type\":\"scatter\"},{\"hovertemplate\":\"<b>%{hovertext}</b><br><br>continent=Americas<br>year=1997<br>Wealth=%{x}<br>Life Span=%{y}<br>pop=%{marker.size}<extra></extra>\",\"hovertext\":[\"Argentina\",\"Bolivia\",\"Brazil\",\"Canada\",\"Chile\",\"Colombia\",\"Costa Rica\",\"Cuba\",\"Dominican Republic\",\"Ecuador\",\"El Salvador\",\"Guatemala\",\"Haiti\",\"Honduras\",\"Jamaica\",\"Mexico\",\"Nicaragua\",\"Panama\",\"Paraguay\",\"Peru\",\"Puerto Rico\",\"Trinidad and Tobago\",\"United States\",\"Uruguay\",\"Venezuela\"],\"legendgroup\":\"Americas\",\"marker\":{\"color\":\"#ab63fa\",\"size\":[36203463,7693188,168546719,30305843,14599929,37657830,3518107,10983007,7992357,11911819,5783439,9803875,6913545,5867957,2531311,95895146,4609572,2734531,5154123,24748122,3759430,1138101,272911760,3262838,22374398],\"sizemode\":\"area\",\"sizeref\":131868.3096,\"symbol\":\"circle\"},\"mode\":\"markers\",\"name\":\"Americas\",\"orientation\":\"v\",\"showlegend\":true,\"x\":[10967.28195,3326.143191,7957.980823999998,28954.92589,10118.05318,6117.361746000001,6677.045314,5431.990415,3614.101285,7429.4558769999985,5154.825496,4684.313807,1341.726931,3160.454906,7121.924704000001,9767.29753,2253.023004,7113.692252,4247.400261,5838.347657,16999.4333,8792.573126000001,35767.43303,9230.240708,10165.49518],\"xaxis\":\"x\",\"y\":[73.275,62.05,69.388,78.61,75.816,70.313,77.26,76.15100000000002,69.957,72.312,69.535,66.322,56.67100000000001,67.65899999999999,72.262,73.67,68.426,73.738,69.4,68.38600000000001,74.917,69.465,76.81,74.223,72.146],\"yaxis\":\"y\",\"type\":\"scatter\"},{\"hovertemplate\":\"<b>%{hovertext}</b><br><br>continent=Oceania<br>year=1997<br>Wealth=%{x}<br>Life Span=%{y}<br>pop=%{marker.size}<extra></extra>\",\"hovertext\":[\"Australia\",\"New Zealand\"],\"legendgroup\":\"Oceania\",\"marker\":{\"color\":\"#FFA15A\",\"size\":[18565243,3676187],\"sizemode\":\"area\",\"sizeref\":131868.3096,\"symbol\":\"circle\"},\"mode\":\"markers\",\"name\":\"Oceania\",\"orientation\":\"v\",\"showlegend\":true,\"x\":[26997.93657,21050.41377],\"xaxis\":\"x\",\"y\":[78.83,77.55],\"yaxis\":\"y\",\"type\":\"scatter\"}],\"name\":\"1997\"},{\"data\":[{\"hovertemplate\":\"<b>%{hovertext}</b><br><br>continent=Asia<br>year=2002<br>Wealth=%{x}<br>Life Span=%{y}<br>pop=%{marker.size}<extra></extra>\",\"hovertext\":[\"Afghanistan\",\"Bahrain\",\"Bangladesh\",\"Cambodia\",\"China\",\"Hong Kong, China\",\"India\",\"Indonesia\",\"Iran\",\"Iraq\",\"Israel\",\"Japan\",\"Jordan\",\"Korea, Dem. Rep.\",\"Korea, Rep.\",\"Kuwait\",\"Lebanon\",\"Malaysia\",\"Mongolia\",\"Myanmar\",\"Nepal\",\"Oman\",\"Pakistan\",\"Philippines\",\"Saudi Arabia\",\"Singapore\",\"Sri Lanka\",\"Syria\",\"Taiwan\",\"Thailand\",\"Vietnam\",\"West Bank and Gaza\",\"Yemen, Rep.\"],\"legendgroup\":\"Asia\",\"marker\":{\"color\":\"#636efa\",\"size\":[25268405,656397,135656790,12926707,1280400000,6762476,1034172547,211060000,66907826,24001816,6029529,127065841,5307470,22215365,47969150,2111561,3677780,22662365,2674234,45598081,25873917,2713462,153403524,82995088,24501530,4197776,19576783,17155814,22454239,62806748,80908147,3389578,18701257],\"sizemode\":\"area\",\"sizeref\":131868.3096,\"symbol\":\"circle\"},\"mode\":\"markers\",\"name\":\"Asia\",\"orientation\":\"v\",\"showlegend\":true,\"x\":[726.7340548,23403.55927,1136.3904300000004,896.2260152999999,3119.280896,30209.015160000006,1746.769454,2873.91287,9240.761975,4390.717312,21905.59514,28604.5919,3844.917194,1646.758151,19233.98818,35110.10566,9313.93883,10206.97794,2140.739323,611.0,1057.206311,19774.83687,2092.712441,2650.921068,19014.54118,36023.1054,3015.378833,4090.925331,23235.42329,5913.187529,1764.456677,4515.487575,2234.820827],\"xaxis\":\"x\",\"y\":[42.129,74.795,62.01300000000001,56.752,72.028,81.495,62.879,68.58800000000001,69.45100000000001,57.04600000000001,79.696,82.0,71.263,66.66199999999999,77.045,76.904,71.028,73.044,65.033,59.908,61.34,74.193,63.61,70.303,71.626,78.77,70.815,73.053,76.99,68.564,73.017,72.37,60.308],\"yaxis\":\"y\",\"type\":\"scatter\"},{\"hovertemplate\":\"<b>%{hovertext}</b><br><br>continent=Europe<br>year=2002<br>Wealth=%{x}<br>Life Span=%{y}<br>pop=%{marker.size}<extra></extra>\",\"hovertext\":[\"Albania\",\"Austria\",\"Belgium\",\"Bosnia and Herzegovina\",\"Bulgaria\",\"Croatia\",\"Czech Republic\",\"Denmark\",\"Finland\",\"France\",\"Germany\",\"Greece\",\"Hungary\",\"Iceland\",\"Ireland\",\"Italy\",\"Montenegro\",\"Netherlands\",\"Norway\",\"Poland\",\"Portugal\",\"Romania\",\"Serbia\",\"Slovak Republic\",\"Slovenia\",\"Spain\",\"Sweden\",\"Switzerland\",\"Turkey\",\"United Kingdom\"],\"legendgroup\":\"Europe\",\"marker\":{\"color\":\"#EF553B\",\"size\":[3508512,8148312,10311970,4165416,7661799,4481020,10256295,5374693,5193039,59925035,82350671,10603863,10083313,288030,3879155,57926999,720230,16122830,4535591,38625976,10433867,22404337,10111559,5410052,2011497,40152517,8954175,7361757,67308928,59912431],\"sizemode\":\"area\",\"sizeref\":131868.3096,\"symbol\":\"circle\"},\"mode\":\"markers\",\"name\":\"Europe\",\"orientation\":\"v\",\"showlegend\":true,\"x\":[4604.211737,32417.60769,30485.88375,6018.975239,7696.777725,11628.38895,17596.210219999994,32166.50006,28204.59057,28926.03234,30035.80198,22514.2548,14843.93556,31163.20196,34077.04939,27968.09817,6557.194282,33724.75778,44683.97525,12002.23908,19970.90787,7885.360081,7236.075251,13638.778369999998,20660.01936,24835.47166,29341.630930000007,34480.95771,6508.085718,29478.99919],\"xaxis\":\"x\",\"y\":[75.65100000000002,78.98,78.32,74.09,72.14,74.876,75.51,77.18,78.37,79.59,78.67,78.256,72.59,80.5,77.783,80.24,73.98100000000002,78.53,79.05,74.67,77.29,71.322,73.21300000000002,73.8,76.66,79.78,80.04,80.62,70.845,78.471],\"yaxis\":\"y\",\"type\":\"scatter\"},{\"hovertemplate\":\"<b>%{hovertext}</b><br><br>continent=Africa<br>year=2002<br>Wealth=%{x}<br>Life Span=%{y}<br>pop=%{marker.size}<extra></extra>\",\"hovertext\":[\"Algeria\",\"Angola\",\"Benin\",\"Botswana\",\"Burkina Faso\",\"Burundi\",\"Cameroon\",\"Central African Republic\",\"Chad\",\"Comoros\",\"Congo, Dem. Rep.\",\"Congo, Rep.\",\"Cote d'Ivoire\",\"Djibouti\",\"Egypt\",\"Equatorial Guinea\",\"Eritrea\",\"Ethiopia\",\"Gabon\",\"Gambia\",\"Ghana\",\"Guinea\",\"Guinea-Bissau\",\"Kenya\",\"Lesotho\",\"Liberia\",\"Libya\",\"Madagascar\",\"Malawi\",\"Mali\",\"Mauritania\",\"Mauritius\",\"Morocco\",\"Mozambique\",\"Namibia\",\"Niger\",\"Nigeria\",\"Reunion\",\"Rwanda\",\"Sao Tome and Principe\",\"Senegal\",\"Sierra Leone\",\"Somalia\",\"South Africa\",\"Sudan\",\"Swaziland\",\"Tanzania\",\"Togo\",\"Tunisia\",\"Uganda\",\"Zambia\",\"Zimbabwe\"],\"legendgroup\":\"Africa\",\"marker\":{\"color\":\"#00cc96\",\"size\":[31287142,10866106,7026113,1630347,12251209,7021078,15929988,4048013,8835739,614382,55379852,3328795,16252726,447416,73312559,495627,4414865,67946797,1299304,1457766,20550751,8807818,1332459,31386842,2046772,2814651,5368585,16473477,11824495,10580176,2828858,1200206,31167783,18473780,1972153,11140655,119901274,743981,7852401,170372,10870037,5359092,7753310,44433622,37090298,1130269,34593779,4977378,9770575,24739869,10595811,11926563],\"sizemode\":\"area\",\"sizeref\":131868.3096,\"symbol\":\"circle\"},\"mode\":\"markers\",\"name\":\"Africa\",\"orientation\":\"v\",\"showlegend\":true,\"x\":[5288.040382,2773.287312,1372.877931,11003.60508,1037.645221,446.4035126,1934.011449,738.6906068,1156.18186,1075.811558,241.1658765,3484.06197,1648.800823,1908.260867,4754.604414,7703.4959,765.3500015,530.0535319,12521.71392,660.5855997,1111.9845779999996,945.5835837,575.7047176,1287.514732,1275.184575,531.4823679,9534.677467,894.6370822,665.4231186000002,951.4097518,1579.019543,9021.815894,3258.495584,633.6179466,4072.324751,601.0745012,1615.286395,6316.1652,785.6537647999999,1353.09239,1519.635262,699.4897129999998,882.0818218000002,7710.946444,1993.398314,4128.116943,899.0742111,886.2205765000001,5722.895654999998,927.7210018,1071.6139380000004,672.0386227000001],\"xaxis\":\"x\",\"y\":[70.994,41.003,54.40600000000001,46.63399999999999,50.65,47.36,49.856,43.308,50.525,62.974,44.966,52.97,46.832,53.37300000000001,69.806,49.348,55.24,50.725,56.761,58.041,58.453,53.676,45.504,50.992,44.593,43.753,72.737,57.286,45.00899999999999,51.81800000000001,62.247,71.954,69.615,44.026,51.479,54.496,46.608,75.744,43.413,64.337,61.6,41.012,45.93600000000001,53.365,56.369,43.869,49.651,57.56100000000001,73.042,47.813,39.19300000000001,39.989],\"yaxis\":\"y\",\"type\":\"scatter\"},{\"hovertemplate\":\"<b>%{hovertext}</b><br><br>continent=Americas<br>year=2002<br>Wealth=%{x}<br>Life Span=%{y}<br>pop=%{marker.size}<extra></extra>\",\"hovertext\":[\"Argentina\",\"Bolivia\",\"Brazil\",\"Canada\",\"Chile\",\"Colombia\",\"Costa Rica\",\"Cuba\",\"Dominican Republic\",\"Ecuador\",\"El Salvador\",\"Guatemala\",\"Haiti\",\"Honduras\",\"Jamaica\",\"Mexico\",\"Nicaragua\",\"Panama\",\"Paraguay\",\"Peru\",\"Puerto Rico\",\"Trinidad and Tobago\",\"United States\",\"Uruguay\",\"Venezuela\"],\"legendgroup\":\"Americas\",\"marker\":{\"color\":\"#ab63fa\",\"size\":[38331121,8445134,179914212,31902268,15497046,41008227,3834934,11226999,8650322,12921234,6353681,11178650,7607651,6677328,2664659,102479927,5146848,2990875,5884491,26769436,3859606,1101832,287675526,3363085,24287670],\"sizemode\":\"area\",\"sizeref\":131868.3096,\"symbol\":\"circle\"},\"mode\":\"markers\",\"name\":\"Americas\",\"orientation\":\"v\",\"showlegend\":true,\"x\":[8797.640716,3413.26269,8131.212843000001,33328.96507,10778.78385,5755.259962,7723.447195000002,6340.646683,4563.808154,5773.044512,5351.568665999999,4858.347495,1270.364932,3099.72866,6994.774861,10742.44053,2474.548819,7356.0319340000015,3783.674243,5909.020073,18855.60618,11460.60023,39097.09955,7727.002004000001,8605.047831],\"xaxis\":\"x\",\"y\":[74.34,63.883,71.006,79.77,77.86,71.682,78.123,77.158,70.847,74.173,70.734,68.97800000000001,58.137,68.565,72.047,74.902,70.836,74.712,70.755,69.906,77.778,68.976,77.31,75.307,72.766],\"yaxis\":\"y\",\"type\":\"scatter\"},{\"hovertemplate\":\"<b>%{hovertext}</b><br><br>continent=Oceania<br>year=2002<br>Wealth=%{x}<br>Life Span=%{y}<br>pop=%{marker.size}<extra></extra>\",\"hovertext\":[\"Australia\",\"New Zealand\"],\"legendgroup\":\"Oceania\",\"marker\":{\"color\":\"#FFA15A\",\"size\":[19546792,3908037],\"sizemode\":\"area\",\"sizeref\":131868.3096,\"symbol\":\"circle\"},\"mode\":\"markers\",\"name\":\"Oceania\",\"orientation\":\"v\",\"showlegend\":true,\"x\":[30687.75473,23189.80135],\"xaxis\":\"x\",\"y\":[80.37,79.11],\"yaxis\":\"y\",\"type\":\"scatter\"}],\"name\":\"2002\"},{\"data\":[{\"hovertemplate\":\"<b>%{hovertext}</b><br><br>continent=Asia<br>year=2007<br>Wealth=%{x}<br>Life Span=%{y}<br>pop=%{marker.size}<extra></extra>\",\"hovertext\":[\"Afghanistan\",\"Bahrain\",\"Bangladesh\",\"Cambodia\",\"China\",\"Hong Kong, China\",\"India\",\"Indonesia\",\"Iran\",\"Iraq\",\"Israel\",\"Japan\",\"Jordan\",\"Korea, Dem. Rep.\",\"Korea, Rep.\",\"Kuwait\",\"Lebanon\",\"Malaysia\",\"Mongolia\",\"Myanmar\",\"Nepal\",\"Oman\",\"Pakistan\",\"Philippines\",\"Saudi Arabia\",\"Singapore\",\"Sri Lanka\",\"Syria\",\"Taiwan\",\"Thailand\",\"Vietnam\",\"West Bank and Gaza\",\"Yemen, Rep.\"],\"legendgroup\":\"Asia\",\"marker\":{\"color\":\"#636efa\",\"size\":[31889923,708573,150448339,14131858,1318683096,6980412,1110396331,223547000,69453570,27499638,6426679,127467972,6053193,23301725,49044790,2505559,3921278,24821286,2874127,47761980,28901790,3204897,169270617,91077287,27601038,4553009,20378239,19314747,23174294,65068149,85262356,4018332,22211743],\"sizemode\":\"area\",\"sizeref\":131868.3096,\"symbol\":\"circle\"},\"mode\":\"markers\",\"name\":\"Asia\",\"orientation\":\"v\",\"showlegend\":true,\"x\":[974.5803384,29796.04834,1391.253792,1713.778686,4959.114854,39724.97867,2452.210407,3540.651564,11605.71449,4471.061906,25523.2771,31656.06806,4519.461171,1593.06548,23348.139730000006,47306.98978,10461.05868,12451.6558,3095.7722710000007,944.0,1091.359778,22316.19287,2605.94758,3190.481016,21654.83194,47143.17964,3970.095407,4184.548089,28718.27684,7458.396326999998,2441.576404,3025.349798,2280.769906],\"xaxis\":\"x\",\"y\":[43.828,75.635,64.062,59.723,72.961,82.208,64.69800000000001,70.65,70.964,59.545,80.745,82.603,72.535,67.297,78.623,77.58800000000002,71.993,74.241,66.803,62.069,63.785,75.64,65.483,71.688,72.777,79.972,72.396,74.143,78.4,70.616,74.249,73.422,62.698],\"yaxis\":\"y\",\"type\":\"scatter\"},{\"hovertemplate\":\"<b>%{hovertext}</b><br><br>continent=Europe<br>year=2007<br>Wealth=%{x}<br>Life Span=%{y}<br>pop=%{marker.size}<extra></extra>\",\"hovertext\":[\"Albania\",\"Austria\",\"Belgium\",\"Bosnia and Herzegovina\",\"Bulgaria\",\"Croatia\",\"Czech Republic\",\"Denmark\",\"Finland\",\"France\",\"Germany\",\"Greece\",\"Hungary\",\"Iceland\",\"Ireland\",\"Italy\",\"Montenegro\",\"Netherlands\",\"Norway\",\"Poland\",\"Portugal\",\"Romania\",\"Serbia\",\"Slovak Republic\",\"Slovenia\",\"Spain\",\"Sweden\",\"Switzerland\",\"Turkey\",\"United Kingdom\"],\"legendgroup\":\"Europe\",\"marker\":{\"color\":\"#EF553B\",\"size\":[3600523,8199783,10392226,4552198,7322858,4493312,10228744,5468120,5238460,61083916,82400996,10706290,9956108,301931,4109086,58147733,684736,16570613,4627926,38518241,10642836,22276056,10150265,5447502,2009245,40448191,9031088,7554661,71158647,60776238],\"sizemode\":\"area\",\"sizeref\":131868.3096,\"symbol\":\"circle\"},\"mode\":\"markers\",\"name\":\"Europe\",\"orientation\":\"v\",\"showlegend\":true,\"x\":[5937.029525999998,36126.4927,33692.60508,7446.298803,10680.79282,14619.222719999998,22833.30851,35278.41874,33207.0844,30470.0167,32170.37442,27538.41188,18008.94444,36180.78919,40675.99635,28569.7197,9253.896111,36797.93332,49357.19017,15389.924680000002,20509.64777,10808.47561,9786.534714,18678.31435,25768.25759,28821.0637,33859.74835,37506.41907,8458.276384,33203.26128],\"xaxis\":\"x\",\"y\":[76.423,79.829,79.441,74.852,73.005,75.748,76.486,78.332,79.313,80.657,79.406,79.483,73.33800000000002,81.757,78.885,80.546,74.543,79.762,80.196,75.563,78.098,72.476,74.002,74.663,77.926,80.941,80.884,81.70100000000002,71.777,79.425],\"yaxis\":\"y\",\"type\":\"scatter\"},{\"hovertemplate\":\"<b>%{hovertext}</b><br><br>continent=Africa<br>year=2007<br>Wealth=%{x}<br>Life Span=%{y}<br>pop=%{marker.size}<extra></extra>\",\"hovertext\":[\"Algeria\",\"Angola\",\"Benin\",\"Botswana\",\"Burkina Faso\",\"Burundi\",\"Cameroon\",\"Central African Republic\",\"Chad\",\"Comoros\",\"Congo, Dem. Rep.\",\"Congo, Rep.\",\"Cote d'Ivoire\",\"Djibouti\",\"Egypt\",\"Equatorial Guinea\",\"Eritrea\",\"Ethiopia\",\"Gabon\",\"Gambia\",\"Ghana\",\"Guinea\",\"Guinea-Bissau\",\"Kenya\",\"Lesotho\",\"Liberia\",\"Libya\",\"Madagascar\",\"Malawi\",\"Mali\",\"Mauritania\",\"Mauritius\",\"Morocco\",\"Mozambique\",\"Namibia\",\"Niger\",\"Nigeria\",\"Reunion\",\"Rwanda\",\"Sao Tome and Principe\",\"Senegal\",\"Sierra Leone\",\"Somalia\",\"South Africa\",\"Sudan\",\"Swaziland\",\"Tanzania\",\"Togo\",\"Tunisia\",\"Uganda\",\"Zambia\",\"Zimbabwe\"],\"legendgroup\":\"Africa\",\"marker\":{\"color\":\"#00cc96\",\"size\":[33333216,12420476,8078314,1639131,14326203,8390505,17696293,4369038,10238807,710960,64606759,3800610,18013409,496374,80264543,551201,4906585,76511887,1454867,1688359,22873338,9947814,1472041,35610177,2012649,3193942,6036914,19167654,13327079,12031795,3270065,1250882,33757175,19951656,2055080,12894865,135031164,798094,8860588,199579,12267493,6144562,9118773,43997828,42292929,1133066,38139640,5701579,10276158,29170398,11746035,12311143],\"sizemode\":\"area\",\"sizeref\":131868.3096,\"symbol\":\"circle\"},\"mode\":\"markers\",\"name\":\"Africa\",\"orientation\":\"v\",\"showlegend\":true,\"x\":[6223.367465,4797.231267,1441.284873,12569.85177,1217.032994,430.0706916,2042.09524,706.016537,1704.063724,986.1478792,277.5518587,3632.557798,1544.750112,2082.4815670000007,5581.180998,12154.08975,641.3695236000002,690.8055759,13206.48452,752.7497265,1327.60891,942.6542111,579.2317429999998,1463.249282,1569.331442,414.5073415,12057.49928,1044.770126,759.3499101,1042.581557,1803.151496,10956.99112,3820.17523,823.6856205,4811.060429,619.6768923999998,2013.977305,7670.122558,863.0884639000002,1598.435089,1712.472136,862.5407561000002,926.1410683,9269.657808,2602.394995,4513.480643,1107.482182,882.9699437999999,7092.923025,1056.380121,1271.211593,469.70929810000007],\"xaxis\":\"x\",\"y\":[72.301,42.731,56.728,50.728,52.295,49.58,50.43,44.74100000000001,50.651,65.152,46.462,55.322,48.328,54.791,71.33800000000002,51.57899999999999,58.04,52.947,56.735,59.448,60.022,56.007,46.38800000000001,54.11,42.592,45.678,73.952,59.44300000000001,48.303,54.467,64.164,72.801,71.164,42.082,52.90600000000001,56.867,46.859,76.442,46.242,65.528,63.062,42.56800000000001,48.159,49.339,58.556,39.613,52.517,58.42,73.923,51.542,42.38399999999999,43.487],\"yaxis\":\"y\",\"type\":\"scatter\"},{\"hovertemplate\":\"<b>%{hovertext}</b><br><br>continent=Americas<br>year=2007<br>Wealth=%{x}<br>Life Span=%{y}<br>pop=%{marker.size}<extra></extra>\",\"hovertext\":[\"Argentina\",\"Bolivia\",\"Brazil\",\"Canada\",\"Chile\",\"Colombia\",\"Costa Rica\",\"Cuba\",\"Dominican Republic\",\"Ecuador\",\"El Salvador\",\"Guatemala\",\"Haiti\",\"Honduras\",\"Jamaica\",\"Mexico\",\"Nicaragua\",\"Panama\",\"Paraguay\",\"Peru\",\"Puerto Rico\",\"Trinidad and Tobago\",\"United States\",\"Uruguay\",\"Venezuela\"],\"legendgroup\":\"Americas\",\"marker\":{\"color\":\"#ab63fa\",\"size\":[40301927,9119152,190010647,33390141,16284741,44227550,4133884,11416987,9319622,13755680,6939688,12572928,8502814,7483763,2780132,108700891,5675356,3242173,6667147,28674757,3942491,1056608,301139947,3447496,26084662],\"sizemode\":\"area\",\"sizeref\":131868.3096,\"symbol\":\"circle\"},\"mode\":\"markers\",\"name\":\"Americas\",\"orientation\":\"v\",\"showlegend\":true,\"x\":[12779.37964,3822.137084,9065.800825,36319.23501,13171.63885,7006.580419,9645.06142,8948.102923,6025.3747520000015,6873.262326000001,5728.353514,5186.050003,1201.637154,3548.3308460000007,7320.8802620000015,11977.57496,2749.320965,9809.185636,4172.838464,7408.905561,19328.70901,18008.50924,42951.65309,10611.46299,11415.80569],\"xaxis\":\"x\",\"y\":[75.32,65.554,72.39,80.653,78.553,72.889,78.782,78.273,72.235,74.994,71.878,70.259,60.916,70.19800000000001,72.567,76.195,72.899,75.53699999999998,71.752,71.421,78.74600000000002,69.819,78.242,76.384,73.747],\"yaxis\":\"y\",\"type\":\"scatter\"},{\"hovertemplate\":\"<b>%{hovertext}</b><br><br>continent=Oceania<br>year=2007<br>Wealth=%{x}<br>Life Span=%{y}<br>pop=%{marker.size}<extra></extra>\",\"hovertext\":[\"Australia\",\"New Zealand\"],\"legendgroup\":\"Oceania\",\"marker\":{\"color\":\"#FFA15A\",\"size\":[20434176,4115771],\"sizemode\":\"area\",\"sizeref\":131868.3096,\"symbol\":\"circle\"},\"mode\":\"markers\",\"name\":\"Oceania\",\"orientation\":\"v\",\"showlegend\":true,\"x\":[34435.367439999995,25185.00911],\"xaxis\":\"x\",\"y\":[81.235,80.204],\"yaxis\":\"y\",\"type\":\"scatter\"}],\"name\":\"2007\"}]);\n",
              "                        }).then(function(){\n",
              "                            \n",
              "var gd = document.getElementById('2b8f8df2-5921-45d7-95ec-fd5e62eb1a1b');\n",
              "var x = new MutationObserver(function (mutations, observer) {{\n",
              "        var display = window.getComputedStyle(gd).display;\n",
              "        if (!display || display === 'none') {{\n",
              "            console.log([gd, 'removed!']);\n",
              "            Plotly.purge(gd);\n",
              "            observer.disconnect();\n",
              "        }}\n",
              "}});\n",
              "\n",
              "// Listen for the removal of the full notebook cells\n",
              "var notebookContainer = gd.closest('#notebook-container');\n",
              "if (notebookContainer) {{\n",
              "    x.observe(notebookContainer, {childList: true});\n",
              "}}\n",
              "\n",
              "// Listen for the clearing of the current output cell\n",
              "var outputEl = gd.closest('.output');\n",
              "if (outputEl) {{\n",
              "    x.observe(outputEl, {childList: true});\n",
              "}}\n",
              "\n",
              "                        })                };                            </script>        </div>\n",
              "</body>\n",
              "</html>"
            ]
          },
          "metadata": {}
        }
      ]
    },
    {
      "cell_type": "markdown",
      "source": [
        "# farmOS Importers\n",
        "\n",
        "## About\n",
        "\n",
        "The crop importer imports the crop_plan_YYYY.csv files. A plant asset and transplanting log into the specified location is created for each row of this CSV file.\n",
        "\n",
        "(Walt feel free to provide more background if needed)\n",
        "\n",
        "The crop_plan_2021.csv included some length quantity information, but the 2022.csv file did not have this data. I left the logic for importing these values below in the importer.\n"
      ],
      "metadata": {
        "id": "2w6drxZhqQye"
      }
    },
    {
      "cell_type": "markdown",
      "source": [
        "## Client configuration\n",
        "\n",
        "Configure authentication with the farmOS instance."
      ],
      "metadata": {
        "id": "VI-eJMArsOuc"
      }
    },
    {
      "cell_type": "code",
      "source": [
        "!pip install farmOS==1.0.0b3\n",
        "from farmOS import farmOS\n",
        "hostname=\"https://vdl.farmos.dev\"\n",
        "client = farmOS(hostname, client_id=\"farm\", scope=\"farm_manager\")\n",
        "#current_token = client.authorize(username=\"apiTest\", password=\"api+35+erAPI\")\n",
        "current_token = client.authorize()\n"
      ],
      "metadata": {
        "colab": {
          "base_uri": "https://localhost:8080/"
        },
        "outputId": "2d08d64b-f9da-4481-d270-eea0e95f3a9e",
        "id": "KwszXd8gq9lC"
      },
      "execution_count": null,
      "outputs": [
        {
          "name": "stdout",
          "output_type": "stream",
          "text": [
            "Collecting farmOS==1.0.0b3\n",
            "  Downloading farmOS-1.0.0b3-py3-none-any.whl (26 kB)\n",
            "Collecting pydantic>=1.7.3\n",
            "  Downloading pydantic-1.9.0-cp37-cp37m-manylinux_2_17_x86_64.manylinux2014_x86_64.whl (10.9 MB)\n",
            "\u001b[K     |████████████████████████████████| 10.9 MB 7.1 MB/s \n",
            "\u001b[?25hRequirement already satisfied: requests-oauthlib in /usr/local/lib/python3.7/dist-packages (from farmOS==1.0.0b3) (1.3.1)\n",
            "Requirement already satisfied: typing-extensions>=3.7.4.3 in /usr/local/lib/python3.7/dist-packages (from pydantic>=1.7.3->farmOS==1.0.0b3) (3.10.0.2)\n",
            "Requirement already satisfied: oauthlib>=3.0.0 in /usr/local/lib/python3.7/dist-packages (from requests-oauthlib->farmOS==1.0.0b3) (3.2.0)\n",
            "Requirement already satisfied: requests>=2.0.0 in /usr/local/lib/python3.7/dist-packages (from requests-oauthlib->farmOS==1.0.0b3) (2.23.0)\n",
            "Requirement already satisfied: certifi>=2017.4.17 in /usr/local/lib/python3.7/dist-packages (from requests>=2.0.0->requests-oauthlib->farmOS==1.0.0b3) (2021.10.8)\n",
            "Requirement already satisfied: chardet<4,>=3.0.2 in /usr/local/lib/python3.7/dist-packages (from requests>=2.0.0->requests-oauthlib->farmOS==1.0.0b3) (3.0.4)\n",
            "Requirement already satisfied: urllib3!=1.25.0,!=1.25.1,<1.26,>=1.21.1 in /usr/local/lib/python3.7/dist-packages (from requests>=2.0.0->requests-oauthlib->farmOS==1.0.0b3) (1.24.3)\n",
            "Requirement already satisfied: idna<3,>=2.5 in /usr/local/lib/python3.7/dist-packages (from requests>=2.0.0->requests-oauthlib->farmOS==1.0.0b3) (2.10)\n",
            "Installing collected packages: pydantic, farmOS\n",
            "Successfully installed farmOS-1.0.0b3 pydantic-1.9.0\n",
            "Enter username: ··········\n",
            "Enter password: ··········\n"
          ]
        }
      ]
    },
    {
      "cell_type": "markdown",
      "source": [
        "## Common helper functions\n",
        "\n",
        "Helper functions that the CSV import scripts use."
      ],
      "metadata": {
        "id": "OqIDkXa6sg6p"
      }
    },
    {
      "cell_type": "code",
      "source": [
        "# Define a couple helper functions to use in the importer script below.\n",
        "def _get_existing_asset_by_name(asset_type, asset_name):\n",
        "    \"\"\"\n",
        "    Helper function to laod an existing asset by name.\n",
        "    :param asset_type: The asset type to lookup, eg: plant.\n",
        "    :param asset_name: The asset name to lookup.\n",
        "    :return: The asset data or None if not found.\n",
        "    \"\"\"\n",
        "\n",
        "    asset_filter = client.filter('name', asset_name)\n",
        "    assets = list(client.asset.iterate(asset_type, asset_filter))\n",
        "\n",
        "    if (len(assets) == 0):\n",
        "        return None\n",
        "    else:\n",
        "        return assets[0]\n",
        "\n",
        "def _get_or_create_taxonomy_term(vocabulary, term_name):\n",
        "    \"\"\"\n",
        "    Helper function to load an existing or create a new taxonomy term by name.\n",
        "    :param vocabulary: The taxonomy vocabulary.\n",
        "    :param term_name: The term name.\n",
        "    :return: The term data or None if not found.\n",
        "    \"\"\"\n",
        "\n",
        "    term_filter = client.filter('name', term_name)\n",
        "    terms = list(client.resource.iterate('taxonomy_term', vocabulary, term_filter))\n",
        "\n",
        "    # Return the first matching term.\n",
        "    if (len(terms) > 0):\n",
        "        return terms[0]\n",
        "    # Else create a new term.\n",
        "    else:\n",
        "        term = {\n",
        "            \"attributes\": {\n",
        "                \"name\": term_name,\n",
        "            },\n",
        "        }\n",
        "        new_term = client.term.send(vocabulary, term)\n",
        "        return new_term[\"data\"]\n"
      ],
      "metadata": {
        "id": "VWfW-FXitvpD"
      },
      "execution_count": null,
      "outputs": []
    },
    {
      "cell_type": "markdown",
      "source": [
        "## Crop importer"
      ],
      "metadata": {
        "id": "CQQc2CTZtw8O"
      }
    },
    {
      "cell_type": "code",
      "source": [
        "import logging\n",
        "import re\n",
        "import csv\n",
        "from datetime import datetime\n",
        "from time import time\n",
        "\n",
        "# Specify the file path.\n",
        "file_path = '/content/sample_data/crop_plan_paul_test.csv'\n",
        "\n",
        "# Prompt the user to avoid running multiple times.\n",
        "res = input(f\"Import crop data from file: {file_path}\")\n",
        "\n",
        "if res is 'y' or res is 'yes':\n",
        "    print('importing')\n",
        "\n",
        "    # Open the CSV file.\n",
        "    with open(file_path, newline='') as csv_file:\n",
        "        # Iterate through each row of the CSV file.\n",
        "        reader = csv.DictReader(csv_file, delimiter=',')\n",
        "        for row in reader:\n",
        "\n",
        "            # Required values.\n",
        "            asset_name = row['Name']\n",
        "            existing_asset = _get_existing_asset_by_name('plant', asset_name)\n",
        "            if existing_asset is not None:\n",
        "                print(f\"Row {reader.line_num}: Asset already exists: '{asset_name}'\")\n",
        "                continue\n",
        "            if (asset_name is None or len(asset_name) == 0):\n",
        "                print(f\"Row {reader.line_num}: No asset name\")\n",
        "                continue\n",
        "            crop_variety = row['Crop/variety']\n",
        "            if (crop_variety is None or len(crop_variety) == 0):\n",
        "                print(f\"Row {reader.line_num}: No Crop/variety\")\n",
        "                continue\n",
        "            asset_location_name = row['Area/Location']\n",
        "            if (asset_location_name is None or len(asset_location_name) == 0):\n",
        "                print(f\"Row {reader.line_num}: No asset location\")\n",
        "                continue\n",
        "\n",
        "            asset_location = _get_existing_asset_by_name('land', asset_location_name)\n",
        "            if (asset_location is None):\n",
        "                print(f\"Row {reader.line_num}: Could not find existing location: '{asset_location_name}'\")\n",
        "                continue\n",
        "\n",
        "            new_asset_data = {\n",
        "                \"attributes\": {\n",
        "                    \"type\": \"plant\",\n",
        "                    \"status\": 'active' if len(row['Archived']) == 0 else 'archived',\n",
        "                    \"name\": asset_name,\n",
        "                    \"notes\": row['Description'],\n",
        "                },\n",
        "                \"relationships\": {\n",
        "                }\n",
        "            }\n",
        "\n",
        "            plant_type = _get_or_create_taxonomy_term(\"plant_type\", crop_variety)\n",
        "            new_asset_data[\"relationships\"][\"plant_type\"] = {\n",
        "                \"data\": [\n",
        "                    {\n",
        "                        \"type\": \"taxonomy_term--plant_type\",\n",
        "                        \"id\": plant_type[\"id\"],\n",
        "                    }\n",
        "                ]\n",
        "            }\n",
        "\n",
        "            season_value = row['Season']\n",
        "            if len(season_value) != 0:\n",
        "                season = _get_or_create_taxonomy_term(\"season\", season_value)\n",
        "                new_asset_data[\"relationships\"][\"season\"] = {\n",
        "                    \"data\": [\n",
        "                        {\n",
        "                            \"type\": \"taxonomy_term--season\",\n",
        "                            \"id\": season[\"id\"]\n",
        "                        }\n",
        "                    ]\n",
        "                }\n",
        "\n",
        "            # Create the asset.\n",
        "            new_asset = client.asset.send('plant', new_asset_data)\n",
        "\n",
        "            # Load log values.\n",
        "\n",
        "            # Convert date string to timestamp.\n",
        "            now = time()\n",
        "            pattern = r\"\\d{4}[-][W]\\d{1,2}\"\n",
        "            year_week = re.match(pattern, asset_name)\n",
        "            timestamp = datetime.strptime(year_week.group(0) + '-1', '%Y-W%W-%w').timestamp()\n",
        "\n",
        "            # Log status\n",
        "            #raw_status = int(row['Done'])\n",
        "            #status = \"done\" if raw_status == 1 else \"pending\"\n",
        "            # TODO Calculate status from the date.\n",
        "            status = \"done\"\n",
        "\n",
        "            # Notes\n",
        "            # TODO build notes from quantities.\n",
        "            #notes = row['Notes']\n",
        "\n",
        "            # Create the transplanting log referencing the plant asset.\n",
        "            log = {\n",
        "                \"attributes\": {\n",
        "                    \"timestamp\": timestamp,\n",
        "                    \"status\": status,\n",
        "                    #\"notes\": notes,\n",
        "                    \"is_movement\": True,\n",
        "                },\n",
        "                \"relationships\": {\n",
        "                    \"asset\": {\n",
        "                        \"data\": [\n",
        "                            {\n",
        "                                \"type\": \"asset--plant\",\n",
        "                                \"id\": new_asset[\"data\"][\"id\"],\n",
        "                            }\n",
        "                        ]\n",
        "                    },\n",
        "                    \"location\": {\n",
        "                        \"data\": [\n",
        "                            {\n",
        "                                \"type\": \"asset--land\",\n",
        "                                \"id\": asset_location[\"id\"],\n",
        "                            }\n",
        "                        ]\n",
        "                    }\n",
        "                }\n",
        "            }\n",
        "\n",
        "            # Create a quantity for the log if length is provided.\n",
        "            if 'length FB' in row:\n",
        "                length_fb = row['length FB']\n",
        "                nr_plants_fb = row['Nr plants FB']\n",
        "                if all(len(x) != 0 for x in [length_fb, nr_plants_fb]):\n",
        "                    length_quantity_data = {\n",
        "                        \"attributes\": {\n",
        "                            \"type\": \"standard\",\n",
        "                            \"measure\": \"length\",\n",
        "                            \"value\": {\n",
        "                                \"numerator\": length_fb,\n",
        "                                \"denominator\": 1,\n",
        "                            },\n",
        "                            \"label\": \"Length FB\",\n",
        "                        },\n",
        "                        \"relationships\": {\n",
        "                        }\n",
        "                    }\n",
        "                    # Create the quantity.\n",
        "                    length_quantity = client.resource.send('quantity', 'standard', length_quantity_data)\n",
        "\n",
        "                    count_quantity_data = {\n",
        "                        \"attributes\": {\n",
        "                            \"type\": \"standard\",\n",
        "                            \"measure\": \"count\",\n",
        "                            \"value\": {\n",
        "                                \"numerator\": nr_plants_fb,\n",
        "                                \"denominator\": 1,\n",
        "                            },\n",
        "                            \"label\": \"Nr plants FB\",\n",
        "                        },\n",
        "                        \"relationships\": {\n",
        "                        }\n",
        "                    }\n",
        "                    count_quantity = client.resource.send('quantity', 'standard', count_quantity_data)\n",
        "\n",
        "                    # Add quantity to log.\n",
        "                    log[\"relationships\"][\"quantity\"] = {\n",
        "                        \"data\": [\n",
        "                            {\n",
        "                                \"type\": \"quantity--standard\",\n",
        "                                \"id\": length_quantity[\"data\"][\"id\"],\n",
        "                                \"meta\": {\n",
        "                                    \"target_revision_id\": length_quantity[\"data\"][\"attributes\"][\"drupal_internal__revision_id\"]\n",
        "                                }\n",
        "                            },\n",
        "                            {\n",
        "                                \"type\": \"quantity--standard\",\n",
        "                                \"id\": count_quantity[\"data\"][\"id\"],\n",
        "                                \"meta\": {\n",
        "                                    \"target_revision_id\": count_quantity[\"data\"][\"attributes\"][\"drupal_internal__revision_id\"]\n",
        "                                }\n",
        "                            }\n",
        "                        ]\n",
        "                    }\n",
        "\n",
        "            new_log = client.log.send(\"transplanting\", log)\n",
        "\n",
        "            link = \"{hostname}/asset/{id}\".format(hostname=hostname,\n",
        "                                                  id=new_asset[\"data\"][\"attributes\"][\"drupal_internal__id\"])\n",
        "            print(\n",
        "                \"Imported log for asset: {name} - {link}\".format(name=new_asset[\"data\"][\"attributes\"][\"name\"],\n",
        "                                                                  link=link))\n"
      ],
      "metadata": {
        "colab": {
          "base_uri": "https://localhost:8080/"
        },
        "id": "jxYncFxZt1vt",
        "outputId": "38d10aa5-a47a-4669-8ec1-d318b8277c03"
      },
      "execution_count": null,
      "outputs": [
        {
          "output_type": "stream",
          "name": "stdout",
          "text": [
            "Import crop data from file: /content/sample_data/crop_plan_paul_test.csvy\n",
            "importing\n",
            "Row 2: No Crop/variety\n"
          ]
        }
      ]
    },
    {
      "cell_type": "markdown",
      "source": [
        "## Harvest importer"
      ],
      "metadata": {
        "id": "BKvVdkJbNkgd"
      }
    },
    {
      "cell_type": "code",
      "source": [
        "import logging\n",
        "import re\n",
        "import csv\n",
        "from datetime import datetime\n",
        "from time import time\n",
        "\n",
        "# Specify the file path.\n",
        "file_path = '/content/sample_data/log_farm_harvest_week43_dev.csv'\n",
        "\n",
        "# Prompt the user to avoid running multiple times.\n",
        "res = input(f\"Import harvest data from file: {file_path}\")\n",
        "\n",
        "if res is 'y' or res is 'yes':\n",
        "    print('importing')\n",
        "\n",
        "    # Open the CSV file.\n",
        "    with open(file_path, newline='') as csv_file:\n",
        "        # Iterate through each row of the CSV file.\n",
        "        reader = csv.DictReader(csv_file, delimiter=',')\n",
        "        for row in reader:\n",
        "\n",
        "            # Required values.\n",
        "            log_name = row['Log name']\n",
        "            if (log_name is None or len(log_name) == 0):\n",
        "                print(f\"Row {reader.line_num}: No log name\")\n",
        "                continue\n",
        "            date = row['Date']\n",
        "            if (date is None or len(date) == 0):\n",
        "                print(f\"Row {reader.line_num}: No date\")\n",
        "                continue\n",
        "\n",
        "            asset_name = row['Asset names']\n",
        "            if (asset_name is None or len(asset_name) == 0):\n",
        "                print(f\"Row {reader.line_num}: No asset name\")\n",
        "                continue\n",
        "            plant_asset = _get_existing_asset_by_name('plant', asset_name)\n",
        "            if (plant_asset is None):\n",
        "                print(f\"Row {reader.line_num}: Could not find existing plant asset: '{asset_name}'\")\n",
        "                continue\n",
        "\n",
        "            # Load log values.\n",
        "\n",
        "            # Convert date string to timestamp.\n",
        "            now = time()\n",
        "            timestamp = datetime.strptime(date, '%Y-%m-%d').timestamp()\n",
        "\n",
        "            # Log status\n",
        "            raw_status = int(bool(row['Done']))\n",
        "            status = \"done\" if raw_status == 1 else \"pending\"\n",
        "\n",
        "            # Notes\n",
        "            notes = row['Notes']\n",
        "\n",
        "            # Create the transplanting log referencing the plant asset.\n",
        "            log = {\n",
        "                \"attributes\": {\n",
        "                    \"type\": \"harvest\",\n",
        "                    \"timestamp\": timestamp,\n",
        "                    \"status\": status,\n",
        "                    \"name\": log_name,\n",
        "                    \"notes\": notes,\n",
        "                },\n",
        "                \"relationships\": {\n",
        "                    \"asset\": {\n",
        "                        \"data\": [\n",
        "                            {\n",
        "                                \"type\": \"asset--plant\",\n",
        "                                \"id\": plant_asset[\"id\"],\n",
        "                            }\n",
        "                        ]\n",
        "                    },\n",
        "                }\n",
        "            }\n",
        "\n",
        "            # Add category.\n",
        "            category = row[\"Categories\"]\n",
        "            if len(category) != 0:\n",
        "                category_term = _get_or_create_taxonomy_term(\"log_category\", category)\n",
        "                log[\"relationships\"][\"category\"] = {\n",
        "                    \"data\": {\n",
        "                        \"type\": \"taxonomy_term--log_category\",\n",
        "                        \"id\": category_term[\"id\"],\n",
        "                    }\n",
        "                }\n",
        "\n",
        "            # Add lot number.\n",
        "            lot_number = row[\"Lot number\"]\n",
        "            if len(lot_number) != 0:\n",
        "                log[\"attributes\"][\"lot_number\"] = lot_number\n",
        "\n",
        "            # Create a quantity for the log.\n",
        "            quantity_value = row['Quantity value']\n",
        "            if len(quantity_value) != 0:\n",
        "                decimal = float(quantity_value.replace(\",\", \".\"))\n",
        "                harvest_quantity_data = {\n",
        "                    \"attributes\": {\n",
        "                        \"type\": \"standard\",\n",
        "                        \"measure\": \"weight\",\n",
        "                        \"value\": {\n",
        "                            \"decimal\": decimal,\n",
        "                        },\n",
        "                    },\n",
        "                    \"relationships\": {\n",
        "                    }\n",
        "                }\n",
        "\n",
        "                unit = row[\"Quantity unit\"]\n",
        "                if len(unit) != 0:\n",
        "                    unit_term = _get_or_create_taxonomy_term(\"unit\", unit)\n",
        "                    harvest_quantity_data[\"relationships\"][\"units\"] = {\n",
        "                        \"data\": {\n",
        "                            \"type\": \"taxonomy_term--unit\",\n",
        "                            \"id\": unit_term[\"id\"],\n",
        "                        }\n",
        "                    }\n",
        "\n",
        "                # Create the quantity.\n",
        "                harvest_quantity = client.resource.send('quantity', 'standard', harvest_quantity_data)\n",
        "\n",
        "                # Add quantity to log.\n",
        "                log[\"relationships\"][\"quantity\"] = {\n",
        "                    \"data\": [\n",
        "                        {\n",
        "                            \"type\": \"quantity--standard\",\n",
        "                            \"id\": harvest_quantity[\"data\"][\"id\"],\n",
        "                            \"meta\": {\n",
        "                                \"target_revision_id\": harvest_quantity[\"data\"][\"attributes\"][\"drupal_internal__revision_id\"]\n",
        "                            }\n",
        "                        },\n",
        "                    ]\n",
        "                }\n",
        "\n",
        "            new_log = client.log.send(\"harvest\", log)\n",
        "\n",
        "            link = \"{hostname}/log/{id}\".format(hostname=hostname,\n",
        "                                                  id=new_log[\"data\"][\"attributes\"][\"drupal_internal__id\"])\n",
        "            print(\n",
        "                \"Imported log for asset: {name} - {link}\".format(name=asset_name,\n",
        "                                                                  link=link))"
      ],
      "metadata": {
        "colab": {
          "base_uri": "https://localhost:8080/"
        },
        "id": "OdpkoakmNpOq",
        "outputId": "7848833c-6a29-4fdd-9eac-63e26e8c582a"
      },
      "execution_count": null,
      "outputs": [
        {
          "output_type": "stream",
          "name": "stdout",
          "text": [
            "Import harvest data from file: /content/sample_data/log_farm_harvest_week43_dev.csvy\n",
            "importing\n",
            "Imported log for asset: 2021-W34 Tomatoes varied WGH01 - https://vdl.farmos.dev/log/780\n",
            "Row 3: Could not find existing plant asset: '2021-W14 Tomatoes varied WGH06'\n"
          ]
        }
      ]
    }
  ]
}