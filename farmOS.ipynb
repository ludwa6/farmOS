{
  "nbformat": 4,
  "nbformat_minor": 0,
  "metadata": {
    "colab": {
      "name": "farmOS.ipynb",
      "provenance": [],
      "collapsed_sections": [],
      "toc_visible": true,
      "include_colab_link": true
    },
    "kernelspec": {
      "name": "python3",
      "display_name": "Python 3"
    },
    "language_info": {
      "name": "python"
    }
  },
  "cells": [
    {
      "cell_type": "markdown",
      "metadata": {
        "id": "view-in-github",
        "colab_type": "text"
      },
      "source": [
        "<a href=\"https://colab.research.google.com/github/ludwa6/farmOS/blob/main/farmOS.ipynb\" target=\"_parent\"><img src=\"https://colab.research.google.com/assets/colab-badge.svg\" alt=\"Open In Colab\"/></a>"
      ]
    },
    {
      "cell_type": "markdown",
      "source": [
        "# Farm record-keeping in farmOS via OpenAPI Is it feasible?\n",
        "_exploring the possibilities, and the constraints_"
      ],
      "metadata": {
        "id": "6T1jd5knxYWi"
      }
    },
    {
      "cell_type": "markdown",
      "source": [
        "## Farm Record-Keeping Context\n",
        "The following Use Case Diagram illustrates the flow of data related to this farm operation:\n",
        "\n",
        "![Use Case Diagram](https://trello-attachments.s3.amazonaws.com/59f1fb4bb19910c6c6a4367f/5d525f2e59b77812de3869d8/60ac32f649e3afd58602f41d0682bf2b/Farm_Data_Processing.jpeg)\n",
        "\n",
        "... which is probably a pretty typical farm record-keeping dataflow, in essence.  The UseCase we aim to address in this iteration is based on the following User Story (from the actor depicted in LL of above diagram):\n",
        "\n",
        "-   **\"In my Role as PM:OMG (Production Manager for the Organic Market Garden), the harvest data that i gather 2x /week from the OMG team in spreadsheet form needs to be uploaded to farmOS on a weekly basis with as little friction as possible.\"**\n"
      ],
      "metadata": {
        "id": "wG107z6mdyOc"
      }
    },
    {
      "cell_type": "markdown",
      "source": [
        "## Focus ;  Research Question(s)\n",
        "This UseCase, and some of the complications about it is further elaborated in [this thread from farmOS Discourse forum](https://farmos.discourse.group/t/csv-importers-in-v2-x/942) ; the essence of the problem lies in these two facts: \n",
        "\n",
        "* Crop Plan and Harvest Log data is being collected in spreadsheets; and\n",
        "* There is at present no \"Import CSV\" feature in v2 of farmOS.\n",
        "\n",
        "therefore- until there is an \"Import CSV\" facility developed for farmOS v2.x- such data collected in spreadsheets can only be uploaded via the API.  The canonical methods for such script access are [published to the project repository as farmOS.py](https://github.com/farmOS/farmOS.py), which can be loaded here via !pip command, but comprehensive testing of its functions have yet to be performed.\n",
        "\n",
        "**QUESTION(S) for Research:**\n",
        "1. Is it feasible to deploy a tool for API access to farm staff, in a form that is usable enough to fit into weekly farm workflow?\n",
        "1. Is it possible to upload files of both Crop Plan (i.e. \"Plant asset\") and Harvest Log type via API, such that both POST of new records and PUT (update) on existing records is done in a way that is transparent to the user?\n",
        "1. Database Referential Integrity: Is it possible via the \"Name\" field that identifies Plant assets uniquely, to maintain links between Harvest logs and the Plant asset to which they pertain?"
      ],
      "metadata": {
        "id": "lLxAtGXsy6_V"
      }
    },
    {
      "cell_type": "markdown",
      "source": [
        "# CSV Data Collection + Preliminary EDA"
      ],
      "metadata": {
        "id": "jAyKy8ujQ8SF"
      }
    },
    {
      "cell_type": "code",
      "execution_count": null,
      "metadata": {
        "id": "3HLRzteLxQmU"
      },
      "outputs": [],
      "source": [
        "# import needed libraries, and check versions\n",
        "import numpy as np\n",
        "import pandas as pd   #load the software\n",
        "print(\"Pandas version \",pd.__version__)  # confirm software version, to guarantee reproducible results\n",
        "print(\"Numpy version \",np.__version__)"
      ]
    },
    {
      "cell_type": "code",
      "source": [
        "# Import the .csv datafile of Plant assets (crops) and eyeball a few\n",
        "df=pd.read_csv(\"/content/CROPS.csv\")\n",
        "# do hi-level overview\n",
        "print(\"Number of Rows, Columns = \",df.shape)  #to know the depth & scope of dataframe\n",
        "print(\"Column Headers: \",df.columns)  # to see names of column headers\n",
        "print(\"Datatype of index = \",type(df.index[0]))  # to confirm datatype of the index"
      ],
      "metadata": {
        "id": "5Xly4A1aMdH9"
      },
      "execution_count": null,
      "outputs": []
    },
    {
      "cell_type": "code",
      "source": [
        "df.head()"
      ],
      "metadata": {
        "id": "8uXlrK5EMw_I"
      },
      "execution_count": null,
      "outputs": []
    },
    {
      "cell_type": "code",
      "source": [
        "# for a more agile/ interactive view of the Pandas dataframe, load gColab's \"Interactive Data Table\" extension\n",
        "%load_ext google.colab.data_table\n",
        "df"
      ],
      "metadata": {
        "id": "rntRT7dsSTjp"
      },
      "execution_count": null,
      "outputs": []
    },
    {
      "cell_type": "markdown",
      "source": [
        "## Exploring the data frame\n",
        "NB:  This \"Interactive Data Table\" extension brings useful functionality- see how you can Sort on any column, set any combination of Filters, adjust Pagination, etc. -but such functions may not accompany this .ipynb file to its deployment in other tools in the Jupyter ecosystem."
      ],
      "metadata": {
        "id": "77BZ1TuJu0Wt"
      }
    },
    {
      "cell_type": "markdown",
      "source": [
        "## Visualizing the data\n",
        "\n",
        "Given the range of libraries available in this tool, virtually any sort of visualisation can be implemented, ranging from a simpe Pie Chart (below) to Dynamic & Interactive visualisation demonstrated at end of this document."
      ],
      "metadata": {
        "id": "-BrSCvFuDPHj"
      }
    },
    {
      "cell_type": "code",
      "source": [
        "# start with a simple pie-chart of crop distribution by season, based on this pie-chart example\n",
        "import matplotlib.pyplot as plt\n",
        "\n",
        "labels = 'Spring', 'Summer', 'Autumn'\n",
        "sections = [56, 66, 24]\n",
        "colors = ['c', 'g', 'y']\n",
        "\n",
        "plt.pie(sections, labels=labels, colors=colors,\n",
        "        startangle=90,\n",
        "        explode = (0, 0.1, 0),\n",
        "        autopct = '%1.2f%%')\n",
        "\n",
        "plt.axis('equal') # Try commenting this out.\n",
        "plt.title('Example: Crop Distribution by Season')\n",
        "plt.show()"
      ],
      "metadata": {
        "id": "nzT0cNNU5rh0"
      },
      "execution_count": null,
      "outputs": []
    },
    {
      "cell_type": "markdown",
      "source": [
        "# Test the API for essential interactions\n",
        "Essential operations to test, in order:\n",
        "1. Obtain credentials to interact with API\n",
        "1. GET whatever data we need, before we proceed to\n",
        "1. PUT updates to existing records, or POST new data."
      ],
      "metadata": {
        "id": "Pm0hL8YqRi-O"
      }
    },
    {
      "cell_type": "code",
      "source": [
        "!pip install farmOS==1.0.0b3"
      ],
      "metadata": {
        "id": "ibEYYs5UspCO"
      },
      "execution_count": null,
      "outputs": []
    },
    {
      "cell_type": "markdown",
      "source": [
        "## API Access: grant of credentials\n",
        "\n",
        "As a precondition of access, it is necessary to get an OAuth token from the server; this token must be periodically refreshed according to some present parameter....\n",
        "\n",
        "Moreover: to protect integrity of the database, it is important that credentials be sent across the wire in secure fasion..."
      ],
      "metadata": {
        "id": "dbuq3ZidG4SN"
      }
    },
    {
      "cell_type": "code",
      "source": [
        "from farmOS import farmOS #load the library\n",
        "hostname=\"https://vdl.farmos.dev\"\n",
        "farm_client = farmOS(hostname=hostname, client_id=\"farm\", scope=\"farm_manager\") #login\n",
        "farm_client.info() #poll API for endpoints"
      ],
      "metadata": {
        "id": "AYC2kni3Ehja"
      },
      "execution_count": null,
      "outputs": []
    },
    {
      "cell_type": "markdown",
      "source": [
        "## Test GET functionality"
      ],
      "metadata": {
        "id": "Q1Qp58tOt24C"
      }
    },
    {
      "cell_type": "code",
      "source": [
        "# logs = list(farm_client.log.iterate('harvest'))\n",
        "harvest = farm_client.log.get('harvest')\n",
        "harvest\n",
        "len(harvest['data'])"
      ],
      "metadata": {
        "id": "zXTALs-2t-1R"
      },
      "execution_count": null,
      "outputs": []
    },
    {
      "cell_type": "code",
      "source": [
        "# crops = list(farm_client.asset.iterate('plant'))\n",
        "crops = farm_client.asset.get('plant')\n",
        "crops\n",
        "len(crops['data'])"
      ],
      "metadata": {
        "id": "jkluE2aPulnZ"
      },
      "execution_count": null,
      "outputs": []
    },
    {
      "cell_type": "code",
      "source": [
        "# observations = list(farm_client.log.iterate('observation'))\n",
        "observations = farm_client.log.get('observation')\n",
        "observations\n",
        "len(observations['data'])"
      ],
      "metadata": {
        "id": "gKlR3DYT-h9T"
      },
      "execution_count": null,
      "outputs": []
    },
    {
      "cell_type": "code",
      "source": [
        "# land = list(farm_client.asset.iterate('land'))\n",
        "land = farm_client.asset.get('land')\n",
        "land\n",
        "len(land['data'])"
      ],
      "metadata": {
        "id": "teeE4AkKJZJ8"
      },
      "execution_count": null,
      "outputs": []
    },
    {
      "cell_type": "code",
      "source": [
        "harvest"
      ],
      "metadata": {
        "id": "GB7soece7IzE"
      },
      "execution_count": null,
      "outputs": []
    },
    {
      "cell_type": "markdown",
      "source": [
        "## Test PUT functionality\n",
        "\n",
        "This is the tricky bit: to be able to upload CSV files such that existing records will be updated (i.e. a PUT call) and only new records will be POSTed, such that no duplicate records are created. \n",
        "\n",
        "Moreover: w/r/t Harvest logs need always to refer to the Plant asset on which they are acting- and not just once; most Plant assets will support many Harvest events- so that the related files can be pulled in a single query."
      ],
      "metadata": {
        "id": "SXYU22P2wTfy"
      }
    },
    {
      "cell_type": "code",
      "source": [
        "# Create observation log\n",
        "observation_log = {\n",
        "    \"attributes\": {\n",
        "        \"name\": \"2022-W07 WOMpost Chipper in NSDZ\",\n",
        "        \"status\": \"done\",\n",
        "        \"flag\" : \"priority\",\n",
        "        \"notes\": \"The chipper came this week; all landscaper cuttings in North Slope Deposition Zone fully processed.\"       \n",
        "    } \n",
        "}\n",
        "# log = farm_client.log.send('observation', observation_log). COMMENTED OUT, BECAUSE- ONCE SENT -IT WOULD CREATE DUPLICATE RECORDS\n",
        "\n",
        "# Filter to 'priority' logs.\n",
        "filters = farm_client.filter('flag', 'priority')\n",
        "response = farm_client.log.get('observation', params=filters)\n",
        "response"
      ],
      "metadata": {
        "id": "dmzO2p-B86l3"
      },
      "execution_count": null,
      "outputs": []
    },
    {
      "cell_type": "markdown",
      "source": [
        "## Limitations & Questions\n",
        "\n",
        "As demonstrated via the \"Observation log\" code block just above, there are some limitations to be aware of, which gives rise to some questions:\n",
        "\n",
        "1. One can't simply change a parameter or add an attribute (as done with the \"priority\" flag in above) and thereby create an update to the so-named record; each SEND request creates a new record.\n",
        "1. It is not clear from the [\"Client Methods\" HowTo for this script](https://github.com/farmOS/farmOS.py/blob/1.x/docs/client_2x.md) how to upload a photo as part of an Observation log.\n",
        "1. ... \n",
        "\n"
      ],
      "metadata": {
        "id": "dUnWC1D_GUbV"
      }
    },
    {
      "cell_type": "markdown",
      "source": [
        "# Test the Interface for Usability\n",
        "To create a sustainable data workflow, it is important that farm staff be able to perform key functions with relative ease, including:\n",
        "1. Upload Plant asset CSV (an occasional operation)\n",
        "1. Upload Harvest log CSV (weekly operation)\n",
        "1. Access desired information about plantations and harvests\n",
        "\n",
        "There is yet to be a GUI interface deployed for API access to a farmOS instance, but this .ipynb Notebook is an exploratory step in that direction, and may be with some additional work rendered sufficient to the purpose.  "
      ],
      "metadata": {
        "id": "S28d_ebmCDlI"
      }
    },
    {
      "cell_type": "markdown",
      "source": [
        "## Upload & Download standard reports"
      ],
      "metadata": {
        "id": "ipY61jmNB_HY"
      }
    },
    {
      "cell_type": "markdown",
      "source": [
        "## Create a Custom Data Visualisation\n",
        "\n",
        "To illustrate this function, what follows is an interactive data visualization from the Gapminder Institute, exploring the connection between Life Span (y-axis) and Wealth (x-axis) per Country (bubble) and Continent (color), and how those relative positions have changed over the years from 1952-2007.  This visualisation runs in a dynamic player, which can be filtered by span of years and by continent, so you can easier explore values for each individual country.\n",
        "\n",
        "In context of an individual farm, a more relevant instantiation of this visualisation frame would be to see how production & consumption of crops (bubbles) and crop families (colors) rises and falls in volume across seasons of the year.  A visualisation TBD!\n",
        "\n"
      ],
      "metadata": {
        "id": "Ps6OZ6mRCJYa"
      }
    },
    {
      "cell_type": "code",
      "source": [
        "import plotly.express as px\n",
        "gapminder_df = px.data.gapminder()\n"
      ],
      "metadata": {
        "id": "w-5YOVAn7Vxm"
      },
      "execution_count": null,
      "outputs": []
    },
    {
      "cell_type": "code",
      "source": [
        "gapminder_df"
      ],
      "metadata": {
        "id": "bsLyJ7b1-Bvb"
      },
      "execution_count": null,
      "outputs": []
    },
    {
      "cell_type": "code",
      "source": [
        "px.scatter(data_frame=gapminder_df,\n",
        "           x='gdpPercap',\n",
        "           y='lifeExp',\n",
        "           size='pop',\n",
        "           color='continent',\n",
        "           title='Life Span and Wealth 1952 - 2007',\n",
        "           labels={'gdpPercap': 'Wealth','lifeExp':  'Life Span'},\n",
        "           log_x=True,\n",
        "           range_y=[25,95],\n",
        "           hover_name='country',\n",
        "           animation_frame='year',\n",
        "           height=600,\n",
        "           size_max=100)\n"
      ],
      "metadata": {
        "id": "NKUuXsVH7b-t"
      },
      "execution_count": null,
      "outputs": []
    },
    {
      "cell_type": "markdown",
      "source": [
        "# farmOS Importers\n",
        "\n",
        "## About\n",
        "\n",
        "The crop importer imports the crop_plan_YYYY.csv files. A plant asset and transplanting log into the specified location is created for each row of this CSV file.\n",
        "\n",
        "(Walt feel free to provide more background if needed)\n",
        "\n",
        "The crop_plan_2021.csv included some length quantity information, but the 2022.csv file did not have this data. I left the logic for importing these values below in the importer.\n"
      ],
      "metadata": {
        "id": "2w6drxZhqQye"
      }
    },
    {
      "cell_type": "markdown",
      "source": [
        "## Client configuration\n",
        "\n",
        "Configure authentication with the farmOS instance."
      ],
      "metadata": {
        "id": "VI-eJMArsOuc"
      }
    },
    {
      "cell_type": "code",
      "source": [
        "!pip install farmOS==1.0.0b3\n",
        "from farmOS import farmOS\n",
        "hostname=\"https://vdl.farmos.dev\"\n",
        "client = farmOS(hostname, client_id=\"farm\", scope=\"farm_manager\")\n",
        "current_token = client.authorize()\n"
      ],
      "metadata": {
        "colab": {
          "base_uri": "https://localhost:8080/"
        },
        "outputId": "6c0781e2-0346-4063-ec13-221e73f52fcd",
        "id": "KwszXd8gq9lC"
      },
      "execution_count": 1,
      "outputs": [
        {
          "name": "stdout",
          "output_type": "stream",
          "text": [
            "Collecting farmOS==1.0.0b3\n",
            "  Downloading farmOS-1.0.0b3-py3-none-any.whl (26 kB)\n",
            "Requirement already satisfied: requests-oauthlib in /usr/local/lib/python3.7/dist-packages (from farmOS==1.0.0b3) (1.3.1)\n",
            "Collecting pydantic>=1.7.3\n",
            "  Downloading pydantic-1.9.0-cp37-cp37m-manylinux_2_17_x86_64.manylinux2014_x86_64.whl (10.9 MB)\n",
            "\u001b[K     |████████████████████████████████| 10.9 MB 7.2 MB/s \n",
            "\u001b[?25hRequirement already satisfied: typing-extensions>=3.7.4.3 in /usr/local/lib/python3.7/dist-packages (from pydantic>=1.7.3->farmOS==1.0.0b3) (3.10.0.2)\n",
            "Requirement already satisfied: oauthlib>=3.0.0 in /usr/local/lib/python3.7/dist-packages (from requests-oauthlib->farmOS==1.0.0b3) (3.2.0)\n",
            "Requirement already satisfied: requests>=2.0.0 in /usr/local/lib/python3.7/dist-packages (from requests-oauthlib->farmOS==1.0.0b3) (2.23.0)\n",
            "Requirement already satisfied: urllib3!=1.25.0,!=1.25.1,<1.26,>=1.21.1 in /usr/local/lib/python3.7/dist-packages (from requests>=2.0.0->requests-oauthlib->farmOS==1.0.0b3) (1.24.3)\n",
            "Requirement already satisfied: chardet<4,>=3.0.2 in /usr/local/lib/python3.7/dist-packages (from requests>=2.0.0->requests-oauthlib->farmOS==1.0.0b3) (3.0.4)\n",
            "Requirement already satisfied: idna<3,>=2.5 in /usr/local/lib/python3.7/dist-packages (from requests>=2.0.0->requests-oauthlib->farmOS==1.0.0b3) (2.10)\n",
            "Requirement already satisfied: certifi>=2017.4.17 in /usr/local/lib/python3.7/dist-packages (from requests>=2.0.0->requests-oauthlib->farmOS==1.0.0b3) (2021.10.8)\n",
            "Installing collected packages: pydantic, farmOS\n",
            "Successfully installed farmOS-1.0.0b3 pydantic-1.9.0\n",
            "Enter username: ··········\n",
            "Enter password: ··········\n"
          ]
        }
      ]
    },
    {
      "cell_type": "markdown",
      "source": [
        "## Common helper functions\n",
        "\n",
        "Helper functions that the CSV import scripts use."
      ],
      "metadata": {
        "id": "OqIDkXa6sg6p"
      }
    },
    {
      "cell_type": "code",
      "source": [
        "# Define a couple helper functions to use in the importer script below.\n",
        "def _get_existing_asset_by_name(asset_type, asset_name):\n",
        "    \"\"\"\n",
        "    Helper function to laod an existing asset by name.\n",
        "    :param asset_type: The asset type to lookup, eg: plant.\n",
        "    :param asset_name: The asset name to lookup.\n",
        "    :return: The asset data or None if not found.\n",
        "    \"\"\"\n",
        "\n",
        "    asset_filter = client.filter('name', asset_name)\n",
        "    assets = list(client.asset.iterate(asset_type, asset_filter))\n",
        "\n",
        "    if (len(assets) == 0):\n",
        "        return None\n",
        "    else:\n",
        "        return assets[0]\n",
        "\n",
        "def _get_or_create_taxonomy_term(vocabulary, term_name):\n",
        "    \"\"\"\n",
        "    Helper function to load an existing or create a new taxonomy term by name.\n",
        "    :param vocabulary: The taxonomy vocabulary.\n",
        "    :param term_name: The term name.\n",
        "    :return: The term data or None if not found.\n",
        "    \"\"\"\n",
        "\n",
        "    term_filter = client.filter('name', term_name)\n",
        "    terms = list(client.resource.iterate('taxonomy_term', vocabulary, term_filter))\n",
        "\n",
        "    # Return the first matching term.\n",
        "    if (len(terms) > 0):\n",
        "        return terms[0]\n",
        "    # Else create a new term.\n",
        "    else:\n",
        "        term = {\n",
        "            \"attributes\": {\n",
        "                \"name\": term_name,\n",
        "            },\n",
        "        }\n",
        "        new_term = client.term.send(vocabulary, term)\n",
        "        return new_term[\"data\"]\n"
      ],
      "metadata": {
        "id": "VWfW-FXitvpD"
      },
      "execution_count": 2,
      "outputs": []
    },
    {
      "cell_type": "markdown",
      "source": [
        "## Load Directory from Github"
      ],
      "metadata": {
        "id": "2XdtcMF5iq4N"
      }
    },
    {
      "cell_type": "code",
      "source": [
        "!git clone https://github.com/ludwa6/farmOS"
      ],
      "metadata": {
        "colab": {
          "base_uri": "https://localhost:8080/"
        },
        "id": "D39n4y9lVyIt",
        "outputId": "114150f2-cee1-4ec2-971a-c0742386dd9a"
      },
      "execution_count": 3,
      "outputs": [
        {
          "output_type": "stream",
          "name": "stdout",
          "text": [
            "Cloning into 'farmOS'...\n",
            "remote: Enumerating objects: 1474, done.\u001b[K\n",
            "remote: Counting objects: 100% (1474/1474), done.\u001b[K\n",
            "remote: Compressing objects: 100% (1014/1014), done.\u001b[K\n",
            "remote: Total 1474 (delta 383), reused 1375 (delta 324), pack-reused 0\u001b[K\n",
            "Receiving objects: 100% (1474/1474), 14.96 MiB | 6.13 MiB/s, done.\n",
            "Resolving deltas: 100% (383/383), done.\n"
          ]
        }
      ]
    },
    {
      "cell_type": "markdown",
      "source": [
        "## Crop importer"
      ],
      "metadata": {
        "id": "CQQc2CTZtw8O"
      }
    },
    {
      "cell_type": "code",
      "source": [
        "import logging\n",
        "import re\n",
        "import csv\n",
        "from datetime import datetime\n",
        "from time import time\n",
        "\n",
        "# Specify the file path.\n",
        "file_path = '/content/farmOS/content/data/crop-plan-20220314-AssetsData.csv'\n",
        "\n",
        "\n",
        "# Prompt the user to avoid running multiple times.\n",
        "res = input(f\"Import crop data from file: {file_path}\")\n",
        "\n",
        "if res is 'y' or res is 'yes':\n",
        "    print('importing')\n",
        "\n",
        "    # Open the CSV file.\n",
        "    with open(file_path, newline='') as csv_file:\n",
        "        # Iterate through each row of the CSV file.\n",
        "        reader = csv.DictReader(csv_file, delimiter=',')\n",
        "        for row in reader:\n",
        "\n",
        "            # Required values.\n",
        "            asset_name = row['Name']\n",
        "            existing_asset = _get_existing_asset_by_name('plant', asset_name)\n",
        "            if existing_asset is not None:\n",
        "                print(f\"Row {reader.line_num}: Asset already exists: '{asset_name}'\")\n",
        "                continue\n",
        "            if (asset_name is None or len(asset_name) == 0):\n",
        "                print(f\"Row {reader.line_num}: No asset name\")\n",
        "                continue\n",
        "            crop_variety = row['Crop/variety']\n",
        "            if (crop_variety is None or len(crop_variety) == 0):\n",
        "                print(f\"Row {reader.line_num}: No Crop/variety\")\n",
        "                continue\n",
        "            asset_location_name = row['Area/Location']\n",
        "            if (asset_location_name is None or len(asset_location_name) == 0):\n",
        "                print(f\"Row {reader.line_num}: No asset location\")\n",
        "                continue\n",
        "\n",
        "            asset_location = _get_existing_asset_by_name('land', asset_location_name)\n",
        "            if (asset_location is None):\n",
        "                print(f\"Row {reader.line_num}: Could not find existing location: '{asset_location_name}'\")\n",
        "                continue\n",
        "\n",
        "            new_asset_data = {\n",
        "                \"attributes\": {\n",
        "                    \"type\": \"plant\",\n",
        "                    \"status\": 'active' if len(row['Archived']) == 0 else 'archived',\n",
        "                    \"name\": asset_name,\n",
        "                    \"notes\": row['Description'],\n",
        "                },\n",
        "                \"relationships\": {\n",
        "                }\n",
        "            }\n",
        "\n",
        "            plant_type = _get_or_create_taxonomy_term(\"plant_type\", crop_variety)\n",
        "            new_asset_data[\"relationships\"][\"plant_type\"] = {\n",
        "                \"data\": [\n",
        "                    {\n",
        "                        \"type\": \"taxonomy_term--plant_type\",\n",
        "                        \"id\": plant_type[\"id\"],\n",
        "                    }\n",
        "                ]\n",
        "            }\n",
        "\n",
        "            season_value = row['Season']\n",
        "            if len(season_value) != 0:\n",
        "                season = _get_or_create_taxonomy_term(\"season\", season_value)\n",
        "                new_asset_data[\"relationships\"][\"season\"] = {\n",
        "                    \"data\": [\n",
        "                        {\n",
        "                            \"type\": \"taxonomy_term--season\",\n",
        "                            \"id\": season[\"id\"]\n",
        "                        }\n",
        "                    ]\n",
        "                }\n",
        "\n",
        "            # Create the asset.\n",
        "            new_asset = client.asset.send('plant', new_asset_data)\n",
        "\n",
        "            # Load log values.\n",
        "\n",
        "            # Convert date string to timestamp.\n",
        "            now = time()\n",
        "            pattern = r\"\\d{4}[-][W]\\d{1,2}\"\n",
        "            year_week = re.match(pattern, asset_name)\n",
        "            timestamp = datetime.strptime(year_week.group(0) + '-1', '%Y-W%W-%w').timestamp()\n",
        "\n",
        "            # Log status\n",
        "            #raw_status = int(row['Done'])\n",
        "            #status = \"done\" if raw_status == 1 else \"pending\"\n",
        "            # TODO Calculate status from the date.\n",
        "            status = \"done\"\n",
        "\n",
        "            # Notes\n",
        "            # TODO build notes from quantities.\n",
        "            #notes = row['Notes']\n",
        "\n",
        "            # Create the transplanting log referencing the plant asset.\n",
        "            log = {\n",
        "                \"attributes\": {\n",
        "                    \"timestamp\": timestamp,\n",
        "                    \"status\": status,\n",
        "                    #\"notes\": notes,\n",
        "                    \"is_movement\": True,\n",
        "                },\n",
        "                \"relationships\": {\n",
        "                    \"asset\": {\n",
        "                        \"data\": [\n",
        "                            {\n",
        "                                \"type\": \"asset--plant\",\n",
        "                                \"id\": new_asset[\"data\"][\"id\"],\n",
        "                            }\n",
        "                        ]\n",
        "                    },\n",
        "                    \"location\": {\n",
        "                        \"data\": [\n",
        "                            {\n",
        "                                \"type\": \"asset--land\",\n",
        "                                \"id\": asset_location[\"id\"],\n",
        "                            }\n",
        "                        ]\n",
        "                    }\n",
        "                }\n",
        "            }\n",
        "\n",
        "            # Create a quantity for the log if length is provided.\n",
        "            if 'length FB' in row:\n",
        "                length_fb = row['length FB']\n",
        "                nr_plants_fb = row['Nr plants FB']\n",
        "                if all(len(x) != 0 for x in [length_fb, nr_plants_fb]):\n",
        "                    length_quantity_data = {\n",
        "                        \"attributes\": {\n",
        "                            \"type\": \"standard\",\n",
        "                            \"measure\": \"length\",\n",
        "                            \"value\": {\n",
        "                                \"numerator\": length_fb,\n",
        "                                \"denominator\": 1,\n",
        "                            },\n",
        "                            \"label\": \"Length FB\",\n",
        "                        },\n",
        "                        \"relationships\": {\n",
        "                        }\n",
        "                    }\n",
        "                    # Create the quantity.\n",
        "                    length_quantity = client.resource.send('quantity', 'standard', length_quantity_data)\n",
        "\n",
        "                    count_quantity_data = {\n",
        "                        \"attributes\": {\n",
        "                            \"type\": \"standard\",\n",
        "                            \"measure\": \"count\",\n",
        "                            \"value\": {\n",
        "                                \"numerator\": nr_plants_fb,\n",
        "                                \"denominator\": 1,\n",
        "                            },\n",
        "                            \"label\": \"Nr plants FB\",\n",
        "                        },\n",
        "                        \"relationships\": {\n",
        "                        }\n",
        "                    }\n",
        "                    count_quantity = client.resource.send('quantity', 'standard', count_quantity_data)\n",
        "\n",
        "                    # Add quantity to log.\n",
        "                    log[\"relationships\"][\"quantity\"] = {\n",
        "                        \"data\": [\n",
        "                            {\n",
        "                                \"type\": \"quantity--standard\",\n",
        "                                \"id\": length_quantity[\"data\"][\"id\"],\n",
        "                                \"meta\": {\n",
        "                                    \"target_revision_id\": length_quantity[\"data\"][\"attributes\"][\"drupal_internal__revision_id\"]\n",
        "                                }\n",
        "                            },\n",
        "                            {\n",
        "                                \"type\": \"quantity--standard\",\n",
        "                                \"id\": count_quantity[\"data\"][\"id\"],\n",
        "                                \"meta\": {\n",
        "                                    \"target_revision_id\": count_quantity[\"data\"][\"attributes\"][\"drupal_internal__revision_id\"]\n",
        "                                }\n",
        "                            }\n",
        "                        ]\n",
        "                    }\n",
        "\n",
        "            new_log = client.log.send(\"transplanting\", log)\n",
        "\n",
        "            link = \"{hostname}/asset/{id}\".format(hostname=hostname,\n",
        "                                                  id=new_asset[\"data\"][\"attributes\"][\"drupal_internal__id\"])\n",
        "            print(\n",
        "                \"Imported log for asset: {name} - {link}\".format(name=new_asset[\"data\"][\"attributes\"][\"name\"],\n",
        "                                                                  link=link))\n"
      ],
      "metadata": {
        "colab": {
          "base_uri": "https://localhost:8080/"
        },
        "id": "jxYncFxZt1vt",
        "outputId": "1c6506fd-422d-4a96-ff1c-f4094b46f741"
      },
      "execution_count": 4,
      "outputs": [
        {
          "output_type": "stream",
          "name": "stdout",
          "text": [
            "Import crop data from file: /content/farmOS/content/data/crop-plan-20220314-AssetsData.csvy\n",
            "importing\n",
            "Imported log for asset: 2021-W04 Strawberry HVW24 - https://vdl.farmos.dev/asset/871\n",
            "Imported log for asset: 2021-W20 Carrot HVE01 - https://vdl.farmos.dev/asset/872\n",
            "Imported log for asset: 2021-W22 Carrot HVE02 - https://vdl.farmos.dev/asset/873\n",
            "Imported log for asset: 2021-W24 Hot peppers HVW20-S - https://vdl.farmos.dev/asset/874\n",
            "Imported log for asset: 2021-W24 Sweet potato HVE04-N - https://vdl.farmos.dev/asset/875\n",
            "Imported log for asset: 2021-W38 Carrot HVE03 - https://vdl.farmos.dev/asset/876\n"
          ]
        }
      ]
    },
    {
      "cell_type": "markdown",
      "source": [
        "## Harvest importer"
      ],
      "metadata": {
        "id": "BKvVdkJbNkgd"
      }
    },
    {
      "cell_type": "code",
      "source": [
        "import logging\n",
        "import re\n",
        "import csv\n",
        "from datetime import datetime\n",
        "from time import time\n",
        "\n",
        "# Specify the file path.\n",
        "file_path ='/content/farmOS/content/data/HarvestsFrom2021wk39 - TestHarvests.csv'\n",
        "\n",
        "\n",
        "# Prompt the user to avoid running multiple times.\n",
        "res = input(f\"Import harvest data from file: {file_path}\")\n",
        "\n",
        "if res is 'y' or res is 'yes':\n",
        "    print('importing')\n",
        "\n",
        "    # Open the CSV file.\n",
        "    with open(file_path, newline='') as csv_file:\n",
        "        # Iterate through each row of the CSV file.\n",
        "        reader = csv.DictReader(csv_file, delimiter=',')\n",
        "        for row in reader:\n",
        "\n",
        "            # Required values.\n",
        "            log_name = row['Log name']\n",
        "            if (log_name is None or len(log_name) == 0):\n",
        "                print(f\"Row {reader.line_num}: No log name\")\n",
        "                continue\n",
        "            date = row['Date']\n",
        "            if (date is None or len(date) == 0):\n",
        "                print(f\"Row {reader.line_num}: No date\")\n",
        "                continue\n",
        "\n",
        "            asset_name = row['Asset names']\n",
        "            if (asset_name is None or len(asset_name) == 0):\n",
        "                print(f\"Row {reader.line_num}: No asset name\")\n",
        "                continue\n",
        "            plant_asset = _get_existing_asset_by_name('plant', asset_name)\n",
        "            if (plant_asset is None):\n",
        "                print(f\"Row {reader.line_num}: Could not find existing plant asset: '{asset_name}'\")\n",
        "                continue\n",
        "\n",
        "            # Load log values.\n",
        "\n",
        "            # Convert date string to timestamp.\n",
        "            now = time()\n",
        "            timestamp = datetime.strptime(date, '%Y-%m-%d').timestamp()\n",
        "\n",
        "            # Log status\n",
        "            raw_status = int(bool(row['Done']))\n",
        "            status = \"done\" if raw_status == 1 else \"pending\"\n",
        "\n",
        "            # Notes\n",
        "            notes = row['Notes']\n",
        "\n",
        "            # Create the transplanting log referencing the plant asset.\n",
        "            log = {\n",
        "                \"attributes\": {\n",
        "                    \"type\": \"harvest\",\n",
        "                    \"timestamp\": timestamp,\n",
        "                    \"status\": status,\n",
        "                    \"name\": log_name,\n",
        "                    \"notes\": notes,\n",
        "                },\n",
        "                \"relationships\": {\n",
        "                    \"asset\": {\n",
        "                        \"data\": [\n",
        "                            {\n",
        "                                \"type\": \"asset--plant\",\n",
        "                                \"id\": plant_asset[\"id\"],\n",
        "                            }\n",
        "                        ]\n",
        "                    },\n",
        "                }\n",
        "            }\n",
        "\n",
        "            # Add category.\n",
        "            category = row[\"Categories\"]\n",
        "            if len(category) != 0:\n",
        "                category_term = _get_or_create_taxonomy_term(\"log_category\", category)\n",
        "                log[\"relationships\"][\"category\"] = {\n",
        "                    \"data\": {\n",
        "                        \"type\": \"taxonomy_term--log_category\",\n",
        "                        \"id\": category_term[\"id\"],\n",
        "                    }\n",
        "                }\n",
        "\n",
        "            # Add lot number.\n",
        "            lot_number = row[\"Lot number\"]\n",
        "            if len(lot_number) != 0:\n",
        "                log[\"attributes\"][\"lot_number\"] = lot_number\n",
        "\n",
        "            # Create a quantity for the log.\n",
        "            quantity_value = row['Quantity value']\n",
        "            if len(quantity_value) != 0:\n",
        "                decimal = float(quantity_value.replace(\",\", \".\"))\n",
        "                harvest_quantity_data = {\n",
        "                    \"attributes\": {\n",
        "                        \"type\": \"standard\",\n",
        "                        \"measure\": \"weight\",\n",
        "                        \"value\": {\n",
        "                            \"decimal\": decimal,\n",
        "                        },\n",
        "                    },\n",
        "                    \"relationships\": {\n",
        "                    }\n",
        "                }\n",
        "\n",
        "                unit = row[\"Quantity unit\"]\n",
        "                if len(unit) != 0:\n",
        "                    unit_term = _get_or_create_taxonomy_term(\"unit\", unit)\n",
        "                    harvest_quantity_data[\"relationships\"][\"units\"] = {\n",
        "                        \"data\": {\n",
        "                            \"type\": \"taxonomy_term--unit\",\n",
        "                            \"id\": unit_term[\"id\"],\n",
        "                        }\n",
        "                    }\n",
        "\n",
        "                # Create the quantity.\n",
        "                harvest_quantity = client.resource.send('quantity', 'standard', harvest_quantity_data)\n",
        "\n",
        "                # Add quantity to log.\n",
        "                log[\"relationships\"][\"quantity\"] = {\n",
        "                    \"data\": [\n",
        "                        {\n",
        "                            \"type\": \"quantity--standard\",\n",
        "                            \"id\": harvest_quantity[\"data\"][\"id\"],\n",
        "                            \"meta\": {\n",
        "                                \"target_revision_id\": harvest_quantity[\"data\"][\"attributes\"][\"drupal_internal__revision_id\"]\n",
        "                            }\n",
        "                        },\n",
        "                    ]\n",
        "                }\n",
        "\n",
        "            new_log = client.log.send(\"harvest\", log)\n",
        "\n",
        "            link = \"{hostname}/log/{id}\".format(hostname=hostname,\n",
        "                                                  id=new_log[\"data\"][\"attributes\"][\"drupal_internal__id\"])\n",
        "            print(\n",
        "                \"Imported log for asset: {name} - {link}\".format(name=asset_name,\n",
        "                                                                  link=link))"
      ],
      "metadata": {
        "colab": {
          "base_uri": "https://localhost:8080/"
        },
        "id": "OdpkoakmNpOq",
        "outputId": "48b4ed06-ac73-47d4-9916-4cdb9eaa35c8"
      },
      "execution_count": null,
      "outputs": [
        {
          "output_type": "stream",
          "name": "stdout",
          "text": [
            "Import harvest data from file: /content/farmOS/content/data/HarvestsFrom2021wk39 - TestHarvests.csvy\n",
            "importing\n",
            "Imported log for asset: 2021-W04 Strawberry HVW24 - https://vdl.farmos.dev/log/796\n",
            "Imported log for asset: 2021-W10 Chives SGH3-S - https://vdl.farmos.dev/log/797\n",
            "Imported log for asset: 2021-W10 Zuccini WGH5 - https://vdl.farmos.dev/log/798\n",
            "Imported log for asset: 2021-W24 Hot peppers HVW20-S - https://vdl.farmos.dev/log/799\n",
            "Imported log for asset: 2021-W24 Sweet potato HVE04-N - https://vdl.farmos.dev/log/800\n"
          ]
        }
      ]
    }
  ]
}